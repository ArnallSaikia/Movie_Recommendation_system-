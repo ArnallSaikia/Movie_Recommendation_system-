{
  "nbformat": 4,
  "nbformat_minor": 0,
  "metadata": {
    "colab": {
      "provenance": [],
      "authorship_tag": "ABX9TyMvNLiQA2mteoY1HRXvNVct",
      "include_colab_link": true
    },
    "kernelspec": {
      "name": "python3",
      "display_name": "Python 3"
    },
    "language_info": {
      "name": "python"
    }
  },
  "cells": [
    {
      "cell_type": "markdown",
      "metadata": {
        "id": "view-in-github",
        "colab_type": "text"
      },
      "source": [
        "<a href=\"https://colab.research.google.com/github/ArnallSaikia/Movie_Recommendation_system-/blob/main/First_ML_project.ipynb\" target=\"_parent\"><img src=\"https://colab.research.google.com/assets/colab-badge.svg\" alt=\"Open In Colab\"/></a>"
      ]
    },
    {
      "cell_type": "code",
      "execution_count": 2,
      "metadata": {
        "id": "jHJDTdF8uJXC"
      },
      "outputs": [],
      "source": [
        "import pandas as pd"
      ]
    },
    {
      "cell_type": "code",
      "source": [
        "import numpy as np"
      ],
      "metadata": {
        "id": "OyotseFYuhiH"
      },
      "execution_count": 3,
      "outputs": []
    },
    {
      "cell_type": "markdown",
      "source": [
        "IMPORTING DATASET"
      ],
      "metadata": {
        "id": "RxVT_eERu3Wr"
      }
    },
    {
      "cell_type": "code",
      "source": [
        "movies = pd.read_csv(r'https://raw.githubusercontent.com/YBI-Foundation/Dataset/main/Movies%20Recommendation.csv')"
      ],
      "metadata": {
        "id": "9uB7NZx_u61i"
      },
      "execution_count": 8,
      "outputs": []
    },
    {
      "cell_type": "code",
      "source": [
        "movies.head()"
      ],
      "metadata": {
        "colab": {
          "base_uri": "https://localhost:8080/",
          "height": 672
        },
        "id": "tnAfb7RgJqVc",
        "outputId": "aebddc50-c391-4344-de3d-c327dfa7e2ef"
      },
      "execution_count": 10,
      "outputs": [
        {
          "output_type": "execute_result",
          "data": {
            "text/plain": [
              "   Movie_ID      Movie_Title                       Movie_Genre Movie_Language  \\\n",
              "0         1       Four Rooms                      Crime Comedy             en   \n",
              "1         2        Star Wars  Adventure Action Science Fiction             en   \n",
              "2         3     Finding Nemo                  Animation Family             en   \n",
              "3         4     Forrest Gump              Comedy Drama Romance             en   \n",
              "4         5  American Beauty                             Drama             en   \n",
              "\n",
              "   Movie_Budget  Movie_Popularity Movie_Release_Date  Movie_Revenue  \\\n",
              "0       4000000         22.876230         09-12-1995        4300000   \n",
              "1      11000000        126.393695         25-05-1977      775398007   \n",
              "2      94000000         85.688789         30-05-2003      940335536   \n",
              "3      55000000        138.133331         06-07-1994      677945399   \n",
              "4      15000000         80.878605         15-09-1999      356296601   \n",
              "\n",
              "   Movie_Runtime  Movie_Vote  ...  \\\n",
              "0           98.0         6.5  ...   \n",
              "1          121.0         8.1  ...   \n",
              "2          100.0         7.6  ...   \n",
              "3          142.0         8.2  ...   \n",
              "4          122.0         7.9  ...   \n",
              "\n",
              "                                      Movie_Homepage  \\\n",
              "0                                                NaN   \n",
              "1  http://www.starwars.com/films/star-wars-episod...   \n",
              "2              http://movies.disney.com/finding-nemo   \n",
              "3                                                NaN   \n",
              "4                      http://www.dreamworks.com/ab/   \n",
              "\n",
              "                                      Movie_Keywords  \\\n",
              "0          hotel new year's eve witch bet hotel room   \n",
              "1        android galaxy hermit death star lightsaber   \n",
              "2  father son relationship harbor underwater fish...   \n",
              "3  vietnam veteran hippie mentally disabled runni...   \n",
              "4  male nudity female nudity adultery midlife cri...   \n",
              "\n",
              "                                      Movie_Overview  \\\n",
              "0  It's Ted the Bellhop's first night on the job....   \n",
              "1  Princess Leia is captured and held hostage by ...   \n",
              "2  Nemo, an adventurous young clownfish, is unexp...   \n",
              "3  A man with a low IQ has accomplished great thi...   \n",
              "4  Lester Burnham, a depressed suburban father in...   \n",
              "\n",
              "                              Movie_Production_House  \\\n",
              "0  [{\"name\": \"Miramax Films\", \"id\": 14}, {\"name\":...   \n",
              "1  [{\"name\": \"Lucasfilm\", \"id\": 1}, {\"name\": \"Twe...   \n",
              "2     [{\"name\": \"Pixar Animation Studios\", \"id\": 3}]   \n",
              "3          [{\"name\": \"Paramount Pictures\", \"id\": 4}]   \n",
              "4  [{\"name\": \"DreamWorks SKG\", \"id\": 27}, {\"name\"...   \n",
              "\n",
              "                            Movie_Production_Country  \\\n",
              "0  [{\"iso_3166_1\": \"US\", \"name\": \"United States o...   \n",
              "1  [{\"iso_3166_1\": \"US\", \"name\": \"United States o...   \n",
              "2  [{\"iso_3166_1\": \"US\", \"name\": \"United States o...   \n",
              "3  [{\"iso_3166_1\": \"US\", \"name\": \"United States o...   \n",
              "4  [{\"iso_3166_1\": \"US\", \"name\": \"United States o...   \n",
              "\n",
              "                      Movie_Spoken_Language  \\\n",
              "0  [{\"iso_639_1\": \"en\", \"name\": \"English\"}]   \n",
              "1  [{\"iso_639_1\": \"en\", \"name\": \"English\"}]   \n",
              "2  [{\"iso_639_1\": \"en\", \"name\": \"English\"}]   \n",
              "3  [{\"iso_639_1\": \"en\", \"name\": \"English\"}]   \n",
              "4  [{\"iso_639_1\": \"en\", \"name\": \"English\"}]   \n",
              "\n",
              "                                       Movie_Tagline  \\\n",
              "0  Twelve outrageous guests. Four scandalous requ...   \n",
              "1       A long time ago in a galaxy far, far away...   \n",
              "2  There are 3.7 trillion fish in the ocean, they...   \n",
              "3  The world will never be the same, once you've ...   \n",
              "4                                       Look closer.   \n",
              "\n",
              "                                          Movie_Cast  \\\n",
              "0  Tim Roth Antonio Banderas Jennifer Beals Madon...   \n",
              "1  Mark Hamill Harrison Ford Carrie Fisher Peter ...   \n",
              "2  Albert Brooks Ellen DeGeneres Alexander Gould ...   \n",
              "3  Tom Hanks Robin Wright Gary Sinise Mykelti Wil...   \n",
              "4  Kevin Spacey Annette Bening Thora Birch Wes Be...   \n",
              "\n",
              "                                          Movie_Crew   Movie_Director  \n",
              "0  [{'name': 'Allison Anders', 'gender': 1, 'depa...   Allison Anders  \n",
              "1  [{'name': 'George Lucas', 'gender': 2, 'depart...     George Lucas  \n",
              "2  [{'name': 'Andrew Stanton', 'gender': 2, 'depa...   Andrew Stanton  \n",
              "3  [{'name': 'Alan Silvestri', 'gender': 2, 'depa...  Robert Zemeckis  \n",
              "4  [{'name': 'Thomas Newman', 'gender': 2, 'depar...       Sam Mendes  \n",
              "\n",
              "[5 rows x 21 columns]"
            ],
            "text/html": [
              "\n",
              "  <div id=\"df-906a7fb1-b7fc-4536-b45b-16092d522990\" class=\"colab-df-container\">\n",
              "    <div>\n",
              "<style scoped>\n",
              "    .dataframe tbody tr th:only-of-type {\n",
              "        vertical-align: middle;\n",
              "    }\n",
              "\n",
              "    .dataframe tbody tr th {\n",
              "        vertical-align: top;\n",
              "    }\n",
              "\n",
              "    .dataframe thead th {\n",
              "        text-align: right;\n",
              "    }\n",
              "</style>\n",
              "<table border=\"1\" class=\"dataframe\">\n",
              "  <thead>\n",
              "    <tr style=\"text-align: right;\">\n",
              "      <th></th>\n",
              "      <th>Movie_ID</th>\n",
              "      <th>Movie_Title</th>\n",
              "      <th>Movie_Genre</th>\n",
              "      <th>Movie_Language</th>\n",
              "      <th>Movie_Budget</th>\n",
              "      <th>Movie_Popularity</th>\n",
              "      <th>Movie_Release_Date</th>\n",
              "      <th>Movie_Revenue</th>\n",
              "      <th>Movie_Runtime</th>\n",
              "      <th>Movie_Vote</th>\n",
              "      <th>...</th>\n",
              "      <th>Movie_Homepage</th>\n",
              "      <th>Movie_Keywords</th>\n",
              "      <th>Movie_Overview</th>\n",
              "      <th>Movie_Production_House</th>\n",
              "      <th>Movie_Production_Country</th>\n",
              "      <th>Movie_Spoken_Language</th>\n",
              "      <th>Movie_Tagline</th>\n",
              "      <th>Movie_Cast</th>\n",
              "      <th>Movie_Crew</th>\n",
              "      <th>Movie_Director</th>\n",
              "    </tr>\n",
              "  </thead>\n",
              "  <tbody>\n",
              "    <tr>\n",
              "      <th>0</th>\n",
              "      <td>1</td>\n",
              "      <td>Four Rooms</td>\n",
              "      <td>Crime Comedy</td>\n",
              "      <td>en</td>\n",
              "      <td>4000000</td>\n",
              "      <td>22.876230</td>\n",
              "      <td>09-12-1995</td>\n",
              "      <td>4300000</td>\n",
              "      <td>98.0</td>\n",
              "      <td>6.5</td>\n",
              "      <td>...</td>\n",
              "      <td>NaN</td>\n",
              "      <td>hotel new year's eve witch bet hotel room</td>\n",
              "      <td>It's Ted the Bellhop's first night on the job....</td>\n",
              "      <td>[{\"name\": \"Miramax Films\", \"id\": 14}, {\"name\":...</td>\n",
              "      <td>[{\"iso_3166_1\": \"US\", \"name\": \"United States o...</td>\n",
              "      <td>[{\"iso_639_1\": \"en\", \"name\": \"English\"}]</td>\n",
              "      <td>Twelve outrageous guests. Four scandalous requ...</td>\n",
              "      <td>Tim Roth Antonio Banderas Jennifer Beals Madon...</td>\n",
              "      <td>[{'name': 'Allison Anders', 'gender': 1, 'depa...</td>\n",
              "      <td>Allison Anders</td>\n",
              "    </tr>\n",
              "    <tr>\n",
              "      <th>1</th>\n",
              "      <td>2</td>\n",
              "      <td>Star Wars</td>\n",
              "      <td>Adventure Action Science Fiction</td>\n",
              "      <td>en</td>\n",
              "      <td>11000000</td>\n",
              "      <td>126.393695</td>\n",
              "      <td>25-05-1977</td>\n",
              "      <td>775398007</td>\n",
              "      <td>121.0</td>\n",
              "      <td>8.1</td>\n",
              "      <td>...</td>\n",
              "      <td>http://www.starwars.com/films/star-wars-episod...</td>\n",
              "      <td>android galaxy hermit death star lightsaber</td>\n",
              "      <td>Princess Leia is captured and held hostage by ...</td>\n",
              "      <td>[{\"name\": \"Lucasfilm\", \"id\": 1}, {\"name\": \"Twe...</td>\n",
              "      <td>[{\"iso_3166_1\": \"US\", \"name\": \"United States o...</td>\n",
              "      <td>[{\"iso_639_1\": \"en\", \"name\": \"English\"}]</td>\n",
              "      <td>A long time ago in a galaxy far, far away...</td>\n",
              "      <td>Mark Hamill Harrison Ford Carrie Fisher Peter ...</td>\n",
              "      <td>[{'name': 'George Lucas', 'gender': 2, 'depart...</td>\n",
              "      <td>George Lucas</td>\n",
              "    </tr>\n",
              "    <tr>\n",
              "      <th>2</th>\n",
              "      <td>3</td>\n",
              "      <td>Finding Nemo</td>\n",
              "      <td>Animation Family</td>\n",
              "      <td>en</td>\n",
              "      <td>94000000</td>\n",
              "      <td>85.688789</td>\n",
              "      <td>30-05-2003</td>\n",
              "      <td>940335536</td>\n",
              "      <td>100.0</td>\n",
              "      <td>7.6</td>\n",
              "      <td>...</td>\n",
              "      <td>http://movies.disney.com/finding-nemo</td>\n",
              "      <td>father son relationship harbor underwater fish...</td>\n",
              "      <td>Nemo, an adventurous young clownfish, is unexp...</td>\n",
              "      <td>[{\"name\": \"Pixar Animation Studios\", \"id\": 3}]</td>\n",
              "      <td>[{\"iso_3166_1\": \"US\", \"name\": \"United States o...</td>\n",
              "      <td>[{\"iso_639_1\": \"en\", \"name\": \"English\"}]</td>\n",
              "      <td>There are 3.7 trillion fish in the ocean, they...</td>\n",
              "      <td>Albert Brooks Ellen DeGeneres Alexander Gould ...</td>\n",
              "      <td>[{'name': 'Andrew Stanton', 'gender': 2, 'depa...</td>\n",
              "      <td>Andrew Stanton</td>\n",
              "    </tr>\n",
              "    <tr>\n",
              "      <th>3</th>\n",
              "      <td>4</td>\n",
              "      <td>Forrest Gump</td>\n",
              "      <td>Comedy Drama Romance</td>\n",
              "      <td>en</td>\n",
              "      <td>55000000</td>\n",
              "      <td>138.133331</td>\n",
              "      <td>06-07-1994</td>\n",
              "      <td>677945399</td>\n",
              "      <td>142.0</td>\n",
              "      <td>8.2</td>\n",
              "      <td>...</td>\n",
              "      <td>NaN</td>\n",
              "      <td>vietnam veteran hippie mentally disabled runni...</td>\n",
              "      <td>A man with a low IQ has accomplished great thi...</td>\n",
              "      <td>[{\"name\": \"Paramount Pictures\", \"id\": 4}]</td>\n",
              "      <td>[{\"iso_3166_1\": \"US\", \"name\": \"United States o...</td>\n",
              "      <td>[{\"iso_639_1\": \"en\", \"name\": \"English\"}]</td>\n",
              "      <td>The world will never be the same, once you've ...</td>\n",
              "      <td>Tom Hanks Robin Wright Gary Sinise Mykelti Wil...</td>\n",
              "      <td>[{'name': 'Alan Silvestri', 'gender': 2, 'depa...</td>\n",
              "      <td>Robert Zemeckis</td>\n",
              "    </tr>\n",
              "    <tr>\n",
              "      <th>4</th>\n",
              "      <td>5</td>\n",
              "      <td>American Beauty</td>\n",
              "      <td>Drama</td>\n",
              "      <td>en</td>\n",
              "      <td>15000000</td>\n",
              "      <td>80.878605</td>\n",
              "      <td>15-09-1999</td>\n",
              "      <td>356296601</td>\n",
              "      <td>122.0</td>\n",
              "      <td>7.9</td>\n",
              "      <td>...</td>\n",
              "      <td>http://www.dreamworks.com/ab/</td>\n",
              "      <td>male nudity female nudity adultery midlife cri...</td>\n",
              "      <td>Lester Burnham, a depressed suburban father in...</td>\n",
              "      <td>[{\"name\": \"DreamWorks SKG\", \"id\": 27}, {\"name\"...</td>\n",
              "      <td>[{\"iso_3166_1\": \"US\", \"name\": \"United States o...</td>\n",
              "      <td>[{\"iso_639_1\": \"en\", \"name\": \"English\"}]</td>\n",
              "      <td>Look closer.</td>\n",
              "      <td>Kevin Spacey Annette Bening Thora Birch Wes Be...</td>\n",
              "      <td>[{'name': 'Thomas Newman', 'gender': 2, 'depar...</td>\n",
              "      <td>Sam Mendes</td>\n",
              "    </tr>\n",
              "  </tbody>\n",
              "</table>\n",
              "<p>5 rows × 21 columns</p>\n",
              "</div>\n",
              "    <div class=\"colab-df-buttons\">\n",
              "\n",
              "  <div class=\"colab-df-container\">\n",
              "    <button class=\"colab-df-convert\" onclick=\"convertToInteractive('df-906a7fb1-b7fc-4536-b45b-16092d522990')\"\n",
              "            title=\"Convert this dataframe to an interactive table.\"\n",
              "            style=\"display:none;\">\n",
              "\n",
              "  <svg xmlns=\"http://www.w3.org/2000/svg\" height=\"24px\" viewBox=\"0 -960 960 960\">\n",
              "    <path d=\"M120-120v-720h720v720H120Zm60-500h600v-160H180v160Zm220 220h160v-160H400v160Zm0 220h160v-160H400v160ZM180-400h160v-160H180v160Zm440 0h160v-160H620v160ZM180-180h160v-160H180v160Zm440 0h160v-160H620v160Z\"/>\n",
              "  </svg>\n",
              "    </button>\n",
              "\n",
              "  <style>\n",
              "    .colab-df-container {\n",
              "      display:flex;\n",
              "      gap: 12px;\n",
              "    }\n",
              "\n",
              "    .colab-df-convert {\n",
              "      background-color: #E8F0FE;\n",
              "      border: none;\n",
              "      border-radius: 50%;\n",
              "      cursor: pointer;\n",
              "      display: none;\n",
              "      fill: #1967D2;\n",
              "      height: 32px;\n",
              "      padding: 0 0 0 0;\n",
              "      width: 32px;\n",
              "    }\n",
              "\n",
              "    .colab-df-convert:hover {\n",
              "      background-color: #E2EBFA;\n",
              "      box-shadow: 0px 1px 2px rgba(60, 64, 67, 0.3), 0px 1px 3px 1px rgba(60, 64, 67, 0.15);\n",
              "      fill: #174EA6;\n",
              "    }\n",
              "\n",
              "    .colab-df-buttons div {\n",
              "      margin-bottom: 4px;\n",
              "    }\n",
              "\n",
              "    [theme=dark] .colab-df-convert {\n",
              "      background-color: #3B4455;\n",
              "      fill: #D2E3FC;\n",
              "    }\n",
              "\n",
              "    [theme=dark] .colab-df-convert:hover {\n",
              "      background-color: #434B5C;\n",
              "      box-shadow: 0px 1px 3px 1px rgba(0, 0, 0, 0.15);\n",
              "      filter: drop-shadow(0px 1px 2px rgba(0, 0, 0, 0.3));\n",
              "      fill: #FFFFFF;\n",
              "    }\n",
              "  </style>\n",
              "\n",
              "    <script>\n",
              "      const buttonEl =\n",
              "        document.querySelector('#df-906a7fb1-b7fc-4536-b45b-16092d522990 button.colab-df-convert');\n",
              "      buttonEl.style.display =\n",
              "        google.colab.kernel.accessAllowed ? 'block' : 'none';\n",
              "\n",
              "      async function convertToInteractive(key) {\n",
              "        const element = document.querySelector('#df-906a7fb1-b7fc-4536-b45b-16092d522990');\n",
              "        const dataTable =\n",
              "          await google.colab.kernel.invokeFunction('convertToInteractive',\n",
              "                                                    [key], {});\n",
              "        if (!dataTable) return;\n",
              "\n",
              "        const docLinkHtml = 'Like what you see? Visit the ' +\n",
              "          '<a target=\"_blank\" href=https://colab.research.google.com/notebooks/data_table.ipynb>data table notebook</a>'\n",
              "          + ' to learn more about interactive tables.';\n",
              "        element.innerHTML = '';\n",
              "        dataTable['output_type'] = 'display_data';\n",
              "        await google.colab.output.renderOutput(dataTable, element);\n",
              "        const docLink = document.createElement('div');\n",
              "        docLink.innerHTML = docLinkHtml;\n",
              "        element.appendChild(docLink);\n",
              "      }\n",
              "    </script>\n",
              "  </div>\n",
              "\n",
              "\n",
              "<div id=\"df-5d4b69ef-e906-4628-9f47-155a626b01be\">\n",
              "  <button class=\"colab-df-quickchart\" onclick=\"quickchart('df-5d4b69ef-e906-4628-9f47-155a626b01be')\"\n",
              "            title=\"Suggest charts\"\n",
              "            style=\"display:none;\">\n",
              "\n",
              "<svg xmlns=\"http://www.w3.org/2000/svg\" height=\"24px\"viewBox=\"0 0 24 24\"\n",
              "     width=\"24px\">\n",
              "    <g>\n",
              "        <path d=\"M19 3H5c-1.1 0-2 .9-2 2v14c0 1.1.9 2 2 2h14c1.1 0 2-.9 2-2V5c0-1.1-.9-2-2-2zM9 17H7v-7h2v7zm4 0h-2V7h2v10zm4 0h-2v-4h2v4z\"/>\n",
              "    </g>\n",
              "</svg>\n",
              "  </button>\n",
              "\n",
              "<style>\n",
              "  .colab-df-quickchart {\n",
              "      --bg-color: #E8F0FE;\n",
              "      --fill-color: #1967D2;\n",
              "      --hover-bg-color: #E2EBFA;\n",
              "      --hover-fill-color: #174EA6;\n",
              "      --disabled-fill-color: #AAA;\n",
              "      --disabled-bg-color: #DDD;\n",
              "  }\n",
              "\n",
              "  [theme=dark] .colab-df-quickchart {\n",
              "      --bg-color: #3B4455;\n",
              "      --fill-color: #D2E3FC;\n",
              "      --hover-bg-color: #434B5C;\n",
              "      --hover-fill-color: #FFFFFF;\n",
              "      --disabled-bg-color: #3B4455;\n",
              "      --disabled-fill-color: #666;\n",
              "  }\n",
              "\n",
              "  .colab-df-quickchart {\n",
              "    background-color: var(--bg-color);\n",
              "    border: none;\n",
              "    border-radius: 50%;\n",
              "    cursor: pointer;\n",
              "    display: none;\n",
              "    fill: var(--fill-color);\n",
              "    height: 32px;\n",
              "    padding: 0;\n",
              "    width: 32px;\n",
              "  }\n",
              "\n",
              "  .colab-df-quickchart:hover {\n",
              "    background-color: var(--hover-bg-color);\n",
              "    box-shadow: 0 1px 2px rgba(60, 64, 67, 0.3), 0 1px 3px 1px rgba(60, 64, 67, 0.15);\n",
              "    fill: var(--button-hover-fill-color);\n",
              "  }\n",
              "\n",
              "  .colab-df-quickchart-complete:disabled,\n",
              "  .colab-df-quickchart-complete:disabled:hover {\n",
              "    background-color: var(--disabled-bg-color);\n",
              "    fill: var(--disabled-fill-color);\n",
              "    box-shadow: none;\n",
              "  }\n",
              "\n",
              "  .colab-df-spinner {\n",
              "    border: 2px solid var(--fill-color);\n",
              "    border-color: transparent;\n",
              "    border-bottom-color: var(--fill-color);\n",
              "    animation:\n",
              "      spin 1s steps(1) infinite;\n",
              "  }\n",
              "\n",
              "  @keyframes spin {\n",
              "    0% {\n",
              "      border-color: transparent;\n",
              "      border-bottom-color: var(--fill-color);\n",
              "      border-left-color: var(--fill-color);\n",
              "    }\n",
              "    20% {\n",
              "      border-color: transparent;\n",
              "      border-left-color: var(--fill-color);\n",
              "      border-top-color: var(--fill-color);\n",
              "    }\n",
              "    30% {\n",
              "      border-color: transparent;\n",
              "      border-left-color: var(--fill-color);\n",
              "      border-top-color: var(--fill-color);\n",
              "      border-right-color: var(--fill-color);\n",
              "    }\n",
              "    40% {\n",
              "      border-color: transparent;\n",
              "      border-right-color: var(--fill-color);\n",
              "      border-top-color: var(--fill-color);\n",
              "    }\n",
              "    60% {\n",
              "      border-color: transparent;\n",
              "      border-right-color: var(--fill-color);\n",
              "    }\n",
              "    80% {\n",
              "      border-color: transparent;\n",
              "      border-right-color: var(--fill-color);\n",
              "      border-bottom-color: var(--fill-color);\n",
              "    }\n",
              "    90% {\n",
              "      border-color: transparent;\n",
              "      border-bottom-color: var(--fill-color);\n",
              "    }\n",
              "  }\n",
              "</style>\n",
              "\n",
              "  <script>\n",
              "    async function quickchart(key) {\n",
              "      const quickchartButtonEl =\n",
              "        document.querySelector('#' + key + ' button');\n",
              "      quickchartButtonEl.disabled = true;  // To prevent multiple clicks.\n",
              "      quickchartButtonEl.classList.add('colab-df-spinner');\n",
              "      try {\n",
              "        const charts = await google.colab.kernel.invokeFunction(\n",
              "            'suggestCharts', [key], {});\n",
              "      } catch (error) {\n",
              "        console.error('Error during call to suggestCharts:', error);\n",
              "      }\n",
              "      quickchartButtonEl.classList.remove('colab-df-spinner');\n",
              "      quickchartButtonEl.classList.add('colab-df-quickchart-complete');\n",
              "    }\n",
              "    (() => {\n",
              "      let quickchartButtonEl =\n",
              "        document.querySelector('#df-5d4b69ef-e906-4628-9f47-155a626b01be button');\n",
              "      quickchartButtonEl.style.display =\n",
              "        google.colab.kernel.accessAllowed ? 'block' : 'none';\n",
              "    })();\n",
              "  </script>\n",
              "</div>\n",
              "\n",
              "    </div>\n",
              "  </div>\n"
            ],
            "application/vnd.google.colaboratory.intrinsic+json": {
              "type": "dataframe",
              "variable_name": "movies"
            }
          },
          "metadata": {},
          "execution_count": 10
        }
      ]
    },
    {
      "cell_type": "code",
      "source": [
        "movies.info()"
      ],
      "metadata": {
        "colab": {
          "base_uri": "https://localhost:8080/"
        },
        "id": "GGBIz--kKWRF",
        "outputId": "8323e7e5-01ae-4b0f-ea5e-83de183245ee"
      },
      "execution_count": 11,
      "outputs": [
        {
          "output_type": "stream",
          "name": "stdout",
          "text": [
            "<class 'pandas.core.frame.DataFrame'>\n",
            "RangeIndex: 4760 entries, 0 to 4759\n",
            "Data columns (total 21 columns):\n",
            " #   Column                    Non-Null Count  Dtype  \n",
            "---  ------                    --------------  -----  \n",
            " 0   Movie_ID                  4760 non-null   int64  \n",
            " 1   Movie_Title               4760 non-null   object \n",
            " 2   Movie_Genre               4760 non-null   object \n",
            " 3   Movie_Language            4760 non-null   object \n",
            " 4   Movie_Budget              4760 non-null   int64  \n",
            " 5   Movie_Popularity          4760 non-null   float64\n",
            " 6   Movie_Release_Date        4760 non-null   object \n",
            " 7   Movie_Revenue             4760 non-null   int64  \n",
            " 8   Movie_Runtime             4758 non-null   float64\n",
            " 9   Movie_Vote                4760 non-null   float64\n",
            " 10  Movie_Vote_Count          4760 non-null   int64  \n",
            " 11  Movie_Homepage            1699 non-null   object \n",
            " 12  Movie_Keywords            4373 non-null   object \n",
            " 13  Movie_Overview            4757 non-null   object \n",
            " 14  Movie_Production_House    4760 non-null   object \n",
            " 15  Movie_Production_Country  4760 non-null   object \n",
            " 16  Movie_Spoken_Language     4760 non-null   object \n",
            " 17  Movie_Tagline             3942 non-null   object \n",
            " 18  Movie_Cast                4733 non-null   object \n",
            " 19  Movie_Crew                4760 non-null   object \n",
            " 20  Movie_Director            4738 non-null   object \n",
            "dtypes: float64(3), int64(4), object(14)\n",
            "memory usage: 781.1+ KB\n"
          ]
        }
      ]
    },
    {
      "cell_type": "code",
      "source": [
        "movies.shape"
      ],
      "metadata": {
        "colab": {
          "base_uri": "https://localhost:8080/"
        },
        "id": "OE2Jgu44KZUm",
        "outputId": "fa623fe4-0f8c-409c-9522-94f4c8d49a6e"
      },
      "execution_count": 13,
      "outputs": [
        {
          "output_type": "execute_result",
          "data": {
            "text/plain": [
              "(4760, 21)"
            ]
          },
          "metadata": {},
          "execution_count": 13
        }
      ]
    },
    {
      "cell_type": "code",
      "source": [
        "movies.columns"
      ],
      "metadata": {
        "colab": {
          "base_uri": "https://localhost:8080/"
        },
        "id": "cELI2GA8KiSP",
        "outputId": "13b2520c-b41f-4d1f-8c4a-482a59a32c3b"
      },
      "execution_count": 14,
      "outputs": [
        {
          "output_type": "execute_result",
          "data": {
            "text/plain": [
              "Index(['Movie_ID', 'Movie_Title', 'Movie_Genre', 'Movie_Language',\n",
              "       'Movie_Budget', 'Movie_Popularity', 'Movie_Release_Date',\n",
              "       'Movie_Revenue', 'Movie_Runtime', 'Movie_Vote', 'Movie_Vote_Count',\n",
              "       'Movie_Homepage', 'Movie_Keywords', 'Movie_Overview',\n",
              "       'Movie_Production_House', 'Movie_Production_Country',\n",
              "       'Movie_Spoken_Language', 'Movie_Tagline', 'Movie_Cast', 'Movie_Crew',\n",
              "       'Movie_Director'],\n",
              "      dtype='object')"
            ]
          },
          "metadata": {},
          "execution_count": 14
        }
      ]
    },
    {
      "cell_type": "markdown",
      "source": [
        "FEATURE SELECTION"
      ],
      "metadata": {
        "id": "-UESa2HhKwp9"
      }
    },
    {
      "cell_type": "code",
      "source": [
        "movies_features = movies[['Movie_ID', 'Movie_Title', 'Movie_Genre', 'Movie_Language',\n",
        "       'Movie_Budget', 'Movie_Popularity', 'Movie_Release_Date',\n",
        "       'Movie_Revenue', 'Movie_Runtime', 'Movie_Vote', 'Movie_Vote_Count',\n",
        "       'Movie_Homepage', 'Movie_Keywords', 'Movie_Overview',\n",
        "       'Movie_Production_House', 'Movie_Production_Country',\n",
        "       'Movie_Spoken_Language', 'Movie_Tagline', 'Movie_Cast', 'Movie_Crew',\n",
        "       'Movie_Director']].fillna('')"
      ],
      "metadata": {
        "id": "OZXE8dmyKygl"
      },
      "execution_count": 19,
      "outputs": []
    },
    {
      "cell_type": "code",
      "source": [
        "movies_features.shape"
      ],
      "metadata": {
        "colab": {
          "base_uri": "https://localhost:8080/"
        },
        "id": "xzv_X-SYgUgH",
        "outputId": "6f4bc81c-a08f-4250-fe03-b589af9c3af9"
      },
      "execution_count": 20,
      "outputs": [
        {
          "output_type": "execute_result",
          "data": {
            "text/plain": [
              "(4760, 21)"
            ]
          },
          "metadata": {},
          "execution_count": 20
        }
      ]
    },
    {
      "cell_type": "code",
      "source": [
        "movies_features"
      ],
      "metadata": {
        "colab": {
          "base_uri": "https://localhost:8080/",
          "height": 1000
        },
        "id": "BTbxUrPngb5s",
        "outputId": "1d940466-9206-4c83-88c7-25b053b5a040"
      },
      "execution_count": 21,
      "outputs": [
        {
          "output_type": "execute_result",
          "data": {
            "text/plain": [
              "      Movie_ID                  Movie_Title                       Movie_Genre  \\\n",
              "0            1                   Four Rooms                      Crime Comedy   \n",
              "1            2                    Star Wars  Adventure Action Science Fiction   \n",
              "2            3                 Finding Nemo                  Animation Family   \n",
              "3            4                 Forrest Gump              Comedy Drama Romance   \n",
              "4            5              American Beauty                             Drama   \n",
              "...        ...                          ...                               ...   \n",
              "4755      4784             Midnight Cabaret                            Horror   \n",
              "4756      4785             Growing Up Smith               Comedy Family Drama   \n",
              "4757      4786                       8 Days                    Thriller Drama   \n",
              "4758      4787              Running Forever                            Family   \n",
              "4759      4788  To Be Frank, Sinatra at 100                       Documentary   \n",
              "\n",
              "     Movie_Language  Movie_Budget  Movie_Popularity Movie_Release_Date  \\\n",
              "0                en       4000000         22.876230         09-12-1995   \n",
              "1                en      11000000        126.393695         25-05-1977   \n",
              "2                en      94000000         85.688789         30-05-2003   \n",
              "3                en      55000000        138.133331         06-07-1994   \n",
              "4                en      15000000         80.878605         15-09-1999   \n",
              "...             ...           ...               ...                ...   \n",
              "4755             en             0          0.001389         01-01-1990   \n",
              "4756             en             0          0.710870         03-02-2017   \n",
              "4757             en             0          0.015295         15-06-2014   \n",
              "4758             en             0          0.028756         27-10-2015   \n",
              "4759             en             2          0.050625         12-12-2015   \n",
              "\n",
              "      Movie_Revenue Movie_Runtime  Movie_Vote  ...  \\\n",
              "0           4300000          98.0         6.5  ...   \n",
              "1         775398007         121.0         8.1  ...   \n",
              "2         940335536         100.0         7.6  ...   \n",
              "3         677945399         142.0         8.2  ...   \n",
              "4         356296601         122.0         7.9  ...   \n",
              "...             ...           ...         ...  ...   \n",
              "4755              0          94.0         0.0  ...   \n",
              "4756              0         102.0         7.4  ...   \n",
              "4757              0          90.0         0.0  ...   \n",
              "4758              0          88.0         0.0  ...   \n",
              "4759              0                       0.0  ...   \n",
              "\n",
              "                                         Movie_Homepage  \\\n",
              "0                                                         \n",
              "1     http://www.starwars.com/films/star-wars-episod...   \n",
              "2                 http://movies.disney.com/finding-nemo   \n",
              "3                                                         \n",
              "4                         http://www.dreamworks.com/ab/   \n",
              "...                                                 ...   \n",
              "4755                                                      \n",
              "4756                 http://www.growingupsmithmovie.com   \n",
              "4757                                                      \n",
              "4758                                                      \n",
              "4759                                                      \n",
              "\n",
              "                                         Movie_Keywords  \\\n",
              "0             hotel new year's eve witch bet hotel room   \n",
              "1           android galaxy hermit death star lightsaber   \n",
              "2     father son relationship harbor underwater fish...   \n",
              "3     vietnam veteran hippie mentally disabled runni...   \n",
              "4     male nudity female nudity adultery midlife cri...   \n",
              "...                                                 ...   \n",
              "4755                                                      \n",
              "4756                                                      \n",
              "4757                     christian film sex trafficking   \n",
              "4758                                                      \n",
              "4759  music actors legendary perfomer classic hollyw...   \n",
              "\n",
              "                                         Movie_Overview  \\\n",
              "0     It's Ted the Bellhop's first night on the job....   \n",
              "1     Princess Leia is captured and held hostage by ...   \n",
              "2     Nemo, an adventurous young clownfish, is unexp...   \n",
              "3     A man with a low IQ has accomplished great thi...   \n",
              "4     Lester Burnham, a depressed suburban father in...   \n",
              "...                                                 ...   \n",
              "4755  A Broadway producer puts on a play with a Devi...   \n",
              "4756  In 1979, an Indian family moves to America wit...   \n",
              "4757  After sneaking to a party with her friends, 16...   \n",
              "4758  After being estranged since her mother's death...   \n",
              "4759                                                      \n",
              "\n",
              "                                 Movie_Production_House  \\\n",
              "0     [{\"name\": \"Miramax Films\", \"id\": 14}, {\"name\":...   \n",
              "1     [{\"name\": \"Lucasfilm\", \"id\": 1}, {\"name\": \"Twe...   \n",
              "2        [{\"name\": \"Pixar Animation Studios\", \"id\": 3}]   \n",
              "3             [{\"name\": \"Paramount Pictures\", \"id\": 4}]   \n",
              "4     [{\"name\": \"DreamWorks SKG\", \"id\": 27}, {\"name\"...   \n",
              "...                                                 ...   \n",
              "4755                                                 []   \n",
              "4756                                                 []   \n",
              "4757     [{\"name\": \"After Eden Pictures\", \"id\": 85248}]   \n",
              "4758    [{\"name\": \"New Kingdom Pictures\", \"id\": 41671}]   \n",
              "4759   [{\"name\": \"Eyeline Entertainment\", \"id\": 60343}]   \n",
              "\n",
              "                               Movie_Production_Country  \\\n",
              "0     [{\"iso_3166_1\": \"US\", \"name\": \"United States o...   \n",
              "1     [{\"iso_3166_1\": \"US\", \"name\": \"United States o...   \n",
              "2     [{\"iso_3166_1\": \"US\", \"name\": \"United States o...   \n",
              "3     [{\"iso_3166_1\": \"US\", \"name\": \"United States o...   \n",
              "4     [{\"iso_3166_1\": \"US\", \"name\": \"United States o...   \n",
              "...                                                 ...   \n",
              "4755                                                 []   \n",
              "4756                                                 []   \n",
              "4757  [{\"iso_3166_1\": \"US\", \"name\": \"United States o...   \n",
              "4758  [{\"iso_3166_1\": \"US\", \"name\": \"United States o...   \n",
              "4759   [{\"iso_3166_1\": \"GB\", \"name\": \"United Kingdom\"}]   \n",
              "\n",
              "                         Movie_Spoken_Language  \\\n",
              "0     [{\"iso_639_1\": \"en\", \"name\": \"English\"}]   \n",
              "1     [{\"iso_639_1\": \"en\", \"name\": \"English\"}]   \n",
              "2     [{\"iso_639_1\": \"en\", \"name\": \"English\"}]   \n",
              "3     [{\"iso_639_1\": \"en\", \"name\": \"English\"}]   \n",
              "4     [{\"iso_639_1\": \"en\", \"name\": \"English\"}]   \n",
              "...                                        ...   \n",
              "4755  [{\"iso_639_1\": \"en\", \"name\": \"English\"}]   \n",
              "4756  [{\"iso_639_1\": \"en\", \"name\": \"English\"}]   \n",
              "4757  [{\"iso_639_1\": \"en\", \"name\": \"English\"}]   \n",
              "4758                                        []   \n",
              "4759                                        []   \n",
              "\n",
              "                                          Movie_Tagline  \\\n",
              "0     Twelve outrageous guests. Four scandalous requ...   \n",
              "1          A long time ago in a galaxy far, far away...   \n",
              "2     There are 3.7 trillion fish in the ocean, they...   \n",
              "3     The world will never be the same, once you've ...   \n",
              "4                                          Look closer.   \n",
              "...                                                 ...   \n",
              "4755                The hot spot where Satan's waitin'.   \n",
              "4756           It’s better to stand out than to fit in.   \n",
              "4757           She never knew it could happen to her...   \n",
              "4758                                                      \n",
              "4759                                                      \n",
              "\n",
              "                                             Movie_Cast  \\\n",
              "0     Tim Roth Antonio Banderas Jennifer Beals Madon...   \n",
              "1     Mark Hamill Harrison Ford Carrie Fisher Peter ...   \n",
              "2     Albert Brooks Ellen DeGeneres Alexander Gould ...   \n",
              "3     Tom Hanks Robin Wright Gary Sinise Mykelti Wil...   \n",
              "4     Kevin Spacey Annette Bening Thora Birch Wes Be...   \n",
              "...                                                 ...   \n",
              "4755  Lisa Hart Carroll Michael Des Barres Paul Drak...   \n",
              "4756  Roni Akurati Brighton Sharbino Jason Lee Anjul...   \n",
              "4757  Nicole Smolen Kim Baldwin Ariana Stephens Brys...   \n",
              "4758                                                      \n",
              "4759                                    Tony Oppedisano   \n",
              "\n",
              "                                             Movie_Crew     Movie_Director  \n",
              "0     [{'name': 'Allison Anders', 'gender': 1, 'depa...     Allison Anders  \n",
              "1     [{'name': 'George Lucas', 'gender': 2, 'depart...       George Lucas  \n",
              "2     [{'name': 'Andrew Stanton', 'gender': 2, 'depa...     Andrew Stanton  \n",
              "3     [{'name': 'Alan Silvestri', 'gender': 2, 'depa...    Robert Zemeckis  \n",
              "4     [{'name': 'Thomas Newman', 'gender': 2, 'depar...         Sam Mendes  \n",
              "...                                                 ...                ...  \n",
              "4755  [{'name': 'Pece Dingo', 'gender': 0, 'departme...         Pece Dingo  \n",
              "4756  [{'name': 'Frank Lotito', 'gender': 0, 'depart...       Frank Lotito  \n",
              "4757  [{'name': 'Jaco Booyens', 'gender': 0, 'depart...       Jaco Booyens  \n",
              "4758                                                 []                     \n",
              "4759  [{'name': 'Simon Napier-Bell', 'gender': 0, 'd...  Simon Napier-Bell  \n",
              "\n",
              "[4760 rows x 21 columns]"
            ],
            "text/html": [
              "\n",
              "  <div id=\"df-710152ca-4a93-45b3-9141-871c80ba7d72\" class=\"colab-df-container\">\n",
              "    <div>\n",
              "<style scoped>\n",
              "    .dataframe tbody tr th:only-of-type {\n",
              "        vertical-align: middle;\n",
              "    }\n",
              "\n",
              "    .dataframe tbody tr th {\n",
              "        vertical-align: top;\n",
              "    }\n",
              "\n",
              "    .dataframe thead th {\n",
              "        text-align: right;\n",
              "    }\n",
              "</style>\n",
              "<table border=\"1\" class=\"dataframe\">\n",
              "  <thead>\n",
              "    <tr style=\"text-align: right;\">\n",
              "      <th></th>\n",
              "      <th>Movie_ID</th>\n",
              "      <th>Movie_Title</th>\n",
              "      <th>Movie_Genre</th>\n",
              "      <th>Movie_Language</th>\n",
              "      <th>Movie_Budget</th>\n",
              "      <th>Movie_Popularity</th>\n",
              "      <th>Movie_Release_Date</th>\n",
              "      <th>Movie_Revenue</th>\n",
              "      <th>Movie_Runtime</th>\n",
              "      <th>Movie_Vote</th>\n",
              "      <th>...</th>\n",
              "      <th>Movie_Homepage</th>\n",
              "      <th>Movie_Keywords</th>\n",
              "      <th>Movie_Overview</th>\n",
              "      <th>Movie_Production_House</th>\n",
              "      <th>Movie_Production_Country</th>\n",
              "      <th>Movie_Spoken_Language</th>\n",
              "      <th>Movie_Tagline</th>\n",
              "      <th>Movie_Cast</th>\n",
              "      <th>Movie_Crew</th>\n",
              "      <th>Movie_Director</th>\n",
              "    </tr>\n",
              "  </thead>\n",
              "  <tbody>\n",
              "    <tr>\n",
              "      <th>0</th>\n",
              "      <td>1</td>\n",
              "      <td>Four Rooms</td>\n",
              "      <td>Crime Comedy</td>\n",
              "      <td>en</td>\n",
              "      <td>4000000</td>\n",
              "      <td>22.876230</td>\n",
              "      <td>09-12-1995</td>\n",
              "      <td>4300000</td>\n",
              "      <td>98.0</td>\n",
              "      <td>6.5</td>\n",
              "      <td>...</td>\n",
              "      <td></td>\n",
              "      <td>hotel new year's eve witch bet hotel room</td>\n",
              "      <td>It's Ted the Bellhop's first night on the job....</td>\n",
              "      <td>[{\"name\": \"Miramax Films\", \"id\": 14}, {\"name\":...</td>\n",
              "      <td>[{\"iso_3166_1\": \"US\", \"name\": \"United States o...</td>\n",
              "      <td>[{\"iso_639_1\": \"en\", \"name\": \"English\"}]</td>\n",
              "      <td>Twelve outrageous guests. Four scandalous requ...</td>\n",
              "      <td>Tim Roth Antonio Banderas Jennifer Beals Madon...</td>\n",
              "      <td>[{'name': 'Allison Anders', 'gender': 1, 'depa...</td>\n",
              "      <td>Allison Anders</td>\n",
              "    </tr>\n",
              "    <tr>\n",
              "      <th>1</th>\n",
              "      <td>2</td>\n",
              "      <td>Star Wars</td>\n",
              "      <td>Adventure Action Science Fiction</td>\n",
              "      <td>en</td>\n",
              "      <td>11000000</td>\n",
              "      <td>126.393695</td>\n",
              "      <td>25-05-1977</td>\n",
              "      <td>775398007</td>\n",
              "      <td>121.0</td>\n",
              "      <td>8.1</td>\n",
              "      <td>...</td>\n",
              "      <td>http://www.starwars.com/films/star-wars-episod...</td>\n",
              "      <td>android galaxy hermit death star lightsaber</td>\n",
              "      <td>Princess Leia is captured and held hostage by ...</td>\n",
              "      <td>[{\"name\": \"Lucasfilm\", \"id\": 1}, {\"name\": \"Twe...</td>\n",
              "      <td>[{\"iso_3166_1\": \"US\", \"name\": \"United States o...</td>\n",
              "      <td>[{\"iso_639_1\": \"en\", \"name\": \"English\"}]</td>\n",
              "      <td>A long time ago in a galaxy far, far away...</td>\n",
              "      <td>Mark Hamill Harrison Ford Carrie Fisher Peter ...</td>\n",
              "      <td>[{'name': 'George Lucas', 'gender': 2, 'depart...</td>\n",
              "      <td>George Lucas</td>\n",
              "    </tr>\n",
              "    <tr>\n",
              "      <th>2</th>\n",
              "      <td>3</td>\n",
              "      <td>Finding Nemo</td>\n",
              "      <td>Animation Family</td>\n",
              "      <td>en</td>\n",
              "      <td>94000000</td>\n",
              "      <td>85.688789</td>\n",
              "      <td>30-05-2003</td>\n",
              "      <td>940335536</td>\n",
              "      <td>100.0</td>\n",
              "      <td>7.6</td>\n",
              "      <td>...</td>\n",
              "      <td>http://movies.disney.com/finding-nemo</td>\n",
              "      <td>father son relationship harbor underwater fish...</td>\n",
              "      <td>Nemo, an adventurous young clownfish, is unexp...</td>\n",
              "      <td>[{\"name\": \"Pixar Animation Studios\", \"id\": 3}]</td>\n",
              "      <td>[{\"iso_3166_1\": \"US\", \"name\": \"United States o...</td>\n",
              "      <td>[{\"iso_639_1\": \"en\", \"name\": \"English\"}]</td>\n",
              "      <td>There are 3.7 trillion fish in the ocean, they...</td>\n",
              "      <td>Albert Brooks Ellen DeGeneres Alexander Gould ...</td>\n",
              "      <td>[{'name': 'Andrew Stanton', 'gender': 2, 'depa...</td>\n",
              "      <td>Andrew Stanton</td>\n",
              "    </tr>\n",
              "    <tr>\n",
              "      <th>3</th>\n",
              "      <td>4</td>\n",
              "      <td>Forrest Gump</td>\n",
              "      <td>Comedy Drama Romance</td>\n",
              "      <td>en</td>\n",
              "      <td>55000000</td>\n",
              "      <td>138.133331</td>\n",
              "      <td>06-07-1994</td>\n",
              "      <td>677945399</td>\n",
              "      <td>142.0</td>\n",
              "      <td>8.2</td>\n",
              "      <td>...</td>\n",
              "      <td></td>\n",
              "      <td>vietnam veteran hippie mentally disabled runni...</td>\n",
              "      <td>A man with a low IQ has accomplished great thi...</td>\n",
              "      <td>[{\"name\": \"Paramount Pictures\", \"id\": 4}]</td>\n",
              "      <td>[{\"iso_3166_1\": \"US\", \"name\": \"United States o...</td>\n",
              "      <td>[{\"iso_639_1\": \"en\", \"name\": \"English\"}]</td>\n",
              "      <td>The world will never be the same, once you've ...</td>\n",
              "      <td>Tom Hanks Robin Wright Gary Sinise Mykelti Wil...</td>\n",
              "      <td>[{'name': 'Alan Silvestri', 'gender': 2, 'depa...</td>\n",
              "      <td>Robert Zemeckis</td>\n",
              "    </tr>\n",
              "    <tr>\n",
              "      <th>4</th>\n",
              "      <td>5</td>\n",
              "      <td>American Beauty</td>\n",
              "      <td>Drama</td>\n",
              "      <td>en</td>\n",
              "      <td>15000000</td>\n",
              "      <td>80.878605</td>\n",
              "      <td>15-09-1999</td>\n",
              "      <td>356296601</td>\n",
              "      <td>122.0</td>\n",
              "      <td>7.9</td>\n",
              "      <td>...</td>\n",
              "      <td>http://www.dreamworks.com/ab/</td>\n",
              "      <td>male nudity female nudity adultery midlife cri...</td>\n",
              "      <td>Lester Burnham, a depressed suburban father in...</td>\n",
              "      <td>[{\"name\": \"DreamWorks SKG\", \"id\": 27}, {\"name\"...</td>\n",
              "      <td>[{\"iso_3166_1\": \"US\", \"name\": \"United States o...</td>\n",
              "      <td>[{\"iso_639_1\": \"en\", \"name\": \"English\"}]</td>\n",
              "      <td>Look closer.</td>\n",
              "      <td>Kevin Spacey Annette Bening Thora Birch Wes Be...</td>\n",
              "      <td>[{'name': 'Thomas Newman', 'gender': 2, 'depar...</td>\n",
              "      <td>Sam Mendes</td>\n",
              "    </tr>\n",
              "    <tr>\n",
              "      <th>...</th>\n",
              "      <td>...</td>\n",
              "      <td>...</td>\n",
              "      <td>...</td>\n",
              "      <td>...</td>\n",
              "      <td>...</td>\n",
              "      <td>...</td>\n",
              "      <td>...</td>\n",
              "      <td>...</td>\n",
              "      <td>...</td>\n",
              "      <td>...</td>\n",
              "      <td>...</td>\n",
              "      <td>...</td>\n",
              "      <td>...</td>\n",
              "      <td>...</td>\n",
              "      <td>...</td>\n",
              "      <td>...</td>\n",
              "      <td>...</td>\n",
              "      <td>...</td>\n",
              "      <td>...</td>\n",
              "      <td>...</td>\n",
              "      <td>...</td>\n",
              "    </tr>\n",
              "    <tr>\n",
              "      <th>4755</th>\n",
              "      <td>4784</td>\n",
              "      <td>Midnight Cabaret</td>\n",
              "      <td>Horror</td>\n",
              "      <td>en</td>\n",
              "      <td>0</td>\n",
              "      <td>0.001389</td>\n",
              "      <td>01-01-1990</td>\n",
              "      <td>0</td>\n",
              "      <td>94.0</td>\n",
              "      <td>0.0</td>\n",
              "      <td>...</td>\n",
              "      <td></td>\n",
              "      <td></td>\n",
              "      <td>A Broadway producer puts on a play with a Devi...</td>\n",
              "      <td>[]</td>\n",
              "      <td>[]</td>\n",
              "      <td>[{\"iso_639_1\": \"en\", \"name\": \"English\"}]</td>\n",
              "      <td>The hot spot where Satan's waitin'.</td>\n",
              "      <td>Lisa Hart Carroll Michael Des Barres Paul Drak...</td>\n",
              "      <td>[{'name': 'Pece Dingo', 'gender': 0, 'departme...</td>\n",
              "      <td>Pece Dingo</td>\n",
              "    </tr>\n",
              "    <tr>\n",
              "      <th>4756</th>\n",
              "      <td>4785</td>\n",
              "      <td>Growing Up Smith</td>\n",
              "      <td>Comedy Family Drama</td>\n",
              "      <td>en</td>\n",
              "      <td>0</td>\n",
              "      <td>0.710870</td>\n",
              "      <td>03-02-2017</td>\n",
              "      <td>0</td>\n",
              "      <td>102.0</td>\n",
              "      <td>7.4</td>\n",
              "      <td>...</td>\n",
              "      <td>http://www.growingupsmithmovie.com</td>\n",
              "      <td></td>\n",
              "      <td>In 1979, an Indian family moves to America wit...</td>\n",
              "      <td>[]</td>\n",
              "      <td>[]</td>\n",
              "      <td>[{\"iso_639_1\": \"en\", \"name\": \"English\"}]</td>\n",
              "      <td>It’s better to stand out than to fit in.</td>\n",
              "      <td>Roni Akurati Brighton Sharbino Jason Lee Anjul...</td>\n",
              "      <td>[{'name': 'Frank Lotito', 'gender': 0, 'depart...</td>\n",
              "      <td>Frank Lotito</td>\n",
              "    </tr>\n",
              "    <tr>\n",
              "      <th>4757</th>\n",
              "      <td>4786</td>\n",
              "      <td>8 Days</td>\n",
              "      <td>Thriller Drama</td>\n",
              "      <td>en</td>\n",
              "      <td>0</td>\n",
              "      <td>0.015295</td>\n",
              "      <td>15-06-2014</td>\n",
              "      <td>0</td>\n",
              "      <td>90.0</td>\n",
              "      <td>0.0</td>\n",
              "      <td>...</td>\n",
              "      <td></td>\n",
              "      <td>christian film sex trafficking</td>\n",
              "      <td>After sneaking to a party with her friends, 16...</td>\n",
              "      <td>[{\"name\": \"After Eden Pictures\", \"id\": 85248}]</td>\n",
              "      <td>[{\"iso_3166_1\": \"US\", \"name\": \"United States o...</td>\n",
              "      <td>[{\"iso_639_1\": \"en\", \"name\": \"English\"}]</td>\n",
              "      <td>She never knew it could happen to her...</td>\n",
              "      <td>Nicole Smolen Kim Baldwin Ariana Stephens Brys...</td>\n",
              "      <td>[{'name': 'Jaco Booyens', 'gender': 0, 'depart...</td>\n",
              "      <td>Jaco Booyens</td>\n",
              "    </tr>\n",
              "    <tr>\n",
              "      <th>4758</th>\n",
              "      <td>4787</td>\n",
              "      <td>Running Forever</td>\n",
              "      <td>Family</td>\n",
              "      <td>en</td>\n",
              "      <td>0</td>\n",
              "      <td>0.028756</td>\n",
              "      <td>27-10-2015</td>\n",
              "      <td>0</td>\n",
              "      <td>88.0</td>\n",
              "      <td>0.0</td>\n",
              "      <td>...</td>\n",
              "      <td></td>\n",
              "      <td></td>\n",
              "      <td>After being estranged since her mother's death...</td>\n",
              "      <td>[{\"name\": \"New Kingdom Pictures\", \"id\": 41671}]</td>\n",
              "      <td>[{\"iso_3166_1\": \"US\", \"name\": \"United States o...</td>\n",
              "      <td>[]</td>\n",
              "      <td></td>\n",
              "      <td></td>\n",
              "      <td>[]</td>\n",
              "      <td></td>\n",
              "    </tr>\n",
              "    <tr>\n",
              "      <th>4759</th>\n",
              "      <td>4788</td>\n",
              "      <td>To Be Frank, Sinatra at 100</td>\n",
              "      <td>Documentary</td>\n",
              "      <td>en</td>\n",
              "      <td>2</td>\n",
              "      <td>0.050625</td>\n",
              "      <td>12-12-2015</td>\n",
              "      <td>0</td>\n",
              "      <td></td>\n",
              "      <td>0.0</td>\n",
              "      <td>...</td>\n",
              "      <td></td>\n",
              "      <td>music actors legendary perfomer classic hollyw...</td>\n",
              "      <td></td>\n",
              "      <td>[{\"name\": \"Eyeline Entertainment\", \"id\": 60343}]</td>\n",
              "      <td>[{\"iso_3166_1\": \"GB\", \"name\": \"United Kingdom\"}]</td>\n",
              "      <td>[]</td>\n",
              "      <td></td>\n",
              "      <td>Tony Oppedisano</td>\n",
              "      <td>[{'name': 'Simon Napier-Bell', 'gender': 0, 'd...</td>\n",
              "      <td>Simon Napier-Bell</td>\n",
              "    </tr>\n",
              "  </tbody>\n",
              "</table>\n",
              "<p>4760 rows × 21 columns</p>\n",
              "</div>\n",
              "    <div class=\"colab-df-buttons\">\n",
              "\n",
              "  <div class=\"colab-df-container\">\n",
              "    <button class=\"colab-df-convert\" onclick=\"convertToInteractive('df-710152ca-4a93-45b3-9141-871c80ba7d72')\"\n",
              "            title=\"Convert this dataframe to an interactive table.\"\n",
              "            style=\"display:none;\">\n",
              "\n",
              "  <svg xmlns=\"http://www.w3.org/2000/svg\" height=\"24px\" viewBox=\"0 -960 960 960\">\n",
              "    <path d=\"M120-120v-720h720v720H120Zm60-500h600v-160H180v160Zm220 220h160v-160H400v160Zm0 220h160v-160H400v160ZM180-400h160v-160H180v160Zm440 0h160v-160H620v160ZM180-180h160v-160H180v160Zm440 0h160v-160H620v160Z\"/>\n",
              "  </svg>\n",
              "    </button>\n",
              "\n",
              "  <style>\n",
              "    .colab-df-container {\n",
              "      display:flex;\n",
              "      gap: 12px;\n",
              "    }\n",
              "\n",
              "    .colab-df-convert {\n",
              "      background-color: #E8F0FE;\n",
              "      border: none;\n",
              "      border-radius: 50%;\n",
              "      cursor: pointer;\n",
              "      display: none;\n",
              "      fill: #1967D2;\n",
              "      height: 32px;\n",
              "      padding: 0 0 0 0;\n",
              "      width: 32px;\n",
              "    }\n",
              "\n",
              "    .colab-df-convert:hover {\n",
              "      background-color: #E2EBFA;\n",
              "      box-shadow: 0px 1px 2px rgba(60, 64, 67, 0.3), 0px 1px 3px 1px rgba(60, 64, 67, 0.15);\n",
              "      fill: #174EA6;\n",
              "    }\n",
              "\n",
              "    .colab-df-buttons div {\n",
              "      margin-bottom: 4px;\n",
              "    }\n",
              "\n",
              "    [theme=dark] .colab-df-convert {\n",
              "      background-color: #3B4455;\n",
              "      fill: #D2E3FC;\n",
              "    }\n",
              "\n",
              "    [theme=dark] .colab-df-convert:hover {\n",
              "      background-color: #434B5C;\n",
              "      box-shadow: 0px 1px 3px 1px rgba(0, 0, 0, 0.15);\n",
              "      filter: drop-shadow(0px 1px 2px rgba(0, 0, 0, 0.3));\n",
              "      fill: #FFFFFF;\n",
              "    }\n",
              "  </style>\n",
              "\n",
              "    <script>\n",
              "      const buttonEl =\n",
              "        document.querySelector('#df-710152ca-4a93-45b3-9141-871c80ba7d72 button.colab-df-convert');\n",
              "      buttonEl.style.display =\n",
              "        google.colab.kernel.accessAllowed ? 'block' : 'none';\n",
              "\n",
              "      async function convertToInteractive(key) {\n",
              "        const element = document.querySelector('#df-710152ca-4a93-45b3-9141-871c80ba7d72');\n",
              "        const dataTable =\n",
              "          await google.colab.kernel.invokeFunction('convertToInteractive',\n",
              "                                                    [key], {});\n",
              "        if (!dataTable) return;\n",
              "\n",
              "        const docLinkHtml = 'Like what you see? Visit the ' +\n",
              "          '<a target=\"_blank\" href=https://colab.research.google.com/notebooks/data_table.ipynb>data table notebook</a>'\n",
              "          + ' to learn more about interactive tables.';\n",
              "        element.innerHTML = '';\n",
              "        dataTable['output_type'] = 'display_data';\n",
              "        await google.colab.output.renderOutput(dataTable, element);\n",
              "        const docLink = document.createElement('div');\n",
              "        docLink.innerHTML = docLinkHtml;\n",
              "        element.appendChild(docLink);\n",
              "      }\n",
              "    </script>\n",
              "  </div>\n",
              "\n",
              "\n",
              "<div id=\"df-3724968c-4156-4472-bf1b-ebe189eb04ac\">\n",
              "  <button class=\"colab-df-quickchart\" onclick=\"quickchart('df-3724968c-4156-4472-bf1b-ebe189eb04ac')\"\n",
              "            title=\"Suggest charts\"\n",
              "            style=\"display:none;\">\n",
              "\n",
              "<svg xmlns=\"http://www.w3.org/2000/svg\" height=\"24px\"viewBox=\"0 0 24 24\"\n",
              "     width=\"24px\">\n",
              "    <g>\n",
              "        <path d=\"M19 3H5c-1.1 0-2 .9-2 2v14c0 1.1.9 2 2 2h14c1.1 0 2-.9 2-2V5c0-1.1-.9-2-2-2zM9 17H7v-7h2v7zm4 0h-2V7h2v10zm4 0h-2v-4h2v4z\"/>\n",
              "    </g>\n",
              "</svg>\n",
              "  </button>\n",
              "\n",
              "<style>\n",
              "  .colab-df-quickchart {\n",
              "      --bg-color: #E8F0FE;\n",
              "      --fill-color: #1967D2;\n",
              "      --hover-bg-color: #E2EBFA;\n",
              "      --hover-fill-color: #174EA6;\n",
              "      --disabled-fill-color: #AAA;\n",
              "      --disabled-bg-color: #DDD;\n",
              "  }\n",
              "\n",
              "  [theme=dark] .colab-df-quickchart {\n",
              "      --bg-color: #3B4455;\n",
              "      --fill-color: #D2E3FC;\n",
              "      --hover-bg-color: #434B5C;\n",
              "      --hover-fill-color: #FFFFFF;\n",
              "      --disabled-bg-color: #3B4455;\n",
              "      --disabled-fill-color: #666;\n",
              "  }\n",
              "\n",
              "  .colab-df-quickchart {\n",
              "    background-color: var(--bg-color);\n",
              "    border: none;\n",
              "    border-radius: 50%;\n",
              "    cursor: pointer;\n",
              "    display: none;\n",
              "    fill: var(--fill-color);\n",
              "    height: 32px;\n",
              "    padding: 0;\n",
              "    width: 32px;\n",
              "  }\n",
              "\n",
              "  .colab-df-quickchart:hover {\n",
              "    background-color: var(--hover-bg-color);\n",
              "    box-shadow: 0 1px 2px rgba(60, 64, 67, 0.3), 0 1px 3px 1px rgba(60, 64, 67, 0.15);\n",
              "    fill: var(--button-hover-fill-color);\n",
              "  }\n",
              "\n",
              "  .colab-df-quickchart-complete:disabled,\n",
              "  .colab-df-quickchart-complete:disabled:hover {\n",
              "    background-color: var(--disabled-bg-color);\n",
              "    fill: var(--disabled-fill-color);\n",
              "    box-shadow: none;\n",
              "  }\n",
              "\n",
              "  .colab-df-spinner {\n",
              "    border: 2px solid var(--fill-color);\n",
              "    border-color: transparent;\n",
              "    border-bottom-color: var(--fill-color);\n",
              "    animation:\n",
              "      spin 1s steps(1) infinite;\n",
              "  }\n",
              "\n",
              "  @keyframes spin {\n",
              "    0% {\n",
              "      border-color: transparent;\n",
              "      border-bottom-color: var(--fill-color);\n",
              "      border-left-color: var(--fill-color);\n",
              "    }\n",
              "    20% {\n",
              "      border-color: transparent;\n",
              "      border-left-color: var(--fill-color);\n",
              "      border-top-color: var(--fill-color);\n",
              "    }\n",
              "    30% {\n",
              "      border-color: transparent;\n",
              "      border-left-color: var(--fill-color);\n",
              "      border-top-color: var(--fill-color);\n",
              "      border-right-color: var(--fill-color);\n",
              "    }\n",
              "    40% {\n",
              "      border-color: transparent;\n",
              "      border-right-color: var(--fill-color);\n",
              "      border-top-color: var(--fill-color);\n",
              "    }\n",
              "    60% {\n",
              "      border-color: transparent;\n",
              "      border-right-color: var(--fill-color);\n",
              "    }\n",
              "    80% {\n",
              "      border-color: transparent;\n",
              "      border-right-color: var(--fill-color);\n",
              "      border-bottom-color: var(--fill-color);\n",
              "    }\n",
              "    90% {\n",
              "      border-color: transparent;\n",
              "      border-bottom-color: var(--fill-color);\n",
              "    }\n",
              "  }\n",
              "</style>\n",
              "\n",
              "  <script>\n",
              "    async function quickchart(key) {\n",
              "      const quickchartButtonEl =\n",
              "        document.querySelector('#' + key + ' button');\n",
              "      quickchartButtonEl.disabled = true;  // To prevent multiple clicks.\n",
              "      quickchartButtonEl.classList.add('colab-df-spinner');\n",
              "      try {\n",
              "        const charts = await google.colab.kernel.invokeFunction(\n",
              "            'suggestCharts', [key], {});\n",
              "      } catch (error) {\n",
              "        console.error('Error during call to suggestCharts:', error);\n",
              "      }\n",
              "      quickchartButtonEl.classList.remove('colab-df-spinner');\n",
              "      quickchartButtonEl.classList.add('colab-df-quickchart-complete');\n",
              "    }\n",
              "    (() => {\n",
              "      let quickchartButtonEl =\n",
              "        document.querySelector('#df-3724968c-4156-4472-bf1b-ebe189eb04ac button');\n",
              "      quickchartButtonEl.style.display =\n",
              "        google.colab.kernel.accessAllowed ? 'block' : 'none';\n",
              "    })();\n",
              "  </script>\n",
              "</div>\n",
              "\n",
              "  <div id=\"id_af668dae-37cb-4966-bc90-b0126c933363\">\n",
              "    <style>\n",
              "      .colab-df-generate {\n",
              "        background-color: #E8F0FE;\n",
              "        border: none;\n",
              "        border-radius: 50%;\n",
              "        cursor: pointer;\n",
              "        display: none;\n",
              "        fill: #1967D2;\n",
              "        height: 32px;\n",
              "        padding: 0 0 0 0;\n",
              "        width: 32px;\n",
              "      }\n",
              "\n",
              "      .colab-df-generate:hover {\n",
              "        background-color: #E2EBFA;\n",
              "        box-shadow: 0px 1px 2px rgba(60, 64, 67, 0.3), 0px 1px 3px 1px rgba(60, 64, 67, 0.15);\n",
              "        fill: #174EA6;\n",
              "      }\n",
              "\n",
              "      [theme=dark] .colab-df-generate {\n",
              "        background-color: #3B4455;\n",
              "        fill: #D2E3FC;\n",
              "      }\n",
              "\n",
              "      [theme=dark] .colab-df-generate:hover {\n",
              "        background-color: #434B5C;\n",
              "        box-shadow: 0px 1px 3px 1px rgba(0, 0, 0, 0.15);\n",
              "        filter: drop-shadow(0px 1px 2px rgba(0, 0, 0, 0.3));\n",
              "        fill: #FFFFFF;\n",
              "      }\n",
              "    </style>\n",
              "    <button class=\"colab-df-generate\" onclick=\"generateWithVariable('movies_features')\"\n",
              "            title=\"Generate code using this dataframe.\"\n",
              "            style=\"display:none;\">\n",
              "\n",
              "  <svg xmlns=\"http://www.w3.org/2000/svg\" height=\"24px\"viewBox=\"0 0 24 24\"\n",
              "       width=\"24px\">\n",
              "    <path d=\"M7,19H8.4L18.45,9,17,7.55,7,17.6ZM5,21V16.75L18.45,3.32a2,2,0,0,1,2.83,0l1.4,1.43a1.91,1.91,0,0,1,.58,1.4,1.91,1.91,0,0,1-.58,1.4L9.25,21ZM18.45,9,17,7.55Zm-12,3A5.31,5.31,0,0,0,4.9,8.1,5.31,5.31,0,0,0,1,6.5,5.31,5.31,0,0,0,4.9,4.9,5.31,5.31,0,0,0,6.5,1,5.31,5.31,0,0,0,8.1,4.9,5.31,5.31,0,0,0,12,6.5,5.46,5.46,0,0,0,6.5,12Z\"/>\n",
              "  </svg>\n",
              "    </button>\n",
              "    <script>\n",
              "      (() => {\n",
              "      const buttonEl =\n",
              "        document.querySelector('#id_af668dae-37cb-4966-bc90-b0126c933363 button.colab-df-generate');\n",
              "      buttonEl.style.display =\n",
              "        google.colab.kernel.accessAllowed ? 'block' : 'none';\n",
              "\n",
              "      buttonEl.onclick = () => {\n",
              "        google.colab.notebook.generateWithVariable('movies_features');\n",
              "      }\n",
              "      })();\n",
              "    </script>\n",
              "  </div>\n",
              "\n",
              "    </div>\n",
              "  </div>\n"
            ],
            "application/vnd.google.colaboratory.intrinsic+json": {
              "type": "dataframe",
              "variable_name": "movies_features"
            }
          },
          "metadata": {},
          "execution_count": 21
        }
      ]
    },
    {
      "cell_type": "code",
      "source": [
        "X = movies_features['Movie_ID'].astype(str) + ' ' + \\\n",
        "    movies_features['Movie_Title'] + ' ' + \\\n",
        "    movies_features['Movie_Genre'] + ' ' + \\\n",
        "    movies_features['Movie_Language'] + ' ' + \\\n",
        "    movies_features['Movie_Budget'].astype(str) + ' ' + \\\n",
        "    movies_features['Movie_Popularity'].astype(str) + ' ' + \\\n",
        "    movies_features['Movie_Release_Date'].astype(str) + ' ' + \\\n",
        "    movies_features['Movie_Revenue'].astype(str) + ' ' + \\\n",
        "    movies_features['Movie_Runtime'].astype(str) + ' ' + \\\n",
        "    movies_features['Movie_Vote'].astype(str) + ' ' + \\\n",
        "    movies_features['Movie_Vote_Count'].astype(str) + ' ' + \\\n",
        "    movies_features['Movie_Homepage'].fillna('') + ' ' + \\\n",
        "    movies_features['Movie_Keywords'] + ' ' + \\\n",
        "    movies_features['Movie_Overview'] + ' ' + \\\n",
        "    movies_features['Movie_Production_House'] + ' ' + \\\n",
        "    movies_features['Movie_Production_Country'] + ' ' + \\\n",
        "    movies_features['Movie_Spoken_Language'] + ' ' + \\\n",
        "    movies_features['Movie_Tagline'] + ' ' + \\\n",
        "    movies_features['Movie_Cast'] + ' ' + \\\n",
        "    movies_features['Movie_Crew'] + ' ' + \\\n",
        "    movies_features['Movie_Director']"
      ],
      "metadata": {
        "id": "tCUqhXSPsa-Z"
      },
      "execution_count": 53,
      "outputs": []
    },
    {
      "cell_type": "code",
      "source": [
        "X"
      ],
      "metadata": {
        "colab": {
          "base_uri": "https://localhost:8080/",
          "height": 458
        },
        "id": "vAdh40Q3yr3Y",
        "outputId": "66e9779a-0d10-4a9c-d06c-8de4277bd8a3"
      },
      "execution_count": 54,
      "outputs": [
        {
          "output_type": "execute_result",
          "data": {
            "text/plain": [
              "0       1 Four Rooms Crime Comedy en 4000000 22.87623 ...\n",
              "1       2 Star Wars Adventure Action Science Fiction e...\n",
              "2       3 Finding Nemo Animation Family en 94000000 85...\n",
              "3       4 Forrest Gump Comedy Drama Romance en 5500000...\n",
              "4       5 American Beauty Drama en 15000000 80.878605 ...\n",
              "                              ...                        \n",
              "4755    4784 Midnight Cabaret Horror en 0 0.001389 01-...\n",
              "4756    4785 Growing Up Smith Comedy Family Drama en 0...\n",
              "4757    4786 8 Days Thriller Drama en 0 0.015295 15-06...\n",
              "4758    4787 Running Forever Family en 0 0.028756 27-1...\n",
              "4759    4788 To Be Frank, Sinatra at 100 Documentary e...\n",
              "Length: 4760, dtype: object"
            ],
            "text/html": [
              "<div>\n",
              "<style scoped>\n",
              "    .dataframe tbody tr th:only-of-type {\n",
              "        vertical-align: middle;\n",
              "    }\n",
              "\n",
              "    .dataframe tbody tr th {\n",
              "        vertical-align: top;\n",
              "    }\n",
              "\n",
              "    .dataframe thead th {\n",
              "        text-align: right;\n",
              "    }\n",
              "</style>\n",
              "<table border=\"1\" class=\"dataframe\">\n",
              "  <thead>\n",
              "    <tr style=\"text-align: right;\">\n",
              "      <th></th>\n",
              "      <th>0</th>\n",
              "    </tr>\n",
              "  </thead>\n",
              "  <tbody>\n",
              "    <tr>\n",
              "      <th>0</th>\n",
              "      <td>1 Four Rooms Crime Comedy en 4000000 22.87623 ...</td>\n",
              "    </tr>\n",
              "    <tr>\n",
              "      <th>1</th>\n",
              "      <td>2 Star Wars Adventure Action Science Fiction e...</td>\n",
              "    </tr>\n",
              "    <tr>\n",
              "      <th>2</th>\n",
              "      <td>3 Finding Nemo Animation Family en 94000000 85...</td>\n",
              "    </tr>\n",
              "    <tr>\n",
              "      <th>3</th>\n",
              "      <td>4 Forrest Gump Comedy Drama Romance en 5500000...</td>\n",
              "    </tr>\n",
              "    <tr>\n",
              "      <th>4</th>\n",
              "      <td>5 American Beauty Drama en 15000000 80.878605 ...</td>\n",
              "    </tr>\n",
              "    <tr>\n",
              "      <th>...</th>\n",
              "      <td>...</td>\n",
              "    </tr>\n",
              "    <tr>\n",
              "      <th>4755</th>\n",
              "      <td>4784 Midnight Cabaret Horror en 0 0.001389 01-...</td>\n",
              "    </tr>\n",
              "    <tr>\n",
              "      <th>4756</th>\n",
              "      <td>4785 Growing Up Smith Comedy Family Drama en 0...</td>\n",
              "    </tr>\n",
              "    <tr>\n",
              "      <th>4757</th>\n",
              "      <td>4786 8 Days Thriller Drama en 0 0.015295 15-06...</td>\n",
              "    </tr>\n",
              "    <tr>\n",
              "      <th>4758</th>\n",
              "      <td>4787 Running Forever Family en 0 0.028756 27-1...</td>\n",
              "    </tr>\n",
              "    <tr>\n",
              "      <th>4759</th>\n",
              "      <td>4788 To Be Frank, Sinatra at 100 Documentary e...</td>\n",
              "    </tr>\n",
              "  </tbody>\n",
              "</table>\n",
              "<p>4760 rows × 1 columns</p>\n",
              "</div><br><label><b>dtype:</b> object</label>"
            ]
          },
          "metadata": {},
          "execution_count": 54
        }
      ]
    },
    {
      "cell_type": "code",
      "source": [
        "X.shape"
      ],
      "metadata": {
        "colab": {
          "base_uri": "https://localhost:8080/"
        },
        "id": "913cJ98FyuQG",
        "outputId": "9d6c6d00-df82-47a3-bac7-9f1c346a3dc5"
      },
      "execution_count": 55,
      "outputs": [
        {
          "output_type": "execute_result",
          "data": {
            "text/plain": [
              "(4760,)"
            ]
          },
          "metadata": {},
          "execution_count": 55
        }
      ]
    },
    {
      "cell_type": "markdown",
      "source": [
        "TRANSFORMING TEXT DATA INTO NUMERICAL VALUES USING TF-IDF"
      ],
      "metadata": {
        "id": "rKNa6oIOsqKN"
      }
    },
    {
      "cell_type": "code",
      "source": [
        "from sklearn.feature_extraction.text import TfidfVectorizer"
      ],
      "metadata": {
        "id": "fgB5lsAFuci2"
      },
      "execution_count": 37,
      "outputs": []
    },
    {
      "cell_type": "code",
      "source": [
        "tfidf = TfidfVectorizer()"
      ],
      "metadata": {
        "id": "QlYIrjL1uhNn"
      },
      "execution_count": 38,
      "outputs": []
    },
    {
      "cell_type": "code",
      "source": [
        "X = tfidf.fit_transform(X)"
      ],
      "metadata": {
        "id": "w110JSP4yxih"
      },
      "execution_count": 56,
      "outputs": []
    },
    {
      "cell_type": "code",
      "source": [
        "X.shape"
      ],
      "metadata": {
        "colab": {
          "base_uri": "https://localhost:8080/"
        },
        "id": "zTwy3Nz0y1-t",
        "outputId": "5df25287-3036-4e62-977c-22d13fd922b2"
      },
      "execution_count": 57,
      "outputs": [
        {
          "output_type": "execute_result",
          "data": {
            "text/plain": [
              "(4760, 255429)"
            ]
          },
          "metadata": {},
          "execution_count": 57
        }
      ]
    },
    {
      "cell_type": "code",
      "source": [
        "print(X)"
      ],
      "metadata": {
        "colab": {
          "base_uri": "https://localhost:8080/"
        },
        "id": "e_kqwOUwy-qB",
        "outputId": "9c6b2a88-7b70-4c21-9616-b966da401700"
      },
      "execution_count": 58,
      "outputs": [
        {
          "output_type": "stream",
          "name": "stdout",
          "text": [
            "  (0, 39773)\t0.03101695310296635\n",
            "  (0, 182764)\t0.03101695310296635\n",
            "  (0, 247588)\t0.017722355674573993\n",
            "  (0, 246241)\t0.015292920200541616\n",
            "  (0, 249959)\t0.03101695310296635\n",
            "  (0, 222051)\t0.015092032679486738\n",
            "  (0, 39772)\t0.03101695310296635\n",
            "  (0, 182755)\t0.03101695310296635\n",
            "  (0, 214411)\t0.01014827259023363\n",
            "  (0, 216067)\t0.02777816866371096\n",
            "  (0, 208338)\t0.006770484993660075\n",
            "  (0, 39764)\t0.03101695310296635\n",
            "  (0, 182727)\t0.03101695310296635\n",
            "  (0, 195702)\t0.013825451096698834\n",
            "  (0, 218821)\t0.025700537364316493\n",
            "  (0, 208522)\t0.013575221090849925\n",
            "  (0, 39763)\t0.03101695310296635\n",
            "  (0, 182724)\t0.03101695310296635\n",
            "  (0, 215319)\t0.010109904029028302\n",
            "  (0, 244368)\t0.010260960424607814\n",
            "  (0, 39762)\t0.03101695310296635\n",
            "  (0, 182723)\t0.03101695310296635\n",
            "  (0, 211671)\t0.014021872126565431\n",
            "  (0, 208785)\t0.03101695310296635\n",
            "  (0, 228696)\t0.022089338377195348\n",
            "  :\t:\n",
            "  (4759, 226196)\t0.12635808187523243\n",
            "  (4759, 200149)\t0.22639123498878166\n",
            "  (4759, 212225)\t0.059654856191235894\n",
            "  (4759, 198327)\t0.0717896643683145\n",
            "  (4759, 214757)\t0.1673632564742875\n",
            "  (4759, 224116)\t0.076333025809061\n",
            "  (4759, 215789)\t0.07759598194145131\n",
            "  (4759, 199811)\t0.0738386775771935\n",
            "  (4759, 243875)\t0.1800808656014322\n",
            "  (4759, 248914)\t0.08894926183359217\n",
            "  (4759, 560)\t0.10917763919303784\n",
            "  (4759, 232170)\t0.03238221481568469\n",
            "  (4759, 207336)\t0.025842921311804993\n",
            "  (4759, 209790)\t0.025842921311804993\n",
            "  (4759, 209785)\t0.02585377973598432\n",
            "  (4759, 209088)\t0.025842921311804993\n",
            "  (4759, 215880)\t0.025842921311804993\n",
            "  (4759, 251265)\t0.028954627287858355\n",
            "  (4759, 221758)\t0.02660868981948978\n",
            "  (4759, 220654)\t0.05164243636255363\n",
            "  (4759, 232449)\t0.07738234484811587\n",
            "  (4759, 248728)\t0.03173282340035114\n",
            "  (4759, 222549)\t0.025842921311804993\n",
            "  (4759, 5755)\t0.13686771064423336\n",
            "  (4759, 212013)\t0.02679951608191837\n"
          ]
        }
      ]
    },
    {
      "cell_type": "markdown",
      "source": [
        "USING COSINE SIMILARITY METHOD"
      ],
      "metadata": {
        "id": "weLCZ78czFaf"
      }
    },
    {
      "cell_type": "code",
      "source": [
        "from sklearn.metrics.pairwise import cosine_similarity"
      ],
      "metadata": {
        "id": "IDOmuhPK0i7_"
      },
      "execution_count": 59,
      "outputs": []
    },
    {
      "cell_type": "code",
      "source": [
        "Similarity_Score = cosine_similarity(X)"
      ],
      "metadata": {
        "id": "wslI1j3d0nFc"
      },
      "execution_count": 60,
      "outputs": []
    },
    {
      "cell_type": "code",
      "source": [
        "Similarity_Score"
      ],
      "metadata": {
        "colab": {
          "base_uri": "https://localhost:8080/"
        },
        "id": "nCIOAdIf0sED",
        "outputId": "4524048b-fa5c-495f-e582-b7d7755d0d21"
      },
      "execution_count": 61,
      "outputs": [
        {
          "output_type": "execute_result",
          "data": {
            "text/plain": [
              "array([[1.        , 0.42722969, 0.63484257, ..., 0.12733163, 0.0297072 ,\n",
              "        0.07799851],\n",
              "       [0.42722969, 1.        , 0.43098243, ..., 0.09185386, 0.05379996,\n",
              "        0.05266296],\n",
              "       [0.63484257, 0.43098243, 1.        , ..., 0.11909758, 0.03147332,\n",
              "        0.07674274],\n",
              "       ...,\n",
              "       [0.12733163, 0.09185386, 0.11909758, ..., 1.        , 0.06125427,\n",
              "        0.02133731],\n",
              "       [0.0297072 , 0.05379996, 0.03147332, ..., 0.06125427, 1.        ,\n",
              "        0.02415344],\n",
              "       [0.07799851, 0.05266296, 0.07674274, ..., 0.02133731, 0.02415344,\n",
              "        1.        ]])"
            ]
          },
          "metadata": {},
          "execution_count": 61
        }
      ]
    },
    {
      "cell_type": "code",
      "source": [
        "Similarity_Score.shape"
      ],
      "metadata": {
        "colab": {
          "base_uri": "https://localhost:8080/"
        },
        "id": "ctjis6160zMn",
        "outputId": "3f0962a7-52d6-4926-fd98-e57ee2c82ed3"
      },
      "execution_count": 62,
      "outputs": [
        {
          "output_type": "execute_result",
          "data": {
            "text/plain": [
              "(4760, 4760)"
            ]
          },
          "metadata": {},
          "execution_count": 62
        }
      ]
    },
    {
      "cell_type": "markdown",
      "source": [
        "GETTING MOVIE NAME AS USER INPUT"
      ],
      "metadata": {
        "id": "shocRK8806Ix"
      }
    },
    {
      "cell_type": "code",
      "source": [
        "Fav_movie_name = input('Enter your favourite movie name: ')"
      ],
      "metadata": {
        "colab": {
          "base_uri": "https://localhost:8080/"
        },
        "id": "2OOm2ryM0-K-",
        "outputId": "32f412c5-29c3-45dc-921c-6946c6995c11"
      },
      "execution_count": 64,
      "outputs": [
        {
          "name": "stdout",
          "output_type": "stream",
          "text": [
            "Enter your favourite movie name: avtaar\n"
          ]
        }
      ]
    },
    {
      "cell_type": "code",
      "source": [
        "movies_title_list = movies_features['Movie_Title'].tolist()"
      ],
      "metadata": {
        "id": "dUkNikNZ1mKT"
      },
      "execution_count": 65,
      "outputs": []
    },
    {
      "cell_type": "code",
      "source": [
        "import difflib"
      ],
      "metadata": {
        "id": "YVmKsXkl2Ju4"
      },
      "execution_count": 66,
      "outputs": []
    },
    {
      "cell_type": "code",
      "source": [
        "Movie_Recommendation = difflib.get_close_matches(Fav_movie_name, movies_title_list)\n",
        "print(Movie_Recommendation)"
      ],
      "metadata": {
        "colab": {
          "base_uri": "https://localhost:8080/"
        },
        "id": "ezg5r9sN20BY",
        "outputId": "4b103d6f-a7aa-4cd9-ee21-18307acf8a97"
      },
      "execution_count": 67,
      "outputs": [
        {
          "output_type": "stream",
          "name": "stdout",
          "text": [
            "['Avatar', 'Gattaca']\n"
          ]
        }
      ]
    },
    {
      "cell_type": "code",
      "source": [
        "Close_Match = Movie_Recommendation[0]\n",
        "print(Close_Match)"
      ],
      "metadata": {
        "colab": {
          "base_uri": "https://localhost:8080/"
        },
        "id": "h8uAljhY3B_E",
        "outputId": "ac3c681f-42a3-47b0-d26f-1ff7c4fcaedc"
      },
      "execution_count": 68,
      "outputs": [
        {
          "output_type": "stream",
          "name": "stdout",
          "text": [
            "Avatar\n"
          ]
        }
      ]
    },
    {
      "cell_type": "code",
      "source": [
        "Index_of_Close_Match_Movie = movies_features[movies_features.Movie_Title == Close_Match]['Movie_ID'].values[0]\n",
        "print(Index_of_Close_Match_Movie)"
      ],
      "metadata": {
        "colab": {
          "base_uri": "https://localhost:8080/"
        },
        "id": "f6-xb0m03RUC",
        "outputId": "4c7de258-8d06-405a-ecd0-d62700b8b115"
      },
      "execution_count": 69,
      "outputs": [
        {
          "output_type": "stream",
          "name": "stdout",
          "text": [
            "2692\n"
          ]
        }
      ]
    },
    {
      "cell_type": "code",
      "source": [
        "Recommendation_Score = list(enumerate(Similarity_Score[Index_of_Close_Match_Movie]))\n",
        "print(Recommendation_Score)"
      ],
      "metadata": {
        "colab": {
          "base_uri": "https://localhost:8080/"
        },
        "id": "CFCCtSKv3h7S",
        "outputId": "02c05a16-d6e7-46d0-87b8-48f3578f582d"
      },
      "execution_count": 70,
      "outputs": [
        {
          "output_type": "stream",
          "name": "stdout",
          "text": [
            "[(0, 0.4658224656245274), (1, 0.3233312066354792), (2, 0.4407658145047404), (3, 0.4923496271167072), (4, 0.4921851727634547), (5, 0.4214197308363391), (6, 0.5019601303660641), (7, 0.28107045442673856), (8, 0.27635979287361695), (9, 0.4951859985262162), (10, 0.5073972414752594), (11, 0.2199919542099858), (12, 0.4062852087601903), (13, 0.41278414414117853), (14, 0.39984406467523126), (15, 0.29809540250676786), (16, 0.3711753231735593), (17, 0.32578554544394406), (18, 0.3951604764448597), (19, 0.28051853735661736), (20, 0.4787909784504719), (21, 0.2818144129879429), (22, 0.3568146353075764), (23, 0.46358173838989264), (24, 0.46132473502745264), (25, 0.2919167732723996), (26, 0.47386518602756084), (27, 0.5134975411762653), (28, 0.32739412146051533), (29, 0.2505006950581084), (30, 0.30115613549954035), (31, 0.3832057538040361), (32, 0.2590487520846049), (33, 0.22758980550283242), (34, 0.30781260205175126), (35, 0.42689638963670395), (36, 0.3662123715551717), (37, 0.42582805730930817), (38, 0.26988340675385186), (39, 0.48990361868569016), (40, 0.35508912362143313), (41, 0.48426177447984464), (42, 0.23349329570095514), (43, 0.41600439050512106), (44, 0.35922123033445247), (45, 0.4262231767101533), (46, 0.45419439239020765), (47, 0.4425011960418202), (48, 0.40655240993459796), (49, 0.2154121929442893), (50, 0.47764863461745527), (51, 0.4015658091391642), (52, 0.3573790837615834), (53, 0.49137874573408574), (54, 0.356186470907523), (55, 0.3915599906644023), (56, 0.36569244196925277), (57, 0.33373392788240347), (58, 0.31299710043953016), (59, 0.36692222736822544), (60, 0.4272580711467602), (61, 0.3983172479773012), (62, 0.3917815487292539), (63, 0.24016676572934167), (64, 0.2572375781159303), (65, 0.3116406616221815), (66, 0.3826284056547078), (67, 0.2601875665338804), (68, 0.47777590393581937), (69, 0.24812872566782096), (70, 0.502491079964816), (71, 0.28124363254501805), (72, 0.4878138382796055), (73, 0.35387954062869115), (74, 0.4599251764580733), (75, 0.26811323592707764), (76, 0.47507961734895127), (77, 0.38422114523170586), (78, 0.22168229201311193), (79, 0.2273759950812338), (80, 0.2590633915126142), (81, 0.4497656457069436), (82, 0.2446400815990751), (83, 0.4914548781361197), (84, 0.5099778900509118), (85, 0.43690260385729646), (86, 0.19270836816523698), (87, 0.27954376679767584), (88, 0.4699923557390696), (89, 0.424309253445953), (90, 0.2809943357340012), (91, 0.31390543394823145), (92, 0.46163917084311223), (93, 0.29208933249545227), (94, 0.3148520437523699), (95, 0.30740226995170755), (96, 0.19742665962979344), (97, 0.3947126150810235), (98, 0.23426186227812837), (99, 0.2514051691421936), (100, 0.3206841970216646), (101, 0.26534581753076886), (102, 0.43260619179579696), (103, 0.3020614060260575), (104, 0.39629112899527746), (105, 0.33665542453502795), (106, 0.22830107114422965), (107, 0.42608995441441627), (108, 0.2620455797186179), (109, 0.4146103109758603), (110, 0.41876592721745676), (111, 0.4377519230288073), (112, 0.3158931429109381), (113, 0.2506922632805817), (114, 0.2626639875054541), (115, 0.1674186681059327), (116, 0.4454079237779205), (117, 0.23122555605941386), (118, 0.3021788641934402), (119, 0.4057183166648601), (120, 0.2708856864767153), (121, 0.2958414961533129), (122, 0.2649564850154926), (123, 0.5004417483294694), (124, 0.4708761848453376), (125, 0.4662397911112183), (126, 0.46894578032569334), (127, 0.3395513403523145), (128, 0.4616915452912957), (129, 0.3358808659026233), (130, 0.39592495877451145), (131, 0.3827930176582697), (132, 0.37018166435556127), (133, 0.1588017889027035), (134, 0.21111327579121203), (135, 0.5028390086467959), (136, 0.4826585857404873), (137, 0.43919499627919173), (138, 0.242235042190868), (139, 0.2506128866893425), (140, 0.2033907625272417), (141, 0.4890039429187583), (142, 0.34078459447049547), (143, 0.5118375073682788), (144, 0.3979258500197971), (145, 0.4103471469051046), (146, 0.22338950679470784), (147, 0.25571034710785656), (148, 0.29312990558797425), (149, 0.21869262907131612), (150, 0.47253244511684783), (151, 0.47328002250313683), (152, 0.4845808226517482), (153, 0.17671709988938467), (154, 0.4210992090167063), (155, 0.264340735006449), (156, 0.37833842671814005), (157, 0.2620496280403975), (158, 0.2553782807855859), (159, 0.24242106895127113), (160, 0.3642158748697719), (161, 0.3108604693469048), (162, 0.25461348200997574), (163, 0.2576541583144321), (164, 0.4478404739500526), (165, 0.3766459792649263), (166, 0.33967705678240007), (167, 0.300303815823695), (168, 0.3338383038623615), (169, 0.3989441552822046), (170, 0.4967384403816497), (171, 0.48677095514310387), (172, 0.33595246402108564), (173, 0.20452433677110288), (174, 0.3145492547691926), (175, 0.3943633030442896), (176, 0.29410091900820584), (177, 0.4080602480800864), (178, 0.289743477635516), (179, 0.339458050876267), (180, 0.28302760809999317), (181, 0.48703041640505457), (182, 0.30741371841971415), (183, 0.395052749960367), (184, 0.37852860093770874), (185, 0.41532485799794544), (186, 0.3390666136482487), (187, 0.4071646812593868), (188, 0.2673676829172719), (189, 0.5062050009864143), (190, 0.42901321630170247), (191, 0.4331461255825704), (192, 0.22154242099580773), (193, 0.44460489355462957), (194, 0.24668469335003457), (195, 0.2754396356800431), (196, 0.49055664435892804), (197, 0.23661921895370555), (198, 0.2172919396695369), (199, 0.22251951025835212), (200, 0.19999092225229675), (201, 0.25689643631665665), (202, 0.2568840739622443), (203, 0.42833441279317835), (204, 0.3265571303448441), (205, 0.28542733955888944), (206, 0.42090082341757), (207, 0.4370322730339297), (208, 0.36046206950268556), (209, 0.3525698066965009), (210, 0.16597185667468106), (211, 0.3085598122594272), (212, 0.23427028322833507), (213, 0.4013667756935691), (214, 0.284111634569485), (215, 0.45513599051274), (216, 0.22723586245387398), (217, 0.30658018615431815), (218, 0.2954513780138874), (219, 0.3556282171446881), (220, 0.43390741920635784), (221, 0.3124286571425092), (222, 0.3350753601919821), (223, 0.2971568221576136), (224, 0.24573226660651046), (225, 0.46999433136853963), (226, 0.2728601194585606), (227, 0.34673442056708853), (228, 0.3231380885067685), (229, 0.48805645913914286), (230, 0.4962569153530121), (231, 0.4981349091009859), (232, 0.41690084937806765), (233, 0.47387188083372767), (234, 0.4158651853926473), (235, 0.487314716162647), (236, 0.22359533566362452), (237, 0.3511325723632729), (238, 0.2875441532608293), (239, 0.3650603546465537), (240, 0.3498142013995661), (241, 0.3108271264655639), (242, 0.45544297332577266), (243, 0.35766046292284565), (244, 0.48484473951587154), (245, 0.45064562896543264), (246, 0.39053079524908796), (247, 0.5060976002200905), (248, 0.3611034003383134), (249, 0.3015326343448347), (250, 0.48250048481617724), (251, 0.24183371187813174), (252, 0.2773384252327135), (253, 0.4730885045979132), (254, 0.3697149423769353), (255, 0.44692945802385897), (256, 0.35000813005873915), (257, 0.3200221906557816), (258, 0.44111694756407516), (259, 0.4460503902291081), (260, 0.2811683964779714), (261, 0.34898210033723676), (262, 0.3094681091754758), (263, 0.49071875395113373), (264, 0.5049564825381678), (265, 0.3474522067907626), (266, 0.31645455627118924), (267, 0.4122155759202703), (268, 0.4815512658079428), (269, 0.2998145599636234), (270, 0.20424277647266662), (271, 0.44215821558406476), (272, 0.2956774702309296), (273, 0.3139477935750654), (274, 0.41777349624044857), (275, 0.3015478398751779), (276, 0.44221970430687324), (277, 0.3059894069939628), (278, 0.48351502416876635), (279, 0.30055795821108217), (280, 0.4968817414712925), (281, 0.33713397046754556), (282, 0.2903833118061602), (283, 0.5015318577516981), (284, 0.23335887710651507), (285, 0.2572396100019831), (286, 0.49294964222762105), (287, 0.21289816726892005), (288, 0.35359632793933155), (289, 0.245341167461941), (290, 0.27407378579934566), (291, 0.2954505124594876), (292, 0.4770529828272282), (293, 0.36903132807318806), (294, 0.20352947871428537), (295, 0.2412249252410041), (296, 0.22949267759743938), (297, 0.5027509227575329), (298, 0.5018647089077872), (299, 0.5048437396891644), (300, 0.38277911541279075), (301, 0.3526117952748306), (302, 0.49396851642364153), (303, 0.3990550198400385), (304, 0.41878865445965585), (305, 0.31563278994756316), (306, 0.3299091560785447), (307, 0.5109599046977086), (308, 0.4686749493661417), (309, 0.2406021418928478), (310, 0.3078940074009654), (311, 0.14195252434853406), (312, 0.48498776680022876), (313, 0.2975367392185613), (314, 0.29250804457121554), (315, 0.2901563749572996), (316, 0.30385175384028235), (317, 0.347729085137624), (318, 0.4273574499292196), (319, 0.18776295661861767), (320, 0.2886423128477254), (321, 0.30099351466151664), (322, 0.30933142614289244), (323, 0.41843312014016343), (324, 0.20222819781829274), (325, 0.2522958844620786), (326, 0.165916223240576), (327, 0.31220961092782185), (328, 0.4047454697956883), (329, 0.478917418466284), (330, 0.3650637750979058), (331, 0.2963910710552969), (332, 0.4714058029891307), (333, 0.41915745242033725), (334, 0.4419588394224461), (335, 0.3574932048335582), (336, 0.2250207856578954), (337, 0.22830453835335948), (338, 0.32355746232616095), (339, 0.3011842894792413), (340, 0.36532857909178834), (341, 0.4640863734545992), (342, 0.46431937241105786), (343, 0.4478641198030522), (344, 0.4096749673649348), (345, 0.24785652327184776), (346, 0.44938132460978275), (347, 0.42217079763446286), (348, 0.37445667244925945), (349, 0.27886371261715637), (350, 0.3084696992729854), (351, 0.3284451650404179), (352, 0.3767160751815146), (353, 0.38570750924986885), (354, 0.3984708042205887), (355, 0.2637914266231997), (356, 0.21032631853844205), (357, 0.2493722294016294), (358, 0.20256717744450561), (359, 0.2600114810765783), (360, 0.48136322792893527), (361, 0.44312929559020175), (362, 0.44123687550802126), (363, 0.26208086998223934), (364, 0.19824968342153246), (365, 0.42543999057019044), (366, 0.32661918788066246), (367, 0.33006520994748995), (368, 0.34967747009775985), (369, 0.5036424695081548), (370, 0.2643730701641535), (371, 0.47354860783618785), (372, 0.3449980179651927), (373, 0.28463973712664603), (374, 0.231068904037852), (375, 0.3153479013366403), (376, 0.3103809826321311), (377, 0.3013466250851553), (378, 0.37514865230837696), (379, 0.41890424634846646), (380, 0.29549913129060607), (381, 0.28725135497485665), (382, 0.2890160643166668), (383, 0.24214114138428688), (384, 0.46131509518228553), (385, 0.2263127710923979), (386, 0.5053065929779612), (387, 0.48625590790030343), (388, 0.23145080225802442), (389, 0.2578174200242325), (390, 0.33749508407749895), (391, 0.42463049022072136), (392, 0.426031622348997), (393, 0.23929720256993392), (394, 0.28956754048238076), (395, 0.25452794003931845), (396, 0.23907211533025122), (397, 0.3179180657929441), (398, 0.3021289960732387), (399, 0.2863587575087859), (400, 0.26766792400807354), (401, 0.2985085606627955), (402, 0.42812806851038004), (403, 0.22933223143372433), (404, 0.35489858146091197), (405, 0.2891599708346472), (406, 0.15722864907420717), (407, 0.3677050293119308), (408, 0.2974763094356855), (409, 0.36135815259588155), (410, 0.42996129638862446), (411, 0.49702316947911207), (412, 0.29452515351473907), (413, 0.43898730244717055), (414, 0.31666401538833683), (415, 0.2980607635674595), (416, 0.3367099182183946), (417, 0.2997372844724665), (418, 0.4753870008145477), (419, 0.41923471558403785), (420, 0.2790766864762623), (421, 0.18875708498203236), (422, 0.3688166150178439), (423, 0.4085532521748298), (424, 0.48341568036079996), (425, 0.49567861882222775), (426, 0.3626666468625408), (427, 0.3035778837804564), (428, 0.2360213929375762), (429, 0.331182258343571), (430, 0.1612876985397468), (431, 0.2806660234593926), (432, 0.23825737859025584), (433, 0.2742274816374142), (434, 0.20783715583320983), (435, 0.3308306624552525), (436, 0.4221496220100199), (437, 0.15122989228384925), (438, 0.3163916053248337), (439, 0.40685983345663734), (440, 0.2606572224899902), (441, 0.22483409449430664), (442, 0.2394817304341406), (443, 0.4532602971009064), (444, 0.48860832093137013), (445, 0.2853725997450232), (446, 0.3982019307889479), (447, 0.44267892079213633), (448, 0.416111370893521), (449, 0.31111519547142186), (450, 0.2953854310774506), (451, 0.4472777996705725), (452, 0.4176432656205671), (453, 0.13486602962015767), (454, 0.25938214668135984), (455, 0.28543261332706943), (456, 0.3157802656313163), (457, 0.22372934695195554), (458, 0.3064996385733324), (459, 0.3208618391569112), (460, 0.2807692998136806), (461, 0.22302155086634695), (462, 0.15866760154113987), (463, 0.4433161774813675), (464, 0.3312150997720945), (465, 0.33375301245469935), (466, 0.35533171913990597), (467, 0.42854294838063517), (468, 0.3606288842887811), (469, 0.3360591123076112), (470, 0.46994481871519705), (471, 0.20312494054325825), (472, 0.4520506692284979), (473, 0.23824780195577913), (474, 0.2537160061649558), (475, 0.18447445664684864), (476, 0.38796145154209716), (477, 0.26880467726339513), (478, 0.21043650182586665), (479, 0.2701605607068761), (480, 0.37488443107923597), (481, 0.47629209427109315), (482, 0.26051260948592214), (483, 0.3415633798910836), (484, 0.3972854645968051), (485, 0.3383926191108943), (486, 0.26948166331938084), (487, 0.11735464216415219), (488, 0.2753380239883747), (489, 0.3883358499284608), (490, 0.2986165253340904), (491, 0.3110348759672136), (492, 0.4812343342919206), (493, 0.3952765385926258), (494, 0.3894211763882836), (495, 0.2377535600290772), (496, 0.4863205793231701), (497, 0.2456890833300662), (498, 0.1800335170588667), (499, 0.39981862654187966), (500, 0.39370903645446287), (501, 0.1750886219393523), (502, 0.506414848405225), (503, 0.2880159280525575), (504, 0.31029081145642945), (505, 0.2912199149418505), (506, 0.37685844797344886), (507, 0.31542932562474485), (508, 0.22962914818428412), (509, 0.3488394732039556), (510, 0.2059926234720954), (511, 0.40900814777285244), (512, 0.4933577015927666), (513, 0.4286001141562968), (514, 0.4663275397452121), (515, 0.2685127952240578), (516, 0.469230452786231), (517, 0.469708001324595), (518, 0.43145649210309767), (519, 0.4600219756747452), (520, 0.2209840399606926), (521, 0.30377366110036985), (522, 0.34442539081303164), (523, 0.4710501996331929), (524, 0.09718674878945592), (525, 0.23104537762776903), (526, 0.27126294624606895), (527, 0.3048403557037865), (528, 0.30212947914066396), (529, 0.46805491097633967), (530, 0.4090426738452863), (531, 0.1879093936057522), (532, 0.3206992818941151), (533, 0.26891148038162527), (534, 0.28152085971045576), (535, 0.3206202802390611), (536, 0.4656457682808229), (537, 0.44442123527716093), (538, 0.2894717558683312), (539, 0.22593617340224204), (540, 0.4868204366155212), (541, 0.37743041989048826), (542, 0.14960150084119964), (543, 0.2544798382203659), (544, 0.4658761390582579), (545, 0.19873089359397406), (546, 0.24118614459433516), (547, 0.18471669854111525), (548, 0.30324004465081855), (549, 0.17669752301691155), (550, 0.21613924868416262), (551, 0.39136779877116357), (552, 0.289774964765087), (553, 0.2646154197424029), (554, 0.29299626198297596), (555, 0.18864543727299746), (556, 0.41645261361633046), (557, 0.28938330351345004), (558, 0.39725405469948594), (559, 0.1599311106961525), (560, 0.39048963852784724), (561, 0.1899438789270351), (562, 0.3203683814973973), (563, 0.34680430839385556), (564, 0.21556206978469655), (565, 0.32737246330515557), (566, 0.3941483411449252), (567, 0.31161098596370607), (568, 0.2982975793481899), (569, 0.2154276618429749), (570, 0.2914659032939899), (571, 0.2713668128225471), (572, 0.4804328067300601), (573, 0.1309889835885584), (574, 0.10398413214135385), (575, 0.29140216079475106), (576, 0.2792390707587069), (577, 0.21765235835030652), (578, 0.2758559051813917), (579, 0.11667141909963047), (580, 0.28868781639456015), (581, 0.24808414373653553), (582, 0.27933943629575747), (583, 0.5017272637496315), (584, 0.2687151710846179), (585, 0.25591321378934223), (586, 0.40514134876985164), (587, 0.33489692989397374), (588, 0.48938523947583545), (589, 0.3246430002467673), (590, 0.4015345002916552), (591, 0.4136085658470894), (592, 0.3981322635817969), (593, 0.2844137300212597), (594, 0.4810191917072644), (595, 0.19771654889161464), (596, 0.29461859144047137), (597, 0.3084188820068012), (598, 0.2971688117684963), (599, 0.43279409499742016), (600, 0.22949509149855085), (601, 0.26335905656079717), (602, 0.2737341628035251), (603, 0.2494410221146712), (604, 0.35605315011539473), (605, 0.24877402883120253), (606, 0.2618776935743867), (607, 0.2772626852083061), (608, 0.2258029014950717), (609, 0.21838418547259392), (610, 0.26925351788664476), (611, 0.4108239160154569), (612, 0.32017232112115174), (613, 0.3039633856506904), (614, 0.5039225661404859), (615, 0.47692820891680293), (616, 0.2394575871634563), (617, 0.424873127533237), (618, 0.2925146682841338), (619, 0.43912364875183324), (620, 0.3870446688396464), (621, 0.4595053311412684), (622, 0.42429259914867967), (623, 0.41484571847520474), (624, 0.2521484017265883), (625, 0.4887558892653513), (626, 0.40413318549840727), (627, 0.2571093884577059), (628, 0.4632272113085426), (629, 0.12211433333490257), (630, 0.11357973797205205), (631, 0.5121597145468496), (632, 0.26953404595110925), (633, 0.44567561409162176), (634, 0.2929483558780984), (635, 0.37012099344319765), (636, 0.4428726437591793), (637, 0.29742416308737085), (638, 0.2847063289755216), (639, 0.40276067131532484), (640, 0.23543736942948323), (641, 0.20939148152537887), (642, 0.23551354105927072), (643, 0.3554742799068458), (644, 0.17523913407846403), (645, 0.25598018343540757), (646, 0.2927919509903701), (647, 0.27114482746711305), (648, 0.28113512966054205), (649, 0.23185037560228797), (650, 0.494037624288383), (651, 0.4961565327327834), (652, 0.3160580663313273), (653, 0.3247899182297016), (654, 0.3807054785360571), (655, 0.38004897617799593), (656, 0.49898545314149395), (657, 0.43579172295556373), (658, 0.2919421391322527), (659, 0.2789083816023752), (660, 0.2217674771079752), (661, 0.4986554510244885), (662, 0.39193005354724647), (663, 0.40538055487774916), (664, 0.4729587859582302), (665, 0.2611496332249158), (666, 0.22382959039270542), (667, 0.35216181626591125), (668, 0.16660235377547492), (669, 0.3200787011332993), (670, 0.2816038915446232), (671, 0.4700324016942806), (672, 0.22415287572782305), (673, 0.4580613527550907), (674, 0.3849323708523035), (675, 0.4875467735607532), (676, 0.47748658861774257), (677, 0.2906053244193082), (678, 0.4736928315159734), (679, 0.47719796013141247), (680, 0.27624004780560374), (681, 0.3335634552483436), (682, 0.29889202681919974), (683, 0.3036797872079972), (684, 0.29082342893414254), (685, 0.2972704495690299), (686, 0.48076679505126624), (687, 0.263421903122152), (688, 0.25627306092096186), (689, 0.4235919281954783), (690, 0.14781371001214563), (691, 0.18975801507681106), (692, 0.26724434234309874), (693, 0.2503015193418418), (694, 0.3656149577914237), (695, 0.42722288494679844), (696, 0.3590359282619891), (697, 0.20914149263983287), (698, 0.40703945294114824), (699, 0.375951123146453), (700, 0.46734325748080857), (701, 0.3304033590042542), (702, 0.2204732826963914), (703, 0.22709752253494195), (704, 0.17248117541029218), (705, 0.40827867097727427), (706, 0.4722744777594623), (707, 0.28240357466299226), (708, 0.1602165763691845), (709, 0.22824110124099392), (710, 0.488073883344847), (711, 0.19728084136950402), (712, 0.48305621226495166), (713, 0.3688683193854524), (714, 0.4555431065887522), (715, 0.364401528233364), (716, 0.3297882168466463), (717, 0.27680257291731847), (718, 0.30180446901754016), (719, 0.23002451801334517), (720, 0.2908463903103944), (721, 0.3149525132356611), (722, 0.3112600922677697), (723, 0.17942046667147477), (724, 0.46335626149021303), (725, 0.3620794347412389), (726, 0.278088590098409), (727, 0.4987960776559165), (728, 0.4988799044858372), (729, 0.49529195397049824), (730, 0.489515343348291), (731, 0.5047516770805814), (732, 0.37935493737272247), (733, 0.3110248586302426), (734, 0.3743228904973626), (735, 0.26481118164167106), (736, 0.3141542111735517), (737, 0.11479995029011802), (738, 0.27209529932639526), (739, 0.3065591514438891), (740, 0.1951229960576315), (741, 0.17071277284220995), (742, 0.221459667343123), (743, 0.2687513796987563), (744, 0.4929584168390234), (745, 0.2191584958603407), (746, 0.4651400853620555), (747, 0.44349794796796826), (748, 0.3235708928120888), (749, 0.2949525559187914), (750, 0.477167903815944), (751, 0.35032252713715656), (752, 0.3692143439326213), (753, 0.49823378294678916), (754, 0.26041513364093866), (755, 0.3494028918409233), (756, 0.4867925586665249), (757, 0.3010478887236077), (758, 0.4853481168352932), (759, 0.1267645861235977), (760, 0.22911640607609793), (761, 0.21941366932366077), (762, 0.4844560446763318), (763, 0.5205764382818027), (764, 0.2054612765110728), (765, 0.39735337209866667), (766, 0.17951492093546836), (767, 0.14348147226007546), (768, 0.38179042478359126), (769, 0.41862039995196054), (770, 0.23575889554727625), (771, 0.47358991461182365), (772, 0.2795131258808783), (773, 0.32508353489995523), (774, 0.29070834635526854), (775, 0.26904254678086353), (776, 0.2028170961596461), (777, 0.2577822769547456), (778, 0.4112528758540941), (779, 0.20514371589894329), (780, 0.1800259475966414), (781, 0.23379985737558495), (782, 0.3111133986015571), (783, 0.22133302549936257), (784, 0.2239986050923214), (785, 0.20310747828141107), (786, 0.3011249683770377), (787, 0.26091858144002356), (788, 0.36784685082276924), (789, 0.21222570862472956), (790, 0.2694108431461875), (791, 0.26396561942444313), (792, 0.37414813254550916), (793, 0.34113337680388306), (794, 0.3789014471025646), (795, 0.4842932340939009), (796, 0.2553999606112722), (797, 0.35833606915939253), (798, 0.32063921593764083), (799, 0.3523568711824702), (800, 0.24078005081795859), (801, 0.28282508762116676), (802, 0.35008057015698096), (803, 0.3326653768121474), (804, 0.3067601020022828), (805, 0.427571205918149), (806, 0.38534681239568486), (807, 0.24113974128904925), (808, 0.264274745753364), (809, 0.3071217678457474), (810, 0.461825649590253), (811, 0.4720011258610811), (812, 0.2583092844687496), (813, 0.2393803299438723), (814, 0.2405546416682848), (815, 0.45051227644472536), (816, 0.39705874683993736), (817, 0.41486804768671925), (818, 0.29848810122445457), (819, 0.39969607436335564), (820, 0.47928403146347354), (821, 0.3055204074503243), (822, 0.36656696182243376), (823, 0.32039083885250447), (824, 0.2523594630281378), (825, 0.36878638263112984), (826, 0.1083043232086193), (827, 0.3381601008512549), (828, 0.39939907923975), (829, 0.496914989954127), (830, 0.4178624664246948), (831, 0.20051496432608842), (832, 0.13802046695016393), (833, 0.4738451007452365), (834, 0.37463407320377884), (835, 0.35267454442319335), (836, 0.2987332065051608), (837, 0.48199032781613715), (838, 0.20449625171877522), (839, 0.49116042229048085), (840, 0.21765277404584002), (841, 0.3241489499280933), (842, 0.40015742998808496), (843, 0.38250666289447494), (844, 0.31886855276750437), (845, 0.3343774219150043), (846, 0.2776563303866327), (847, 0.2747374412414169), (848, 0.30283063393706305), (849, 0.4898941555061569), (850, 0.4548664476944073), (851, 0.2814821648736085), (852, 0.30889551159388284), (853, 0.27823155913926484), (854, 0.26655300678387867), (855, 0.42573310329408365), (856, 0.2741978449860081), (857, 0.4724999707587129), (858, 0.4304084076600582), (859, 0.3103791578174755), (860, 0.4618902932196827), (861, 0.25355388471321977), (862, 0.30420917136477243), (863, 0.19724977175439468), (864, 0.2832441022005025), (865, 0.19873765476509653), (866, 0.22676573507869618), (867, 0.46143706142164087), (868, 0.4832236394366705), (869, 0.32467131309322783), (870, 0.270446716115065), (871, 0.22128305459361505), (872, 0.3661668821713195), (873, 0.3799435662332733), (874, 0.2056121071080825), (875, 0.47867023416745147), (876, 0.2980774991369444), (877, 0.312491562892692), (878, 0.345402193749804), (879, 0.28518215874092145), (880, 0.50245353097012), (881, 0.22516093887564972), (882, 0.26880505261834803), (883, 0.3633319453178563), (884, 0.31549509413037075), (885, 0.38669021235940526), (886, 0.2220242400044601), (887, 0.4019884967934372), (888, 0.2069233405828514), (889, 0.23828517860803883), (890, 0.2829968245256808), (891, 0.2999567380085415), (892, 0.3170016547782192), (893, 0.48980747095390836), (894, 0.45298722638007416), (895, 0.2799740880560367), (896, 0.19191185033231853), (897, 0.1943277945441306), (898, 0.2837284014077795), (899, 0.3698635842984762), (900, 0.39806144108175373), (901, 0.23447436411164227), (902, 0.47352518023636814), (903, 0.2159535884558222), (904, 0.30190893476226205), (905, 0.20388490326297587), (906, 0.4896020282134637), (907, 0.1204801443690192), (908, 0.3244867141630063), (909, 0.5012530835336906), (910, 0.2994060036167873), (911, 0.20716175497753522), (912, 0.36453343357909035), (913, 0.24000817122316753), (914, 0.2231151813068197), (915, 0.3632190363562354), (916, 0.3350653069050013), (917, 0.33244185599108816), (918, 0.24537765487099603), (919, 0.34313733274848546), (920, 0.2943225471038349), (921, 0.14274228192178876), (922, 0.23771770343683812), (923, 0.34915139958441266), (924, 0.22033371709264465), (925, 0.17493054692808063), (926, 0.16136440872875601), (927, 0.25153908783071366), (928, 0.3598183220767935), (929, 0.11337450933448295), (930, 0.31586631251629127), (931, 0.206432464862854), (932, 0.4310038776618238), (933, 0.12685038961658546), (934, 0.2292435173908618), (935, 0.42509283523404223), (936, 0.21025547246948945), (937, 0.2790115384568108), (938, 0.4935852482171052), (939, 0.24132748227186882), (940, 0.1906998481677569), (941, 0.14189752248713203), (942, 0.3856019152235539), (943, 0.1815922413543126), (944, 0.3039044433065272), (945, 0.2762264078436056), (946, 0.39699521876469274), (947, 0.14501301565455177), (948, 0.22500223452410348), (949, 0.276718180918352), (950, 0.2529563924220674), (951, 0.20026920971301582), (952, 0.4767257034263674), (953, 0.2401286403461535), (954, 0.4865442715745398), (955, 0.3836983106487532), (956, 0.31733930320346637), (957, 0.367249706910793), (958, 0.15407639677436064), (959, 0.3622424012131097), (960, 0.5003858888732973), (961, 0.32983083703697424), (962, 0.150079372696069), (963, 0.3164308101650135), (964, 0.22936310655367287), (965, 0.45373442249591023), (966, 0.2636284578491432), (967, 0.2286398355663353), (968, 0.2423861917822685), (969, 0.2274431306397784), (970, 0.24051011593128638), (971, 0.44532863876867346), (972, 0.2340137772643196), (973, 0.24467975979430495), (974, 0.47271983919389277), (975, 0.25590751488625224), (976, 0.31462550239673237), (977, 0.3555179269649731), (978, 0.17894094501211394), (979, 0.3944704551789018), (980, 0.497874963885429), (981, 0.23704880213099783), (982, 0.1449751051659709), (983, 0.2311531543126545), (984, 0.35323999630623304), (985, 0.178736562848809), (986, 0.3834922494747948), (987, 0.44062747188136275), (988, 0.4537471637510879), (989, 0.38258769502300927), (990, 0.2865809641462182), (991, 0.2782850061566748), (992, 0.47497648616187044), (993, 0.30364526697088223), (994, 0.49289917252928794), (995, 0.23147590636383603), (996, 0.21343880531055245), (997, 0.473999844335769), (998, 0.1603381036188068), (999, 0.4789605909916331), (1000, 0.24168318713684003), (1001, 0.26618544857161264), (1002, 0.46137032838573805), (1003, 0.39317908414355385), (1004, 0.3756941546021051), (1005, 0.3571822445284242), (1006, 0.47160951277937807), (1007, 0.4876808306754559), (1008, 0.3656405324164416), (1009, 0.4575762467686007), (1010, 0.3488238497103756), (1011, 0.3996014629568049), (1012, 0.5011743969683283), (1013, 0.2792316947854445), (1014, 0.307791652400794), (1015, 0.2643671210068608), (1016, 0.23561825917688867), (1017, 0.21958179372120648), (1018, 0.13427732347868093), (1019, 0.14890683427973941), (1020, 0.11866060830127828), (1021, 0.3359972581145038), (1022, 0.15413744896873904), (1023, 0.3635941759219636), (1024, 0.33364458079550613), (1025, 0.2377074294813888), (1026, 0.0953070418053231), (1027, 0.29134639163222503), (1028, 0.4015210116107885), (1029, 0.07829018569941369), (1030, 0.18820720331153482), (1031, 0.32424063367376227), (1032, 0.25857843977315736), (1033, 0.23158699757346607), (1034, 0.22837293540934608), (1035, 0.20584111432137167), (1036, 0.18500316170429312), (1037, 0.15141061155253566), (1038, 0.18589347496388112), (1039, 0.2295347799949988), (1040, 0.2271576454126348), (1041, 0.42392948004478415), (1042, 0.2687768817972719), (1043, 0.34359704759909937), (1044, 0.41770253992650114), (1045, 0.3302005729581907), (1046, 0.14115174424036742), (1047, 0.3628578952008152), (1048, 0.3337279445091132), (1049, 0.29647744654976504), (1050, 0.404748546696624), (1051, 0.21898412966189854), (1052, 0.35412108970796047), (1053, 0.26075684599795396), (1054, 0.3062238358454808), (1055, 0.2744966370645918), (1056, 0.42140117717892533), (1057, 0.4834799400650677), (1058, 0.28589176701326763), (1059, 0.34117126689061394), (1060, 0.3825413588540218), (1061, 0.2804495336064699), (1062, 0.16350920698244129), (1063, 0.45390107350153713), (1064, 0.22034829600705716), (1065, 0.26178127907580623), (1066, 0.3012042096813324), (1067, 0.4715844788401379), (1068, 0.464431254653423), (1069, 0.4763118677273178), (1070, 0.28061697038384825), (1071, 0.2947702994102798), (1072, 0.30036991610733443), (1073, 0.4877795796402352), (1074, 0.3208943788202154), (1075, 0.22678226531636067), (1076, 0.44113578642131296), (1077, 0.15798707729391892), (1078, 0.34694224301829896), (1079, 0.20775507137863303), (1080, 0.401437305596877), (1081, 0.3285695185129436), (1082, 0.31516552098728906), (1083, 0.3409176663140156), (1084, 0.21194393600845765), (1085, 0.18263830124596706), (1086, 0.13100367845362645), (1087, 0.26027816778383084), (1088, 0.3082122739654255), (1089, 0.28424577680485447), (1090, 0.19275326627570483), (1091, 0.4425525278095356), (1092, 0.26797266542185), (1093, 0.45250838743802185), (1094, 0.3782938122285559), (1095, 0.1936590162389855), (1096, 0.2759407209782322), (1097, 0.4531618759031553), (1098, 0.2516825987321654), (1099, 0.2054887834224302), (1100, 0.1474842169338622), (1101, 0.441399742286142), (1102, 0.21184666617750844), (1103, 0.31684587536470543), (1104, 0.29081198634403804), (1105, 0.453924637763225), (1106, 0.4099718217305716), (1107, 0.4859860570571666), (1108, 0.2305379650848247), (1109, 0.16057729062502205), (1110, 0.3684258111998125), (1111, 0.4402968911918476), (1112, 0.3054815141905699), (1113, 0.2456215346445028), (1114, 0.36227405644663097), (1115, 0.1937699744702984), (1116, 0.3933020687484389), (1117, 0.2594400648206962), (1118, 0.5042168158848169), (1119, 0.45880830352207735), (1120, 0.27438679767465907), (1121, 0.47999382742124), (1122, 0.4926166810593715), (1123, 0.26608830440235526), (1124, 0.40180691261484497), (1125, 0.14445824925806897), (1126, 0.31791694590595654), (1127, 0.36259430751209054), (1128, 0.4571062888770527), (1129, 0.5046291599818353), (1130, 0.1818099222650259), (1131, 0.2938132122207659), (1132, 0.12111969014619141), (1133, 0.21044435412722837), (1134, 0.25109325956592765), (1135, 0.46185057056061046), (1136, 0.18846950869997192), (1137, 0.29595055032302464), (1138, 0.2763569914988719), (1139, 0.32264692067127965), (1140, 0.46919062533170347), (1141, 0.4769883249886067), (1142, 0.29972643921624353), (1143, 0.2980532058030617), (1144, 0.1721952322309685), (1145, 0.29068947872002837), (1146, 0.46585715725499943), (1147, 0.25372200944190604), (1148, 0.4278013759142702), (1149, 0.27441358412231376), (1150, 0.16385401255534568), (1151, 0.1892007385522436), (1152, 0.4964055493773543), (1153, 0.4813783608420994), (1154, 0.47274421667135813), (1155, 0.27131584472698106), (1156, 0.19303088157192577), (1157, 0.21602322793953452), (1158, 0.30496655729891897), (1159, 0.17563281494215013), (1160, 0.4033786078309705), (1161, 0.1731578169304925), (1162, 0.3547282641007087), (1163, 0.19676621050495308), (1164, 0.49447794161748565), (1165, 0.4346987116527519), (1166, 0.24160085819035237), (1167, 0.46003282374212867), (1168, 0.2562150907133879), (1169, 0.2421455455502587), (1170, 0.31830633230724653), (1171, 0.16880770426852906), (1172, 0.3584096499442297), (1173, 0.5124028522989819), (1174, 0.38408685117289626), (1175, 0.12279000907670942), (1176, 0.37609019910056185), (1177, 0.4202445154062573), (1178, 0.16903603941948786), (1179, 0.4515553100559967), (1180, 0.39342289118291623), (1181, 0.48603301901269036), (1182, 0.15855335067291382), (1183, 0.1568973773095989), (1184, 0.16420914378086732), (1185, 0.18835200879669187), (1186, 0.29015401106410427), (1187, 0.18516045628441327), (1188, 0.3441011345813816), (1189, 0.4410565511058958), (1190, 0.461984568611589), (1191, 0.41109560779603815), (1192, 0.2783986614659518), (1193, 0.2318973195965698), (1194, 0.3228131571514972), (1195, 0.3729240069145585), (1196, 0.3829695644910265), (1197, 0.20427620662521925), (1198, 0.3094179100514266), (1199, 0.19181929430836636), (1200, 0.23783947758158622), (1201, 0.2545587526610872), (1202, 0.31414934579876774), (1203, 0.39351183947785306), (1204, 0.17184326173755132), (1205, 0.22804292933867593), (1206, 0.2411201459009538), (1207, 0.44172726111463007), (1208, 0.18040172203708607), (1209, 0.2743232661106781), (1210, 0.1812013277937687), (1211, 0.3111675824474589), (1212, 0.20348401708377634), (1213, 0.3319699119135358), (1214, 0.20796341977390762), (1215, 0.4242766946090289), (1216, 0.154061769220141), (1217, 0.30515679602839857), (1218, 0.4355706237430439), (1219, 0.2464645757464546), (1220, 0.25932040552882446), (1221, 0.2957366231258228), (1222, 0.15644150653705427), (1223, 0.17829014851370042), (1224, 0.2453903727859926), (1225, 0.2753464556178025), (1226, 0.4865773997190778), (1227, 0.2630450042430508), (1228, 0.2970449540960408), (1229, 0.4683683721871998), (1230, 0.19131383434596302), (1231, 0.2077304850929312), (1232, 0.203421831959815), (1233, 0.4578441966095759), (1234, 0.43728860828468424), (1235, 0.22691674436939954), (1236, 0.33356172643263104), (1237, 0.17372008313061965), (1238, 0.3285379151904539), (1239, 0.4655419670882891), (1240, 0.36381583675298257), (1241, 0.26826164415592857), (1242, 0.2342569034460754), (1243, 0.29214596502503914), (1244, 0.237945813410204), (1245, 0.23775674716125555), (1246, 0.43819744143369016), (1247, 0.17143538648341505), (1248, 0.22570647087697154), (1249, 0.306141412608915), (1250, 0.27168270911768466), (1251, 0.3934894062950795), (1252, 0.17558632497209492), (1253, 0.23716090548305116), (1254, 0.22581925479678888), (1255, 0.2622063947925374), (1256, 0.19839627546802405), (1257, 0.254467971466915), (1258, 0.31787180431033113), (1259, 0.2896655256973072), (1260, 0.36074757248102063), (1261, 0.2772685326953434), (1262, 0.5095237526448415), (1263, 0.2613609917894173), (1264, 0.18634303730800117), (1265, 0.41144402731341284), (1266, 0.36553409062953307), (1267, 0.48923862140015595), (1268, 0.20603598185913485), (1269, 0.2711015856869374), (1270, 0.3980885354637093), (1271, 0.47652551424471673), (1272, 0.46685236927383483), (1273, 0.4412090900096895), (1274, 0.3295285978691322), (1275, 0.26627122436449463), (1276, 0.17633179231635274), (1277, 0.1378139347571636), (1278, 0.17216720774574543), (1279, 0.4885996122271565), (1280, 0.4397143317960459), (1281, 0.2514966445508751), (1282, 0.4862810071898233), (1283, 0.4380696869150844), (1284, 0.4799831999655991), (1285, 0.19533649452999852), (1286, 0.1800266933593281), (1287, 0.39516763923244275), (1288, 0.1958153670494997), (1289, 0.48150376976129566), (1290, 0.1946546778216722), (1291, 0.2609799032670947), (1292, 0.3253370549743992), (1293, 0.18430031998882998), (1294, 0.2671827627915981), (1295, 0.35884559334345995), (1296, 0.4137945888793522), (1297, 0.27306056604164236), (1298, 0.3742549678015025), (1299, 0.17191306219481614), (1300, 0.18331676926982235), (1301, 0.1771747914471422), (1302, 0.20924805323899578), (1303, 0.2523970951499971), (1304, 0.19473019724730692), (1305, 0.3926526449277343), (1306, 0.36496154954283927), (1307, 0.3767762142070729), (1308, 0.2301735315506582), (1309, 0.21260968578946662), (1310, 0.3081748311707745), (1311, 0.3286963705026126), (1312, 0.3272071793640026), (1313, 0.4388596298706399), (1314, 0.17965259763298191), (1315, 0.46825778834560916), (1316, 0.24202422877061466), (1317, 0.23469576005943554), (1318, 0.16436680683336627), (1319, 0.26937556685238256), (1320, 0.2228589650950786), (1321, 0.2576527059082846), (1322, 0.48394388733011473), (1323, 0.34255255067293455), (1324, 0.475665618787412), (1325, 0.4917692305092681), (1326, 0.2224154263432138), (1327, 0.27674678889153653), (1328, 0.4034990637218959), (1329, 0.35285151527227826), (1330, 0.1838211272193611), (1331, 0.28133834618563464), (1332, 0.34015283722948847), (1333, 0.22793260242611682), (1334, 0.4036250410384717), (1335, 0.49590349165740033), (1336, 0.23380669991533878), (1337, 0.34889172669006424), (1338, 0.17575512703593305), (1339, 0.14468105564903738), (1340, 0.3759986062661887), (1341, 0.2652913290541078), (1342, 0.46014921706686923), (1343, 0.2099511978272355), (1344, 0.24182654228919057), (1345, 0.32385409209022076), (1346, 0.4122036095008215), (1347, 0.4155196269469257), (1348, 0.35751895089275393), (1349, 0.32109012941304627), (1350, 0.18739986446214224), (1351, 0.3324605433982919), (1352, 0.29440211784060294), (1353, 0.3697483200891673), (1354, 0.4895311588282627), (1355, 0.41495186286186714), (1356, 0.31489659190559355), (1357, 0.5050588506243154), (1358, 0.38787183840197326), (1359, 0.1769571855389862), (1360, 0.3779669961343995), (1361, 0.21950962300992732), (1362, 0.3649896417047769), (1363, 0.2181168454069881), (1364, 0.3073715612292743), (1365, 0.37247452910484596), (1366, 0.1582554856031042), (1367, 0.22497912923205102), (1368, 0.4753216767284295), (1369, 0.19103809448603024), (1370, 0.19141823250125092), (1371, 0.23785505681496477), (1372, 0.2159828217272256), (1373, 0.2324097463200179), (1374, 0.42862751479192185), (1375, 0.39997228939986573), (1376, 0.20100107066900436), (1377, 0.43860206203920316), (1378, 0.46238525299149436), (1379, 0.15664282942937857), (1380, 0.4836934099081135), (1381, 0.4786370431585553), (1382, 0.16371678314234178), (1383, 0.2287992630913883), (1384, 0.21111860542283264), (1385, 0.18088676268947657), (1386, 0.19074314621713026), (1387, 0.3758854797250012), (1388, 0.4904291894889352), (1389, 0.24292322083503598), (1390, 0.21244400181792522), (1391, 0.4864421435237072), (1392, 0.20084530692433944), (1393, 0.48981845169098626), (1394, 0.18572060967598814), (1395, 0.16572288330383647), (1396, 0.30668098088728774), (1397, 0.2042777400774323), (1398, 0.4659788757757417), (1399, 0.43174750870600304), (1400, 0.3126784370083626), (1401, 0.17959989016461336), (1402, 0.4371448424330133), (1403, 0.35740595046227674), (1404, 0.4707883108633086), (1405, 0.19230362722837996), (1406, 0.36059963838056086), (1407, 0.2132103416802342), (1408, 0.18292396554567208), (1409, 0.23550729168837614), (1410, 0.2517731659059558), (1411, 0.15038364141260044), (1412, 0.45155414292805474), (1413, 0.48531998847947333), (1414, 0.39823732718554067), (1415, 0.13495378706330508), (1416, 0.23167137213948716), (1417, 0.24099478842337455), (1418, 0.19705393069101917), (1419, 0.21619841902370665), (1420, 0.20174992481073062), (1421, 0.26469156522818427), (1422, 0.1896642226031642), (1423, 0.12526437881740307), (1424, 0.4760749182245129), (1425, 0.22616767555609235), (1426, 0.1575920381345928), (1427, 0.30567176939069657), (1428, 0.2160104412681982), (1429, 0.32687304519156174), (1430, 0.1812087229818511), (1431, 0.23664580882050426), (1432, 0.31555022919516845), (1433, 0.4437963444557519), (1434, 0.2823522905981755), (1435, 0.2228105794789554), (1436, 0.3996117210579985), (1437, 0.2749815263993318), (1438, 0.36212227183613566), (1439, 0.2910177649867932), (1440, 0.24205372317397073), (1441, 0.24948489160267687), (1442, 0.19584201094715567), (1443, 0.47738783716750804), (1444, 0.18856047316977578), (1445, 0.381725299575013), (1446, 0.24366553117116077), (1447, 0.1991188755640688), (1448, 0.21681375332177522), (1449, 0.13567314542639194), (1450, 0.22225782618311787), (1451, 0.25392914483524964), (1452, 0.26179203104022775), (1453, 0.189819448912418), (1454, 0.3161487671832331), (1455, 0.4986881853043365), (1456, 0.3929343455237871), (1457, 0.47451458130210583), (1458, 0.36171907755657445), (1459, 0.4385253167392396), (1460, 0.4442124296876644), (1461, 0.3482397803462219), (1462, 0.3020816001372021), (1463, 0.32040533921387326), (1464, 0.4188836668991839), (1465, 0.1512796316603392), (1466, 0.3099192831624491), (1467, 0.13543318857216563), (1468, 0.23339220098666827), (1469, 0.37722565843174927), (1470, 0.17314029914568577), (1471, 0.4439997103698109), (1472, 0.3220496156730572), (1473, 0.43660468412424336), (1474, 0.3213114152694225), (1475, 0.34521730416017143), (1476, 0.32947040860256244), (1477, 0.13693179788911478), (1478, 0.2205990015546004), (1479, 0.18579105003961213), (1480, 0.3641362416279935), (1481, 0.3457158537009761), (1482, 0.22305200806518527), (1483, 0.4800485115681994), (1484, 0.5014761789971084), (1485, 0.22629017285746442), (1486, 0.29528054214205457), (1487, 0.3507957659332938), (1488, 0.20986294062999836), (1489, 0.29436959315103717), (1490, 0.24630516348817816), (1491, 0.29296354977771033), (1492, 0.327521284731097), (1493, 0.4846996907861529), (1494, 0.3735378497315825), (1495, 0.30228465843800956), (1496, 0.27824719569863704), (1497, 0.33409519499967766), (1498, 0.47946225500009565), (1499, 0.2642291422401896), (1500, 0.33313692568763476), (1501, 0.22644038629177968), (1502, 0.45505789859080503), (1503, 0.2434234340455348), (1504, 0.37800234920486026), (1505, 0.42451348024306923), (1506, 0.2711378332103031), (1507, 0.26978414922490257), (1508, 0.2403613813763711), (1509, 0.3410153212184287), (1510, 0.2695795090373965), (1511, 0.49726597865653444), (1512, 0.48745379559242913), (1513, 0.3259287562529757), (1514, 0.2965521608854), (1515, 0.3158032865349076), (1516, 0.3290047302064894), (1517, 0.31273212861177313), (1518, 0.31427372636128265), (1519, 0.32031918270605675), (1520, 0.3180467706529527), (1521, 0.3730911314539835), (1522, 0.29599921261057216), (1523, 0.3557664440541004), (1524, 0.3660849756426181), (1525, 0.3454086627676462), (1526, 0.2944044601323831), (1527, 0.3367514758089659), (1528, 0.29929358900200487), (1529, 0.29382028779531966), (1530, 0.27321029337186337), (1531, 0.4140310911066151), (1532, 0.5054203789854761), (1533, 0.1953970636601075), (1534, 0.3410864547708634), (1535, 0.3241144974043744), (1536, 0.23387605975751152), (1537, 0.25462222288400066), (1538, 0.288618092281615), (1539, 0.3277568581879829), (1540, 0.3654666044276491), (1541, 0.27229379812342114), (1542, 0.2903730285002937), (1543, 0.31670913591994526), (1544, 0.2805784455830879), (1545, 0.24302778840342476), (1546, 0.2760883066117641), (1547, 0.24712943449558886), (1548, 0.3439745503261029), (1549, 0.29928878351127), (1550, 0.47446404459946984), (1551, 0.3257944844227132), (1552, 0.41647377273950303), (1553, 0.34225085644722136), (1554, 0.3719809086400087), (1555, 0.3562471725597923), (1556, 0.48267670903977433), (1557, 0.3384142952357624), (1558, 0.26259165161855647), (1559, 0.32108945324348265), (1560, 0.43506243918341914), (1561, 0.36147464960309866), (1562, 0.22351415174242503), (1563, 0.2871060051731135), (1564, 0.3036568633787725), (1565, 0.39594088328640364), (1566, 0.3607039629886425), (1567, 0.2800339706954625), (1568, 0.258774745064781), (1569, 0.4347825471006072), (1570, 0.26421782901638574), (1571, 0.295021225014329), (1572, 0.19168838076552816), (1573, 0.2498280929084241), (1574, 0.2376631739267626), (1575, 0.2267649920144578), (1576, 0.19656790210822186), (1577, 0.21967923577775048), (1578, 0.2147773699482372), (1579, 0.36270967590373726), (1580, 0.1346863157160837), (1581, 0.3575559934329248), (1582, 0.2255716976027145), (1583, 0.20622195273014668), (1584, 0.4617466136593874), (1585, 0.21024525503827318), (1586, 0.2381717901540604), (1587, 0.38810597124560325), (1588, 0.21233497096245105), (1589, 0.21030802886963076), (1590, 0.2279515974123139), (1591, 0.3153326943297817), (1592, 0.2208893897429914), (1593, 0.27948010588451383), (1594, 0.14489326000868027), (1595, 0.18079311536868112), (1596, 0.14129905934122772), (1597, 0.3628218798379569), (1598, 0.08404992680071836), (1599, 0.3673997798727176), (1600, 0.37782468818356846), (1601, 0.13756271464275743), (1602, 0.37148753198262935), (1603, 0.3528084981061375), (1604, 0.11774127648035916), (1605, 0.14571564540055018), (1606, 0.40620770240852205), (1607, 0.41783839075148593), (1608, 0.46584522032215486), (1609, 0.4051251014089807), (1610, 0.12200764205490544), (1611, 0.49259335046971336), (1612, 0.22048876228727415), (1613, 0.19398352377906158), (1614, 0.308143378887489), (1615, 0.24611757075579838), (1616, 0.34233819312852914), (1617, 0.3263981851557964), (1618, 0.26003780243999464), (1619, 0.20240568482693772), (1620, 0.2715332653262635), (1621, 0.37051465803717043), (1622, 0.14186381259701694), (1623, 0.20912682020808995), (1624, 0.26026801215919837), (1625, 0.18771683591691884), (1626, 0.31977619961908893), (1627, 0.2215976770963228), (1628, 0.1723903718305149), (1629, 0.28530351299679074), (1630, 0.1739498944655044), (1631, 0.21790925392204682), (1632, 0.15264478040540347), (1633, 0.2517975290843894), (1634, 0.3493081857182132), (1635, 0.16972944820394759), (1636, 0.29239716590225245), (1637, 0.44582506977064057), (1638, 0.4239752399222663), (1639, 0.17642510275053203), (1640, 0.30096279717592445), (1641, 0.45466369152885255), (1642, 0.2854746100392013), (1643, 0.4854118670023842), (1644, 0.17845714695990922), (1645, 0.20641489203091173), (1646, 0.3741347354919988), (1647, 0.17532291151385473), (1648, 0.20216238181283935), (1649, 0.2655907384130044), (1650, 0.20074973856697262), (1651, 0.31653091892317536), (1652, 0.13636947187929624), (1653, 0.20609825298858947), (1654, 0.23565118678277494), (1655, 0.256248247583734), (1656, 0.3333681042567481), (1657, 0.17755282163034045), (1658, 0.18919105344043927), (1659, 0.2678266929190309), (1660, 0.249865617999571), (1661, 0.13474413823457573), (1662, 0.4346614065792668), (1663, 0.3492043029991633), (1664, 0.384090109726376), (1665, 0.37903565792362365), (1666, 0.17733378120143492), (1667, 0.43753484846295526), (1668, 0.1405488071498858), (1669, 0.40952651800568896), (1670, 0.16357533208108538), (1671, 0.1960126337520584), (1672, 0.3183301165215598), (1673, 0.16002629262768164), (1674, 0.41125561988931547), (1675, 0.23943558572470572), (1676, 0.16262485793769582), (1677, 0.1668123458066259), (1678, 0.33384876518107093), (1679, 0.22228380120906618), (1680, 0.3413310768495753), (1681, 0.32801718648229633), (1682, 0.20237224047004754), (1683, 0.20568927226459702), (1684, 0.22997590009910304), (1685, 0.36437768891371897), (1686, 0.23640003043503632), (1687, 0.2232486253793296), (1688, 0.1774618564919495), (1689, 0.14027762747443617), (1690, 0.13250951622103085), (1691, 0.3509968663528293), (1692, 0.1631236664943431), (1693, 0.404377894149721), (1694, 0.1596917582557384), (1695, 0.22502210234538428), (1696, 0.4283810024062052), (1697, 0.30038024465129765), (1698, 0.1578519831014103), (1699, 0.4165472833177212), (1700, 0.35607202693647044), (1701, 0.2709546097836667), (1702, 0.16254785994824816), (1703, 0.1154073272460844), (1704, 0.1505402983180621), (1705, 0.33689436962749164), (1706, 0.31677332797327334), (1707, 0.1989712633921713), (1708, 0.2230419621859821), (1709, 0.21153812216250384), (1710, 0.4330994142044562), (1711, 0.36401421508117937), (1712, 0.24770586208640516), (1713, 0.2504683286866668), (1714, 0.4430329503599619), (1715, 0.13876100384158663), (1716, 0.4845263047858968), (1717, 0.12488200849038773), (1718, 0.3311181698222312), (1719, 0.16988426169927903), (1720, 0.282769467973471), (1721, 0.3006795567784908), (1722, 0.3499146855207257), (1723, 0.379583579299759), (1724, 0.2115246074898727), (1725, 0.22742637574246172), (1726, 0.2816345407000836), (1727, 0.33418877225827864), (1728, 0.49576884779963865), (1729, 0.4858611098411996), (1730, 0.26377469892107686), (1731, 0.24300074735891525), (1732, 0.2197977157576556), (1733, 0.23400167495569577), (1734, 0.2746676313685079), (1735, 0.21220041071741558), (1736, 0.19747306219426797), (1737, 0.4141444066856592), (1738, 0.31202514440297463), (1739, 0.293405629400597), (1740, 0.44200932135252197), (1741, 0.1436188460586486), (1742, 0.3126177212905273), (1743, 0.16667529583378493), (1744, 0.17501281858509798), (1745, 0.12627392907329343), (1746, 0.1701678622254367), (1747, 0.15246032429537737), (1748, 0.1316164182073151), (1749, 0.13964337711101565), (1750, 0.20183139533540095), (1751, 0.3656836171820993), (1752, 0.19249200121445664), (1753, 0.1099711443520553), (1754, 0.310910476752189), (1755, 0.32912807421661033), (1756, 0.21678948495729503), (1757, 0.21475661012278077), (1758, 0.42808962401410994), (1759, 0.16817308822761923), (1760, 0.23627505459092682), (1761, 0.12017407963803464), (1762, 0.32837069044249273), (1763, 0.26441143392485467), (1764, 0.1867398791508885), (1765, 0.40181448503642164), (1766, 0.3769210238938151), (1767, 0.3435805580121474), (1768, 0.27012937617332816), (1769, 0.41992544776592267), (1770, 0.48209332634204566), (1771, 0.40636050413204894), (1772, 0.38562372342346957), (1773, 0.49301418449703915), (1774, 0.2724911937019081), (1775, 0.512633927462394), (1776, 0.37547978055264475), (1777, 0.2390459702263674), (1778, 0.32745751235336834), (1779, 0.40579208711544035), (1780, 0.2306021757089571), (1781, 0.32094220089595477), (1782, 0.29079586446725075), (1783, 0.26460725931076845), (1784, 0.22511653587236305), (1785, 0.28539263326392894), (1786, 0.2761482438394953), (1787, 0.35223555518540284), (1788, 0.47719468470251536), (1789, 0.274571402861945), (1790, 0.22697675203911954), (1791, 0.39535819838248304), (1792, 0.26998947473364365), (1793, 0.25637258784163874), (1794, 0.24400364820127304), (1795, 0.35944060690221946), (1796, 0.43928562145478517), (1797, 0.17549076456834872), (1798, 0.1908561438315257), (1799, 0.4564619017720768), (1800, 0.14366605051125764), (1801, 0.21481679024306366), (1802, 0.3546590868348927), (1803, 0.28845650079120994), (1804, 0.4509428017215706), (1805, 0.17131444719371602), (1806, 0.4104706758800387), (1807, 0.2496509528425734), (1808, 0.17983593380848464), (1809, 0.33482741838325636), (1810, 0.4315009344381687), (1811, 0.28199328880705793), (1812, 0.1868845700051366), (1813, 0.14229957870061774), (1814, 0.2566752332338469), (1815, 0.458023432077372), (1816, 0.21169175184653802), (1817, 0.2488840478392754), (1818, 0.2207085257480227), (1819, 0.21326181476321274), (1820, 0.3710102907069582), (1821, 0.2734437262462731), (1822, 0.1614354443233391), (1823, 0.42214230881276144), (1824, 0.322282909500804), (1825, 0.4355261961886262), (1826, 0.1729661739229099), (1827, 0.2912453779183755), (1828, 0.21643691746379665), (1829, 0.34650928186162533), (1830, 0.16070169663276904), (1831, 0.4067694896024689), (1832, 0.1281995591224637), (1833, 0.15847763381447388), (1834, 0.22591014374007387), (1835, 0.3683203142141281), (1836, 0.1991909775412696), (1837, 0.2181629389893748), (1838, 0.38076566043474963), (1839, 0.32629902363794056), (1840, 0.2753190975971083), (1841, 0.12318226520278962), (1842, 0.21350964015403265), (1843, 0.2874909969033616), (1844, 0.21528811308899284), (1845, 0.18883936364712095), (1846, 0.4069552293363928), (1847, 0.20259265855579203), (1848, 0.20385121247329524), (1849, 0.2583588193767553), (1850, 0.24850225774751097), (1851, 0.21055223039278217), (1852, 0.4751779319763625), (1853, 0.21717523205806538), (1854, 0.33955909441228677), (1855, 0.48890884343215374), (1856, 0.2547108597648226), (1857, 0.2118269660394102), (1858, 0.20605685933643847), (1859, 0.32518769574410994), (1860, 0.4209151101989207), (1861, 0.3253534814045069), (1862, 0.17554047074810725), (1863, 0.3818894251935059), (1864, 0.34339709872138785), (1865, 0.16756319293190203), (1866, 0.27569848639491296), (1867, 0.1600916648261565), (1868, 0.2251700273844125), (1869, 0.36398113836374607), (1870, 0.4794402141385744), (1871, 0.16886944578665875), (1872, 0.37628747459587747), (1873, 0.38288584002005854), (1874, 0.3988980579575791), (1875, 0.2076811293073938), (1876, 0.48047521513038455), (1877, 0.09179049894825225), (1878, 0.20596670417002103), (1879, 0.15478542290763692), (1880, 0.39554970681291124), (1881, 0.39322544816069943), (1882, 0.32060830672357155), (1883, 0.15175095215170775), (1884, 0.2061947189439275), (1885, 0.24925506523912563), (1886, 0.30972838058627516), (1887, 0.27093048996592217), (1888, 0.342714749678014), (1889, 0.1910412748152539), (1890, 0.32062231759699095), (1891, 0.18312782943019837), (1892, 0.18690815472887626), (1893, 0.24035635099609665), (1894, 0.24518151276306321), (1895, 0.2331464619197484), (1896, 0.41493092233495743), (1897, 0.4653127410417895), (1898, 0.1641308626359699), (1899, 0.4588934022628589), (1900, 0.30378044714529395), (1901, 0.47094989228868245), (1902, 0.20689806426071433), (1903, 0.34518667958882354), (1904, 0.4564907642429747), (1905, 0.30076587674127453), (1906, 0.3474707484380145), (1907, 0.165300139402673), (1908, 0.24828624462077553), (1909, 0.1916323775010042), (1910, 0.4679117979437987), (1911, 0.414381787202294), (1912, 0.3167114487307547), (1913, 0.20547224241748968), (1914, 0.17911835704690146), (1915, 0.18439046631627362), (1916, 0.23479356921811878), (1917, 0.2526468537657665), (1918, 0.17244783430924623), (1919, 0.16363227785585996), (1920, 0.1929474686886813), (1921, 0.3429363670482285), (1922, 0.48809642402160586), (1923, 0.3045060163109935), (1924, 0.3765851286633287), (1925, 0.2828285944587111), (1926, 0.1432260083594304), (1927, 0.4756144335453445), (1928, 0.48970578114677976), (1929, 0.2336323953697425), (1930, 0.20442402001108875), (1931, 0.3814632600768269), (1932, 0.2180712311858521), (1933, 0.21323310283630867), (1934, 0.15729861470362802), (1935, 0.17186026689846234), (1936, 0.48485080634222505), (1937, 0.27307061945418953), (1938, 0.23884702468358596), (1939, 0.2688575451378323), (1940, 0.48308825983844156), (1941, 0.1639950966675111), (1942, 0.18155170619287062), (1943, 0.161518919743318), (1944, 0.3450849515605122), (1945, 0.20155120296361026), (1946, 0.30446170462444705), (1947, 0.17691841871242903), (1948, 0.2643954856751157), (1949, 0.21355972003570142), (1950, 0.33220718308748093), (1951, 0.3428815978274308), (1952, 0.3430550959285267), (1953, 0.150963431801018), (1954, 0.14503636637173958), (1955, 0.4867804139082384), (1956, 0.19854570189542217), (1957, 0.2581387018039671), (1958, 0.19399987099753255), (1959, 0.18815004611950564), (1960, 0.1689828439216076), (1961, 0.4313365794557304), (1962, 0.4030330972289378), (1963, 0.21346931825478735), (1964, 0.31449585566814203), (1965, 0.19583338372521925), (1966, 0.19549349469582056), (1967, 0.1782954764815804), (1968, 0.2638000167644265), (1969, 0.41392224711204234), (1970, 0.3189704945004346), (1971, 0.17647795778408432), (1972, 0.17449480151413105), (1973, 0.4219462603935723), (1974, 0.38574451083975225), (1975, 0.21489676010232306), (1976, 0.2474581795242272), (1977, 0.15311750167428084), (1978, 0.36289672824357705), (1979, 0.3434906266612873), (1980, 0.2104843619759801), (1981, 0.17840539437574868), (1982, 0.42043496562488825), (1983, 0.2761449051535477), (1984, 0.20683888981523554), (1985, 0.2659059212071632), (1986, 0.229704369491302), (1987, 0.3164967741092434), (1988, 0.37376642208441574), (1989, 0.29943244429243987), (1990, 0.2037074758694358), (1991, 0.16801164290192838), (1992, 0.1565769635990613), (1993, 0.35973161527242525), (1994, 0.23315453602155156), (1995, 0.2680185366765424), (1996, 0.19884743011980704), (1997, 0.43004376330500943), (1998, 0.4892735649356788), (1999, 0.33511699752435853), (2000, 0.18986208031322183), (2001, 0.3198396137610935), (2002, 0.20141150435641267), (2003, 0.23737086837050334), (2004, 0.24036386118429115), (2005, 0.23445100319619477), (2006, 0.2551296340574728), (2007, 0.3805905688028924), (2008, 0.1850889643376561), (2009, 0.2558638831356251), (2010, 0.13829948010157006), (2011, 0.41908568488348324), (2012, 0.27758113930397166), (2013, 0.28851853612754674), (2014, 0.2006831584646785), (2015, 0.29483627636625365), (2016, 0.49418949152500186), (2017, 0.4594696090133923), (2018, 0.14854951187103121), (2019, 0.3174954101553926), (2020, 0.20197139226112792), (2021, 0.20779735393605017), (2022, 0.3770943973159878), (2023, 0.4277103490615037), (2024, 0.1943615630786911), (2025, 0.15620793036701988), (2026, 0.4051993003395119), (2027, 0.4044478677432461), (2028, 0.2028483208675705), (2029, 0.24503039766422682), (2030, 0.1661212256660894), (2031, 0.4712257106744575), (2032, 0.4476355146339621), (2033, 0.22012756569107775), (2034, 0.1424247157090378), (2035, 0.3434408778459789), (2036, 0.22385108579436916), (2037, 0.23010808452537265), (2038, 0.25833577734590807), (2039, 0.3886044182197597), (2040, 0.4580321767356373), (2041, 0.33197040544699374), (2042, 0.15074020607485697), (2043, 0.17864731161022882), (2044, 0.16868624575523225), (2045, 0.49808566124893017), (2046, 0.1616881975322552), (2047, 0.16279488251240964), (2048, 0.19923218957847072), (2049, 0.14571891169826004), (2050, 0.22160855171882862), (2051, 0.2817795843411912), (2052, 0.4280747947123072), (2053, 0.3700456410771344), (2054, 0.23354506987672757), (2055, 0.22235774710376918), (2056, 0.20267027579736996), (2057, 0.2640337739397065), (2058, 0.279812126658832), (2059, 0.2679213593416163), (2060, 0.2303936121103983), (2061, 0.3498232385907286), (2062, 0.26950977427657713), (2063, 0.13608711048055158), (2064, 0.19298328182835545), (2065, 0.21286895178954357), (2066, 0.20967906508062856), (2067, 0.439398523898274), (2068, 0.18680182505704493), (2069, 0.39274988328073324), (2070, 0.413119168166159), (2071, 0.17672402161114573), (2072, 0.21543943720566142), (2073, 0.2596230555367996), (2074, 0.18499207482772706), (2075, 0.2195328443246975), (2076, 0.1961786667256458), (2077, 0.19428964291057574), (2078, 0.43308130419455754), (2079, 0.3841641326059989), (2080, 0.17581173623328683), (2081, 0.22493112192441633), (2082, 0.3284206709241964), (2083, 0.37882474902191815), (2084, 0.4836541922997894), (2085, 0.22528908667747163), (2086, 0.25000596416940946), (2087, 0.1994363396039528), (2088, 0.46466778310725065), (2089, 0.4139717005234667), (2090, 0.2401841859409138), (2091, 0.3335267884448922), (2092, 0.31647112694962265), (2093, 0.2310611056362518), (2094, 0.23708379948233518), (2095, 0.29769887943147394), (2096, 0.24461019040013723), (2097, 0.17493421003525841), (2098, 0.3500974391223264), (2099, 0.22824106399179273), (2100, 0.3205649503184859), (2101, 0.21781161769954716), (2102, 0.26464761752687854), (2103, 0.2660377170466681), (2104, 0.35157279241115785), (2105, 0.4122395682265862), (2106, 0.3060762053090104), (2107, 0.2735882216979524), (2108, 0.29748754990539156), (2109, 0.3475757540242057), (2110, 0.32856188056882835), (2111, 0.31260571985339114), (2112, 0.48323060184251426), (2113, 0.17122210641930236), (2114, 0.22933485018901725), (2115, 0.15217094252014343), (2116, 0.3637465156601086), (2117, 0.294984584251273), (2118, 0.19624239944814215), (2119, 0.18938036954385015), (2120, 0.37757107066057466), (2121, 0.23630469624474942), (2122, 0.33335518881587595), (2123, 0.2529984977637801), (2124, 0.2356667843437976), (2125, 0.1748943194948494), (2126, 0.23470935249478722), (2127, 0.32388637482760735), (2128, 0.3908660779924229), (2129, 0.06943948711845373), (2130, 0.32046761745297647), (2131, 0.309893929104417), (2132, 0.43189076084030104), (2133, 0.052529742833765804), (2134, 0.24262559930851513), (2135, 0.20033552544958172), (2136, 0.3185172977753401), (2137, 0.28767912491703956), (2138, 0.19321984424861766), (2139, 0.19926328370480698), (2140, 0.15615016744557422), (2141, 0.1777847433552714), (2142, 0.19478787122426472), (2143, 0.19330699328161832), (2144, 0.3546990560409575), (2145, 0.2022570039704647), (2146, 0.14970019224399064), (2147, 0.18106756096320695), (2148, 0.36585727969505005), (2149, 0.3198438423381629), (2150, 0.27702132406905833), (2151, 0.24198645488122572), (2152, 0.17527139262780914), (2153, 0.4086182425145302), (2154, 0.19946386665155286), (2155, 0.1855901549991278), (2156, 0.36965241685251615), (2157, 0.23297412197822298), (2158, 0.2511741693390443), (2159, 0.2102997241744371), (2160, 0.19530124492430007), (2161, 0.3300533531798361), (2162, 0.39951482224101587), (2163, 0.15448266650949244), (2164, 0.2041274198017845), (2165, 0.2624785887174626), (2166, 0.20686505120024506), (2167, 0.20592014242285958), (2168, 0.2855498180384148), (2169, 0.43424876433849363), (2170, 0.2651183703515379), (2171, 0.10035978311071084), (2172, 0.3479400844301509), (2173, 0.23411357358406915), (2174, 0.36068480402858766), (2175, 0.07237544770819711), (2176, 0.1290194834257317), (2177, 0.2867504037225158), (2178, 0.29654896738863), (2179, 0.07874415213451913), (2180, 0.1053883582697755), (2181, 0.4982197803848423), (2182, 0.30726403632295335), (2183, 0.3954533626822795), (2184, 0.4717693075330277), (2185, 0.21968238473800253), (2186, 0.06484790590688846), (2187, 0.2177287322564424), (2188, 0.12195423262393697), (2189, 0.3052292062322594), (2190, 0.34295056868865054), (2191, 0.1039244543174653), (2192, 0.2244974489644463), (2193, 0.37120076096416693), (2194, 0.2435525438503175), (2195, 0.09031757966832073), (2196, 0.2736448883148568), (2197, 0.43770648952879004), (2198, 0.4629235172449797), (2199, 0.07234880937576899), (2200, 0.2927348660659369), (2201, 0.09403300428462391), (2202, 0.10991115934909693), (2203, 0.33938536418276616), (2204, 0.11697226509528053), (2205, 0.3438817175155818), (2206, 0.27858931699337824), (2207, 0.07332245843689118), (2208, 0.09016939345252907), (2209, 0.09767613675154746), (2210, 0.10286659376884258), (2211, 0.24310242032314913), (2212, 0.09163834675267422), (2213, 0.4553705643325454), (2214, 0.2983323338863), (2215, 0.091718746836816), (2216, 0.2554622659176153), (2217, 0.18721205555277978), (2218, 0.1489858799462255), (2219, 0.2585167374069141), (2220, 0.12688052758257629), (2221, 0.1992581948296314), (2222, 0.21888255241155563), (2223, 0.12294616506415354), (2224, 0.10770334945773961), (2225, 0.28322042270108383), (2226, 0.11785416483119505), (2227, 0.080712954332258), (2228, 0.23503234116747254), (2229, 0.27687578959476383), (2230, 0.2119800371948635), (2231, 0.4858519468940027), (2232, 0.4694042708008767), (2233, 0.34161557429679507), (2234, 0.10872373976758223), (2235, 0.4125964404954193), (2236, 0.0783874242731995), (2237, 0.3958600250253508), (2238, 0.19158494571493748), (2239, 0.23699586502502806), (2240, 0.2079858238845476), (2241, 0.1180537859570723), (2242, 0.10504011469740757), (2243, 0.11001792688699798), (2244, 0.09386153324655522), (2245, 0.3820812722671985), (2246, 0.2563328434407422), (2247, 0.09386754296573549), (2248, 0.075056814845585), (2249, 0.3991940769639767), (2250, 0.11939333645537217), (2251, 0.22821634824747858), (2252, 0.2773828644406967), (2253, 0.18019941012844184), (2254, 0.2994096226669071), (2255, 0.11755806369773424), (2256, 0.15760721858477633), (2257, 0.06537193214900838), (2258, 0.3169136744847951), (2259, 0.3669938896766544), (2260, 0.11283141235838724), (2261, 0.25976392586157715), (2262, 0.189980378522029), (2263, 0.17972647673330136), (2264, 0.27969371448303904), (2265, 0.1510394356019175), (2266, 0.11826858733702691), (2267, 0.3859973054780921), (2268, 0.3182362683748212), (2269, 0.06256593958064895), (2270, 0.39828542735827405), (2271, 0.39789967068162346), (2272, 0.3702217120868097), (2273, 0.32108253861509733), (2274, 0.21466393038428339), (2275, 0.18033119669954015), (2276, 0.2755228370314537), (2277, 0.3193894011709919), (2278, 0.22852571475302738), (2279, 0.4178542107886056), (2280, 0.2976694935335685), (2281, 0.10312536588750618), (2282, 0.15319969153069504), (2283, 0.2366998438028655), (2284, 0.40513009722015036), (2285, 0.23211853121731305), (2286, 0.11064531754608825), (2287, 0.2579117669286195), (2288, 0.13172842367714066), (2289, 0.06309727270538332), (2290, 0.09978621728753553), (2291, 0.09879050826218905), (2292, 0.3708533283337695), (2293, 0.21987410532398083), (2294, 0.49603002980311767), (2295, 0.3361135599622462), (2296, 0.1253530637447977), (2297, 0.07598730680014608), (2298, 0.060294268299278635), (2299, 0.1161536239115077), (2300, 0.2595220330446214), (2301, 0.2521737539182468), (2302, 0.06090948248480982), (2303, 0.36211018297992376), (2304, 0.08306702656258808), (2305, 0.1591459314444739), (2306, 0.17366323425622915), (2307, 0.05243007098393938), (2308, 0.15444898412659913), (2309, 0.1024807782098837), (2310, 0.12331863338237033), (2311, 0.09075366070015228), (2312, 0.0789201373738227), (2313, 0.2333407811857708), (2314, 0.08995855583313662), (2315, 0.09557942364306958), (2316, 0.4221177186574066), (2317, 0.33331858574758305), (2318, 0.21311916562238736), (2319, 0.09710635104256857), (2320, 0.07811749286677695), (2321, 0.16165636463855707), (2322, 0.34980060171928856), (2323, 0.04114901379542311), (2324, 0.08447887891146763), (2325, 0.2662221286590853), (2326, 0.2708865528821536), (2327, 0.1111433739261456), (2328, 0.07769308917839732), (2329, 0.44710984301008433), (2330, 0.18732788367268025), (2331, 0.11876003730454518), (2332, 0.11238420245546857), (2333, 0.16159255716013698), (2334, 0.38792967955380026), (2335, 0.26601630293594813), (2336, 0.3410831011022961), (2337, 0.4303398258273947), (2338, 0.3004045419249364), (2339, 0.14934301633564362), (2340, 0.08907799978269425), (2341, 0.1085862435919557), (2342, 0.09481121014614043), (2343, 0.10992302758095471), (2344, 0.10447466183862272), (2345, 0.06986149266542828), (2346, 0.054148898514380914), (2347, 0.08086452218543018), (2348, 0.0982186629742983), (2349, 0.35617503773662956), (2350, 0.1533260108676225), (2351, 0.47104739086731784), (2352, 0.2939994817038317), (2353, 0.20447925714004658), (2354, 0.27516882247495067), (2355, 0.09400914283720177), (2356, 0.3562263641493712), (2357, 0.10994962316569212), (2358, 0.07365419451953908), (2359, 0.31760632051566007), (2360, 0.13626252737190978), (2361, 0.3151546870992741), (2362, 0.2945349809786436), (2363, 0.09082655729243556), (2364, 0.07262179848868161), (2365, 0.36599774640917393), (2366, 0.244745822039707), (2367, 0.1224615807346004), (2368, 0.26177519196379595), (2369, 0.2707308272372573), (2370, 0.11394365177966045), (2371, 0.4440718584939304), (2372, 0.18378455306275482), (2373, 0.3138579809910622), (2374, 0.47945938692780626), (2375, 0.148830084245021), (2376, 0.1268251953104129), (2377, 0.2878966794990725), (2378, 0.08373592914724236), (2379, 0.06732357320382701), (2380, 0.13537675891519163), (2381, 0.33486437270861075), (2382, 0.4182831033583012), (2383, 0.08509011569285724), (2384, 0.10999619883094339), (2385, 0.13238768652650557), (2386, 0.34813010453071114), (2387, 0.18867750475468809), (2388, 0.10840792734787078), (2389, 0.2869911485122328), (2390, 0.39656794161061687), (2391, 0.16233378837211881), (2392, 0.047888878171717206), (2393, 0.06957555869409214), (2394, 0.0941453451134186), (2395, 0.10467080657229769), (2396, 0.13925394829256119), (2397, 0.10004937365310604), (2398, 0.3691752705604353), (2399, 0.3860376580658237), (2400, 0.12322968601385295), (2401, 0.1783696382233979), (2402, 0.2358829283344238), (2403, 0.07213869682294445), (2404, 0.11054130588654432), (2405, 0.3912253902736994), (2406, 0.17880407755640818), (2407, 0.07342986534217699), (2408, 0.37256766252276086), (2409, 0.3665969661893112), (2410, 0.37225519545124636), (2411, 0.13669068946288454), (2412, 0.3427670084060665), (2413, 0.3436087627905405), (2414, 0.21295728101096792), (2415, 0.3879568714464444), (2416, 0.2666933835084342), (2417, 0.31244250613225333), (2418, 0.3654334039171624), (2419, 0.29323456120707964), (2420, 0.1298345590974862), (2421, 0.44765685939857924), (2422, 0.19933331429370615), (2423, 0.3452703956792256), (2424, 0.21924811953324133), (2425, 0.17152552253216857), (2426, 0.10693208383751404), (2427, 0.11161676019278621), (2428, 0.2812890477257658), (2429, 0.4677652340262609), (2430, 0.32210397764079285), (2431, 0.07630507104524978), (2432, 0.190805117393975), (2433, 0.10251408472010926), (2434, 0.3032620484667236), (2435, 0.1540532750469709), (2436, 0.10757454924435991), (2437, 0.23380760739669426), (2438, 0.32211549213105584), (2439, 0.2236745690715395), (2440, 0.07347590420877056), (2441, 0.10312214884173841), (2442, 0.16960302878953668), (2443, 0.17542919244638078), (2444, 0.09832449429651693), (2445, 0.45885946217756685), (2446, 0.0649881405715758), (2447, 0.25239243847081916), (2448, 0.15545225180203193), (2449, 0.12083848598027486), (2450, 0.08910648683456407), (2451, 0.20885676565961053), (2452, 0.263492455147632), (2453, 0.28539971114209584), (2454, 0.06813318470459609), (2455, 0.13625629177832702), (2456, 0.2844561161301474), (2457, 0.08170661090536224), (2458, 0.09328218509822638), (2459, 0.40215287446356746), (2460, 0.27466252298915145), (2461, 0.1668079475276449), (2462, 0.3075552625949366), (2463, 0.13698703029296938), (2464, 0.08434338987518311), (2465, 0.09282744972676106), (2466, 0.11044269988081579), (2467, 0.07206190832998659), (2468, 0.1280832229479202), (2469, 0.11712123947065095), (2470, 0.14093670974403638), (2471, 0.056412094921113785), (2472, 0.20993361660358276), (2473, 0.21718911020569248), (2474, 0.09442362847260537), (2475, 0.11548909200727282), (2476, 0.3804177523630415), (2477, 0.12427569443523892), (2478, 0.28119190778903796), (2479, 0.10325187662521756), (2480, 0.4698410724147074), (2481, 0.2892845581689589), (2482, 0.46412982911617473), (2483, 0.3155578306386082), (2484, 0.07552207655895422), (2485, 0.19214708542216344), (2486, 0.17719007924882677), (2487, 0.27269445841379036), (2488, 0.09808114033381156), (2489, 0.17200675941641952), (2490, 0.0954427571981642), (2491, 0.30432988504857006), (2492, 0.28852305647970916), (2493, 0.2646093992214599), (2494, 0.3739327778134387), (2495, 0.32410782899153795), (2496, 0.3039801167880763), (2497, 0.28866482637200114), (2498, 0.32389146582649964), (2499, 0.22610711403741923), (2500, 0.17430715378455036), (2501, 0.2876966904102382), (2502, 0.34441597692755094), (2503, 0.2052315308126059), (2504, 0.3067969908611257), (2505, 0.10575536500122831), (2506, 0.11566782605743542), (2507, 0.3340456880711697), (2508, 0.29963368604771295), (2509, 0.146371596798335), (2510, 0.28218934519803723), (2511, 0.1800544234551089), (2512, 0.04227737389726009), (2513, 0.11217990775187499), (2514, 0.1051887986371913), (2515, 0.18344983235999987), (2516, 0.3540287499814297), (2517, 0.20743133478416315), (2518, 0.46977493749940763), (2519, 0.19051920462510363), (2520, 0.2658821722997962), (2521, 0.1997011938961418), (2522, 0.3812968319456902), (2523, 0.3265971029974431), (2524, 0.4977881354930873), (2525, 0.347987680069248), (2526, 0.3082511718823286), (2527, 0.22408083396423142), (2528, 0.2761249685893827), (2529, 0.25578001179892595), (2530, 0.08107822566119047), (2531, 0.06709751504280544), (2532, 0.19636482711073872), (2533, 0.24141865418959393), (2534, 0.2828035310268297), (2535, 0.45447311246826877), (2536, 0.26895143288233186), (2537, 0.14545886624579107), (2538, 0.2438078813491229), (2539, 0.23415135930278003), (2540, 0.4001956262337315), (2541, 0.45724562422688086), (2542, 0.27451288178959693), (2543, 0.270185995488942), (2544, 0.3811393588032141), (2545, 0.232109425227621), (2546, 0.12173950720310718), (2547, 0.3581779501996319), (2548, 0.4411799034079321), (2549, 0.1938934746255179), (2550, 0.0706822018606523), (2551, 0.10339816832694873), (2552, 0.14471570588475036), (2553, 0.22625727344777263), (2554, 0.11008584266921427), (2555, 0.419460124377811), (2556, 0.08805810413989243), (2557, 0.33348446950422234), (2558, 0.35987588879273735), (2559, 0.20248835684544617), (2560, 0.10664129620655721), (2561, 0.08550798445847044), (2562, 0.22471782140337918), (2563, 0.12703726763936343), (2564, 0.2685701185892407), (2565, 0.33493919561232854), (2566, 0.31556362748429617), (2567, 0.11437653941484482), (2568, 0.18958226824985433), (2569, 0.16811244909914724), (2570, 0.27823230797704657), (2571, 0.30928039536823204), (2572, 0.12098783666010811), (2573, 0.3862450270440751), (2574, 0.3756125191120786), (2575, 0.22782186573761326), (2576, 0.3951983409529605), (2577, 0.06854305234114194), (2578, 0.45405059893151967), (2579, 0.06207534263814583), (2580, 0.136643169485277), (2581, 0.10390856847096333), (2582, 0.28492967627703725), (2583, 0.18521587586446892), (2584, 0.1913632854338308), (2585, 0.08918395229077129), (2586, 0.34506181326250973), (2587, 0.15801720817129872), (2588, 0.23873737857806743), (2589, 0.17919654993221848), (2590, 0.07717736477663473), (2591, 0.11996256328976689), (2592, 0.13200785346576782), (2593, 0.160517270970524), (2594, 0.16133269076994994), (2595, 0.19189781764173003), (2596, 0.0661624584332895), (2597, 0.22584255966571545), (2598, 0.24528628719574117), (2599, 0.23724612619425114), (2600, 0.1173740306598523), (2601, 0.13042363043536803), (2602, 0.23358922412555186), (2603, 0.39548519692909473), (2604, 0.08905421530835955), (2605, 0.31253948686035743), (2606, 0.31137844353399974), (2607, 0.10169251942914151), (2608, 0.1958261166805687), (2609, 0.34521854038698113), (2610, 0.3602622939467158), (2611, 0.2626743739521317), (2612, 0.27627156075221093), (2613, 0.27430464845297325), (2614, 0.27570875728234795), (2615, 0.4601078954931294), (2616, 0.26948405130915065), (2617, 0.41354390910969646), (2618, 0.1468125309786568), (2619, 0.13185846691535408), (2620, 0.3293367156942721), (2621, 0.3259291989409447), (2622, 0.47466793569198223), (2623, 0.38942991404915117), (2624, 0.23663788630801885), (2625, 0.28160901575222236), (2626, 0.07715691913158228), (2627, 0.08662011937070478), (2628, 0.1638408358623374), (2629, 0.3866066879043766), (2630, 0.1884596251702457), (2631, 0.2261581545350023), (2632, 0.1374339485400191), (2633, 0.06091539378810581), (2634, 0.15592739434754874), (2635, 0.06488026357839446), (2636, 0.09016476810924108), (2637, 0.19403040075322311), (2638, 0.38729916690057553), (2639, 0.30074486888310664), (2640, 0.06527494709575113), (2641, 0.4957666588777283), (2642, 0.10967328503880917), (2643, 0.415066579560859), (2644, 0.07833294172498462), (2645, 0.1369113525254482), (2646, 0.10509819680713578), (2647, 0.09305547781179803), (2648, 0.33263376144303186), (2649, 0.1502407496674823), (2650, 0.12093052016263463), (2651, 0.07653296735418691), (2652, 0.36635250402484687), (2653, 0.24488783428747163), (2654, 0.13434707098832538), (2655, 0.08183365212811623), (2656, 0.15907686014115194), (2657, 0.10793450186490551), (2658, 0.054137620781783566), (2659, 0.08838263922822398), (2660, 0.24182458521325748), (2661, 0.4073035465436434), (2662, 0.16649655350311798), (2663, 0.3334968157948973), (2664, 0.12088288515656916), (2665, 0.34137209053308304), (2666, 0.07674221860995478), (2667, 0.3366453708896776), (2668, 0.2951273597553622), (2669, 0.1054563499867798), (2670, 0.11148296774110616), (2671, 0.19185672150488176), (2672, 0.25701275009621327), (2673, 0.034524448869392946), (2674, 0.0991856466909106), (2675, 0.2483134511944238), (2676, 0.13537846603180909), (2677, 0.2504660191587781), (2678, 0.06127176650946913), (2679, 0.07773852970904971), (2680, 0.2545599571735623), (2681, 0.14832156438270264), (2682, 0.44706388929814916), (2683, 0.2648115881406831), (2684, 0.12527168992726959), (2685, 0.18374389713653558), (2686, 0.38553808247383775), (2687, 0.37790094248156814), (2688, 0.23965880921454602), (2689, 0.3742635068765302), (2690, 0.2772582340035031), (2691, 0.4823184081936163), (2692, 1.0000000000000002), (2693, 0.12036615386697888), (2694, 0.2879333634862475), (2695, 0.09055910062048281), (2696, 0.2007887986768392), (2697, 0.07612164394626657), (2698, 0.08390521883694077), (2699, 0.07235218490267127), (2700, 0.04797771526538506), (2701, 0.2671851906058388), (2702, 0.05480430746995184), (2703, 0.20157814834282836), (2704, 0.3168129117602671), (2705, 0.0672771195547557), (2706, 0.18371946997319974), (2707, 0.09703178387289002), (2708, 0.07273852173180553), (2709, 0.08335342753502499), (2710, 0.3060044903857132), (2711, 0.4787160236949029), (2712, 0.07838151883358915), (2713, 0.34938713636336544), (2714, 0.3321881612287279), (2715, 0.24500281589272171), (2716, 0.48964337532929786), (2717, 0.05860178575748597), (2718, 0.3081793582546053), (2719, 0.2257176713582478), (2720, 0.2330660418805404), (2721, 0.09950615668381156), (2722, 0.09935852671777454), (2723, 0.3306587869449423), (2724, 0.12600301141200476), (2725, 0.26856071301485634), (2726, 0.055293858879577995), (2727, 0.33827499856969656), (2728, 0.27211671500515267), (2729, 0.2423322335104029), (2730, 0.2462393789384641), (2731, 0.13034760075359794), (2732, 0.2884152188323896), (2733, 0.08296588352040908), (2734, 0.07464475136995176), (2735, 0.10236784475489893), (2736, 0.36578631442055337), (2737, 0.12148670725719649), (2738, 0.09959377199711586), (2739, 0.102115279987675), (2740, 0.1039216285330107), (2741, 0.06438048910547753), (2742, 0.37734475978779947), (2743, 0.19964068234382676), (2744, 0.1607307190785947), (2745, 0.13417333898186043), (2746, 0.18868131428880566), (2747, 0.12466319352177135), (2748, 0.08029615623591935), (2749, 0.2738135006383126), (2750, 0.11007279522122577), (2751, 0.11144073693918491), (2752, 0.09187271115846404), (2753, 0.2530403629415626), (2754, 0.3716479576227396), (2755, 0.3149482779598193), (2756, 0.2476391790119845), (2757, 0.2573027589149299), (2758, 0.286647505330645), (2759, 0.25398542976160565), (2760, 0.182776716751586), (2761, 0.24879511337332896), (2762, 0.0851808031898732), (2763, 0.3519118411237072), (2764, 0.2769640758930334), (2765, 0.12484753370438403), (2766, 0.3063583057041414), (2767, 0.1205644796524072), (2768, 0.16649713042988856), (2769, 0.1412244239459343), (2770, 0.11478692442526055), (2771, 0.20733374279805683), (2772, 0.04544161849072104), (2773, 0.05136184464433003), (2774, 0.153676146280732), (2775, 0.08565509213293235), (2776, 0.16165347304233685), (2777, 0.07700616812650403), (2778, 0.0997930802559085), (2779, 0.3293405977759439), (2780, 0.3640347314598943), (2781, 0.2986871524124298), (2782, 0.08198950996576602), (2783, 0.11116758523630864), (2784, 0.42067801516767056), (2785, 0.2518344003878193), (2786, 0.06757463568706751), (2787, 0.10563455493667587), (2788, 0.2644247118032716), (2789, 0.29437971931667917), (2790, 0.2420629633533345), (2791, 0.3023035424570388), (2792, 0.4137595285443975), (2793, 0.3056003013203169), (2794, 0.25349522941053726), (2795, 0.16393296614808814), (2796, 0.11185223230822236), (2797, 0.20496900993547085), (2798, 0.37112965939202885), (2799, 0.4526032886872439), (2800, 0.3758662675422737), (2801, 0.46619635959101535), (2802, 0.31970560830878536), (2803, 0.458521431919092), (2804, 0.32378835798581024), (2805, 0.08872308754338681), (2806, 0.04674062069338449), (2807, 0.3646276893908926), (2808, 0.40644458772501224), (2809, 0.26157092219873124), (2810, 0.11637636199412195), (2811, 0.20350170866011486), (2812, 0.2747311961800555), (2813, 0.25902156004305554), (2814, 0.08627986557403979), (2815, 0.39834670026255276), (2816, 0.08584292666468721), (2817, 0.29672167867292226), (2818, 0.13099451259425485), (2819, 0.40766930187229306), (2820, 0.2744129332001629), (2821, 0.08349855861151385), (2822, 0.3206396290097586), (2823, 0.26968994454011364), (2824, 0.29269170941437134), (2825, 0.20319931282745438), (2826, 0.4489718352187845), (2827, 0.1598845178137726), (2828, 0.25436511307349324), (2829, 0.06345987190036961), (2830, 0.3946848649884063), (2831, 0.09111806881092104), (2832, 0.08092092938502202), (2833, 0.11006044434595143), (2834, 0.2487438224591488), (2835, 0.06322982682792548), (2836, 0.10228560377204028), (2837, 0.09844031660692196), (2838, 0.10347214297419952), (2839, 0.27820007511023265), (2840, 0.10699951439826996), (2841, 0.2058424630119063), (2842, 0.07745397197435669), (2843, 0.13242849913014046), (2844, 0.1159802351919017), (2845, 0.337330655220372), (2846, 0.3080224010530446), (2847, 0.15739123710904504), (2848, 0.35345475834540185), (2849, 0.10036801335177271), (2850, 0.4731378653424905), (2851, 0.11779745174684284), (2852, 0.248201114083445), (2853, 0.3409516077100031), (2854, 0.20413534404241568), (2855, 0.0933579354649642), (2856, 0.32387562784416263), (2857, 0.04323735916488267), (2858, 0.15806333161657038), (2859, 0.1765932009206589), (2860, 0.15429514892928026), (2861, 0.2785930558252341), (2862, 0.13577543394873995), (2863, 0.2903830367484357), (2864, 0.11511909015063326), (2865, 0.2812090190794158), (2866, 0.10754967975627461), (2867, 0.2116586637354866), (2868, 0.28104832309099537), (2869, 0.12217301655225193), (2870, 0.07546296806745452), (2871, 0.19123743540056196), (2872, 0.21434156293165363), (2873, 0.2992011461335104), (2874, 0.07541927442784513), (2875, 0.08259090602821068), (2876, 0.09029052063118771), (2877, 0.1398057729556918), (2878, 0.35126571525288375), (2879, 0.08422005446283579), (2880, 0.1102588487192041), (2881, 0.21204193263144439), (2882, 0.23879022212583545), (2883, 0.13943195187586602), (2884, 0.10278998698503417), (2885, 0.10425102562332535), (2886, 0.3653597602869194), (2887, 0.08003632867493288), (2888, 0.253027092082092), (2889, 0.0965397844610996), (2890, 0.08601809616072122), (2891, 0.0849267717770941), (2892, 0.32074173659969984), (2893, 0.2728245690451859), (2894, 0.2820489379789663), (2895, 0.26374505040234175), (2896, 0.4523387454800382), (2897, 0.1540675088609149), (2898, 0.3204926675547307), (2899, 0.2048923835304897), (2900, 0.06048364037244745), (2901, 0.06691787196040763), (2902, 0.09517978252706716), (2903, 0.448742685105308), (2904, 0.2918383735236981), (2905, 0.11265217538380963), (2906, 0.26125630312566533), (2907, 0.22700385265159845), (2908, 0.37313049211644456), (2909, 0.32760410395217293), (2910, 0.2628388229040137), (2911, 0.11213718878144771), (2912, 0.36090387259705764), (2913, 0.06866705843194013), (2914, 0.08440258749908303), (2915, 0.20263622390961117), (2916, 0.09389480935822224), (2917, 0.22667643184079464), (2918, 0.4390604629573676), (2919, 0.45908085436374435), (2920, 0.4165988150561861), (2921, 0.3944199873299275), (2922, 0.2567662317753081), (2923, 0.13890615309575483), (2924, 0.07989303951885357), (2925, 0.09128435173738937), (2926, 0.19802163909790552), (2927, 0.21502095612226738), (2928, 0.14945210099587908), (2929, 0.2439586312787826), (2930, 0.06432596846821967), (2931, 0.33862881945989026), (2932, 0.07302804126058791), (2933, 0.13172468302857285), (2934, 0.052644370688924025), (2935, 0.10054691352954268), (2936, 0.06939743620369318), (2937, 0.05032985602833976), (2938, 0.19340384498226526), (2939, 0.20987636713108912), (2940, 0.14474082528316742), (2941, 0.05353014492254185), (2942, 0.3336366492863463), (2943, 0.13081970249618596), (2944, 0.2989006001744238), (2945, 0.07928269022129342), (2946, 0.13280497688545495), (2947, 0.26522722107218555), (2948, 0.05999018944073522), (2949, 0.08612435946730247), (2950, 0.2711732105282405), (2951, 0.10332040261379236), (2952, 0.20614452700391378), (2953, 0.21875723351213947), (2954, 0.09028226866368705), (2955, 0.2508052628839363), (2956, 0.2677771756171537), (2957, 0.28361703090479634), (2958, 0.24289889631440703), (2959, 0.23478390745995067), (2960, 0.49128818752932796), (2961, 0.43101301874833836), (2962, 0.17896381823234245), (2963, 0.32482598613987), (2964, 0.2207644067331784), (2965, 0.161292013514186), (2966, 0.11179791949699798), (2967, 0.07052922015363929), (2968, 0.0854297242760021), (2969, 0.22975373672688887), (2970, 0.2703578786724977), (2971, 0.19056392618101145), (2972, 0.20387956275199803), (2973, 0.19640401692427387), (2974, 0.10762220345176382), (2975, 0.34937015252794135), (2976, 0.289152789339322), (2977, 0.1885304048502777), (2978, 0.22906230297582325), (2979, 0.22404486434262744), (2980, 0.4252960465567177), (2981, 0.33339044986505767), (2982, 0.19892406834878795), (2983, 0.09459508747554048), (2984, 0.42798722239249076), (2985, 0.3738631532889208), (2986, 0.3102155548033998), (2987, 0.09854159500910023), (2988, 0.32080941545208735), (2989, 0.09377913207710104), (2990, 0.08770606263399214), (2991, 0.23553832266628114), (2992, 0.07792336014833515), (2993, 0.0908839734695564), (2994, 0.11122934417476245), (2995, 0.17810127544803647), (2996, 0.31854909555076066), (2997, 0.09877280885648684), (2998, 0.12488800077480083), (2999, 0.056827254694539725), (3000, 0.11193897969149245), (3001, 0.273250712740652), (3002, 0.4757117042858812), (3003, 0.094080512346595), (3004, 0.10101825501354991), (3005, 0.23059081941631615), (3006, 0.14373331117297583), (3007, 0.04893832511382895), (3008, 0.21850002160922222), (3009, 0.07419281518162646), (3010, 0.3187262549123905), (3011, 0.33082268044330587), (3012, 0.3155866246661715), (3013, 0.2798245735267076), (3014, 0.06838813610717201), (3015, 0.22827621245014101), (3016, 0.10339110113058168), (3017, 0.07004541396487474), (3018, 0.23757026356611827), (3019, 0.06060530507702106), (3020, 0.060185118897880106), (3021, 0.29084522324591217), (3022, 0.20281837152230373), (3023, 0.1945056547477133), (3024, 0.10453740955268735), (3025, 0.06959678739933683), (3026, 0.19551236500078073), (3027, 0.14806420089947406), (3028, 0.26944625621899093), (3029, 0.05306517117935146), (3030, 0.28515407167011636), (3031, 0.2437706088729346), (3032, 0.09299207940628652), (3033, 0.11049147235706433), (3034, 0.053278237771242694), (3035, 0.1168990177603416), (3036, 0.13001193172012582), (3037, 0.06623683489947063), (3038, 0.19786654163863354), (3039, 0.3569670569508365), (3040, 0.11941038301854864), (3041, 0.06071163623115643), (3042, 0.29262792638355034), (3043, 0.43007026906227114), (3044, 0.08120113502709808), (3045, 0.25864072858957965), (3046, 0.07242148223515764), (3047, 0.4641630961641357), (3048, 0.15292872691482046), (3049, 0.09430389205602463), (3050, 0.09964423440597335), (3051, 0.11004494370875345), (3052, 0.2828476685330335), (3053, 0.28586520987730785), (3054, 0.1364914198881232), (3055, 0.12721359210488664), (3056, 0.11645383842733907), (3057, 0.15436198673169002), (3058, 0.42193602024987215), (3059, 0.03368780528381283), (3060, 0.2979779710308906), (3061, 0.2456015773676753), (3062, 0.13865822188320207), (3063, 0.07032891295511536), (3064, 0.22943536154684008), (3065, 0.19717884406728362), (3066, 0.4604967865362409), (3067, 0.0880813968988622), (3068, 0.20732883533302854), (3069, 0.2914639137898289), (3070, 0.10381157816433793), (3071, 0.18897357550609795), (3072, 0.3052487472441005), (3073, 0.3117005283168309), (3074, 0.09149772348479562), (3075, 0.05149904573184931), (3076, 0.16259191045203258), (3077, 0.39935482389567206), (3078, 0.3142938123096448), (3079, 0.3340502355300427), (3080, 0.07475236963213225), (3081, 0.26816671359345534), (3082, 0.07164422177283526), (3083, 0.32790541317424277), (3084, 0.10899234714177689), (3085, 0.34259423165807285), (3086, 0.08812988871178855), (3087, 0.058729736667333506), (3088, 0.06675550756216177), (3089, 0.137087671404135), (3090, 0.08205428170044986), (3091, 0.32425668938021174), (3092, 0.09756885694955503), (3093, 0.24770315580965124), (3094, 0.2857971416208238), (3095, 0.13000745964789232), (3096, 0.34665557296443567), (3097, 0.28629482135054396), (3098, 0.23446847654630468), (3099, 0.16488323060686202), (3100, 0.44991090290970065), (3101, 0.11917833971205351), (3102, 0.25439279166909223), (3103, 0.15777763054031207), (3104, 0.3212275718310473), (3105, 0.24965091482650287), (3106, 0.21050028918011413), (3107, 0.0653205272156874), (3108, 0.07162878650344327), (3109, 0.08134538319965275), (3110, 0.08522543470176491), (3111, 0.14772390298113625), (3112, 0.09016057033617321), (3113, 0.09463672940724074), (3114, 0.38609082799423705), (3115, 0.0843170978302439), (3116, 0.05311398982332565), (3117, 0.10166958023434348), (3118, 0.06767187845374337), (3119, 0.2301187532564306), (3120, 0.19089112407736186), (3121, 0.074646200021791), (3122, 0.40062386872338507), (3123, 0.0882896681132721), (3124, 0.4912948238638227), (3125, 0.03806011981833041), (3126, 0.4970870554148747), (3127, 0.23573624411440447), (3128, 0.08505719245477436), (3129, 0.35456756651081983), (3130, 0.4976501012718699), (3131, 0.5017214686575997), (3132, 0.34816787400874205), (3133, 0.3585521390520962), (3134, 0.4144875568942394), (3135, 0.17209394793348726), (3136, 0.14131725213284735), (3137, 0.18027220801690533), (3138, 0.10111529515825916), (3139, 0.15907535307415166), (3140, 0.07121789097236271), (3141, 0.2554413166559776), (3142, 0.05948090512143272), (3143, 0.3573544968698533), (3144, 0.29782944631096947), (3145, 0.25553093033651497), (3146, 0.20023364477759062), (3147, 0.330821409335957), (3148, 0.09443411432780713), (3149, 0.1908042342596302), (3150, 0.36151196642140165), (3151, 0.12246313824012311), (3152, 0.06788857560221523), (3153, 0.28119417380774114), (3154, 0.11981937140010514), (3155, 0.2187205281079245), (3156, 0.2289772904486586), (3157, 0.05878165270097863), (3158, 0.3065692339538127), (3159, 0.044732380277316505), (3160, 0.4316527994903351), (3161, 0.34604263612157365), (3162, 0.11100684533150455), (3163, 0.36983438532237123), (3164, 0.4170247518646574), (3165, 0.08272342902981274), (3166, 0.2648766642895189), (3167, 0.48402708960384244), (3168, 0.2967305838752262), (3169, 0.4981543108738974), (3170, 0.22157033139005475), (3171, 0.25060301728827905), (3172, 0.0944150135164719), (3173, 0.17106523466334173), (3174, 0.338562709167378), (3175, 0.04850061303279303), (3176, 0.07155745832519213), (3177, 0.05351033782914866), (3178, 0.23998852915921956), (3179, 0.3439019609750342), (3180, 0.4386925018162145), (3181, 0.2567824183551633), (3182, 0.2970853642741344), (3183, 0.2908529472764562), (3184, 0.1427154153646998), (3185, 0.10921246698137894), (3186, 0.2736814316746114), (3187, 0.12077553514499716), (3188, 0.23414980965204493), (3189, 0.17374734824475685), (3190, 0.21475061700377848), (3191, 0.27670181121499776), (3192, 0.4007267394105284), (3193, 0.37098379838099066), (3194, 0.13680448527903769), (3195, 0.20925793492339684), (3196, 0.10511941480315685), (3197, 0.1152356264520609), (3198, 0.05777042531583472), (3199, 0.0923573342654028), (3200, 0.26783945868060155), (3201, 0.37155365591121337), (3202, 0.3771647826061311), (3203, 0.10429115687956426), (3204, 0.3244439947462628), (3205, 0.07667400199560644), (3206, 0.04870236058585642), (3207, 0.358251592240818), (3208, 0.4035518642939964), (3209, 0.1593952190292406), (3210, 0.24558066610160073), (3211, 0.2667621786383058), (3212, 0.42718097875640726), (3213, 0.11327681443039324), (3214, 0.09575983385212249), (3215, 0.19177454640767208), (3216, 0.2302997226588563), (3217, 0.0779336934476868), (3218, 0.27954709873419603), (3219, 0.10437215497224768), (3220, 0.20187778582669616), (3221, 0.21635883167847966), (3222, 0.0780211024424959), (3223, 0.237460629286144), (3224, 0.3392959171793774), (3225, 0.4186203647320329), (3226, 0.25960291997227786), (3227, 0.21167593438726698), (3228, 0.24514861247249603), (3229, 0.20829112018257936), (3230, 0.4309353795021169), (3231, 0.4420160299765505), (3232, 0.26749132947720994), (3233, 0.43628254824056373), (3234, 0.15703076315939535), (3235, 0.04792999402107879), (3236, 0.2306495351757243), (3237, 0.09367542678956686), (3238, 0.2454940546597695), (3239, 0.1379474221329494), (3240, 0.06674472554759327), (3241, 0.3718653274039366), (3242, 0.1390430178594122), (3243, 0.08579884850882977), (3244, 0.059408502339930495), (3245, 0.1398519258982525), (3246, 0.23179323025402196), (3247, 0.3136737160210609), (3248, 0.0678127548947903), (3249, 0.1272260315819056), (3250, 0.2656740596874559), (3251, 0.0724686709240651), (3252, 0.2007013757467638), (3253, 0.10377220049646292), (3254, 0.25885344406004296), (3255, 0.048269126048088314), (3256, 0.27919413679973737), (3257, 0.06495091107235154), (3258, 0.06414256405488633), (3259, 0.2615417202743747), (3260, 0.41851618836015864), (3261, 0.043811344867023407), (3262, 0.043612653619101084), (3263, 0.07260849609721302), (3264, 0.09822988657502728), (3265, 0.14620956615913683), (3266, 0.03722878027822335), (3267, 0.09405288091930003), (3268, 0.2001289683897594), (3269, 0.05138899406253422), (3270, 0.3189126846807873), (3271, 0.2902271329280408), (3272, 0.23931208847688618), (3273, 0.15897339022995163), (3274, 0.19176167024342042), (3275, 0.46011065864697426), (3276, 0.2957498548246162), (3277, 0.08962747719507314), (3278, 0.2939383715106929), (3279, 0.3412428383735511), (3280, 0.2714005205688654), (3281, 0.19529861954709873), (3282, 0.09373512484510894), (3283, 0.08336529802794743), (3284, 0.31137580863481656), (3285, 0.09612058909082637), (3286, 0.30785676287734687), (3287, 0.16576359508183489), (3288, 0.46936201331286403), (3289, 0.09816875793537617), (3290, 0.42569764346987865), (3291, 0.13017812962384545), (3292, 0.2579963130008983), (3293, 0.05616812110000223), (3294, 0.260558835046429), (3295, 0.12090576768677135), (3296, 0.12878029543785235), (3297, 0.09480897403786706), (3298, 0.3883413639608062), (3299, 0.3022347827151876), (3300, 0.25613340919393723), (3301, 0.2739421962067688), (3302, 0.148849261097945), (3303, 0.11744320537640503), (3304, 0.21088913132781564), (3305, 0.3016892185000403), (3306, 0.12997833782698617), (3307, 0.12978932117152298), (3308, 0.3138561658156209), (3309, 0.07896301647492115), (3310, 0.49006736083915414), (3311, 0.2842151578713958), (3312, 0.11258880626810247), (3313, 0.29730388355107323), (3314, 0.24189953287379273), (3315, 0.1630359517917905), (3316, 0.3855269308693622), (3317, 0.2580107748117156), (3318, 0.27260404362182544), (3319, 0.28067076484169967), (3320, 0.2968042487371608), (3321, 0.12845434885273058), (3322, 0.17887783697836912), (3323, 0.03888896009991867), (3324, 0.08759282852199385), (3325, 0.040768806140906604), (3326, 0.2446160600518773), (3327, 0.29380940670254474), (3328, 0.2020624457206349), (3329, 0.3424613810784886), (3330, 0.22397655026077062), (3331, 0.1904014164377963), (3332, 0.17855942119248155), (3333, 0.30461848219366294), (3334, 0.24384129053021275), (3335, 0.4506115633800849), (3336, 0.08770161513541183), (3337, 0.3329245942958948), (3338, 0.4189453473899802), (3339, 0.36903166493428174), (3340, 0.2347055796230443), (3341, 0.07617604787768474), (3342, 0.4539257932783252), (3343, 0.24858532098161962), (3344, 0.4848343571117933), (3345, 0.07501613208456322), (3346, 0.2522173332604868), (3347, 0.17052301382934243), (3348, 0.0695848291947379), (3349, 0.13016264963615848), (3350, 0.05048627407456692), (3351, 0.3729838460007935), (3352, 0.34623153251333644), (3353, 0.11258878225259404), (3354, 0.08734161254340728), (3355, 0.2708452803584431), (3356, 0.3313672604909095), (3357, 0.252046123903188), (3358, 0.34872229681049227), (3359, 0.18884292470240316), (3360, 0.4759396295007947), (3361, 0.49000447049169654), (3362, 0.3086064200519321), (3363, 0.3254071965953999), (3364, 0.13774740054073023), (3365, 0.16928425075147424), (3366, 0.2262576174880555), (3367, 0.4266822782009699), (3368, 0.4809861977360868), (3369, 0.1097409455964418), (3370, 0.393536293964389), (3371, 0.11673446178238334), (3372, 0.06122264081982368), (3373, 0.36349419956809764), (3374, 0.26949945813312115), (3375, 0.2817434241951841), (3376, 0.35207516351623874), (3377, 0.24069290289215486), (3378, 0.12617779688038144), (3379, 0.4710108876273772), (3380, 0.19807546752877705), (3381, 0.43207870657383163), (3382, 0.12079588058860191), (3383, 0.12022875151237973), (3384, 0.3706110775517262), (3385, 0.3206593286673699), (3386, 0.2046223424192486), (3387, 0.327009090515132), (3388, 0.33997341472323517), (3389, 0.06074586220613679), (3390, 0.26940683946677735), (3391, 0.11542011370914121), (3392, 0.2269663135472154), (3393, 0.2636123203821611), (3394, 0.3543075930326681), (3395, 0.24733603695660972), (3396, 0.05743583372550264), (3397, 0.06533463038071755), (3398, 0.46036865347732564), (3399, 0.12373276534183215), (3400, 0.08608631616509654), (3401, 0.19038255228038037), (3402, 0.2458304952685007), (3403, 0.10733628329748338), (3404, 0.28163779440973946), (3405, 0.3023975603123483), (3406, 0.32883409264822183), (3407, 0.26021627304285877), (3408, 0.11174991232354935), (3409, 0.42947445624425856), (3410, 0.31613095796465357), (3411, 0.21598269914156853), (3412, 0.10883538408235521), (3413, 0.2148814571198126), (3414, 0.07722946372412619), (3415, 0.24545716670407086), (3416, 0.4494218408269701), (3417, 0.11195245350975105), (3418, 0.1392512597725293), (3419, 0.08287632306491785), (3420, 0.02961335351308265), (3421, 0.19820992877129515), (3422, 0.062316975384979253), (3423, 0.12697700537607293), (3424, 0.06531000509000918), (3425, 0.23207821174874094), (3426, 0.25573871592814307), (3427, 0.4979158951536542), (3428, 0.055109027827971876), (3429, 0.467485123293286), (3430, 0.3013275203120344), (3431, 0.18615737488865744), (3432, 0.3699922099752186), (3433, 0.29270605107114034), (3434, 0.10006631451844197), (3435, 0.42782944382935195), (3436, 0.4228363178741807), (3437, 0.1883598670566712), (3438, 0.22953685434673163), (3439, 0.0638980886870262), (3440, 0.2460466306215996), (3441, 0.050766941514720554), (3442, 0.3916702962479437), (3443, 0.2305835224801359), (3444, 0.3841788151732489), (3445, 0.4838071027174136), (3446, 0.28721193316682614), (3447, 0.4216055477948166), (3448, 0.3310196598150345), (3449, 0.14701431256580438), (3450, 0.5153106967872638), (3451, 0.48956528447105596), (3452, 0.4137048871827742), (3453, 0.4602446176919333), (3454, 0.42647910034918796), (3455, 0.05706377083066891), (3456, 0.10616690254052868), (3457, 0.27967722143803714), (3458, 0.06894553374601717), (3459, 0.12303951717248009), (3460, 0.29900191126686226), (3461, 0.2427762498683174), (3462, 0.4346160219285629), (3463, 0.4366122063651836), (3464, 0.37057226072171534), (3465, 0.13441606706653972), (3466, 0.3352935017456822), (3467, 0.5167311271607701), (3468, 0.36475219962850053), (3469, 0.4294814795101405), (3470, 0.42020309182014837), (3471, 0.15436894619525826), (3472, 0.11304987303218951), (3473, 0.38993055592750336), (3474, 0.2647202627046615), (3475, 0.05522968632108267), (3476, 0.13870341249189577), (3477, 0.26090019058900565), (3478, 0.43418864076267527), (3479, 0.0935674721655616), (3480, 0.3686099125510538), (3481, 0.21979757240007503), (3482, 0.16032879689306773), (3483, 0.3673823362809477), (3484, 0.44556956016488447), (3485, 0.2866242914349981), (3486, 0.32000117850725707), (3487, 0.219762022322665), (3488, 0.1409643805508028), (3489, 0.12617795609195273), (3490, 0.4373938188670991), (3491, 0.2723960056888335), (3492, 0.4792953432945011), (3493, 0.3988290720937508), (3494, 0.24098426907218545), (3495, 0.2523703816598757), (3496, 0.4148266576692271), (3497, 0.28520203094418284), (3498, 0.32972745517310664), (3499, 0.34087633569388465), (3500, 0.17869390742014496), (3501, 0.05468931666890161), (3502, 0.11925875275814568), (3503, 0.3414266432728961), (3504, 0.17417030758742302), (3505, 0.4219870897038932), (3506, 0.08946122153751998), (3507, 0.49211002035503293), (3508, 0.43696716219054044), (3509, 0.3230228005984222), (3510, 0.05549983096209819), (3511, 0.18159871722988172), (3512, 0.06869396583155607), (3513, 0.17495417784958195), (3514, 0.1450164254093616), (3515, 0.11507823160388152), (3516, 0.2804135084648724), (3517, 0.14939307630926482), (3518, 0.1066989466720329), (3519, 0.4108620974668875), (3520, 0.3929391047694711), (3521, 0.06678147654996454), (3522, 0.37946096094008636), (3523, 0.0375068236086545), (3524, 0.07061505040835825), (3525, 0.4625463447972627), (3526, 0.0953071634866565), (3527, 0.24684731651031433), (3528, 0.09766153238021301), (3529, 0.06351171744773959), (3530, 0.048924684373507506), (3531, 0.2869823868079253), (3532, 0.4880954893216034), (3533, 0.07815341286351246), (3534, 0.20644150477688147), (3535, 0.07528642594098628), (3536, 0.07771948152930558), (3537, 0.062132607790844625), (3538, 0.05970734758016776), (3539, 0.23373357480076956), (3540, 0.25742959386726455), (3541, 0.3164445537036271), (3542, 0.3377547147551541), (3543, 0.2901480952056096), (3544, 0.05299034726831238), (3545, 0.06360062871554151), (3546, 0.301474313853923), (3547, 0.13015586789096953), (3548, 0.358193833539446), (3549, 0.4060199125511676), (3550, 0.4017062223419381), (3551, 0.31469808625496454), (3552, 0.03326097080294858), (3553, 0.16872572102646957), (3554, 0.27799687508074344), (3555, 0.3226400582327012), (3556, 0.12154444264014519), (3557, 0.23654811204650053), (3558, 0.07896243564201588), (3559, 0.37251565348486), (3560, 0.12796701183583717), (3561, 0.0608625278447213), (3562, 0.17743848521789995), (3563, 0.14532900900126258), (3564, 0.372952744875223), (3565, 0.4151527189866878), (3566, 0.4919464422875095), (3567, 0.3732115322635047), (3568, 0.36609465537145974), (3569, 0.42693224077471287), (3570, 0.2830030088441804), (3571, 0.10384177726251889), (3572, 0.40849889510518383), (3573, 0.1412251145532559), (3574, 0.2277794047187344), (3575, 0.10521253986399162), (3576, 0.2920161483931718), (3577, 0.04658930100721755), (3578, 0.1146184625012766), (3579, 0.1196750215875503), (3580, 0.21200918114229775), (3581, 0.22662805802405914), (3582, 0.11120257604847307), (3583, 0.25522169084687507), (3584, 0.21617184290454092), (3585, 0.0697112072313806), (3586, 0.38500333526510366), (3587, 0.42924142117357955), (3588, 0.1082702476439094), (3589, 0.08927558297679622), (3590, 0.31797341631109943), (3591, 0.3070913952700291), (3592, 0.44950387097711364), (3593, 0.39576194737553994), (3594, 0.13678792365877357), (3595, 0.34792588202323715), (3596, 0.3361243751715727), (3597, 0.28826868199788847), (3598, 0.340133844317794), (3599, 0.3230127210523277), (3600, 0.15793937620149118), (3601, 0.05930539598455122), (3602, 0.30948568988139025), (3603, 0.395082408833923), (3604, 0.4361409689957396), (3605, 0.4064871911929309), (3606, 0.24655625172687973), (3607, 0.34169557242931803), (3608, 0.19504251984356633), (3609, 0.31083965523393275), (3610, 0.1318997422048068), (3611, 0.42781293812166726), (3612, 0.467601061479312), (3613, 0.1936118993687296), (3614, 0.16986851796106223), (3615, 0.08887101262779697), (3616, 0.17208871603161421), (3617, 0.18886411689221913), (3618, 0.4355639853814277), (3619, 0.34327606827474455), (3620, 0.0680760842329028), (3621, 0.2504836755751516), (3622, 0.07580786094003775), (3623, 0.48320747509894446), (3624, 0.09530607580304142), (3625, 0.18366196618066727), (3626, 0.20376973299133114), (3627, 0.07024535803754123), (3628, 0.3624157133958393), (3629, 0.17805407538642218), (3630, 0.08368716390713318), (3631, 0.2502730932716276), (3632, 0.2983242623117943), (3633, 0.4246339944571374), (3634, 0.23311901548739022), (3635, 0.36863090154896905), (3636, 0.055951492691619496), (3637, 0.4201280387346398), (3638, 0.09699685917462207), (3639, 0.28555485861389157), (3640, 0.1106124017920495), (3641, 0.3483014612701509), (3642, 0.47414568477184815), (3643, 0.2969376145014257), (3644, 0.10964772843230469), (3645, 0.06145132574513575), (3646, 0.2941197111805497), (3647, 0.13089298929125923), (3648, 0.17612340445954477), (3649, 0.4137895484036715), (3650, 0.09494553063313899), (3651, 0.27038821975874855), (3652, 0.19074741063355727), (3653, 0.14070909403654888), (3654, 0.28203228661466295), (3655, 0.2660150188302847), (3656, 0.12974336359819819), (3657, 0.4518256615718733), (3658, 0.4180980964146049), (3659, 0.31461595517932306), (3660, 0.46272667049520033), (3661, 0.2695251736482725), (3662, 0.40208461815629015), (3663, 0.042915003514259024), (3664, 0.13203647342035146), (3665, 0.24641937895788094), (3666, 0.3444351271336157), (3667, 0.1548920296543824), (3668, 0.05581385167119417), (3669, 0.11019178545809691), (3670, 0.4988475402619913), (3671, 0.3134014965701653), (3672, 0.04714636469859811), (3673, 0.28973097970938566), (3674, 0.10744630133161769), (3675, 0.06324260947883754), (3676, 0.014179946781793408), (3677, 0.2764675603757605), (3678, 0.07857585268305023), (3679, 0.054094288396154405), (3680, 0.08626810023689971), (3681, 0.45189051042318806), (3682, 0.2248597251603831), (3683, 0.10032301836587296), (3684, 0.2936184102697787), (3685, 0.23190640966404708), (3686, 0.09299628387902484), (3687, 0.08269939696046517), (3688, 0.3262796448950219), (3689, 0.4725486123874828), (3690, 0.35443204567606923), (3691, 0.445656468173567), (3692, 0.48061630660505683), (3693, 0.31250320848890295), (3694, 0.3214266190122671), (3695, 0.3649919667437756), (3696, 0.43533350842508833), (3697, 0.49987909997714836), (3698, 0.4397344713622528), (3699, 0.19515707040023933), (3700, 0.3859570203362612), (3701, 0.27087601458483396), (3702, 0.09532377591143135), (3703, 0.035962324243074315), (3704, 0.07230298778427147), (3705, 0.48751534839774296), (3706, 0.2851419925477692), (3707, 0.22334606290056674), (3708, 0.46494420448079254), (3709, 0.42088613801895397), (3710, 0.26254590952635276), (3711, 0.31352337816396897), (3712, 0.03192011995697262), (3713, 0.3599163648420513), (3714, 0.05438991954930479), (3715, 0.052180394564859706), (3716, 0.13155876951036882), (3717, 0.04540098865912873), (3718, 0.4825685717180035), (3719, 0.1912424939924567), (3720, 0.4309140277532596), (3721, 0.15696828703430113), (3722, 0.21987471819744026), (3723, 0.3673010685725382), (3724, 0.28284901343373914), (3725, 0.2858574106869686), (3726, 0.3278209583887914), (3727, 0.36162729818974176), (3728, 0.1258061169365391), (3729, 0.18204607955898308), (3730, 0.24932040791558105), (3731, 0.09847801493599698), (3732, 0.3972321843686166), (3733, 0.263650428071503), (3734, 0.3583073248261701), (3735, 0.3310705479413021), (3736, 0.25682968445058935), (3737, 0.10786597054312397), (3738, 0.33269544111343713), (3739, 0.3871557045352681), (3740, 0.2796720394007698), (3741, 0.3834000934588049), (3742, 0.434663762243596), (3743, 0.4540112876827856), (3744, 0.36045726718579857), (3745, 0.12587713435816894), (3746, 0.36302499793264514), (3747, 0.3099889305516912), (3748, 0.1588829283222196), (3749, 0.06616415869434118), (3750, 0.059525031834161364), (3751, 0.31710826974216655), (3752, 0.06296147721007339), (3753, 0.27714592889932255), (3754, 0.29904892325586907), (3755, 0.08562752126471292), (3756, 0.3023988722840828), (3757, 0.17457419775016905), (3758, 0.13168326113215803), (3759, 0.22828892625013225), (3760, 0.08784593372463687), (3761, 0.05894658569832355), (3762, 0.12316913257489094), (3763, 0.10544442571424802), (3764, 0.11301061174575146), (3765, 0.12204140264406303), (3766, 0.08488553166754652), (3767, 0.4938830969514183), (3768, 0.2531838205383611), (3769, 0.32943863441093835), (3770, 0.08978546608330322), (3771, 0.42947852132416015), (3772, 0.1991181150910081), (3773, 0.3478428653296388), (3774, 0.167756861387153), (3775, 0.3794185981659555), (3776, 0.39193898669880156), (3777, 0.37606989098566074), (3778, 0.29034170997209585), (3779, 0.2437889609237179), (3780, 0.2617895883487351), (3781, 0.3164383206689139), (3782, 0.4818645869864067), (3783, 0.4756656510135305), (3784, 0.4556667659765896), (3785, 0.3531877636916947), (3786, 0.38738942487906664), (3787, 0.4643123488825741), (3788, 0.39427395310473295), (3789, 0.21756426912596175), (3790, 0.23349765344758475), (3791, 0.22812630541953324), (3792, 0.30439833620582785), (3793, 0.3256402144262281), (3794, 0.2077866895256837), (3795, 0.40376449718369956), (3796, 0.08134263471598237), (3797, 0.43539217012002485), (3798, 0.4501813246767543), (3799, 0.38205253896514907), (3800, 0.1674777228760929), (3801, 0.44980263600372444), (3802, 0.15087839030986117), (3803, 0.33758877346973193), (3804, 0.041849193258010946), (3805, 0.3734352652414746), (3806, 0.20312873540729626), (3807, 0.2697023128603594), (3808, 0.25570239217877083), (3809, 0.15018828353880195), (3810, 0.4717241889069074), (3811, 0.32822722982234154), (3812, 0.18968902932566162), (3813, 0.20869266316819923), (3814, 0.3095820485474096), (3815, 0.3633533673654251), (3816, 0.22459184717682584), (3817, 0.2062646111006759), (3818, 0.23395768761607696), (3819, 0.17837635294747187), (3820, 0.10952369803091846), (3821, 0.08043078426927514), (3822, 0.08177793719891609), (3823, 0.31282581370428536), (3824, 0.16021355755163205), (3825, 0.17586584529032878), (3826, 0.21467193934871234), (3827, 0.07285240103197786), (3828, 0.33506776084799766), (3829, 0.10892752559774245), (3830, 0.03425807352021214), (3831, 0.3944672744680481), (3832, 0.26280492064437533), (3833, 0.22981090987598385), (3834, 0.46130501520622474), (3835, 0.2606918955669122), (3836, 0.1745564021902361), (3837, 0.2825898452913319), (3838, 0.07109649710324396), (3839, 0.2514904538086812), (3840, 0.47958834922225707), (3841, 0.2296680489579231), (3842, 0.23522720547849257), (3843, 0.2201344211094419), (3844, 0.10334693185093416), (3845, 0.2700105089147053), (3846, 0.4066359809470741), (3847, 0.22533930533683427), (3848, 0.09864941563334205), (3849, 0.18946972847348573), (3850, 0.29719713986938134), (3851, 0.12268147555229635), (3852, 0.3568217479789049), (3853, 0.2807607531615132), (3854, 0.3197692720596276), (3855, 0.293099352927529), (3856, 0.07588997168139937), (3857, 0.23608471141698695), (3858, 0.25651103840944395), (3859, 0.2983152241526384), (3860, 0.364047150795015), (3861, 0.21281568903215606), (3862, 0.47890621012378365), (3863, 0.33911149255599354), (3864, 0.21332843047074349), (3865, 0.34698262281743164), (3866, 0.45320204291827004), (3867, 0.4120777518575212), (3868, 0.2941830519803304), (3869, 0.43523351579674663), (3870, 0.31812723782724656), (3871, 0.23680487193909158), (3872, 0.37594154994603585), (3873, 0.4816242649258722), (3874, 0.1855411273317918), (3875, 0.28395341716215056), (3876, 0.14767654683246417), (3877, 0.2627091384291716), (3878, 0.12167415530469669), (3879, 0.41825386754831606), (3880, 0.2398727682720765), (3881, 0.2786790563668068), (3882, 0.15800405849121904), (3883, 0.13410603391644813), (3884, 0.06153574284537915), (3885, 0.3023845267880085), (3886, 0.41258194511088236), (3887, 0.16448984897642432), (3888, 0.2879526821806455), (3889, 0.30855404718315865), (3890, 0.178973295616663), (3891, 0.057964082397974445), (3892, 0.06589461073735646), (3893, 0.23720695786351176), (3894, 0.3482747507742815), (3895, 0.22377277861122122), (3896, 0.10727261691492868), (3897, 0.06119096044150425), (3898, 0.31531712487090885), (3899, 0.04820070617299416), (3900, 0.102716484695496), (3901, 0.2755588265978561), (3902, 0.33359826148455796), (3903, 0.4621309444324548), (3904, 0.3237603558723361), (3905, 0.21542209999437884), (3906, 0.26518188270916704), (3907, 0.4864151656413055), (3908, 0.2437952136615828), (3909, 0.15016065490942634), (3910, 0.3671002994105694), (3911, 0.47353750001129036), (3912, 0.2091551620407047), (3913, 0.11861304785306839), (3914, 0.48125018037632605), (3915, 0.3001726465777579), (3916, 0.383964024842004), (3917, 0.33907854622576145), (3918, 0.11608751679001876), (3919, 0.26972953451189585), (3920, 0.2174268102953993), (3921, 0.24055253947320213), (3922, 0.2779703303349896), (3923, 0.27055645838010894), (3924, 0.26052945381632436), (3925, 0.23748231965256775), (3926, 0.3701290325687589), (3927, 0.1352440473023244), (3928, 0.1278256681359768), (3929, 0.048579275102030785), (3930, 0.15191691596166565), (3931, 0.14005836916258144), (3932, 0.0842325336447919), (3933, 0.06217935440108136), (3934, 0.23330547729150938), (3935, 0.19098924363804703), (3936, 0.07618571185849189), (3937, 0.45808226803027435), (3938, 0.3176747285515247), (3939, 0.2859443850275642), (3940, 0.16753127590467484), (3941, 0.30268603178486236), (3942, 0.21711861628244827), (3943, 0.3510314261663441), (3944, 0.4275357977077961), (3945, 0.0408565257178974), (3946, 0.22876628605376548), (3947, 0.3825438019150686), (3948, 0.17591203290859542), (3949, 0.34773583866700747), (3950, 0.1900639796734675), (3951, 0.08310126985582632), (3952, 0.09898905710521151), (3953, 0.30582138126219743), (3954, 0.3612148480232885), (3955, 0.3356455233020067), (3956, 0.3016297166469279), (3957, 0.4372789237772756), (3958, 0.22759164242448554), (3959, 0.42888385442628957), (3960, 0.31118295660837564), (3961, 0.4464354184388092), (3962, 0.16026008714258821), (3963, 0.38389747714397715), (3964, 0.23317829839003834), (3965, 0.3424025926802513), (3966, 0.24313082103189093), (3967, 0.1024787863426727), (3968, 0.453363486194547), (3969, 0.3218894953028996), (3970, 0.46882789507003414), (3971, 0.20200562641719907), (3972, 0.39747019486096197), (3973, 0.1461687884721866), (3974, 0.4125025693276611), (3975, 0.25334091083698196), (3976, 0.21299007957272742), (3977, 0.4029404186540704), (3978, 0.27105596857624403), (3979, 0.4883377064472339), (3980, 0.2028046656922192), (3981, 0.025247328903032596), (3982, 0.5084547087044486), (3983, 0.12838843246760973), (3984, 0.20193872807884142), (3985, 0.2373835842093915), (3986, 0.32590546298849093), (3987, 0.30179741315460445), (3988, 0.08295359470300248), (3989, 0.3364140924652849), (3990, 0.04023753785766687), (3991, 0.21181701256869062), (3992, 0.5054651534113921), (3993, 0.37892575906272014), (3994, 0.09554773675102761), (3995, 0.07188050154140813), (3996, 0.3744858587011581), (3997, 0.4870480967325771), (3998, 0.23437492433063417), (3999, 0.125217158783539), (4000, 0.2912080157030036), (4001, 0.3820649488328626), (4002, 0.2939767804895953), (4003, 0.26714765069471746), (4004, 0.2730698864073157), (4005, 0.47349726557708005), (4006, 0.42516618432704356), (4007, 0.4239973378804549), (4008, 0.20652628052399005), (4009, 0.3044511486998316), (4010, 0.32699681353609983), (4011, 0.31568967440025086), (4012, 0.364641318108144), (4013, 0.33958204232167993), (4014, 0.17249093743791252), (4015, 0.38485519124520196), (4016, 0.3630866141553531), (4017, 0.2885977178152322), (4018, 0.11406081549615894), (4019, 0.04032090438242598), (4020, 0.1983313933113083), (4021, 0.15916297170933585), (4022, 0.27378669186012555), (4023, 0.3251837810852026), (4024, 0.27795611400287895), (4025, 0.26512142589450116), (4026, 0.007992728811275173), (4027, 0.3591506103384798), (4028, 0.06173256574159724), (4029, 0.19371334694726877), (4030, 0.11839416698865395), (4031, 0.18601814341718223), (4032, 0.07618946771345463), (4033, 0.41348126641501465), (4034, 0.32596024721360106), (4035, 0.32221250129172707), (4036, 0.3465568202527737), (4037, 0.16798751023706193), (4038, 0.29876966174516245), (4039, 0.335575764621802), (4040, 0.22509335787683557), (4041, 0.4686020427776269), (4042, 0.10862556833532865), (4043, 0.33944677663278655), (4044, 0.42147404407883793), (4045, 0.3633110151155462), (4046, 0.5071940796219434), (4047, 0.20303380345662364), (4048, 0.07197267110918176), (4049, 0.4053271082008518), (4050, 0.07312865179518373), (4051, 0.27774593834626676), (4052, 0.28816559288039534), (4053, 0.4372510948367894), (4054, 0.24781850856253787), (4055, 0.4942451581488373), (4056, 0.2165696269093275), (4057, 0.3220582813812455), (4058, 0.3946123470440771), (4059, 0.1524826264000944), (4060, 0.08846892635048537), (4061, 0.12636884081175564), (4062, 0.05522100360375599), (4063, 0.29708059074229237), (4064, 0.062489037018111766), (4065, 0.05612150979012505), (4066, 0.21471229507947526), (4067, 0.115759895630618), (4068, 0.272584630107157), (4069, 0.285104066102837), (4070, 0.46883902450661824), (4071, 0.21843323949808427), (4072, 0.06652851416234817), (4073, 0.27729101107016707), (4074, 0.4494923476013338), (4075, 0.41875575566154644), (4076, 0.4923844389053594), (4077, 0.5031185740115084), (4078, 0.24225750953844266), (4079, 0.12362421220883964), (4080, 0.3484769502473039), (4081, 0.4667193773309593), (4082, 0.11394914267738503), (4083, 0.269871240304836), (4084, 0.245466249657315), (4085, 0.45064094446190944), (4086, 0.14137659915051243), (4087, 0.14543454912623072), (4088, 0.29198106526305406), (4089, 0.3214013701436991), (4090, 0.42330870826861217), (4091, 0.5273090560056138), (4092, 0.06779398774925424), (4093, 0.3642447982265173), (4094, 0.25199782471226706), (4095, 0.4461787656581554), (4096, 0.44660026420588267), (4097, 0.22528312820518076), (4098, 0.3737367714747762), (4099, 0.37975204470026247), (4100, 0.4911843988674411), (4101, 0.24694407261950369), (4102, 0.10076805065426102), (4103, 0.4570025638781014), (4104, 0.38203138743307197), (4105, 0.4288263001700202), (4106, 0.43124268810206445), (4107, 0.039030758446805994), (4108, 0.18193859617059063), (4109, 0.16219082640896232), (4110, 0.07364559550102642), (4111, 0.09108116209993743), (4112, 0.3378689789212367), (4113, 0.3074005122633218), (4114, 0.1831719885097017), (4115, 0.19613216604980324), (4116, 0.4185782244404251), (4117, 0.11999902232901152), (4118, 0.16090935553426816), (4119, 0.4587282554602642), (4120, 0.10335433892353953), (4121, 0.2749627241593154), (4122, 0.267310949697112), (4123, 0.4068562066809643), (4124, 0.28270390195746653), (4125, 0.27806679870608864), (4126, 0.1440725438883335), (4127, 0.1694452888204752), (4128, 0.20224239686646528), (4129, 0.09560895289173676), (4130, 0.4980453862219656), (4131, 0.07078513900157977), (4132, 0.26511424934859823), (4133, 0.08324189545054188), (4134, 0.05776163669121202), (4135, 0.3891056633028285), (4136, 0.44399242945589074), (4137, 0.32124117831957005), (4138, 0.28529883817801405), (4139, 0.32047300985813065), (4140, 0.26611613782386223), (4141, 0.1458594942872722), (4142, 0.3916350150236754), (4143, 0.3207905930694112), (4144, 0.12274827952105401), (4145, 0.12757137668888105), (4146, 0.15065586633497546), (4147, 0.1605596015475688), (4148, 0.4606710080585761), (4149, 0.09145321172415018), (4150, 0.12425451872893352), (4151, 0.1677347005961938), (4152, 0.4948814269154317), (4153, 0.485594818948532), (4154, 0.4498237455367969), (4155, 0.2920525415832756), (4156, 0.29848826752676755), (4157, 0.24577021118814008), (4158, 0.3178353727066021), (4159, 0.41016070201744415), (4160, 0.22392682827939175), (4161, 0.37943410675630285), (4162, 0.3996512568131729), (4163, 0.08641720184046899), (4164, 0.24768307895919245), (4165, 0.23190039300620718), (4166, 0.07572630187915472), (4167, 0.19730917497171707), (4168, 0.47191796631626387), (4169, 0.19595346398666605), (4170, 0.0593834920834101), (4171, 0.13838178566551368), (4172, 0.15550770614757564), (4173, 0.18002241577778835), (4174, 0.22172785663171485), (4175, 0.12431240222822049), (4176, 0.19993666181713204), (4177, 0.09322358519041628), (4178, 0.31885254708828126), (4179, 0.15340003896751028), (4180, 0.06993268486258433), (4181, 0.4920285871970598), (4182, 0.07593223939739399), (4183, 0.4689497953866414), (4184, 0.410344407105546), (4185, 0.4948716350583102), (4186, 0.2758569812006936), (4187, 0.39448721691379324), (4188, 0.06962201784882668), (4189, 0.4451834816124907), (4190, 0.11483250677646235), (4191, 0.3848999707950173), (4192, 0.3310725240295907), (4193, 0.41660031799497843), (4194, 0.16040775193262313), (4195, 0.3090499864969587), (4196, 0.07762190858584307), (4197, 0.2740265095270266), (4198, 0.07546754461045409), (4199, 0.05002306965923292), (4200, 0.2526574756157069), (4201, 0.10448737127921552), (4202, 0.28652849579914086), (4203, 0.2898109141973486), (4204, 0.29304357588931607), (4205, 0.24325734660270512), (4206, 0.1312230663134532), (4207, 0.22779963328929753), (4208, 0.10734861905041843), (4209, 0.18459202958112725), (4210, 0.38461940225566876), (4211, 0.48303360180325844), (4212, 0.18658011695745966), (4213, 0.36021187314951975), (4214, 0.3074161992780607), (4215, 0.23352967168459454), (4216, 0.4534714558177993), (4217, 0.27264792720597786), (4218, 0.46314319685775357), (4219, 0.22635943794543048), (4220, 0.1068495541842042), (4221, 0.27569087821810356), (4222, 0.06291197552082445), (4223, 0.298641577318979), (4224, 0.43672985433738887), (4225, 0.14092686600777984), (4226, 0.10992537905191108), (4227, 0.4611963999941784), (4228, 0.2849369193209561), (4229, 0.06980915636514566), (4230, 0.06784998723029846), (4231, 0.3769226391602803), (4232, 0.15953918450334278), (4233, 0.36636633122439344), (4234, 0.30036798993084496), (4235, 0.3280510556071598), (4236, 0.4101747063232238), (4237, 0.051191910331214986), (4238, 0.4830956474668694), (4239, 0.09017705776762193), (4240, 0.3797600254114059), (4241, 0.45836323581324084), (4242, 0.4448518158497913), (4243, 0.1641511800810393), (4244, 0.4086409707310263), (4245, 0.2983441487705313), (4246, 0.21730047929551344), (4247, 0.22117336572870225), (4248, 0.39600659190865245), (4249, 0.1601846691497339), (4250, 0.11653894127847828), (4251, 0.064499498710735), (4252, 0.1496876639567648), (4253, 0.1568570442075922), (4254, 0.16727252553935873), (4255, 0.39092458434585314), (4256, 0.46508214466834463), (4257, 0.4493805816980385), (4258, 0.3994911932359482), (4259, 0.4452756478170577), (4260, 0.1587063475568863), (4261, 0.38978292885478255), (4262, 0.06977334441786948), (4263, 0.22898563306536956), (4264, 0.47159470279378213), (4265, 0.2534637203773408), (4266, 0.23418200350878127), (4267, 0.37178417554482085), (4268, 0.43918450637830253), (4269, 0.23064063478909833), (4270, 0.2197364910901355), (4271, 0.04642708200886395), (4272, 0.48871966695567065), (4273, 0.4563115636576312), (4274, 0.3393979895090575), (4275, 0.42212559441626035), (4276, 0.11377858085458623), (4277, 0.32811324485713783), (4278, 0.2667846193992483), (4279, 0.4565450387717918), (4280, 0.38547766726237515), (4281, 0.4587965460423268), (4282, 0.40717210551766125), (4283, 0.4683572296579002), (4284, 0.08626154706996757), (4285, 0.11011524647939208), (4286, 0.08838810473356154), (4287, 0.15049158182998643), (4288, 0.2931243655086701), (4289, 0.49749932150870274), (4290, 0.33560394893160744), (4291, 0.2174769234266087), (4292, 0.14948070316213508), (4293, 0.10747861366385525), (4294, 0.500098627627591), (4295, 0.3256231157429955), (4296, 0.34636463400199513), (4297, 0.06890318932623757), (4298, 0.33504747340620905), (4299, 0.4871830351584453), (4300, 0.44810995973362566), (4301, 0.1919607616880454), (4302, 0.14440777000243918), (4303, 0.23675092280995633), (4304, 0.14755881385540232), (4305, 0.417107595656459), (4306, 0.4190480964855948), (4307, 0.20922724221169942), (4308, 0.12014618573878436), (4309, 0.3869428871611255), (4310, 0.45672455910161314), (4311, 0.164374462980556), (4312, 0.4339771561618749), (4313, 0.0890841394063732), (4314, 0.45524954842842225), (4315, 0.26797196005474516), (4316, 0.05412298155722612), (4317, 0.05036489220340909), (4318, 0.2542385090635068), (4319, 0.1516260659506251), (4320, 0.4451318291819556), (4321, 0.46498124338670804), (4322, 0.43271551892885884), (4323, 0.3585847515292619), (4324, 0.4643416498239044), (4325, 0.10021407231584573), (4326, 0.09812553640362716), (4327, 0.38561307194190986), (4328, 0.38354934602423546), (4329, 0.387428016434481), (4330, 0.13539200767033382), (4331, 0.37858549465481756), (4332, 0.43549421115126513), (4333, 0.17051316344834003), (4334, 0.28755823858041524), (4335, 0.3820390473514566), (4336, 0.47848025861366944), (4337, 0.2077848710305217), (4338, 0.36116505167396457), (4339, 0.377790985544978), (4340, 0.3533674636333012), (4341, 0.1487665879070401), (4342, 0.2491965059307292), (4343, 0.3945505441416655), (4344, 0.45224106770514516), (4345, 0.47990737447255655), (4346, 0.3405540648531967), (4347, 0.42809970593065794), (4348, 0.1668366065679359), (4349, 0.21999673823875757), (4350, 0.37936890757450714), (4351, 0.27761984019472713), (4352, 0.040966460730469695), (4353, 0.2899713690992862), (4354, 0.45722895634515065), (4355, 0.18665302871290426), (4356, 0.17111102308784237), (4357, 0.2251370445091023), (4358, 0.20038945538690459), (4359, 0.1718115471351906), (4360, 0.42517817813047853), (4361, 0.15525048085350157), (4362, 0.31810142801141), (4363, 0.25845821758493637), (4364, 0.4332531410544477), (4365, 0.42586353694200874), (4366, 0.4497800915342549), (4367, 0.2135960095679681), (4368, 0.4075058475981698), (4369, 0.14917246762793843), (4370, 0.14544401427098874), (4371, 0.21192763064000153), (4372, 0.11490957497890127), (4373, 0.4472120298241833), (4374, 0.4657364711034782), (4375, 0.41355925859807546), (4376, 0.4021886324887409), (4377, 0.3982738867707118), (4378, 0.4736221549056355), (4379, 0.42843934650992666), (4380, 0.202545989801474), (4381, 0.45699900099708657), (4382, 0.09182641279102603), (4383, 0.4345967270387455), (4384, 0.29758615928417986), (4385, 0.4347627548027218), (4386, 0.19180337557158447), (4387, 0.46954742783785886), (4388, 0.46948327082134195), (4389, 0.4156411619021619), (4390, 0.11701854042324113), (4391, 0.1584096777003741), (4392, 0.3657966504138753), (4393, 0.19261140005121782), (4394, 0.19712074513167874), (4395, 0.1254942098953839), (4396, 0.19773521404005148), (4397, 0.18136331536689537), (4398, 0.24469832524527507), (4399, 0.4438608567693921), (4400, 0.4232069145152766), (4401, 0.4396712559129611), (4402, 0.24460416639420432), (4403, 0.20984933712722942), (4404, 0.28994676184857016), (4405, 0.07500157784235731), (4406, 0.4888774654015176), (4407, 0.030948991402519443), (4408, 0.3057067220604641), (4409, 0.3408417937875727), (4410, 0.41892888213179413), (4411, 0.31934119432292113), (4412, 0.09736961944072814), (4413, 0.1069912611738921), (4414, 0.41002548795145966), (4415, 0.2079917781158161), (4416, 0.10096070200790803), (4417, 0.2953876817004841), (4418, 0.15715878633057626), (4419, 0.07967109433772847), (4420, 0.24888470508358876), (4421, 0.3064009793606369), (4422, 0.2921466794588914), (4423, 0.12278074448098093), (4424, 0.15798870591009695), (4425, 0.1340474655976641), (4426, 0.31997664064452375), (4427, 0.19780118310504016), (4428, 0.4604471601699026), (4429, 0.26203715361932334), (4430, 0.38882395334135494), (4431, 0.313352653482492), (4432, 0.46993386278639276), (4433, 0.3494261784625801), (4434, 0.34986174096111405), (4435, 0.38974285906069384), (4436, 0.28543253269714247), (4437, 0.11500227093603622), (4438, 0.3639733635840833), (4439, 0.3123237872101999), (4440, 0.35791067229174867), (4441, 0.4024731408049109), (4442, 0.40923787568436004), (4443, 0.12385883556972471), (4444, 0.3564525592079814), (4445, 0.48420849980621855), (4446, 0.11850713187616443), (4447, 0.3256695847063434), (4448, 0.36496116705248227), (4449, 0.4534735171684361), (4450, 0.47889653238897734), (4451, 0.3385022005693416), (4452, 0.32368536595741965), (4453, 0.35143980615839565), (4454, 0.35948623317595546), (4455, 0.07777874379048441), (4456, 0.2582635003794039), (4457, 0.22486735212562775), (4458, 0.07702049703709944), (4459, 0.45792944327416873), (4460, 0.3142886884922442), (4461, 0.147861542103698), (4462, 0.4936100328858351), (4463, 0.20151051610722084), (4464, 0.25397565966583086), (4465, 0.4728965466401449), (4466, 0.47258215060739345), (4467, 0.45923435772814414), (4468, 0.4145690659569562), (4469, 0.08717602559726537), (4470, 0.3282183531329757), (4471, 0.4435883814133061), (4472, 0.4344326099940582), (4473, 0.30783649251960876), (4474, 0.44275746988037207), (4475, 0.16648630707254855), (4476, 0.3979710346914555), (4477, 0.4016493244983712), (4478, 0.3196960522506477), (4479, 0.4685213401290955), (4480, 0.06149621170103687), (4481, 0.4499804805935681), (4482, 0.2620062772079051), (4483, 0.28649594236940346), (4484, 0.13466360988773854), (4485, 0.1229015505632455), (4486, 0.2978447785185359), (4487, 0.08208974167403031), (4488, 0.36520525762887246), (4489, 0.2624503516744189), (4490, 0.2314783745463403), (4491, 0.21610683659508614), (4492, 0.12321743639946706), (4493, 0.4998828747309989), (4494, 0.27532819390895), (4495, 0.09417151719833765), (4496, 0.3422800448634822), (4497, 0.19813428036662503), (4498, 0.4165949844716205), (4499, 0.09401463891487369), (4500, 0.14371921596353748), (4501, 0.26627769793592193), (4502, 0.4687565250836465), (4503, 0.453101457888904), (4504, 0.27389257802889566), (4505, 0.11232437208680628), (4506, 0.3130165865287447), (4507, 0.4883135951833573), (4508, 0.09757444387235417), (4509, 0.46084565652137083), (4510, 0.4240291371481861), (4511, 0.32468329667538015), (4512, 0.12610470639396), (4513, 0.3644485314690052), (4514, 0.24374986428868575), (4515, 0.23550536287299745), (4516, 0.33775023945143423), (4517, 0.4366126930710925), (4518, 0.21921682384329122), (4519, 0.08463657732580572), (4520, 0.1897195740216237), (4521, 0.0902261672046283), (4522, 0.06801685812690532), (4523, 0.4854502823333309), (4524, 0.4087271780791459), (4525, 0.45860820334255487), (4526, 0.13510509013641378), (4527, 0.37533606269906006), (4528, 0.25220912999313383), (4529, 0.2686158635817147), (4530, 0.2978231051852741), (4531, 0.29250532815689), (4532, 0.1385568645332876), (4533, 0.41839546277435763), (4534, 0.38956962042283316), (4535, 0.4753426883592632), (4536, 0.23851777513231448), (4537, 0.10247276812762834), (4538, 0.45589932923692955), (4539, 0.15972179229208447), (4540, 0.14169519906122652), (4541, 0.03687351135977754), (4542, 0.42443171909048255), (4543, 0.38948258925369744), (4544, 0.11813834188404519), (4545, 0.07247219656582897), (4546, 0.11225984979360819), (4547, 0.12326460786869035), (4548, 0.196697441537771), (4549, 0.10762299087122801), (4550, 0.16144899999221754), (4551, 0.23329342964364017), (4552, 0.26830856364581945), (4553, 0.1595324152828449), (4554, 0.10748850277550522), (4555, 0.30683076027817247), (4556, 0.19807001562126622), (4557, 0.44336131691205977), (4558, 0.2597774999688958), (4559, 0.10662142782269873), (4560, 0.25377669575387757), (4561, 0.049770488243268324), (4562, 0.11441667066127242), (4563, 0.32692045265576375), (4564, 0.4583833644993598), (4565, 0.15307826309916733), (4566, 0.31422103815910574), (4567, 0.0884400814358009), (4568, 0.4790025592072138), (4569, 0.4144722501111422), (4570, 0.05965887211185489), (4571, 0.07167377988177559), (4572, 0.21959332515730193), (4573, 0.0842952781441746), (4574, 0.3211105961837499), (4575, 0.4186267508394045), (4576, 0.46901579790915227), (4577, 0.40405721968164887), (4578, 0.059897919750089186), (4579, 0.4129556132058528), (4580, 0.08226699534751894), (4581, 0.49489891635299205), (4582, 0.3300216740070913), (4583, 0.41429323698888315), (4584, 0.12580696900720556), (4585, 0.17777885625875145), (4586, 0.23057444337338912), (4587, 0.14041505583395508), (4588, 0.44849954517124163), (4589, 0.22533228378145667), (4590, 0.47214625763197504), (4591, 0.48462954197521574), (4592, 0.07263651163979537), (4593, 0.13323018270645037), (4594, 0.18070703935613994), (4595, 0.4234127976112008), (4596, 0.10573210009753187), (4597, 0.36294312798516426), (4598, 0.2833802980481322), (4599, 0.28558603010134304), (4600, 0.4411118567571157), (4601, 0.20995344284134337), (4602, 0.3765590264494204), (4603, 0.1212492770026409), (4604, 0.19140820815830836), (4605, 0.12700837923925798), (4606, 0.3821447984098264), (4607, 0.04994013047068469), (4608, 0.22218169060591664), (4609, 0.24564809662091283), (4610, 0.09401208988278117), (4611, 0.37904814452964775), (4612, 0.32940957580697366), (4613, 0.17394210591092912), (4614, 0.27222286750306446), (4615, 0.3948325635393693), (4616, 0.19227140844308005), (4617, 0.17516434298931974), (4618, 0.05145067008311301), (4619, 0.06536446112802956), (4620, 0.45189837073348327), (4621, 0.3957229675132884), (4622, 0.0655304260608274), (4623, 0.42909438387289256), (4624, 0.48385042514120025), (4625, 0.4249188095325907), (4626, 0.2676786707099834), (4627, 0.450719415334008), (4628, 0.1624444175618299), (4629, 0.4608012043949357), (4630, 0.42897525280260496), (4631, 0.10111796816770242), (4632, 0.16383821272784832), (4633, 0.4811332073014147), (4634, 0.12688149172774446), (4635, 0.08697272804991597), (4636, 0.18231507320289847), (4637, 0.1328776828419842), (4638, 0.2842541634009105), (4639, 0.4249233686160472), (4640, 0.45022422701608705), (4641, 0.46191724810130724), (4642, 0.16874884057365952), (4643, 0.39499053006159), (4644, 0.05215194003790696), (4645, 0.1515550549383872), (4646, 0.05490327305732267), (4647, 0.32777544349198173), (4648, 0.2505529380346991), (4649, 0.4259677019376056), (4650, 0.3201459767431451), (4651, 0.09700549720052656), (4652, 0.14942885118143123), (4653, 0.49014576844784385), (4654, 0.034647907936078554), (4655, 0.31664864533641746), (4656, 0.3555747774349288), (4657, 0.10775971231349886), (4658, 0.39812650448377507), (4659, 0.24022433027862142), (4660, 0.1430827959380514), (4661, 0.3892706641627822), (4662, 0.39375874459119975), (4663, 0.4108245343551893), (4664, 0.39971720656491644), (4665, 0.4445303172681333), (4666, 0.3528896503686363), (4667, 0.2732870121980398), (4668, 0.279982309663456), (4669, 0.41988124914590824), (4670, 0.31360849721884265), (4671, 0.08331947628231313), (4672, 0.18982816471760527), (4673, 0.42875657053552746), (4674, 0.4266442584577868), (4675, 0.11274680564721903), (4676, 0.10731400130792981), (4677, 0.4353091690228137), (4678, 0.45091088046720734), (4679, 0.3972877625229751), (4680, 0.34139704732208065), (4681, 0.04318624484045632), (4682, 0.2962979889740618), (4683, 0.11355112467290644), (4684, 0.34616702894236506), (4685, 0.29825318392957684), (4686, 0.14245412600093094), (4687, 0.29719887870469286), (4688, 0.34512646044370515), (4689, 0.09518720631564084), (4690, 0.2863863400468262), (4691, 0.09151886380539886), (4692, 0.11361526355976839), (4693, 0.143404375132059), (4694, 0.2074586964771788), (4695, 0.2954742452369228), (4696, 0.2214055419837372), (4697, 0.36731556393451276), (4698, 0.07675249150022512), (4699, 0.2014970898543954), (4700, 0.26103973200885966), (4701, 0.13041368477475884), (4702, 0.12325248200598213), (4703, 0.09631650606714444), (4704, 0.40645794954817716), (4705, 0.07275599051274513), (4706, 0.10381283312426938), (4707, 0.3083693685600241), (4708, 0.07971410256985112), (4709, 0.14619539308599763), (4710, 0.09206681425992637), (4711, 0.011072474543924295), (4712, 0.0652826946058197), (4713, 0.14239107258835002), (4714, 0.11782321778234255), (4715, 0.0924734011296525), (4716, 0.27968249267793016), (4717, 0.10377213924713757), (4718, 0.3319885674404039), (4719, 0.027419285235882846), (4720, 0.1456391899658148), (4721, 0.11878999243997578), (4722, 0.15096172566144053), (4723, 0.27367482970539775), (4724, 0.109106931276337), (4725, 0.1979294010103514), (4726, 0.09481896174836599), (4727, 0.1068178859834834), (4728, 0.1107034202489507), (4729, 0.14247826311166803), (4730, 0.23738531334452878), (4731, 0.26983163374902275), (4732, 0.21289797438998706), (4733, 0.20546480420842467), (4734, 0.14843683426194793), (4735, 0.3741469018773175), (4736, 0.09828677682576137), (4737, 0.1265208740444268), (4738, 0.12175781480053881), (4739, 0.0372190183059174), (4740, 0.1949820693257777), (4741, 0.07071136160502817), (4742, 0.08845941335680503), (4743, 0.12354896973111322), (4744, 0.12891259391864043), (4745, 0.24863027295888324), (4746, 0.15597221547974977), (4747, 0.3493896821084822), (4748, 0.14843732966883977), (4749, 0.06896173258488676), (4750, 0.08590361762380486), (4751, 0.07501823509111709), (4752, 0.12609460086668703), (4753, 0.04267164084096176), (4754, 0.29839471304766013), (4755, 0.049662434045001), (4756, 0.09158696210763267), (4757, 0.10212956363629763), (4758, 0.03408496045918329), (4759, 0.05691469064941356)]\n"
          ]
        }
      ]
    },
    {
      "cell_type": "code",
      "source": [
        "len(Recommendation_Score)"
      ],
      "metadata": {
        "colab": {
          "base_uri": "https://localhost:8080/"
        },
        "id": "WjiG8L-E31-6",
        "outputId": "51a21350-1dad-42db-aa24-dcdb12361382"
      },
      "execution_count": 71,
      "outputs": [
        {
          "output_type": "execute_result",
          "data": {
            "text/plain": [
              "4760"
            ]
          },
          "metadata": {},
          "execution_count": 71
        }
      ]
    },
    {
      "cell_type": "markdown",
      "source": [
        "GET MOVIES BASED ON RECOMMENDATION SCORE WRT FAV MOVIE"
      ],
      "metadata": {
        "id": "OfpnhEZ43--V"
      }
    },
    {
      "cell_type": "code",
      "source": [
        "sorted_similar_movies = sorted(Recommendation_Score, key = lambda x:x[1], reverse = True)\n",
        "print(sorted_similar_movies)"
      ],
      "metadata": {
        "colab": {
          "base_uri": "https://localhost:8080/"
        },
        "id": "yw7n9MrH4CTw",
        "outputId": "412dc577-1423-46c2-9065-ef4d9142f1f8"
      },
      "execution_count": 72,
      "outputs": [
        {
          "output_type": "stream",
          "name": "stdout",
          "text": [
            "[(2692, 1.0000000000000002), (4091, 0.5273090560056138), (763, 0.5205764382818027), (3467, 0.5167311271607701), (3450, 0.5153106967872638), (27, 0.5134975411762653), (1775, 0.512633927462394), (1173, 0.5124028522989819), (631, 0.5121597145468496), (143, 0.5118375073682788), (307, 0.5109599046977086), (84, 0.5099778900509118), (1262, 0.5095237526448415), (3982, 0.5084547087044486), (10, 0.5073972414752594), (4046, 0.5071940796219434), (502, 0.506414848405225), (189, 0.5062050009864143), (247, 0.5060976002200905), (3992, 0.5054651534113921), (1532, 0.5054203789854761), (386, 0.5053065929779612), (1357, 0.5050588506243154), (264, 0.5049564825381678), (299, 0.5048437396891644), (731, 0.5047516770805814), (1129, 0.5046291599818353), (1118, 0.5042168158848169), (614, 0.5039225661404859), (369, 0.5036424695081548), (4077, 0.5031185740115084), (135, 0.5028390086467959), (297, 0.5027509227575329), (70, 0.502491079964816), (880, 0.50245353097012), (6, 0.5019601303660641), (298, 0.5018647089077872), (583, 0.5017272637496315), (3131, 0.5017214686575997), (283, 0.5015318577516981), (1484, 0.5014761789971084), (909, 0.5012530835336906), (1012, 0.5011743969683283), (123, 0.5004417483294694), (960, 0.5003858888732973), (4294, 0.500098627627591), (4493, 0.4998828747309989), (3697, 0.49987909997714836), (656, 0.49898545314149395), (728, 0.4988799044858372), (3670, 0.4988475402619913), (727, 0.4987960776559165), (1455, 0.4986881853043365), (661, 0.4986554510244885), (753, 0.49823378294678916), (2181, 0.4982197803848423), (3169, 0.4981543108738974), (231, 0.4981349091009859), (2045, 0.49808566124893017), (4130, 0.4980453862219656), (3427, 0.4979158951536542), (980, 0.497874963885429), (2524, 0.4977881354930873), (3130, 0.4976501012718699), (4289, 0.49749932150870274), (1511, 0.49726597865653444), (3126, 0.4970870554148747), (411, 0.49702316947911207), (829, 0.496914989954127), (280, 0.4968817414712925), (170, 0.4967384403816497), (1152, 0.4964055493773543), (230, 0.4962569153530121), (651, 0.4961565327327834), (2294, 0.49603002980311767), (1335, 0.49590349165740033), (1728, 0.49576884779963865), (2641, 0.4957666588777283), (425, 0.49567861882222775), (729, 0.49529195397049824), (9, 0.4951859985262162), (4581, 0.49489891635299205), (4152, 0.4948814269154317), (4185, 0.4948716350583102), (1164, 0.49447794161748565), (4055, 0.4942451581488373), (2016, 0.49418949152500186), (650, 0.494037624288383), (302, 0.49396851642364153), (3767, 0.4938830969514183), (4462, 0.4936100328858351), (938, 0.4935852482171052), (512, 0.4933577015927666), (1773, 0.49301418449703915), (744, 0.4929584168390234), (286, 0.49294964222762105), (994, 0.49289917252928794), (1122, 0.4926166810593715), (1611, 0.49259335046971336), (4076, 0.4923844389053594), (3, 0.4923496271167072), (4, 0.4921851727634547), (3507, 0.49211002035503293), (4181, 0.4920285871970598), (3566, 0.4919464422875095), (1325, 0.4917692305092681), (83, 0.4914548781361197), (53, 0.49137874573408574), (3124, 0.4912948238638227), (2960, 0.49128818752932796), (4100, 0.4911843988674411), (839, 0.49116042229048085), (263, 0.49071875395113373), (196, 0.49055664435892804), (1388, 0.4904291894889352), (4653, 0.49014576844784385), (3310, 0.49006736083915414), (3361, 0.49000447049169654), (39, 0.48990361868569016), (849, 0.4898941555061569), (1393, 0.48981845169098626), (893, 0.48980747095390836), (1928, 0.48970578114677976), (2716, 0.48964337532929786), (906, 0.4896020282134637), (3451, 0.48956528447105596), (1354, 0.4895311588282627), (730, 0.489515343348291), (588, 0.48938523947583545), (1998, 0.4892735649356788), (1267, 0.48923862140015595), (141, 0.4890039429187583), (1855, 0.48890884343215374), (4406, 0.4888774654015176), (625, 0.4887558892653513), (4272, 0.48871966695567065), (444, 0.48860832093137013), (1279, 0.4885996122271565), (3979, 0.4883377064472339), (4507, 0.4883135951833573), (1922, 0.48809642402160586), (3532, 0.4880954893216034), (710, 0.488073883344847), (229, 0.48805645913914286), (72, 0.4878138382796055), (1073, 0.4877795796402352), (1007, 0.4876808306754559), (675, 0.4875467735607532), (3705, 0.48751534839774296), (1512, 0.48745379559242913), (235, 0.487314716162647), (4299, 0.4871830351584453), (3997, 0.4870480967325771), (181, 0.48703041640505457), (540, 0.4868204366155212), (756, 0.4867925586665249), (1955, 0.4867804139082384), (171, 0.48677095514310387), (1226, 0.4865773997190778), (954, 0.4865442715745398), (1391, 0.4864421435237072), (3907, 0.4864151656413055), (496, 0.4863205793231701), (1282, 0.4862810071898233), (387, 0.48625590790030343), (1181, 0.48603301901269036), (1107, 0.4859860570571666), (1729, 0.4858611098411996), (2231, 0.4858519468940027), (4153, 0.485594818948532), (4523, 0.4854502823333309), (1643, 0.4854118670023842), (758, 0.4853481168352932), (1413, 0.48531998847947333), (312, 0.48498776680022876), (1936, 0.48485080634222505), (244, 0.48484473951587154), (3344, 0.4848343571117933), (1493, 0.4846996907861529), (4591, 0.48462954197521574), (152, 0.4845808226517482), (1716, 0.4845263047858968), (762, 0.4844560446763318), (795, 0.4842932340939009), (41, 0.48426177447984464), (4445, 0.48420849980621855), (3167, 0.48402708960384244), (1322, 0.48394388733011473), (4624, 0.48385042514120025), (3445, 0.4838071027174136), (1380, 0.4836934099081135), (2084, 0.4836541922997894), (278, 0.48351502416876635), (1057, 0.4834799400650677), (424, 0.48341568036079996), (2112, 0.48323060184251426), (868, 0.4832236394366705), (3623, 0.48320747509894446), (4238, 0.4830956474668694), (1940, 0.48308825983844156), (712, 0.48305621226495166), (4211, 0.48303360180325844), (1556, 0.48267670903977433), (136, 0.4826585857404873), (3718, 0.4825685717180035), (250, 0.48250048481617724), (2691, 0.4823184081936163), (1770, 0.48209332634204566), (837, 0.48199032781613715), (3782, 0.4818645869864067), (3873, 0.4816242649258722), (268, 0.4815512658079428), (1289, 0.48150376976129566), (1153, 0.4813783608420994), (360, 0.48136322792893527), (3914, 0.48125018037632605), (492, 0.4812343342919206), (4633, 0.4811332073014147), (594, 0.4810191917072644), (3368, 0.4809861977360868), (686, 0.48076679505126624), (3692, 0.48061630660505683), (1876, 0.48047521513038455), (572, 0.4804328067300601), (1483, 0.4800485115681994), (1121, 0.47999382742124), (1284, 0.4799831999655991), (4345, 0.47990737447255655), (3840, 0.47958834922225707), (1498, 0.47946225500009565), (2374, 0.47945938692780626), (1870, 0.4794402141385744), (3492, 0.4792953432945011), (820, 0.47928403146347354), (4568, 0.4790025592072138), (999, 0.4789605909916331), (329, 0.478917418466284), (3862, 0.47890621012378365), (4450, 0.47889653238897734), (20, 0.4787909784504719), (2711, 0.4787160236949029), (875, 0.47867023416745147), (1381, 0.4786370431585553), (4336, 0.47848025861366944), (68, 0.47777590393581937), (50, 0.47764863461745527), (676, 0.47748658861774257), (1443, 0.47738783716750804), (679, 0.47719796013141247), (1788, 0.47719468470251536), (750, 0.477167903815944), (292, 0.4770529828272282), (1141, 0.4769883249886067), (615, 0.47692820891680293), (952, 0.4767257034263674), (1271, 0.47652551424471673), (1069, 0.4763118677273178), (481, 0.47629209427109315), (1424, 0.4760749182245129), (3360, 0.4759396295007947), (3002, 0.4757117042858812), (3783, 0.4756656510135305), (1324, 0.475665618787412), (1927, 0.4756144335453445), (418, 0.4753870008145477), (4535, 0.4753426883592632), (1368, 0.4753216767284295), (1852, 0.4751779319763625), (76, 0.47507961734895127), (992, 0.47497648616187044), (2622, 0.47466793569198223), (1457, 0.47451458130210583), (1550, 0.47446404459946984), (3642, 0.47414568477184815), (997, 0.473999844335769), (233, 0.47387188083372767), (26, 0.47386518602756084), (833, 0.4738451007452365), (678, 0.4736928315159734), (4378, 0.4736221549056355), (771, 0.47358991461182365), (371, 0.47354860783618785), (3911, 0.47353750001129036), (902, 0.47352518023636814), (4005, 0.47349726557708005), (151, 0.47328002250313683), (2850, 0.4731378653424905), (253, 0.4730885045979132), (664, 0.4729587859582302), (4465, 0.4728965466401449), (1154, 0.47274421667135813), (974, 0.47271983919389277), (4466, 0.47258215060739345), (3689, 0.4725486123874828), (150, 0.47253244511684783), (857, 0.4724999707587129), (706, 0.4722744777594623), (4590, 0.47214625763197504), (811, 0.4720011258610811), (4168, 0.47191796631626387), (2184, 0.4717693075330277), (3810, 0.4717241889069074), (1006, 0.47160951277937807), (4264, 0.47159470279378213), (1067, 0.4715844788401379), (332, 0.4714058029891307), (2031, 0.4712257106744575), (523, 0.4710501996331929), (2351, 0.47104739086731784), (3379, 0.4710108876273772), (1901, 0.47094989228868245), (124, 0.4708761848453376), (1404, 0.4707883108633086), (671, 0.4700324016942806), (225, 0.46999433136853963), (88, 0.4699923557390696), (470, 0.46994481871519705), (4432, 0.46993386278639276), (2480, 0.4698410724147074), (2518, 0.46977493749940763), (517, 0.469708001324595), (4387, 0.46954742783785886), (4388, 0.46948327082134195), (2232, 0.4694042708008767), (3288, 0.46936201331286403), (516, 0.469230452786231), (1140, 0.46919062533170347), (4576, 0.46901579790915227), (4183, 0.4689497953866414), (126, 0.46894578032569334), (4070, 0.46883902450661824), (3970, 0.46882789507003414), (4502, 0.4687565250836465), (308, 0.4686749493661417), (4041, 0.4686020427776269), (4479, 0.4685213401290955), (1229, 0.4683683721871998), (4283, 0.4683572296579002), (1315, 0.46825778834560916), (529, 0.46805491097633967), (1910, 0.4679117979437987), (2429, 0.4677652340262609), (3612, 0.467601061479312), (3429, 0.467485123293286), (700, 0.46734325748080857), (1272, 0.46685236927383483), (4081, 0.4667193773309593), (514, 0.4663275397452121), (125, 0.4662397911112183), (2801, 0.46619635959101535), (1398, 0.4659788757757417), (544, 0.4658761390582579), (1146, 0.46585715725499943), (1608, 0.46584522032215486), (0, 0.4658224656245274), (4374, 0.4657364711034782), (536, 0.4656457682808229), (1239, 0.4655419670882891), (1897, 0.4653127410417895), (746, 0.4651400853620555), (4256, 0.46508214466834463), (4321, 0.46498124338670804), (3708, 0.46494420448079254), (2088, 0.46466778310725065), (1068, 0.464431254653423), (4324, 0.4643416498239044), (342, 0.46431937241105786), (3787, 0.4643123488825741), (3047, 0.4641630961641357), (2482, 0.46412982911617473), (341, 0.4640863734545992), (23, 0.46358173838989264), (724, 0.46335626149021303), (628, 0.4632272113085426), (4218, 0.46314319685775357), (2198, 0.4629235172449797), (3660, 0.46272667049520033), (3525, 0.4625463447972627), (1378, 0.46238525299149436), (3903, 0.4621309444324548), (1190, 0.461984568611589), (4641, 0.46191724810130724), (860, 0.4618902932196827), (1135, 0.46185057056061046), (810, 0.461825649590253), (1584, 0.4617466136593874), (128, 0.4616915452912957), (92, 0.46163917084311223), (867, 0.46143706142164087), (1002, 0.46137032838573805), (24, 0.46132473502745264), (384, 0.46131509518228553), (3834, 0.46130501520622474), (4227, 0.4611963999941784), (4509, 0.46084565652137083), (4629, 0.4608012043949357), (4148, 0.4606710080585761), (3066, 0.4604967865362409), (4428, 0.4604471601699026), (3398, 0.46036865347732564), (3453, 0.4602446176919333), (1342, 0.46014921706686923), (3275, 0.46011065864697426), (2615, 0.4601078954931294), (1167, 0.46003282374212867), (519, 0.4600219756747452), (74, 0.4599251764580733), (621, 0.4595053311412684), (2017, 0.4594696090133923), (4467, 0.45923435772814414), (2919, 0.45908085436374435), (1899, 0.4588934022628589), (2445, 0.45885946217756685), (1119, 0.45880830352207735), (4281, 0.4587965460423268), (4119, 0.4587282554602642), (4525, 0.45860820334255487), (2803, 0.458521431919092), (4564, 0.4583833644993598), (4241, 0.45836323581324084), (3937, 0.45808226803027435), (673, 0.4580613527550907), (2040, 0.4580321767356373), (1815, 0.458023432077372), (4459, 0.45792944327416873), (1233, 0.4578441966095759), (1009, 0.4575762467686007), (2541, 0.45724562422688086), (4354, 0.45722895634515065), (1128, 0.4571062888770527), (4103, 0.4570025638781014), (4381, 0.45699900099708657), (4310, 0.45672455910161314), (4279, 0.4565450387717918), (1904, 0.4564907642429747), (1799, 0.4564619017720768), (4273, 0.4563115636576312), (4538, 0.45589932923692955), (3784, 0.4556667659765896), (714, 0.4555431065887522), (242, 0.45544297332577266), (2213, 0.4553705643325454), (4314, 0.45524954842842225), (215, 0.45513599051274), (1502, 0.45505789859080503), (850, 0.4548664476944073), (1641, 0.45466369152885255), (2535, 0.45447311246826877), (46, 0.45419439239020765), (2578, 0.45405059893151967), (3743, 0.4540112876827856), (3342, 0.4539257932783252), (1105, 0.453924637763225), (1063, 0.45390107350153713), (988, 0.4537471637510879), (965, 0.45373442249591023), (4449, 0.4534735171684361), (4216, 0.4534714558177993), (3968, 0.453363486194547), (443, 0.4532602971009064), (3866, 0.45320204291827004), (1097, 0.4531618759031553), (4503, 0.453101457888904), (894, 0.45298722638007416), (2799, 0.4526032886872439), (1093, 0.45250838743802185), (2896, 0.4523387454800382), (4344, 0.45224106770514516), (472, 0.4520506692284979), (4620, 0.45189837073348327), (3681, 0.45189051042318806), (3657, 0.4518256615718733), (1179, 0.4515553100559967), (1412, 0.45155414292805474), (1804, 0.4509428017215706), (4678, 0.45091088046720734), (4627, 0.450719415334008), (245, 0.45064562896543264), (4085, 0.45064094446190944), (3335, 0.4506115633800849), (815, 0.45051227644472536), (4640, 0.45022422701608705), (3798, 0.4501813246767543), (4481, 0.4499804805935681), (3100, 0.44991090290970065), (4154, 0.4498237455367969), (3801, 0.44980263600372444), (4366, 0.4497800915342549), (81, 0.4497656457069436), (3592, 0.44950387097711364), (4074, 0.4494923476013338), (3416, 0.4494218408269701), (346, 0.44938132460978275), (4257, 0.4493805816980385), (2826, 0.4489718352187845), (2903, 0.448742685105308), (4588, 0.44849954517124163), (4300, 0.44810995973362566), (343, 0.4478641198030522), (164, 0.4478404739500526), (2421, 0.44765685939857924), (2032, 0.4476355146339621), (451, 0.4472777996705725), (4373, 0.4472120298241833), (2329, 0.44710984301008433), (2682, 0.44706388929814916), (255, 0.44692945802385897), (4096, 0.44660026420588267), (3961, 0.4464354184388092), (4095, 0.4461787656581554), (259, 0.4460503902291081), (1637, 0.44582506977064057), (633, 0.44567561409162176), (3691, 0.445656468173567), (3484, 0.44556956016488447), (116, 0.4454079237779205), (971, 0.44532863876867346), (4259, 0.4452756478170577), (4189, 0.4451834816124907), (4320, 0.4451318291819556), (4242, 0.4448518158497913), (193, 0.44460489355462957), (4665, 0.4445303172681333), (537, 0.44442123527716093), (1460, 0.4442124296876644), (2371, 0.4440718584939304), (1471, 0.4439997103698109), (4136, 0.44399242945589074), (4399, 0.4438608567693921), (1433, 0.4437963444557519), (4471, 0.4435883814133061), (747, 0.44349794796796826), (4557, 0.44336131691205977), (463, 0.4433161774813675), (361, 0.44312929559020175), (1714, 0.4430329503599619), (636, 0.4428726437591793), (4474, 0.44275746988037207), (447, 0.44267892079213633), (1091, 0.4425525278095356), (47, 0.4425011960418202), (276, 0.44221970430687324), (271, 0.44215821558406476), (3231, 0.4420160299765505), (1740, 0.44200932135252197), (334, 0.4419588394224461), (1207, 0.44172726111463007), (1101, 0.441399742286142), (362, 0.44123687550802126), (1273, 0.4412090900096895), (2548, 0.4411799034079321), (1076, 0.44113578642131296), (258, 0.44111694756407516), (4600, 0.4411118567571157), (1189, 0.4410565511058958), (2, 0.4407658145047404), (987, 0.44062747188136275), (1111, 0.4402968911918476), (3698, 0.4397344713622528), (1280, 0.4397143317960459), (4401, 0.4396712559129611), (2067, 0.439398523898274), (1796, 0.43928562145478517), (137, 0.43919499627919173), (4268, 0.43918450637830253), (619, 0.43912364875183324), (2918, 0.4390604629573676), (413, 0.43898730244717055), (1313, 0.4388596298706399), (3180, 0.4386925018162145), (1377, 0.43860206203920316), (1459, 0.4385253167392396), (1246, 0.43819744143369016), (1283, 0.4380696869150844), (111, 0.4377519230288073), (2197, 0.43770648952879004), (1667, 0.43753484846295526), (3490, 0.4373938188670991), (1234, 0.43728860828468424), (3957, 0.4372789237772756), (4053, 0.4372510948367894), (1402, 0.4371448424330133), (207, 0.4370322730339297), (3508, 0.43696716219054044), (85, 0.43690260385729646), (4224, 0.43672985433738887), (4517, 0.4366126930710925), (3463, 0.4366122063651836), (1473, 0.43660468412424336), (3233, 0.43628254824056373), (3604, 0.4361409689957396), (657, 0.43579172295556373), (1218, 0.4355706237430439), (3618, 0.4355639853814277), (1825, 0.4355261961886262), (4332, 0.43549421115126513), (3797, 0.43539217012002485), (3696, 0.43533350842508833), (4677, 0.4353091690228137), (3869, 0.43523351579674663), (1560, 0.43506243918341914), (1569, 0.4347825471006072), (4385, 0.4347627548027218), (1165, 0.4346987116527519), (3742, 0.434663762243596), (1662, 0.4346614065792668), (3462, 0.4346160219285629), (4383, 0.4345967270387455), (4472, 0.4344326099940582), (2169, 0.43424876433849363), (3478, 0.43418864076267527), (4312, 0.4339771561618749), (220, 0.43390741920635784), (4364, 0.4332531410544477), (191, 0.4331461255825704), (1710, 0.4330994142044562), (2078, 0.43308130419455754), (599, 0.43279409499742016), (4322, 0.43271551892885884), (102, 0.43260619179579696), (3381, 0.43207870657383163), (2132, 0.43189076084030104), (1399, 0.43174750870600304), (3160, 0.4316527994903351), (1810, 0.4315009344381687), (518, 0.43145649210309767), (1961, 0.4313365794557304), (4106, 0.43124268810206445), (2961, 0.43101301874833836), (932, 0.4310038776618238), (3230, 0.4309353795021169), (3720, 0.4309140277532596), (858, 0.4304084076600582), (2337, 0.4303398258273947), (3043, 0.43007026906227114), (1997, 0.43004376330500943), (410, 0.42996129638862446), (3469, 0.4294814795101405), (3771, 0.42947852132416015), (3409, 0.42947445624425856), (3587, 0.42924142117357955), (4623, 0.42909438387289256), (190, 0.42901321630170247), (4630, 0.42897525280260496), (3959, 0.42888385442628957), (4105, 0.4288263001700202), (4673, 0.42875657053552746), (1374, 0.42862751479192185), (513, 0.4286001141562968), (467, 0.42854294838063517), (4379, 0.42843934650992666), (1696, 0.4283810024062052), (203, 0.42833441279317835), (402, 0.42812806851038004), (4347, 0.42809970593065794), (1758, 0.42808962401410994), (2052, 0.4280747947123072), (2984, 0.42798722239249076), (3435, 0.42782944382935195), (3611, 0.42781293812166726), (1148, 0.4278013759142702), (2023, 0.4277103490615037), (805, 0.427571205918149), (3944, 0.4275357977077961), (318, 0.4273574499292196), (60, 0.4272580711467602), (695, 0.42722288494679844), (3212, 0.42718097875640726), (3569, 0.42693224077471287), (35, 0.42689638963670395), (3367, 0.4266822782009699), (4674, 0.4266442584577868), (3454, 0.42647910034918796), (45, 0.4262231767101533), (107, 0.42608995441441627), (392, 0.426031622348997), (4649, 0.4259677019376056), (4365, 0.42586353694200874), (37, 0.42582805730930817), (855, 0.42573310329408365), (3290, 0.42569764346987865), (365, 0.42543999057019044), (2980, 0.4252960465567177), (4360, 0.42517817813047853), (4006, 0.42516618432704356), (935, 0.42509283523404223), (4639, 0.4249233686160472), (4625, 0.4249188095325907), (617, 0.424873127533237), (3633, 0.4246339944571374), (391, 0.42463049022072136), (1505, 0.42451348024306923), (4542, 0.42443171909048255), (89, 0.424309253445953), (622, 0.42429259914867967), (1215, 0.4242766946090289), (4510, 0.4240291371481861), (4007, 0.4239973378804549), (1638, 0.4239752399222663), (1041, 0.42392948004478415), (689, 0.4235919281954783), (4595, 0.4234127976112008), (4090, 0.42330870826861217), (4400, 0.4232069145152766), (3436, 0.4228363178741807), (347, 0.42217079763446286), (436, 0.4221496220100199), (1823, 0.42214230881276144), (4275, 0.42212559441626035), (2316, 0.4221177186574066), (3505, 0.4219870897038932), (1973, 0.4219462603935723), (3058, 0.42193602024987215), (3447, 0.4216055477948166), (4044, 0.42147404407883793), (5, 0.4214197308363391), (1056, 0.42140117717892533), (154, 0.4210992090167063), (1860, 0.4209151101989207), (206, 0.42090082341757), (3709, 0.42088613801895397), (2784, 0.42067801516767056), (1982, 0.42043496562488825), (1177, 0.4202445154062573), (3470, 0.42020309182014837), (3637, 0.4201280387346398), (1769, 0.41992544776592267), (4669, 0.41988124914590824), (2555, 0.419460124377811), (419, 0.41923471558403785), (333, 0.41915745242033725), (2011, 0.41908568488348324), (4306, 0.4190480964855948), (3338, 0.4189453473899802), (4410, 0.41892888213179413), (379, 0.41890424634846646), (1464, 0.4188836668991839), (304, 0.41878865445965585), (110, 0.41876592721745676), (4075, 0.41875575566154644), (4575, 0.4186267508394045), (769, 0.41862039995196054), (3225, 0.4186203647320329), (4116, 0.4185782244404251), (3260, 0.41851618836015864), (323, 0.41843312014016343), (4533, 0.41839546277435763), (2382, 0.4182831033583012), (3879, 0.41825386754831606), (3658, 0.4180980964146049), (830, 0.4178624664246948), (2279, 0.4178542107886056), (1607, 0.41783839075148593), (274, 0.41777349624044857), (1044, 0.41770253992650114), (452, 0.4176432656205671), (4305, 0.417107595656459), (3164, 0.4170247518646574), (232, 0.41690084937806765), (4193, 0.41660031799497843), (2920, 0.4165988150561861), (4498, 0.4165949844716205), (1699, 0.4165472833177212), (1552, 0.41647377273950303), (556, 0.41645261361633046), (448, 0.416111370893521), (43, 0.41600439050512106), (234, 0.4158651853926473), (4389, 0.4156411619021619), (1347, 0.4155196269469257), (185, 0.41532485799794544), (3565, 0.4151527189866878), (2643, 0.415066579560859), (1355, 0.41495186286186714), (1896, 0.41493092233495743), (817, 0.41486804768671925), (623, 0.41484571847520474), (3496, 0.4148266576692271), (109, 0.4146103109758603), (4468, 0.4145690659569562), (3134, 0.4144875568942394), (4569, 0.4144722501111422), (1911, 0.414381787202294), (4583, 0.41429323698888315), (1737, 0.4141444066856592), (1531, 0.4140310911066151), (2089, 0.4139717005234667), (1969, 0.41392224711204234), (1296, 0.4137945888793522), (3649, 0.4137895484036715), (2792, 0.4137595285443975), (3452, 0.4137048871827742), (591, 0.4136085658470894), (4375, 0.41355925859807546), (2617, 0.41354390910969646), (4033, 0.41348126641501465), (2070, 0.413119168166159), (4579, 0.4129556132058528), (13, 0.41278414414117853), (2235, 0.4125964404954193), (3886, 0.41258194511088236), (3974, 0.4125025693276611), (2105, 0.4122395682265862), (267, 0.4122155759202703), (1346, 0.4122036095008215), (3867, 0.4120777518575212), (1265, 0.41144402731341284), (1674, 0.41125561988931547), (778, 0.4112528758540941), (1191, 0.41109560779603815), (3519, 0.4108620974668875), (4663, 0.4108245343551893), (611, 0.4108239160154569), (1806, 0.4104706758800387), (145, 0.4103471469051046), (4184, 0.410344407105546), (4236, 0.4101747063232238), (4159, 0.41016070201744415), (4414, 0.41002548795145966), (1106, 0.4099718217305716), (344, 0.4096749673649348), (1669, 0.40952651800568896), (4442, 0.40923787568436004), (530, 0.4090426738452863), (511, 0.40900814777285244), (4524, 0.4087271780791459), (4244, 0.4086409707310263), (2153, 0.4086182425145302), (423, 0.4085532521748298), (3572, 0.40849889510518383), (705, 0.40827867097727427), (177, 0.4080602480800864), (2819, 0.40766930187229306), (4368, 0.4075058475981698), (2661, 0.4073035465436434), (4282, 0.40717210551766125), (187, 0.4071646812593868), (698, 0.40703945294114824), (1846, 0.4069552293363928), (439, 0.40685983345663734), (4123, 0.4068562066809643), (1831, 0.4067694896024689), (3846, 0.4066359809470741), (48, 0.40655240993459796), (3605, 0.4064871911929309), (4704, 0.40645794954817716), (2808, 0.40644458772501224), (1771, 0.40636050413204894), (12, 0.4062852087601903), (1606, 0.40620770240852205), (3549, 0.4060199125511676), (1779, 0.40579208711544035), (119, 0.4057183166648601), (663, 0.40538055487774916), (4049, 0.4053271082008518), (2026, 0.4051993003395119), (586, 0.40514134876985164), (2284, 0.40513009722015036), (1609, 0.4051251014089807), (1050, 0.404748546696624), (328, 0.4047454697956883), (2027, 0.4044478677432461), (1693, 0.404377894149721), (626, 0.40413318549840727), (4577, 0.40405721968164887), (3795, 0.40376449718369956), (1334, 0.4036250410384717), (3208, 0.4035518642939964), (1328, 0.4034990637218959), (1160, 0.4033786078309705), (1962, 0.4030330972289378), (3977, 0.4029404186540704), (639, 0.40276067131532484), (4441, 0.4024731408049109), (4376, 0.4021886324887409), (2459, 0.40215287446356746), (3662, 0.40208461815629015), (887, 0.4019884967934372), (1765, 0.40181448503642164), (1124, 0.40180691261484497), (3550, 0.4017062223419381), (4477, 0.4016493244983712), (51, 0.4015658091391642), (590, 0.4015345002916552), (1028, 0.4015210116107885), (1080, 0.401437305596877), (213, 0.4013667756935691), (3192, 0.4007267394105284), (3122, 0.40062386872338507), (2540, 0.4001956262337315), (842, 0.40015742998808496), (1375, 0.39997228939986573), (14, 0.39984406467523126), (499, 0.39981862654187966), (4664, 0.39971720656491644), (819, 0.39969607436335564), (4162, 0.3996512568131729), (1436, 0.3996117210579985), (1011, 0.3996014629568049), (2162, 0.39951482224101587), (4258, 0.3994911932359482), (828, 0.39939907923975), (3077, 0.39935482389567206), (2249, 0.3991940769639767), (303, 0.3990550198400385), (169, 0.3989441552822046), (1874, 0.3988980579575791), (3493, 0.3988290720937508), (354, 0.3984708042205887), (2815, 0.39834670026255276), (61, 0.3983172479773012), (2270, 0.39828542735827405), (4377, 0.3982738867707118), (1414, 0.39823732718554067), (446, 0.3982019307889479), (592, 0.3981322635817969), (4658, 0.39812650448377507), (1270, 0.3980885354637093), (900, 0.39806144108175373), (4476, 0.3979710346914555), (144, 0.3979258500197971), (2271, 0.39789967068162346), (3972, 0.39747019486096197), (765, 0.39735337209866667), (4679, 0.3972877625229751), (484, 0.3972854645968051), (558, 0.39725405469948594), (3732, 0.3972321843686166), (816, 0.39705874683993736), (946, 0.39699521876469274), (2390, 0.39656794161061687), (104, 0.39629112899527746), (4248, 0.39600659190865245), (1565, 0.39594088328640364), (130, 0.39592495877451145), (2237, 0.3958600250253508), (3593, 0.39576194737553994), (4621, 0.3957229675132884), (1880, 0.39554970681291124), (2603, 0.39548519692909473), (2183, 0.3954533626822795), (1791, 0.39535819838248304), (493, 0.3952765385926258), (2576, 0.3951983409529605), (1287, 0.39516763923244275), (18, 0.3951604764448597), (3603, 0.395082408833923), (183, 0.395052749960367), (4643, 0.39499053006159), (4615, 0.3948325635393693), (97, 0.3947126150810235), (2830, 0.3946848649884063), (4058, 0.3946123470440771), (4343, 0.3945505441416655), (4187, 0.39448721691379324), (979, 0.3944704551789018), (3831, 0.3944672744680481), (2921, 0.3944199873299275), (175, 0.3943633030442896), (3788, 0.39427395310473295), (566, 0.3941483411449252), (4662, 0.39375874459119975), (500, 0.39370903645446287), (3370, 0.393536293964389), (1203, 0.39351183947785306), (1251, 0.3934894062950795), (1180, 0.39342289118291623), (1116, 0.3933020687484389), (1881, 0.39322544816069943), (1003, 0.39317908414355385), (3520, 0.3929391047694711), (1456, 0.3929343455237871), (2069, 0.39274988328073324), (1305, 0.3926526449277343), (3776, 0.39193898669880156), (662, 0.39193005354724647), (62, 0.3917815487292539), (3442, 0.3916702962479437), (4142, 0.3916350150236754), (55, 0.3915599906644023), (551, 0.39136779877116357), (2405, 0.3912253902736994), (4255, 0.39092458434585314), (2128, 0.3908660779924229), (246, 0.39053079524908796), (560, 0.39048963852784724), (3473, 0.38993055592750336), (4261, 0.38978292885478255), (4435, 0.38974285906069384), (4534, 0.38956962042283316), (4543, 0.38948258925369744), (2623, 0.38942991404915117), (494, 0.3894211763882836), (4661, 0.3892706641627822), (4135, 0.3891056633028285), (4430, 0.38882395334135494), (2039, 0.3886044182197597), (3298, 0.3883413639608062), (489, 0.3883358499284608), (1587, 0.38810597124560325), (476, 0.38796145154209716), (2415, 0.3879568714464444), (2334, 0.38792967955380026), (1358, 0.38787183840197326), (4329, 0.387428016434481), (3786, 0.38738942487906664), (2638, 0.38729916690057553), (3739, 0.3871557045352681), (620, 0.3870446688396464), (4309, 0.3869428871611255), (885, 0.38669021235940526), (2629, 0.3866066879043766), (2573, 0.3862450270440751), (3114, 0.38609082799423705), (2399, 0.3860376580658237), (2267, 0.3859973054780921), (3700, 0.3859570203362612), (1974, 0.38574451083975225), (353, 0.38570750924986885), (1772, 0.38562372342346957), (4327, 0.38561307194190986), (942, 0.3856019152235539), (2686, 0.38553808247383775), (3316, 0.3855269308693622), (4280, 0.38547766726237515), (806, 0.38534681239568486), (3586, 0.38500333526510366), (674, 0.3849323708523035), (4191, 0.3848999707950173), (4015, 0.38485519124520196), (4210, 0.38461940225566876), (77, 0.38422114523170586), (3444, 0.3841788151732489), (2079, 0.3841641326059989), (1664, 0.384090109726376), (1174, 0.38408685117289626), (3916, 0.383964024842004), (3963, 0.38389747714397715), (955, 0.3836983106487532), (4328, 0.38354934602423546), (986, 0.3834922494747948), (3741, 0.3834000934588049), (31, 0.3832057538040361), (1196, 0.3829695644910265), (1873, 0.38288584002005854), (131, 0.3827930176582697), (300, 0.38277911541279075), (66, 0.3826284056547078), (989, 0.38258769502300927), (3947, 0.3825438019150686), (1060, 0.3825413588540218), (843, 0.38250666289447494), (4606, 0.3821447984098264), (2245, 0.3820812722671985), (4001, 0.3820649488328626), (3799, 0.38205253896514907), (4335, 0.3820390473514566), (4104, 0.38203138743307197), (1863, 0.3818894251935059), (768, 0.38179042478359126), (1445, 0.381725299575013), (1931, 0.3814632600768269), (2522, 0.3812968319456902), (2544, 0.3811393588032141), (1838, 0.38076566043474963), (654, 0.3807054785360571), (2007, 0.3805905688028924), (2476, 0.3804177523630415), (655, 0.38004897617799593), (873, 0.3799435662332733), (4240, 0.3797600254114059), (4099, 0.37975204470026247), (1723, 0.379583579299759), (3522, 0.37946096094008636), (4161, 0.37943410675630285), (3775, 0.3794185981659555), (4350, 0.37936890757450714), (732, 0.37935493737272247), (4611, 0.37904814452964775), (1665, 0.37903565792362365), (3993, 0.37892575906272014), (794, 0.3789014471025646), (2083, 0.37882474902191815), (4331, 0.37858549465481756), (184, 0.37852860093770874), (156, 0.37833842671814005), (1094, 0.3782938122285559), (1504, 0.37800234920486026), (1360, 0.3779669961343995), (2687, 0.37790094248156814), (1600, 0.37782468818356846), (4339, 0.377790985544978), (2120, 0.37757107066057466), (541, 0.37743041989048826), (2742, 0.37734475978779947), (1469, 0.37722565843174927), (3202, 0.3771647826061311), (2022, 0.3770943973159878), (4231, 0.3769226391602803), (1766, 0.3769210238938151), (506, 0.37685844797344886), (1307, 0.3767762142070729), (352, 0.3767160751815146), (165, 0.3766459792649263), (1924, 0.3765851286633287), (4602, 0.3765590264494204), (1872, 0.37628747459587747), (1176, 0.37609019910056185), (3777, 0.37606989098566074), (1340, 0.3759986062661887), (699, 0.375951123146453), (3872, 0.37594154994603585), (1387, 0.3758854797250012), (2800, 0.3758662675422737), (1004, 0.3756941546021051), (2574, 0.3756125191120786), (1776, 0.37547978055264475), (4527, 0.37533606269906006), (378, 0.37514865230837696), (480, 0.37488443107923597), (834, 0.37463407320377884), (3996, 0.3744858587011581), (348, 0.37445667244925945), (734, 0.3743228904973626), (2689, 0.3742635068765302), (1298, 0.3742549678015025), (792, 0.37414813254550916), (4735, 0.3741469018773175), (1646, 0.3741347354919988), (2494, 0.3739327778134387), (2985, 0.3738631532889208), (1988, 0.37376642208441574), (4098, 0.3737367714747762), (1494, 0.3735378497315825), (3805, 0.3734352652414746), (3567, 0.3732115322635047), (2908, 0.37313049211644456), (1521, 0.3730911314539835), (3351, 0.3729838460007935), (3564, 0.372952744875223), (1195, 0.3729240069145585), (2408, 0.37256766252276086), (3559, 0.37251565348486), (1365, 0.37247452910484596), (2410, 0.37225519545124636), (1554, 0.3719809086400087), (3241, 0.3718653274039366), (4267, 0.37178417554482085), (2754, 0.3716479576227396), (3201, 0.37155365591121337), (1602, 0.37148753198262935), (2193, 0.37120076096416693), (16, 0.3711753231735593), (2798, 0.37112965939202885), (1820, 0.3710102907069582), (3193, 0.37098379838099066), (2292, 0.3708533283337695), (3384, 0.3706110775517262), (3464, 0.37057226072171534), (1621, 0.37051465803717043), (2272, 0.3702217120868097), (132, 0.37018166435556127), (3926, 0.3701290325687589), (635, 0.37012099344319765), (2053, 0.3700456410771344), (3432, 0.3699922099752186), (899, 0.3698635842984762), (3163, 0.36983438532237123), (1353, 0.3697483200891673), (254, 0.3697149423769353), (2156, 0.36965241685251615), (752, 0.3692143439326213), (2398, 0.3691752705604353), (3339, 0.36903166493428174), (293, 0.36903132807318806), (713, 0.3688683193854524), (422, 0.3688166150178439), (825, 0.36878638263112984), (3635, 0.36863090154896905), (3480, 0.3686099125510538), (1110, 0.3684258111998125), (1835, 0.3683203142141281), (788, 0.36784685082276924), (407, 0.3677050293119308), (1599, 0.3673997798727176), (3483, 0.3673823362809477), (4697, 0.36731556393451276), (3723, 0.3673010685725382), (957, 0.367249706910793), (3910, 0.3671002994105694), (2259, 0.3669938896766544), (59, 0.36692222736822544), (2409, 0.3665969661893112), (822, 0.36656696182243376), (4233, 0.36636633122439344), (2652, 0.36635250402484687), (36, 0.3662123715551717), (872, 0.3661668821713195), (3568, 0.36609465537145974), (1524, 0.3660849756426181), (2365, 0.36599774640917393), (2148, 0.36585727969505005), (4392, 0.3657966504138753), (2736, 0.36578631442055337), (56, 0.36569244196925277), (1751, 0.3656836171820993), (1008, 0.3656405324164416), (694, 0.3656149577914237), (1266, 0.36553409062953307), (1540, 0.3654666044276491), (2418, 0.3654334039171624), (2886, 0.3653597602869194), (340, 0.36532857909178834), (4488, 0.36520525762887246), (330, 0.3650637750979058), (239, 0.3650603546465537), (3695, 0.3649919667437756), (1362, 0.3649896417047769), (1306, 0.36496154954283927), (4448, 0.36496116705248227), (3468, 0.36475219962850053), (4012, 0.364641318108144), (2807, 0.3646276893908926), (912, 0.36453343357909035), (4513, 0.3644485314690052), (715, 0.364401528233364), (1685, 0.36437768891371897), (4093, 0.3642447982265173), (160, 0.3642158748697719), (1480, 0.3641362416279935), (3860, 0.364047150795015), (2780, 0.3640347314598943), (1711, 0.36401421508117937), (1869, 0.36398113836374607), (4438, 0.3639733635840833), (1240, 0.36381583675298257), (2116, 0.3637465156601086), (1023, 0.3635941759219636), (3373, 0.36349419956809764), (3815, 0.3633533673654251), (883, 0.3633319453178563), (4045, 0.3633110151155462), (915, 0.3632190363562354), (4016, 0.3630866141553531), (3746, 0.36302499793264514), (4597, 0.36294312798516426), (1978, 0.36289672824357705), (1047, 0.3628578952008152), (1597, 0.3628218798379569), (1579, 0.36270967590373726), (426, 0.3626666468625408), (1127, 0.36259430751209054), (3628, 0.3624157133958393), (1114, 0.36227405644663097), (959, 0.3622424012131097), (1438, 0.36212227183613566), (2303, 0.36211018297992376), (725, 0.3620794347412389), (1458, 0.36171907755657445), (3727, 0.36162729818974176), (3150, 0.36151196642140165), (1561, 0.36147464960309866), (409, 0.36135815259588155), (3954, 0.3612148480232885), (4338, 0.36116505167396457), (248, 0.3611034003383134), (2912, 0.36090387259705764), (1260, 0.36074757248102063), (1566, 0.3607039629886425), (2174, 0.36068480402858766), (468, 0.3606288842887811), (1406, 0.36059963838056086), (208, 0.36046206950268556), (3744, 0.36045726718579857), (2610, 0.3602622939467158), (4213, 0.36021187314951975), (3713, 0.3599163648420513), (2558, 0.35987588879273735), (928, 0.3598183220767935), (1993, 0.35973161527242525), (4454, 0.35948623317595546), (1795, 0.35944060690221946), (44, 0.35922123033445247), (4027, 0.3591506103384798), (696, 0.3590359282619891), (1295, 0.35884559334345995), (4323, 0.3585847515292619), (3133, 0.3585521390520962), (1172, 0.3584096499442297), (797, 0.35833606915939253), (3734, 0.3583073248261701), (3207, 0.358251592240818), (3548, 0.358193833539446), (2547, 0.3581779501996319), (4440, 0.35791067229174867), (243, 0.35766046292284565), (1581, 0.3575559934329248), (1348, 0.35751895089275393), (335, 0.3574932048335582), (1403, 0.35740595046227674), (52, 0.3573790837615834), (3143, 0.3573544968698533), (1005, 0.3571822445284242), (3039, 0.3569670569508365), (3852, 0.3568217479789049), (22, 0.3568146353075764), (4444, 0.3564525592079814), (1555, 0.3562471725597923), (2356, 0.3562263641493712), (54, 0.356186470907523), (2349, 0.35617503773662956), (1700, 0.35607202693647044), (604, 0.35605315011539473), (1523, 0.3557664440541004), (219, 0.3556282171446881), (4656, 0.3555747774349288), (977, 0.3555179269649731), (643, 0.3554742799068458), (466, 0.35533171913990597), (40, 0.35508912362143313), (404, 0.35489858146091197), (1162, 0.3547282641007087), (2144, 0.3546990560409575), (1802, 0.3546590868348927), (3129, 0.35456756651081983), (3690, 0.35443204567606923), (3394, 0.3543075930326681), (1052, 0.35412108970796047), (2516, 0.3540287499814297), (73, 0.35387954062869115), (288, 0.35359632793933155), (2848, 0.35345475834540185), (4340, 0.3533674636333012), (984, 0.35323999630623304), (3785, 0.3531877636916947), (4666, 0.3528896503686363), (1329, 0.35285151527227826), (1603, 0.3528084981061375), (835, 0.35267454442319335), (301, 0.3526117952748306), (209, 0.3525698066965009), (799, 0.3523568711824702), (1787, 0.35223555518540284), (667, 0.35216181626591125), (3376, 0.35207516351623874), (2763, 0.3519118411237072), (2104, 0.35157279241115785), (4453, 0.35143980615839565), (2878, 0.35126571525288375), (237, 0.3511325723632729), (3943, 0.3510314261663441), (1691, 0.3509968663528293), (1487, 0.3507957659332938), (751, 0.35032252713715656), (2098, 0.3500974391223264), (802, 0.35008057015698096), (256, 0.35000813005873915), (1722, 0.3499146855207257), (4434, 0.34986174096111405), (2061, 0.3498232385907286), (240, 0.3498142013995661), (2322, 0.34980060171928856), (368, 0.34967747009775985), (4433, 0.3494261784625801), (755, 0.3494028918409233), (4747, 0.3493896821084822), (2713, 0.34938713636336544), (2975, 0.34937015252794135), (1634, 0.3493081857182132), (1663, 0.3492043029991633), (923, 0.34915139958441266), (261, 0.34898210033723676), (1337, 0.34889172669006424), (509, 0.3488394732039556), (1010, 0.3488238497103756), (3358, 0.34872229681049227), (4080, 0.3484769502473039), (3641, 0.3483014612701509), (3894, 0.3482747507742815), (1461, 0.3482397803462219), (3132, 0.34816787400874205), (2386, 0.34813010453071114), (2525, 0.347987680069248), (2172, 0.3479400844301509), (3595, 0.34792588202323715), (3773, 0.3478428653296388), (3949, 0.34773583866700747), (317, 0.347729085137624), (2109, 0.3475757540242057), (1906, 0.3474707484380145), (265, 0.3474522067907626), (3865, 0.34698262281743164), (1078, 0.34694224301829896), (563, 0.34680430839385556), (227, 0.34673442056708853), (3096, 0.34665557296443567), (4036, 0.3465568202527737), (1829, 0.34650928186162533), (4296, 0.34636463400199513), (3352, 0.34623153251333644), (4684, 0.34616702894236506), (3161, 0.34604263612157365), (1481, 0.3457158537009761), (1525, 0.3454086627676462), (878, 0.345402193749804), (2423, 0.3452703956792256), (2609, 0.34521854038698113), (1475, 0.34521730416017143), (1903, 0.34518667958882354), (4688, 0.34512646044370515), (1944, 0.3450849515605122), (2586, 0.34506181326250973), (372, 0.3449980179651927), (3666, 0.3444351271336157), (522, 0.34442539081303164), (2502, 0.34441597692755094), (1188, 0.3441011345813816), (1548, 0.3439745503261029), (3179, 0.3439019609750342), (2205, 0.3438817175155818), (2413, 0.3436087627905405), (1043, 0.34359704759909937), (1767, 0.3435805580121474), (1979, 0.3434906266612873), (2035, 0.3434408778459789), (1864, 0.34339709872138785), (3619, 0.34327606827474455), (919, 0.34313733274848546), (1952, 0.3430550959285267), (2190, 0.34295056868865054), (1921, 0.3429363670482285), (1951, 0.3428815978274308), (2412, 0.3427670084060665), (1888, 0.342714749678014), (3085, 0.34259423165807285), (1323, 0.34255255067293455), (3329, 0.3424613810784886), (3965, 0.3424025926802513), (1616, 0.34233819312852914), (4496, 0.3422800448634822), (1553, 0.34225085644722136), (3607, 0.34169557242931803), (2233, 0.34161557429679507), (483, 0.3415633798910836), (3503, 0.3414266432728961), (4680, 0.34139704732208065), (2665, 0.34137209053308304), (1680, 0.3413310768495753), (3279, 0.3412428383735511), (1059, 0.34117126689061394), (793, 0.34113337680388306), (1534, 0.3410864547708634), (2336, 0.3410831011022961), (1509, 0.3410153212184287), (2853, 0.3409516077100031), (1083, 0.3409176663140156), (3499, 0.34087633569388465), (4409, 0.3408417937875727), (142, 0.34078459447049547), (4346, 0.3405540648531967), (1332, 0.34015283722948847), (3598, 0.340133844317794), (3388, 0.33997341472323517), (166, 0.33967705678240007), (4013, 0.33958204232167993), (1854, 0.33955909441228677), (127, 0.3395513403523145), (179, 0.339458050876267), (4043, 0.33944677663278655), (4274, 0.3393979895090575), (2203, 0.33938536418276616), (3224, 0.3392959171793774), (3863, 0.33911149255599354), (3917, 0.33907854622576145), (186, 0.3390666136482487), (2931, 0.33862881945989026), (3174, 0.338562709167378), (4451, 0.3385022005693416), (1557, 0.3384142952357624), (485, 0.3383926191108943), (2727, 0.33827499856969656), (827, 0.3381601008512549), (4112, 0.3378689789212367), (3542, 0.3377547147551541), (4516, 0.33775023945143423), (3803, 0.33758877346973193), (390, 0.33749508407749895), (2845, 0.337330655220372), (281, 0.33713397046754556), (1705, 0.33689436962749164), (1527, 0.3367514758089659), (416, 0.3367099182183946), (105, 0.33665542453502795), (2667, 0.3366453708896776), (3989, 0.3364140924652849), (3596, 0.3361243751715727), (2295, 0.3361135599622462), (469, 0.3360591123076112), (1021, 0.3359972581145038), (172, 0.33595246402108564), (129, 0.3358808659026233), (3955, 0.3356455233020067), (4290, 0.33560394893160744), (4039, 0.335575764621802), (3466, 0.3352935017456822), (1999, 0.33511699752435853), (222, 0.3350753601919821), (3828, 0.33506776084799766), (916, 0.3350653069050013), (4298, 0.33504747340620905), (2565, 0.33493919561232854), (587, 0.33489692989397374), (2381, 0.33486437270861075), (1809, 0.33482741838325636), (845, 0.3343774219150043), (1727, 0.33418877225827864), (1497, 0.33409519499967766), (3079, 0.3340502355300427), (2507, 0.3340456880711697), (1678, 0.33384876518107093), (168, 0.3338383038623615), (465, 0.33375301245469935), (57, 0.33373392788240347), (1048, 0.3337279445091132), (1024, 0.33364458079550613), (2942, 0.3336366492863463), (3902, 0.33359826148455796), (681, 0.3335634552483436), (1236, 0.33356172643263104), (2091, 0.3335267884448922), (2663, 0.3334968157948973), (2557, 0.33348446950422234), (2981, 0.33339044986505767), (1656, 0.3333681042567481), (2122, 0.33335518881587595), (2317, 0.33331858574758305), (1500, 0.33313692568763476), (3337, 0.3329245942958948), (3738, 0.33269544111343713), (803, 0.3326653768121474), (2648, 0.33263376144303186), (1351, 0.3324605433982919), (917, 0.33244185599108816), (1950, 0.33220718308748093), (2714, 0.3321881612287279), (4718, 0.3319885674404039), (2041, 0.33197040544699374), (1213, 0.3319699119135358), (3356, 0.3313672604909095), (464, 0.3312150997720945), (429, 0.331182258343571), (1718, 0.3311181698222312), (4192, 0.3310725240295907), (3735, 0.3310705479413021), (3448, 0.3310196598150345), (435, 0.3308306624552525), (3011, 0.33082268044330587), (3147, 0.330821409335957), (2723, 0.3306587869449423), (701, 0.3304033590042542), (1045, 0.3302005729581907), (367, 0.33006520994748995), (2161, 0.3300533531798361), (4582, 0.3300216740070913), (306, 0.3299091560785447), (961, 0.32983083703697424), (716, 0.3297882168466463), (3498, 0.32972745517310664), (1274, 0.3295285978691322), (1476, 0.32947040860256244), (3769, 0.32943863441093835), (4612, 0.32940957580697366), (2779, 0.3293405977759439), (2620, 0.3293367156942721), (1755, 0.32912807421661033), (1516, 0.3290047302064894), (3406, 0.32883409264822183), (1311, 0.3286963705026126), (1081, 0.3285695185129436), (2110, 0.32856188056882835), (1238, 0.3285379151904539), (351, 0.3284451650404179), (2082, 0.3284206709241964), (1762, 0.32837069044249273), (3811, 0.32822722982234154), (4470, 0.3282183531329757), (4277, 0.32811324485713783), (4235, 0.3280510556071598), (1681, 0.32801718648229633), (3083, 0.32790541317424277), (3726, 0.3278209583887914), (4647, 0.32777544349198173), (1539, 0.3277568581879829), (2909, 0.32760410395217293), (1492, 0.327521284731097), (1778, 0.32745751235336834), (28, 0.32739412146051533), (565, 0.32737246330515557), (1312, 0.3272071793640026), (3387, 0.327009090515132), (4010, 0.32699681353609983), (4563, 0.32692045265576375), (1429, 0.32687304519156174), (366, 0.32661918788066246), (2523, 0.3265971029974431), (204, 0.3265571303448441), (1617, 0.3263981851557964), (1839, 0.32629902363794056), (3688, 0.3262796448950219), (4034, 0.32596024721360106), (2621, 0.3259291989409447), (1513, 0.3259287562529757), (3986, 0.32590546298849093), (1551, 0.3257944844227132), (17, 0.32578554544394406), (4447, 0.3256695847063434), (3793, 0.3256402144262281), (4295, 0.3256231157429955), (3363, 0.3254071965953999), (1861, 0.3253534814045069), (1292, 0.3253370549743992), (1859, 0.32518769574410994), (4023, 0.3251837810852026), (773, 0.32508353489995523), (2963, 0.32482598613987), (653, 0.3247899182297016), (4511, 0.32468329667538015), (869, 0.32467131309322783), (589, 0.3246430002467673), (908, 0.3244867141630063), (3204, 0.3244439947462628), (3091, 0.32425668938021174), (1031, 0.32424063367376227), (841, 0.3241489499280933), (1535, 0.3241144974043744), (2495, 0.32410782899153795), (2498, 0.32389146582649964), (2127, 0.32388637482760735), (2856, 0.32387562784416263), (1345, 0.32385409209022076), (2804, 0.32378835798581024), (3904, 0.3237603558723361), (4452, 0.32368536595741965), (748, 0.3235708928120888), (338, 0.32355746232616095), (1, 0.3233312066354792), (228, 0.3231380885067685), (3509, 0.3230228005984222), (3599, 0.3230127210523277), (1194, 0.3228131571514972), (1139, 0.32264692067127965), (3555, 0.3226400582327012), (1824, 0.322282909500804), (4035, 0.32221250129172707), (2438, 0.32211549213105584), (2430, 0.32210397764079285), (4057, 0.3220582813812455), (1472, 0.3220496156730572), (3969, 0.3218894953028996), (3694, 0.3214266190122671), (4089, 0.3214013701436991), (1474, 0.3213114152694225), (4137, 0.32124117831957005), (3104, 0.3212275718310473), (4574, 0.3211105961837499), (1349, 0.32109012941304627), (1559, 0.32108945324348265), (2273, 0.32108253861509733), (1781, 0.32094220089595477), (1074, 0.3208943788202154), (459, 0.3208618391569112), (2988, 0.32080941545208735), (4143, 0.3207905930694112), (2892, 0.32074173659969984), (532, 0.3206992818941151), (100, 0.3206841970216646), (3385, 0.3206593286673699), (2822, 0.3206396290097586), (798, 0.32063921593764083), (1890, 0.32062231759699095), (535, 0.3206202802390611), (1882, 0.32060830672357155), (2100, 0.3205649503184859), (2898, 0.3204926675547307), (4139, 0.32047300985813065), (2130, 0.32046761745297647), (1463, 0.32040533921387326), (823, 0.32039083885250447), (562, 0.3203683814973973), (1519, 0.32031918270605675), (612, 0.32017232112115174), (4650, 0.3201459767431451), (669, 0.3200787011332993), (257, 0.3200221906557816), (3486, 0.32000117850725707), (4426, 0.31997664064452375), (2149, 0.3198438423381629), (2001, 0.3198396137610935), (1626, 0.31977619961908893), (3854, 0.3197692720596276), (2802, 0.31970560830878536), (4478, 0.3196960522506477), (2277, 0.3193894011709919), (4411, 0.31934119432292113), (1970, 0.3189704945004346), (3270, 0.3189126846807873), (844, 0.31886855276750437), (4178, 0.31885254708828126), (3010, 0.3187262549123905), (2996, 0.31854909555076066), (2136, 0.3185172977753401), (1672, 0.3183301165215598), (1170, 0.31830633230724653), (2268, 0.3182362683748212), (3870, 0.31812723782724656), (4362, 0.31810142801141), (1520, 0.3180467706529527), (3590, 0.31797341631109943), (397, 0.3179180657929441), (1126, 0.31791694590595654), (1258, 0.31787180431033113), (4158, 0.3178353727066021), (3938, 0.3176747285515247), (2359, 0.31760632051566007), (2019, 0.3174954101553926), (956, 0.31733930320346637), (3751, 0.31710826974216655), (892, 0.3170016547782192), (2258, 0.3169136744847951), (1103, 0.31684587536470543), (2704, 0.3168129117602671), (1706, 0.31677332797327334), (1912, 0.3167114487307547), (1543, 0.31670913591994526), (414, 0.31666401538833683), (4655, 0.31664864533641746), (1651, 0.31653091892317536), (1987, 0.3164967741092434), (2092, 0.31647112694962265), (266, 0.31645455627118924), (3541, 0.3164445537036271), (3781, 0.3164383206689139), (963, 0.3164308101650135), (438, 0.3163916053248337), (1454, 0.3161487671832331), (3410, 0.31613095796465357), (652, 0.3160580663313273), (112, 0.3158931429109381), (930, 0.31586631251629127), (1515, 0.3158032865349076), (456, 0.3157802656313163), (4011, 0.31568967440025086), (305, 0.31563278994756316), (3012, 0.3155866246661715), (2566, 0.31556362748429617), (2483, 0.3155578306386082), (1432, 0.31555022919516845), (884, 0.31549509413037075), (507, 0.31542932562474485), (375, 0.3153479013366403), (1591, 0.3153326943297817), (3898, 0.31531712487090885), (1082, 0.31516552098728906), (2361, 0.3151546870992741), (721, 0.3149525132356611), (2755, 0.3149482779598193), (1356, 0.31489659190559355), (94, 0.3148520437523699), (3551, 0.31469808625496454), (976, 0.31462550239673237), (3659, 0.31461595517932306), (174, 0.3145492547691926), (1964, 0.31449585566814203), (3078, 0.3142938123096448), (4460, 0.3142886884922442), (1518, 0.31427372636128265), (4566, 0.31422103815910574), (736, 0.3141542111735517), (1202, 0.31414934579876774), (273, 0.3139477935750654), (91, 0.31390543394823145), (2373, 0.3138579809910622), (3308, 0.3138561658156209), (3247, 0.3136737160210609), (4670, 0.31360849721884265), (3711, 0.31352337816396897), (3671, 0.3134014965701653), (4431, 0.313352653482492), (4506, 0.3130165865287447), (58, 0.31299710043953016), (3823, 0.31282581370428536), (1517, 0.31273212861177313), (1400, 0.3126784370083626), (1742, 0.3126177212905273), (2111, 0.31260571985339114), (2605, 0.31253948686035743), (3693, 0.31250320848890295), (877, 0.312491562892692), (2417, 0.31244250613225333), (221, 0.3124286571425092), (4439, 0.3123237872101999), (327, 0.31220961092782185), (1738, 0.31202514440297463), (3073, 0.3117005283168309), (65, 0.3116406616221815), (567, 0.31161098596370607), (2606, 0.31137844353399974), (3284, 0.31137580863481656), (722, 0.3112600922677697), (3960, 0.31118295660837564), (1211, 0.3111675824474589), (449, 0.31111519547142186), (782, 0.3111133986015571), (491, 0.3110348759672136), (733, 0.3110248586302426), (1754, 0.310910476752189), (161, 0.3108604693469048), (3609, 0.31083965523393275), (241, 0.3108271264655639), (376, 0.3103809826321311), (859, 0.3103791578174755), (504, 0.31029081145642945), (2986, 0.3102155548033998), (3747, 0.3099889305516912), (1466, 0.3099192831624491), (2131, 0.309893929104417), (1886, 0.30972838058627516), (3814, 0.3095820485474096), (3602, 0.30948568988139025), (262, 0.3094681091754758), (1198, 0.3094179100514266), (322, 0.30933142614289244), (2571, 0.30928039536823204), (4195, 0.3090499864969587), (852, 0.30889551159388284), (3362, 0.3086064200519321), (211, 0.3085598122594272), (3889, 0.30855404718315865), (350, 0.3084696992729854), (597, 0.3084188820068012), (4707, 0.3083693685600241), (2526, 0.3082511718823286), (1088, 0.3082122739654255), (2718, 0.3081793582546053), (1310, 0.3081748311707745), (1614, 0.308143378887489), (2846, 0.3080224010530446), (310, 0.3078940074009654), (3286, 0.30785676287734687), (4473, 0.30783649251960876), (34, 0.30781260205175126), (1014, 0.307791652400794), (2462, 0.3075552625949366), (4214, 0.3074161992780607), (182, 0.30741371841971415), (95, 0.30740226995170755), (4113, 0.3074005122633218), (1364, 0.3073715612292743), (2182, 0.30726403632295335), (809, 0.3071217678457474), (3591, 0.3070913952700291), (4555, 0.30683076027817247), (2504, 0.3067969908611257), (804, 0.3067601020022828), (1396, 0.30668098088728774), (217, 0.30658018615431815), (3158, 0.3065692339538127), (739, 0.3065591514438891), (458, 0.3064996385733324), (4421, 0.3064009793606369), (2766, 0.3063583057041414), (1054, 0.3062238358454808), (1249, 0.306141412608915), (2106, 0.3060762053090104), (2710, 0.3060044903857132), (277, 0.3059894069939628), (3953, 0.30582138126219743), (4408, 0.3057067220604641), (1427, 0.30567176939069657), (2793, 0.3056003013203169), (821, 0.3055204074503243), (1112, 0.3054815141905699), (3072, 0.3052487472441005), (2189, 0.3052292062322594), (1217, 0.30515679602839857), (1158, 0.30496655729891897), (527, 0.3048403557037865), (3333, 0.30461848219366294), (1923, 0.3045060163109935), (1946, 0.30446170462444705), (4009, 0.3044511486998316), (3792, 0.30439833620582785), (2491, 0.30432988504857006), (862, 0.30420917136477243), (2496, 0.3039801167880763), (613, 0.3039633856506904), (944, 0.3039044433065272), (316, 0.30385175384028235), (1900, 0.30378044714529395), (521, 0.30377366110036985), (683, 0.3036797872079972), (1564, 0.3036568633787725), (993, 0.30364526697088223), (427, 0.3035778837804564), (2434, 0.3032620484667236), (548, 0.30324004465081855), (848, 0.30283063393706305), (3941, 0.30268603178486236), (3756, 0.3023988722840828), (3405, 0.3023975603123483), (3885, 0.3023845267880085), (2791, 0.3023035424570388), (1495, 0.30228465843800956), (3299, 0.3022347827151876), (118, 0.3021788641934402), (528, 0.30212947914066396), (398, 0.3021289960732387), (1462, 0.3020816001372021), (103, 0.3020614060260575), (904, 0.30190893476226205), (718, 0.30180446901754016), (3987, 0.30179741315460445), (3305, 0.3016892185000403), (3956, 0.3016297166469279), (275, 0.3015478398751779), (249, 0.3015326343448347), (3546, 0.301474313853923), (377, 0.3013466250851553), (3430, 0.3013275203120344), (1066, 0.3012042096813324), (339, 0.3011842894792413), (30, 0.30115613549954035), (786, 0.3011249683770377), (757, 0.3010478887236077), (321, 0.30099351466151664), (1640, 0.30096279717592445), (1905, 0.30076587674127453), (2639, 0.30074486888310664), (1721, 0.3006795567784908), (279, 0.30055795821108217), (2338, 0.3004045419249364), (1697, 0.30038024465129765), (1072, 0.30036991610733443), (4234, 0.30036798993084496), (167, 0.300303815823695), (3915, 0.3001726465777579), (891, 0.2999567380085415), (269, 0.2998145599636234), (417, 0.2997372844724665), (1142, 0.29972643921624353), (2508, 0.29963368604771295), (1989, 0.29943244429243987), (2254, 0.2994096226669071), (910, 0.2994060036167873), (1528, 0.29929358900200487), (1549, 0.29928878351127), (2873, 0.2992011461335104), (3754, 0.29904892325586907), (3460, 0.29900191126686226), (2944, 0.2989006001744238), (682, 0.29889202681919974), (4038, 0.29876966174516245), (836, 0.2987332065051608), (2781, 0.2986871524124298), (4223, 0.298641577318979), (490, 0.2986165253340904), (401, 0.2985085606627955), (4156, 0.29848826752676755), (818, 0.29848810122445457), (4754, 0.29839471304766013), (4245, 0.2983441487705313), (2214, 0.2983323338863), (3632, 0.2983242623117943), (3859, 0.2983152241526384), (568, 0.2982975793481899), (4685, 0.29825318392957684), (15, 0.29809540250676786), (876, 0.2980774991369444), (415, 0.2980607635674595), (1143, 0.2980532058030617), (3060, 0.2979779710308906), (4486, 0.2978447785185359), (3144, 0.29782944631096947), (4530, 0.2978231051852741), (2095, 0.29769887943147394), (2280, 0.2976694935335685), (4384, 0.29758615928417986), (313, 0.2975367392185613), (2108, 0.29748754990539156), (408, 0.2974763094356855), (637, 0.29742416308737085), (3313, 0.29730388355107323), (685, 0.2972704495690299), (4687, 0.29719887870469286), (3850, 0.29719713986938134), (598, 0.2971688117684963), (223, 0.2971568221576136), (3182, 0.2970853642741344), (4063, 0.29708059074229237), (1228, 0.2970449540960408), (3643, 0.2969376145014257), (3320, 0.2968042487371608), (3168, 0.2967305838752262), (2817, 0.29672167867292226), (1514, 0.2965521608854), (2178, 0.29654896738863), (1049, 0.29647744654976504), (331, 0.2963910710552969), (4682, 0.2962979889740618), (1522, 0.29599921261057216), (1137, 0.29595055032302464), (121, 0.2958414961533129), (3276, 0.2957498548246162), (1221, 0.2957366231258228), (272, 0.2956774702309296), (380, 0.29549913129060607), (4695, 0.2954742452369228), (218, 0.2954513780138874), (291, 0.2954505124594876), (4417, 0.2953876817004841), (450, 0.2953854310774506), (1486, 0.29528054214205457), (2668, 0.2951273597553622), (1571, 0.295021225014329), (2117, 0.294984584251273), (749, 0.2949525559187914), (2015, 0.29483627636625365), (1071, 0.2947702994102798), (596, 0.29461859144047137), (2362, 0.2945349809786436), (412, 0.29452515351473907), (1526, 0.2944044601323831), (1352, 0.29440211784060294), (2789, 0.29437971931667917), (1489, 0.29436959315103717), (920, 0.2943225471038349), (3868, 0.2941830519803304), (3646, 0.2941197111805497), (176, 0.29410091900820584), (2352, 0.2939994817038317), (4002, 0.2939767804895953), (3278, 0.2939383715106929), (1529, 0.29382028779531966), (1131, 0.2938132122207659), (3327, 0.29380940670254474), (3684, 0.2936184102697787), (1739, 0.293405629400597), (2419, 0.29323456120707964), (148, 0.29312990558797425), (4288, 0.2931243655086701), (3855, 0.293099352927529), (4204, 0.29304357588931607), (554, 0.29299626198297596), (1491, 0.29296354977771033), (634, 0.2929483558780984), (646, 0.2927919509903701), (2200, 0.2927348660659369), (3433, 0.29270605107114034), (2824, 0.29269170941437134), (3042, 0.29262792638355034), (618, 0.2925146682841338), (314, 0.29250804457121554), (4531, 0.29250532815689), (1636, 0.29239716590225245), (4422, 0.2921466794588914), (1243, 0.29214596502503914), (93, 0.29208933249545227), (4155, 0.2920525415832756), (3576, 0.2920161483931718), (4088, 0.29198106526305406), (658, 0.2919421391322527), (25, 0.2919167732723996), (2904, 0.2918383735236981), (570, 0.2914659032939899), (3069, 0.2914639137898289), (575, 0.29140216079475106), (1027, 0.29134639163222503), (1827, 0.2912453779183755), (505, 0.2912199149418505), (4000, 0.2912080157030036), (1439, 0.2910177649867932), (3183, 0.2908529472764562), (720, 0.2908463903103944), (3021, 0.29084522324591217), (684, 0.29082342893414254), (1104, 0.29081198634403804), (1782, 0.29079586446725075), (774, 0.29070834635526854), (1145, 0.29068947872002837), (677, 0.2906053244193082), (282, 0.2903833118061602), (2863, 0.2903830367484357), (1542, 0.2903730285002937), (3778, 0.29034170997209585), (3271, 0.2902271329280408), (315, 0.2901563749572996), (1186, 0.29015401106410427), (3543, 0.2901480952056096), (4353, 0.2899713690992862), (4404, 0.28994676184857016), (4203, 0.2898109141973486), (552, 0.289774964765087), (178, 0.289743477635516), (3673, 0.28973097970938566), (1259, 0.2896655256973072), (394, 0.28956754048238076), (538, 0.2894717558683312), (557, 0.28938330351345004), (2481, 0.2892845581689589), (405, 0.2891599708346472), (2976, 0.289152789339322), (382, 0.2890160643166668), (580, 0.28868781639456015), (2497, 0.28866482637200114), (320, 0.2886423128477254), (1538, 0.288618092281615), (4017, 0.2885977178152322), (2492, 0.28852305647970916), (2013, 0.28851853612754674), (1803, 0.28845650079120994), (2732, 0.2884152188323896), (3597, 0.28826868199788847), (4052, 0.28816559288039534), (503, 0.2880159280525575), (3888, 0.2879526821806455), (2694, 0.2879333634862475), (2377, 0.2878966794990725), (2501, 0.2876966904102382), (2137, 0.28767912491703956), (4334, 0.28755823858041524), (238, 0.2875441532608293), (1843, 0.2874909969033616), (381, 0.28725135497485665), (3446, 0.28721193316682614), (1563, 0.2871060051731135), (2389, 0.2869911485122328), (3531, 0.2869823868079253), (2177, 0.2867504037225158), (2758, 0.286647505330645), (3485, 0.2866242914349981), (990, 0.2865809641462182), (4202, 0.28652849579914086), (4483, 0.28649594236940346), (4690, 0.2863863400468262), (399, 0.2863587575087859), (3097, 0.28629482135054396), (3939, 0.2859443850275642), (1058, 0.28589176701326763), (3053, 0.28586520987730785), (3725, 0.2858574106869686), (3094, 0.2857971416208238), (4599, 0.28558603010134304), (3639, 0.28555485861389157), (2168, 0.2855498180384148), (1642, 0.2854746100392013), (455, 0.28543261332706943), (4436, 0.28543253269714247), (205, 0.28542733955888944), (2453, 0.28539971114209584), (1785, 0.28539263326392894), (445, 0.2853725997450232), (1629, 0.28530351299679074), (4138, 0.28529883817801405), (3497, 0.28520203094418284), (879, 0.28518215874092145), (3030, 0.28515407167011636), (3706, 0.2851419925477692), (4069, 0.285104066102837), (4228, 0.2849369193209561), (2582, 0.28492967627703725), (638, 0.2847063289755216), (373, 0.28463973712664603), (2456, 0.2844561161301474), (593, 0.2844137300212597), (4638, 0.2842541634009105), (1089, 0.28424577680485447), (3311, 0.2842151578713958), (214, 0.284111634569485), (3875, 0.28395341716215056), (898, 0.2837284014077795), (2957, 0.28361703090479634), (4598, 0.2833802980481322), (864, 0.2832441022005025), (2225, 0.28322042270108383), (180, 0.28302760809999317), (3570, 0.2830030088441804), (890, 0.2829968245256808), (3724, 0.28284901343373914), (3052, 0.2828476685330335), (1925, 0.2828285944587111), (801, 0.28282508762116676), (2534, 0.2828035310268297), (1720, 0.282769467973471), (4124, 0.28270390195746653), (3837, 0.2825898452913319), (707, 0.28240357466299226), (1434, 0.2823522905981755), (2510, 0.28218934519803723), (2894, 0.2820489379789663), (3654, 0.28203228661466295), (1811, 0.28199328880705793), (21, 0.2818144129879429), (2051, 0.2817795843411912), (3375, 0.2817434241951841), (3404, 0.28163779440973946), (1726, 0.2816345407000836), (2625, 0.28160901575222236), (670, 0.2816038915446232), (534, 0.28152085971045576), (851, 0.2814821648736085), (1331, 0.28133834618563464), (2428, 0.2812890477257658), (71, 0.28124363254501805), (2865, 0.2812090190794158), (3153, 0.28119417380774114), (2478, 0.28119190778903796), (260, 0.2811683964779714), (648, 0.28113512966054205), (7, 0.28107045442673856), (2868, 0.28104832309099537), (90, 0.2809943357340012), (460, 0.2807692998136806), (3853, 0.2807607531615132), (3319, 0.28067076484169967), (431, 0.2806660234593926), (1070, 0.28061697038384825), (1544, 0.2805784455830879), (19, 0.28051853735661736), (1061, 0.2804495336064699), (3516, 0.2804135084648724), (1567, 0.2800339706954625), (4668, 0.279982309663456), (895, 0.2799740880560367), (3013, 0.2798245735267076), (2058, 0.279812126658832), (2264, 0.27969371448303904), (4716, 0.27968249267793016), (3457, 0.27967722143803714), (3740, 0.2796720394007698), (3218, 0.27954709873419603), (87, 0.27954376679767584), (772, 0.2795131258808783), (1593, 0.27948010588451383), (582, 0.27933943629575747), (576, 0.2792390707587069), (1013, 0.2792316947854445), (3256, 0.27919413679973737), (420, 0.2790766864762623), (937, 0.2790115384568108), (659, 0.2789083816023752), (349, 0.27886371261715637), (3881, 0.2786790563668068), (2861, 0.2785930558252341), (2206, 0.27858931699337824), (1192, 0.2783986614659518), (991, 0.2782850061566748), (1496, 0.27824719569863704), (2570, 0.27823230797704657), (853, 0.27823155913926484), (2839, 0.27820007511023265), (726, 0.278088590098409), (4125, 0.27806679870608864), (3554, 0.27799687508074344), (3922, 0.2779703303349896), (4024, 0.27795611400287895), (4051, 0.27774593834626676), (846, 0.2776563303866327), (4351, 0.27761984019472713), (2012, 0.27758113930397166), (2252, 0.2773828644406967), (252, 0.2773384252327135), (4073, 0.27729101107016707), (1261, 0.2772685326953434), (607, 0.2772626852083061), (2690, 0.2772582340035031), (3753, 0.27714592889932255), (2150, 0.27702132406905833), (2764, 0.2769640758930334), (2229, 0.27687578959476383), (717, 0.27680257291731847), (1327, 0.27674678889153653), (949, 0.276718180918352), (3191, 0.27670181121499776), (3677, 0.2764675603757605), (8, 0.27635979287361695), (1138, 0.2763569914988719), (2612, 0.27627156075221093), (680, 0.27624004780560374), (945, 0.2762264078436056), (1786, 0.2761482438394953), (1983, 0.2761449051535477), (2528, 0.2761249685893827), (1546, 0.2760883066117641), (1096, 0.2759407209782322), (4186, 0.2758569812006936), (578, 0.2758559051813917), (2614, 0.27570875728234795), (1866, 0.27569848639491296), (4221, 0.27569087821810356), (3901, 0.2755588265978561), (2276, 0.2755228370314537), (195, 0.2754396356800431), (1225, 0.2753464556178025), (488, 0.2753380239883747), (4494, 0.27532819390895), (1840, 0.2753190975971083), (2354, 0.27516882247495067), (1437, 0.2749815263993318), (4121, 0.2749627241593154), (847, 0.2747374412414169), (2812, 0.2747311961800555), (1734, 0.2746676313685079), (2460, 0.27466252298915145), (1789, 0.274571402861945), (2542, 0.27451288178959693), (1055, 0.2744966370645918), (1149, 0.27441358412231376), (2820, 0.2744129332001629), (1120, 0.27438679767465907), (1209, 0.2743232661106781), (2613, 0.27430464845297325), (433, 0.2742274816374142), (856, 0.2741978449860081), (290, 0.27407378579934566), (4197, 0.2740265095270266), (3301, 0.2739421962067688), (4504, 0.27389257802889566), (2749, 0.2738135006383126), (4022, 0.27378669186012555), (602, 0.2737341628035251), (3186, 0.2736814316746114), (4723, 0.27367482970539775), (2196, 0.2736448883148568), (2107, 0.2735882216979524), (1821, 0.2734437262462731), (4667, 0.2732870121980398), (3001, 0.273250712740652), (1530, 0.27321029337186337), (1937, 0.27307061945418953), (4004, 0.2730698864073157), (1297, 0.27306056604164236), (226, 0.2728601194585606), (2893, 0.2728245690451859), (2487, 0.27269445841379036), (4217, 0.27264792720597786), (3318, 0.27260404362182544), (4068, 0.272584630107157), (1774, 0.2724911937019081), (3491, 0.2723960056888335), (1541, 0.27229379812342114), (4614, 0.27222286750306446), (2728, 0.27211671500515267), (738, 0.27209529932639526), (1250, 0.27168270911768466), (1620, 0.2715332653262635), (3280, 0.2714005205688654), (571, 0.2713668128225471), (1155, 0.27131584472698106), (526, 0.27126294624606895), (2950, 0.2711732105282405), (647, 0.27114482746711305), (1506, 0.2711378332103031), (1269, 0.2711015856869374), (3978, 0.27105596857624403), (1701, 0.2709546097836667), (1887, 0.27093048996592217), (2326, 0.2708865528821536), (120, 0.2708856864767153), (3701, 0.27087601458483396), (3355, 0.2708452803584431), (2369, 0.2707308272372573), (3923, 0.27055645838010894), (870, 0.270446716115065), (3651, 0.27038821975874855), (2970, 0.2703578786724977), (2543, 0.270185995488942), (479, 0.2701605607068761), (1768, 0.27012937617332816), (3845, 0.2700105089147053), (1792, 0.26998947473364365), (38, 0.26988340675385186), (4083, 0.269871240304836), (4731, 0.26983163374902275), (1507, 0.26978414922490257), (3919, 0.26972953451189585), (3807, 0.2697023128603594), (2823, 0.26968994454011364), (1510, 0.2695795090373965), (632, 0.26953404595110925), (3661, 0.2695251736482725), (2062, 0.26950977427657713), (3374, 0.26949945813312115), (2616, 0.26948405130915065), (486, 0.26948166331938084), (3028, 0.26944625621899093), (790, 0.2694108431461875), (3390, 0.26940683946677735), (1319, 0.26937556685238256), (610, 0.26925351788664476), (775, 0.26904254678086353), (2536, 0.26895143288233186), (533, 0.26891148038162527), (1939, 0.2688575451378323), (882, 0.26880505261834803), (477, 0.26880467726339513), (1042, 0.2687768817972719), (743, 0.2687513796987563), (584, 0.2687151710846179), (4529, 0.2686158635817147), (2564, 0.2685701185892407), (2725, 0.26856071301485634), (515, 0.2685127952240578), (4552, 0.26830856364581945), (1241, 0.26826164415592857), (3081, 0.26816671359345534), (75, 0.26811323592707764), (1995, 0.2680185366765424), (1092, 0.26797266542185), (4315, 0.26797196005474516), (2059, 0.2679213593416163), (3200, 0.26783945868060155), (1659, 0.2678266929190309), (2956, 0.2677771756171537), (4626, 0.2676786707099834), (400, 0.26766792400807354), (3232, 0.26749132947720994), (188, 0.2673676829172719), (4122, 0.267310949697112), (692, 0.26724434234309874), (2701, 0.2671851906058388), (1294, 0.2671827627915981), (4003, 0.26714765069471746), (4278, 0.2667846193992483), (3211, 0.2667621786383058), (2416, 0.2666933835084342), (854, 0.26655300678387867), (4501, 0.26627769793592193), (1275, 0.26627122436449463), (2325, 0.2662221286590853), (1001, 0.26618544857161264), (4140, 0.26611613782386223), (1123, 0.26608830440235526), (2103, 0.2660377170466681), (2335, 0.26601630293594813), (3655, 0.2660150188302847), (1985, 0.2659059212071632), (2520, 0.2658821722997962), (3250, 0.2656740596874559), (1649, 0.2655907384130044), (101, 0.26534581753076886), (1341, 0.2652913290541078), (2947, 0.26522722107218555), (3906, 0.26518188270916704), (4025, 0.26512142589450116), (2170, 0.2651183703515379), (4132, 0.26511424934859823), (122, 0.2649564850154926), (3166, 0.2648766642895189), (2683, 0.2648115881406831), (735, 0.26481118164167106), (3474, 0.2647202627046615), (1421, 0.26469156522818427), (2102, 0.26464761752687854), (553, 0.2646154197424029), (2493, 0.2646093992214599), (1783, 0.26460725931076845), (2788, 0.2644247118032716), (1763, 0.26441143392485467), (1948, 0.2643954856751157), (370, 0.2643730701641535), (1015, 0.2643671210068608), (155, 0.264340735006449), (808, 0.264274745753364), (1499, 0.2642291422401896), (1570, 0.26421782901638574), (2057, 0.2640337739397065), (791, 0.26396561942444313), (1968, 0.2638000167644265), (355, 0.2637914266231997), (1730, 0.26377469892107686), (2895, 0.26374505040234175), (3733, 0.263650428071503), (966, 0.2636284578491432), (3393, 0.2636123203821611), (2452, 0.263492455147632), (687, 0.263421903122152), (601, 0.26335905656079717), (1227, 0.2630450042430508), (2910, 0.2628388229040137), (3832, 0.26280492064437533), (3877, 0.2627091384291716), (2611, 0.2626743739521317), (114, 0.2626639875054541), (1558, 0.26259165161855647), (3710, 0.26254590952635276), (2165, 0.2624785887174626), (4489, 0.2624503516744189), (1255, 0.2622063947925374), (363, 0.26208086998223934), (157, 0.2620496280403975), (108, 0.2620455797186179), (4429, 0.26203715361932334), (4482, 0.2620062772079051), (606, 0.2618776935743867), (1452, 0.26179203104022775), (3780, 0.2617895883487351), (1065, 0.26178127907580623), (2368, 0.26177519196379595), (2809, 0.26157092219873124), (3259, 0.2615417202743747), (1263, 0.2613609917894173), (2906, 0.26125630312566533), (665, 0.2611496332249158), (4700, 0.26103973200885966), (1291, 0.2609799032670947), (787, 0.26091858144002356), (3477, 0.26090019058900565), (1053, 0.26075684599795396), (3835, 0.2606918955669122), (440, 0.2606572224899902), (3294, 0.260558835046429), (3924, 0.26052945381632436), (482, 0.26051260948592214), (754, 0.26041513364093866), (1087, 0.26027816778383084), (1624, 0.26026801215919837), (3407, 0.26021627304285877), (67, 0.2601875665338804), (1618, 0.26003780243999464), (359, 0.2600114810765783), (4558, 0.2597774999688958), (2261, 0.25976392586157715), (2073, 0.2596230555367996), (3226, 0.25960291997227786), (2300, 0.2595220330446214), (1117, 0.2594400648206962), (454, 0.25938214668135984), (1220, 0.25932040552882446), (80, 0.2590633915126142), (32, 0.2590487520846049), (2813, 0.25902156004305554), (3254, 0.25885344406004296), (1568, 0.258774745064781), (3045, 0.25864072858957965), (1032, 0.25857843977315736), (2219, 0.2585167374069141), (4363, 0.25845821758493637), (1849, 0.2583588193767553), (2038, 0.25833577734590807), (812, 0.2583092844687496), (4456, 0.2582635003794039), (1957, 0.2581387018039671), (3317, 0.2580107748117156), (3292, 0.2579963130008983), (2287, 0.2579117669286195), (389, 0.2578174200242325), (777, 0.2577822769547456), (163, 0.2576541583144321), (1321, 0.2576527059082846), (3540, 0.25742959386726455), (2757, 0.2573027589149299), (285, 0.2572396100019831), (64, 0.2572375781159303), (627, 0.2571093884577059), (2672, 0.25701275009621327), (201, 0.25689643631665665), (202, 0.2568840739622443), (3736, 0.25682968445058935), (3181, 0.2567824183551633), (2922, 0.2567662317753081), (1814, 0.2566752332338469), (3858, 0.25651103840944395), (1793, 0.25637258784163874), (2246, 0.2563328434407422), (688, 0.25627306092096186), (1655, 0.256248247583734), (1168, 0.2562150907133879), (3300, 0.25613340919393723), (645, 0.25598018343540757), (585, 0.25591321378934223), (975, 0.25590751488625224), (2009, 0.2558638831356251), (2529, 0.25578001179892595), (3426, 0.25573871592814307), (147, 0.25571034710785656), (3808, 0.25570239217877083), (3145, 0.25553093033651497), (2216, 0.2554622659176153), (3141, 0.2554413166559776), (796, 0.2553999606112722), (158, 0.2553782807855859), (3583, 0.25522169084687507), (2006, 0.2551296340574728), (1856, 0.2547108597648226), (1537, 0.25462222288400066), (162, 0.25461348200997574), (2680, 0.2545599571735623), (1201, 0.2545587526610872), (395, 0.25452794003931845), (543, 0.2544798382203659), (1257, 0.254467971466915), (3102, 0.25439279166909223), (2828, 0.25436511307349324), (4318, 0.2542385090635068), (2759, 0.25398542976160565), (4464, 0.25397565966583086), (1451, 0.25392914483524964), (4560, 0.25377669575387757), (1147, 0.25372200944190604), (474, 0.2537160061649558), (861, 0.25355388471321977), (2794, 0.25349522941053726), (4265, 0.2534637203773408), (3975, 0.25334091083698196), (3768, 0.2531838205383611), (2753, 0.2530403629415626), (2888, 0.253027092082092), (2123, 0.2529984977637801), (950, 0.2529563924220674), (4200, 0.2526574756157069), (1917, 0.2526468537657665), (1303, 0.2523970951499971), (2447, 0.25239243847081916), (3495, 0.2523703816598757), (824, 0.2523594630281378), (325, 0.2522958844620786), (3346, 0.2522173332604868), (4528, 0.25220912999313383), (2301, 0.2521737539182468), (624, 0.2521484017265883), (3357, 0.252046123903188), (4094, 0.25199782471226706), (2785, 0.2518344003878193), (1633, 0.2517975290843894), (1410, 0.2517731659059558), (1098, 0.2516825987321654), (927, 0.25153908783071366), (1281, 0.2514966445508751), (3839, 0.2514904538086812), (99, 0.2514051691421936), (2158, 0.2511741693390443), (1134, 0.25109325956592765), (2955, 0.2508052628839363), (113, 0.2506922632805817), (139, 0.2506128866893425), (3171, 0.25060301728827905), (4648, 0.2505529380346991), (29, 0.2505006950581084), (3621, 0.2504836755751516), (1713, 0.2504683286866668), (2677, 0.2504660191587781), (693, 0.2503015193418418), (3631, 0.2502730932716276), (2086, 0.25000596416940946), (1660, 0.249865617999571), (1573, 0.2498280929084241), (1807, 0.2496509528425734), (3105, 0.24965091482650287), (1441, 0.24948489160267687), (603, 0.2494410221146712), (357, 0.2493722294016294), (3730, 0.24932040791558105), (1885, 0.24925506523912563), (4342, 0.2491965059307292), (4420, 0.24888470508358876), (1817, 0.2488840478392754), (2761, 0.24879511337332896), (605, 0.24877402883120253), (2834, 0.2487438224591488), (4745, 0.24863027295888324), (3343, 0.24858532098161962), (1850, 0.24850225774751097), (2675, 0.2483134511944238), (1908, 0.24828624462077553), (2852, 0.248201114083445), (69, 0.24812872566782096), (581, 0.24808414373653553), (345, 0.24785652327184776), (4054, 0.24781850856253787), (1712, 0.24770586208640516), (3093, 0.24770315580965124), (4164, 0.24768307895919245), (2756, 0.2476391790119845), (1976, 0.2474581795242272), (3395, 0.24733603695660972), (1547, 0.24712943449558886), (4101, 0.24694407261950369), (3527, 0.24684731651031433), (194, 0.24668469335003457), (3606, 0.24655625172687973), (1219, 0.2464645757464546), (3665, 0.24641937895788094), (1490, 0.24630516348817816), (2730, 0.2462393789384641), (1615, 0.24611757075579838), (3440, 0.2460466306215996), (3402, 0.2458304952685007), (4157, 0.24577021118814008), (224, 0.24573226660651046), (497, 0.2456890833300662), (4609, 0.24564809662091283), (1113, 0.2456215346445028), (3061, 0.2456015773676753), (3210, 0.24558066610160073), (3238, 0.2454940546597695), (4084, 0.245466249657315), (3415, 0.24545716670407086), (1224, 0.2453903727859926), (918, 0.24537765487099603), (289, 0.245341167461941), (2598, 0.24528628719574117), (1894, 0.24518151276306321), (3228, 0.24514861247249603), (2029, 0.24503039766422682), (2715, 0.24500281589272171), (2653, 0.24488783428747163), (2366, 0.244745822039707), (4398, 0.24469832524527507), (973, 0.24467975979430495), (82, 0.2446400815990751), (3326, 0.2446160600518773), (2096, 0.24461019040013723), (4402, 0.24460416639420432), (1794, 0.24400364820127304), (2929, 0.2439586312787826), (3334, 0.24384129053021275), (2538, 0.2438078813491229), (3908, 0.2437952136615828), (3779, 0.2437889609237179), (3031, 0.2437706088729346), (4514, 0.24374986428868575), (1446, 0.24366553117116077), (2194, 0.2435525438503175), (1503, 0.2434234340455348), (4205, 0.24325734660270512), (3966, 0.24313082103189093), (2211, 0.24310242032314913), (1545, 0.24302778840342476), (1731, 0.24300074735891525), (1389, 0.24292322083503598), (2958, 0.24289889631440703), (3461, 0.2427762498683174), (2134, 0.24262559930851513), (159, 0.24242106895127113), (968, 0.2423861917822685), (2729, 0.2423322335104029), (4078, 0.24225750953844266), (138, 0.242235042190868), (1169, 0.2421455455502587), (383, 0.24214114138428688), (2790, 0.2420629633533345), (1440, 0.24205372317397073), (1316, 0.24202422877061466), (2151, 0.24198645488122572), (3314, 0.24189953287379273), (251, 0.24183371187813174), (1344, 0.24182654228919057), (2660, 0.24182458521325748), (1000, 0.24168318713684003), (1166, 0.24160085819035237), (2533, 0.24141865418959393), (939, 0.24132748227186882), (295, 0.2412249252410041), (546, 0.24118614459433516), (807, 0.24113974128904925), (1206, 0.2411201459009538), (1417, 0.24099478842337455), (3494, 0.24098426907218545), (800, 0.24078005081795859), (3377, 0.24069290289215486), (309, 0.2406021418928478), (814, 0.2405546416682848), (3921, 0.24055253947320213), (970, 0.24051011593128638), (2004, 0.24036386118429115), (1508, 0.2403613813763711), (1893, 0.24035635099609665), (4659, 0.24022433027862142), (2090, 0.2401841859409138), (63, 0.24016676572934167), (953, 0.2401286403461535), (913, 0.24000817122316753), (3178, 0.23998852915921956), (3880, 0.2398727682720765), (2688, 0.23965880921454602), (442, 0.2394817304341406), (616, 0.2394575871634563), (1675, 0.23943558572470572), (813, 0.2393803299438723), (3272, 0.23931208847688618), (393, 0.23929720256993392), (396, 0.23907211533025122), (1777, 0.2390459702263674), (1938, 0.23884702468358596), (2882, 0.23879022212583545), (2588, 0.23873737857806743), (4536, 0.23851777513231448), (889, 0.23828517860803883), (432, 0.23825737859025584), (473, 0.23824780195577913), (1586, 0.2381717901540604), (1244, 0.237945813410204), (1371, 0.23785505681496477), (1200, 0.23783947758158622), (1245, 0.23775674716125555), (495, 0.2377535600290772), (922, 0.23771770343683812), (1025, 0.2377074294813888), (1574, 0.2376631739267626), (3018, 0.23757026356611827), (3925, 0.23748231965256775), (3223, 0.237460629286144), (4730, 0.23738531334452878), (3985, 0.2373835842093915), (2003, 0.23737086837050334), (2599, 0.23724612619425114), (3893, 0.23720695786351176), (1253, 0.23716090548305116), (2094, 0.23708379948233518), (981, 0.23704880213099783), (2239, 0.23699586502502806), (3871, 0.23680487193909158), (4303, 0.23675092280995633), (2283, 0.2366998438028655), (1431, 0.23664580882050426), (2624, 0.23663788630801885), (197, 0.23661921895370555), (3557, 0.23654811204650053), (1686, 0.23640003043503632), (2121, 0.23630469624474942), (1760, 0.23627505459092682), (3857, 0.23608471141698695), (428, 0.2360213929375762), (2402, 0.2358829283344238), (770, 0.23575889554727625), (3127, 0.23573624411440447), (2124, 0.2356667843437976), (1654, 0.23565118678277494), (1016, 0.23561825917688867), (2991, 0.23553832266628114), (642, 0.23551354105927072), (1409, 0.23550729168837614), (4515, 0.23550536287299745), (640, 0.23543736942948323), (3842, 0.23522720547849257), (2228, 0.23503234116747254), (1916, 0.23479356921811878), (2959, 0.23478390745995067), (2126, 0.23470935249478722), (3340, 0.2347055796230443), (1317, 0.23469576005943554), (901, 0.23447436411164227), (3098, 0.23446847654630468), (2005, 0.23445100319619477), (3998, 0.23437492433063417), (212, 0.23427028322833507), (98, 0.23426186227812837), (1242, 0.2342569034460754), (4266, 0.23418200350878127), (2539, 0.23415135930278003), (3188, 0.23414980965204493), (2173, 0.23411357358406915), (972, 0.2340137772643196), (1733, 0.23400167495569577), (3818, 0.23395768761607696), (1536, 0.23387605975751152), (2437, 0.23380760739669426), (1336, 0.23380669991533878), (781, 0.23379985737558495), (3539, 0.23373357480076956), (1929, 0.2336323953697425), (2602, 0.23358922412555186), (2054, 0.23354506987672757), (4215, 0.23352967168459454), (3790, 0.23349765344758475), (42, 0.23349329570095514), (1468, 0.23339220098666827), (284, 0.23335887710651507), (2313, 0.2333407811857708), (3934, 0.23330547729150938), (4551, 0.23329342964364017), (3964, 0.23317829839003834), (1994, 0.23315453602155156), (1895, 0.2331464619197484), (3634, 0.23311901548739022), (2720, 0.2330660418805404), (2157, 0.23297412197822298), (1373, 0.2324097463200179), (2285, 0.23211853121731305), (2545, 0.232109425227621), (3425, 0.23207821174874094), (3685, 0.23190640966404708), (4165, 0.23190039300620718), (1193, 0.2318973195965698), (649, 0.23185037560228797), (3246, 0.23179323025402196), (1416, 0.23167137213948716), (1033, 0.23158699757346607), (4490, 0.2314783745463403), (995, 0.23147590636383603), (388, 0.23145080225802442), (117, 0.23122555605941386), (983, 0.2311531543126545), (374, 0.231068904037852), (2093, 0.2310611056362518), (525, 0.23104537762776903), (3236, 0.2306495351757243), (4269, 0.23064063478909833), (1780, 0.2306021757089571), (3005, 0.23059081941631615), (3443, 0.2305835224801359), (4586, 0.23057444337338912), (1108, 0.2305379650848247), (2060, 0.2303936121103983), (3216, 0.2302997226588563), (1308, 0.2301735315506582), (3119, 0.2301187532564306), (2037, 0.23010808452537265), (719, 0.23002451801334517), (1684, 0.22997590009910304), (3833, 0.22981090987598385), (2969, 0.22975373672688887), (1986, 0.229704369491302), (3841, 0.2296680489579231), (508, 0.22962914818428412), (3438, 0.22953685434673163), (1039, 0.2295347799949988), (600, 0.22949509149855085), (296, 0.22949267759743938), (3064, 0.22943536154684008), (964, 0.22936310655367287), (2114, 0.22933485018901725), (403, 0.22933223143372433), (934, 0.2292435173908618), (760, 0.22911640607609793), (2978, 0.22906230297582325), (4263, 0.22898563306536956), (3156, 0.2289772904486586), (1383, 0.2287992630913883), (3946, 0.22876628605376548), (967, 0.2286398355663353), (2278, 0.22852571475302738), (1034, 0.22837293540934608), (337, 0.22830453835335948), (106, 0.22830107114422965), (3759, 0.22828892625013225), (3015, 0.22827621245014101), (709, 0.22824110124099392), (2099, 0.22824106399179273), (2251, 0.22821634824747858), (3791, 0.22812630541953324), (1205, 0.22804292933867593), (1590, 0.2279515974123139), (1333, 0.22793260242611682), (2575, 0.22782186573761326), (4207, 0.22779963328929753), (3574, 0.2277794047187344), (3958, 0.22759164242448554), (33, 0.22758980550283242), (969, 0.2274431306397784), (1725, 0.22742637574246172), (79, 0.2273759950812338), (216, 0.22723586245387398), (1040, 0.2271576454126348), (703, 0.22709752253494195), (2907, 0.22700385265159845), (1790, 0.22697675203911954), (3392, 0.2269663135472154), (1235, 0.22691674436939954), (1075, 0.22678226531636067), (866, 0.22676573507869618), (1575, 0.2267649920144578), (2917, 0.22667643184079464), (3581, 0.22662805802405914), (1501, 0.22644038629177968), (4219, 0.22635943794543048), (385, 0.2263127710923979), (1485, 0.22629017285746442), (3366, 0.2262576174880555), (2553, 0.22625727344777263), (1425, 0.22616767555609235), (2631, 0.2261581545350023), (2499, 0.22610711403741923), (539, 0.22593617340224204), (1834, 0.22591014374007387), (2597, 0.22584255966571545), (1254, 0.22581925479678888), (608, 0.2258029014950717), (2719, 0.2257176713582478), (1248, 0.22570647087697154), (1582, 0.2255716976027145), (3847, 0.22533930533683427), (4589, 0.22533228378145667), (2085, 0.22528908667747163), (4097, 0.22528312820518076), (1868, 0.2251700273844125), (881, 0.22516093887564972), (4357, 0.2251370445091023), (1784, 0.22511653587236305), (4040, 0.22509335787683557), (1695, 0.22502210234538428), (336, 0.2250207856578954), (948, 0.22500223452410348), (1367, 0.22497912923205102), (2081, 0.22493112192441633), (4457, 0.22486735212562775), (3682, 0.2248597251603831), (441, 0.22483409449430664), (2562, 0.22471782140337918), (3816, 0.22459184717682584), (2192, 0.2244974489644463), (672, 0.22415287572782305), (2527, 0.22408083396423142), (2979, 0.22404486434262744), (784, 0.2239986050923214), (3330, 0.22397655026077062), (4160, 0.22392682827939175), (2036, 0.22385108579436916), (666, 0.22382959039270542), (3895, 0.22377277861122122), (457, 0.22372934695195554), (2439, 0.2236745690715395), (236, 0.22359533566362452), (1562, 0.22351415174242503), (146, 0.22338950679470784), (3707, 0.22334606290056674), (1687, 0.2232486253793296), (914, 0.2231151813068197), (1482, 0.22305200806518527), (1708, 0.2230419621859821), (461, 0.22302155086634695), (1320, 0.2228589650950786), (1435, 0.2228105794789554), (199, 0.22251951025835212), (1326, 0.2224154263432138), (2055, 0.22235774710376918), (1679, 0.22228380120906618), (1450, 0.22225782618311787), (4608, 0.22218169060591664), (886, 0.2220242400044601), (660, 0.2217674771079752), (4174, 0.22172785663171485), (78, 0.22168229201311193), (2050, 0.22160855171882862), (1627, 0.2215976770963228), (3170, 0.22157033139005475), (192, 0.22154242099580773), (742, 0.221459667343123), (4696, 0.2214055419837372), (783, 0.22133302549936257), (871, 0.22128305459361505), (4247, 0.22117336572870225), (520, 0.2209840399606926), (1592, 0.2208893897429914), (2964, 0.2207644067331784), (1818, 0.2207085257480227), (1478, 0.2205990015546004), (1612, 0.22048876228727415), (702, 0.2204732826963914), (1064, 0.22034829600705716), (924, 0.22033371709264465), (3843, 0.2201344211094419), (2033, 0.22012756569107775), (4349, 0.21999673823875757), (11, 0.2199919542099858), (3722, 0.21987471819744026), (2293, 0.21987410532398083), (1732, 0.2197977157576556), (3481, 0.21979757240007503), (3487, 0.219762022322665), (4270, 0.2197364910901355), (2185, 0.21968238473800253), (1577, 0.21967923577775048), (4572, 0.21959332515730193), (1017, 0.21958179372120648), (2075, 0.2195328443246975), (1361, 0.21950962300992732), (761, 0.21941366932366077), (2424, 0.21924811953324133), (4518, 0.21921682384329122), (745, 0.2191584958603407), (1051, 0.21898412966189854), (2222, 0.21888255241155563), (2953, 0.21875723351213947), (3155, 0.2187205281079245), (149, 0.21869262907131612), (3008, 0.21850002160922222), (4071, 0.21843323949808427), (609, 0.21838418547259392), (1837, 0.2181629389893748), (1363, 0.2181168454069881), (1932, 0.2180712311858521), (1631, 0.21790925392204682), (2101, 0.21781161769954716), (2187, 0.2177287322564424), (840, 0.21765277404584002), (577, 0.21765235835030652), (3789, 0.21756426912596175), (4291, 0.2174769234266087), (3920, 0.2174268102953993), (4246, 0.21730047929551344), (198, 0.2172919396695369), (2473, 0.21718911020569248), (1853, 0.21717523205806538), (3942, 0.21711861628244827), (1448, 0.21681375332177522), (1756, 0.21678948495729503), (4056, 0.2165696269093275), (1828, 0.21643691746379665), (3221, 0.21635883167847966), (1419, 0.21619841902370665), (3584, 0.21617184290454092), (550, 0.21613924868416262), (4491, 0.21610683659508614), (1157, 0.21602322793953452), (1428, 0.2160104412681982), (1372, 0.2159828217272256), (3411, 0.21598269914156853), (903, 0.2159535884558222), (564, 0.21556206978469655), (2072, 0.21543943720566142), (569, 0.2154276618429749), (3905, 0.21542209999437884), (49, 0.2154121929442893), (1844, 0.21528811308899284), (2927, 0.21502095612226738), (1975, 0.21489676010232306), (3413, 0.2148814571198126), (1801, 0.21481679024306366), (1578, 0.2147773699482372), (1757, 0.21475661012278077), (3190, 0.21475061700377848), (4066, 0.21471229507947526), (3826, 0.21467193934871234), (2274, 0.21466393038428339), (2872, 0.21434156293165363), (4367, 0.2135960095679681), (1949, 0.21355972003570142), (1842, 0.21350964015403265), (1963, 0.21346931825478735), (996, 0.21343880531055245), (3864, 0.21332843047074349), (1819, 0.21326181476321274), (1933, 0.21323310283630867), (1407, 0.2132103416802342), (2318, 0.21311916562238736), (3976, 0.21299007957272742), (2414, 0.21295728101096792), (287, 0.21289816726892005), (4732, 0.21289797438998706), (2065, 0.21286895178954357), (3861, 0.21281568903215606), (1309, 0.21260968578946662), (1390, 0.21244400181792522), (1588, 0.21233497096245105), (789, 0.21222570862472956), (1735, 0.21220041071741558), (2881, 0.21204193263144439), (3580, 0.21200918114229775), (2230, 0.2119800371948635), (1084, 0.21194393600845765), (4371, 0.21192763064000153), (1102, 0.21184666617750844), (1857, 0.2118269660394102), (3991, 0.21181701256869062), (1816, 0.21169175184653802), (3227, 0.21167593438726698), (2867, 0.2116586637354866), (1709, 0.21153812216250384), (1724, 0.2115246074898727), (1384, 0.21111860542283264), (134, 0.21111327579121203), (3304, 0.21088913132781564), (1851, 0.21055223039278217), (3106, 0.21050028918011413), (1980, 0.2104843619759801), (1133, 0.21044435412722837), (478, 0.21043650182586665), (356, 0.21032631853844205), (1589, 0.21030802886963076), (2159, 0.2102997241744371), (936, 0.21025547246948945), (1585, 0.21024525503827318), (4601, 0.20995344284134337), (1343, 0.2099511978272355), (2472, 0.20993361660358276), (2939, 0.20987636713108912), (1488, 0.20986294062999836), (4403, 0.20984933712722942), (2066, 0.20967906508062856), (641, 0.20939148152537887), (3195, 0.20925793492339684), (1302, 0.20924805323899578), (4307, 0.20922724221169942), (3912, 0.2091551620407047), (697, 0.20914149263983287), (1623, 0.20912682020808995), (2451, 0.20885676565961053), (3813, 0.20869266316819923), (3229, 0.20829112018257936), (4415, 0.2079917781158161), (2240, 0.2079858238845476), (1214, 0.20796341977390762), (434, 0.20783715583320983), (2021, 0.20779735393605017), (3794, 0.2077866895256837), (4337, 0.2077848710305217), (1079, 0.20775507137863303), (1231, 0.2077304850929312), (1875, 0.2076811293073938), (4694, 0.2074586964771788), (2517, 0.20743133478416315), (2771, 0.20733374279805683), (3068, 0.20732883533302854), (911, 0.20716175497753522), (888, 0.2069233405828514), (1902, 0.20689806426071433), (2166, 0.20686505120024506), (1984, 0.20683888981523554), (4008, 0.20652628052399005), (3534, 0.20644150477688147), (931, 0.206432464862854), (1645, 0.20641489203091173), (3817, 0.2062646111006759), (1583, 0.20622195273014668), (1884, 0.2061947189439275), (2952, 0.20614452700391378), (1653, 0.20609825298858947), (1858, 0.20605685933643847), (1268, 0.20603598185913485), (510, 0.2059926234720954), (1878, 0.20596670417002103), (2167, 0.20592014242285958), (2841, 0.2058424630119063), (1035, 0.20584111432137167), (1683, 0.20568927226459702), (874, 0.2056121071080825), (1099, 0.2054887834224302), (1913, 0.20547224241748968), (4733, 0.20546480420842467), (764, 0.2054612765110728), (2503, 0.2052315308126059), (779, 0.20514371589894329), (2797, 0.20496900993547085), (2899, 0.2048923835304897), (3386, 0.2046223424192486), (173, 0.20452433677110288), (838, 0.20449625171877522), (2353, 0.20447925714004658), (1930, 0.20442402001108875), (1397, 0.2042777400774323), (1197, 0.20427620662521925), (270, 0.20424277647266662), (2854, 0.20413534404241568), (2164, 0.2041274198017845), (905, 0.20388490326297587), (2972, 0.20387956275199803), (1848, 0.20385121247329524), (3626, 0.20376973299133114), (1990, 0.2037074758694358), (294, 0.20352947871428537), (2811, 0.20350170866011486), (1212, 0.20348401708377634), (1232, 0.203421831959815), (140, 0.2033907625272417), (2825, 0.20319931282745438), (3806, 0.20312873540729626), (471, 0.20312494054325825), (785, 0.20310747828141107), (4047, 0.20303380345662364), (2028, 0.2028483208675705), (3022, 0.20281837152230373), (776, 0.2028170961596461), (3980, 0.2028046656922192), (2056, 0.20267027579736996), (2915, 0.20263622390961117), (1847, 0.20259265855579203), (358, 0.20256717744450561), (4380, 0.202545989801474), (2559, 0.20248835684544617), (1619, 0.20240568482693772), (1682, 0.20237224047004754), (2145, 0.2022570039704647), (4128, 0.20224239686646528), (324, 0.20222819781829274), (1648, 0.20216238181283935), (3328, 0.2020624457206349), (3971, 0.20200562641719907), (2020, 0.20197139226112792), (3984, 0.20193872807884142), (3220, 0.20187778582669616), (1750, 0.20183139533540095), (1420, 0.20174992481073062), (2703, 0.20157814834282836), (1945, 0.20155120296361026), (4463, 0.20151051610722084), (4699, 0.2014970898543954), (2002, 0.20141150435641267), (1376, 0.20100107066900436), (1392, 0.20084530692433944), (2696, 0.2007887986768392), (1650, 0.20074973856697262), (3252, 0.2007013757467638), (2014, 0.2006831584646785), (831, 0.20051496432608842), (4358, 0.20038945538690459), (2135, 0.20033552544958172), (951, 0.20026920971301582), (3146, 0.20023364477759062), (3268, 0.2001289683897594), (200, 0.19999092225229675), (4176, 0.19993666181713204), (2521, 0.1997011938961418), (2743, 0.19964068234382676), (2154, 0.19946386665155286), (2087, 0.1994363396039528), (2422, 0.19933331429370615), (2139, 0.19926328370480698), (2221, 0.1992581948296314), (2048, 0.19923218957847072), (1836, 0.1991909775412696), (1447, 0.1991188755640688), (3772, 0.1991181150910081), (1707, 0.1989712633921713), (2982, 0.19892406834878795), (1996, 0.19884743011980704), (865, 0.19873765476509653), (545, 0.19873089359397406), (1956, 0.19854570189542217), (1256, 0.19839627546802405), (4020, 0.1983313933113083), (364, 0.19824968342153246), (3421, 0.19820992877129515), (4497, 0.19813428036662503), (3380, 0.19807546752877705), (4556, 0.19807001562126622), (2926, 0.19802163909790552), (4725, 0.1979294010103514), (3038, 0.19786654163863354), (4427, 0.19780118310504016), (4396, 0.19773521404005148), (595, 0.19771654889161464), (1736, 0.19747306219426797), (96, 0.19742665962979344), (4167, 0.19730917497171707), (711, 0.19728084136950402), (863, 0.19724977175439468), (3065, 0.19717884406728362), (4394, 0.19712074513167874), (1418, 0.19705393069101917), (1163, 0.19676621050495308), (4548, 0.196697441537771), (1576, 0.19656790210822186), (2973, 0.19640401692427387), (2532, 0.19636482711073872), (2118, 0.19624239944814215), (2076, 0.1961786667256458), (4115, 0.19613216604980324), (1671, 0.1960126337520584), (4169, 0.19595346398666605), (1442, 0.19584201094715567), (1965, 0.19583338372521925), (2608, 0.1958261166805687), (1288, 0.1958153670494997), (3026, 0.19551236500078073), (1966, 0.19549349469582056), (1533, 0.1953970636601075), (1285, 0.19533649452999852), (2160, 0.19530124492430007), (3281, 0.19529861954709873), (3699, 0.19515707040023933), (740, 0.1951229960576315), (3608, 0.19504251984356633), (4740, 0.1949820693257777), (2142, 0.19478787122426472), (1304, 0.19473019724730692), (1290, 0.1946546778216722), (3023, 0.1945056547477133), (2024, 0.1943615630786911), (897, 0.1943277945441306), (2077, 0.19428964291057574), (2637, 0.19403040075322311), (1958, 0.19399987099753255), (1613, 0.19398352377906158), (2549, 0.1938934746255179), (1115, 0.1937699744702984), (4029, 0.19371334694726877), (1095, 0.1936590162389855), (3613, 0.1936118993687296), (2938, 0.19340384498226526), (2143, 0.19330699328161832), (2138, 0.19321984424861766), (1156, 0.19303088157192577), (2064, 0.19298328182835545), (1920, 0.1929474686886813), (1090, 0.19275326627570483), (86, 0.19270836816523698), (4393, 0.19261140005121782), (1752, 0.19249200121445664), (1405, 0.19230362722837996), (4616, 0.19227140844308005), (2485, 0.19214708542216344), (4301, 0.1919607616880454), (896, 0.19191185033231853), (2595, 0.19189781764173003), (2671, 0.19185672150488176), (1199, 0.19181929430836636), (4386, 0.19180337557158447), (3215, 0.19177454640767208), (3274, 0.19176167024342042), (1572, 0.19168838076552816), (1909, 0.1916323775010042), (2238, 0.19158494571493748), (1370, 0.19141823250125092), (4604, 0.19140820815830836), (2584, 0.1913632854338308), (1230, 0.19131383434596302), (3719, 0.1912424939924567), (2871, 0.19123743540056196), (1889, 0.1910412748152539), (1369, 0.19103809448603024), (3935, 0.19098924363804703), (3120, 0.19089112407736186), (1798, 0.1908561438315257), (2432, 0.190805117393975), (3149, 0.1908042342596302), (3652, 0.19074741063355727), (1386, 0.19074314621713026), (940, 0.1906998481677569), (2971, 0.19056392618101145), (2519, 0.19051920462510363), (3331, 0.1904014164377963), (3401, 0.19038255228038037), (3950, 0.1900639796734675), (2262, 0.189980378522029), (561, 0.1899438789270351), (2000, 0.18986208031322183), (4672, 0.18982816471760527), (1453, 0.189819448912418), (691, 0.18975801507681106), (4520, 0.1897195740216237), (3812, 0.18968902932566162), (1422, 0.1896642226031642), (2568, 0.18958226824985433), (3849, 0.18946972847348573), (2119, 0.18938036954385015), (1151, 0.1892007385522436), (1658, 0.18919105344043927), (3071, 0.18897357550609795), (3617, 0.18886411689221913), (3359, 0.18884292470240316), (1845, 0.18883936364712095), (421, 0.18875708498203236), (2746, 0.18868131428880566), (2387, 0.18867750475468809), (555, 0.18864543727299746), (1444, 0.18856047316977578), (2977, 0.1885304048502777), (1136, 0.18846950869997192), (2630, 0.1884596251702457), (3437, 0.1883598670566712), (1185, 0.18835200879669187), (1030, 0.18820720331153482), (1959, 0.18815004611950564), (531, 0.1879093936057522), (319, 0.18776295661861767), (1625, 0.18771683591691884), (1350, 0.18739986446214224), (2330, 0.18732788367268025), (2217, 0.18721205555277978), (1892, 0.18690815472887626), (1812, 0.1868845700051366), (2068, 0.18680182505704493), (1764, 0.1867398791508885), (4355, 0.18665302871290426), (4212, 0.18658011695745966), (1264, 0.18634303730800117), (3431, 0.18615737488865744), (4031, 0.18601814341718223), (1038, 0.18589347496388112), (1479, 0.18579105003961213), (1394, 0.18572060967598814), (2155, 0.1855901549991278), (3874, 0.1855411273317918), (2583, 0.18521587586446892), (1187, 0.18516045628441327), (2008, 0.1850889643376561), (1036, 0.18500316170429312), (2074, 0.18499207482772706), (547, 0.18471669854111525), (4209, 0.18459202958112725), (475, 0.18447445664684864), (1915, 0.18439046631627362), (1293, 0.18430031998882998), (1330, 0.1838211272193611), (2372, 0.18378455306275482), (2685, 0.18374389713653558), (2706, 0.18371946997319974), (3625, 0.18366196618066727), (2515, 0.18344983235999987), (1300, 0.18331676926982235), (4114, 0.1831719885097017), (1891, 0.18312782943019837), (1408, 0.18292396554567208), (2760, 0.182776716751586), (1085, 0.18263830124596706), (4636, 0.18231507320289847), (3729, 0.18204607955898308), (4108, 0.18193859617059063), (1130, 0.1818099222650259), (3511, 0.18159871722988172), (943, 0.1815922413543126), (1942, 0.18155170619287062), (4397, 0.18136331536689537), (1430, 0.1812087229818511), (1210, 0.1812013277937687), (2147, 0.18106756096320695), (1385, 0.18088676268947657), (1595, 0.18079311536868112), (4594, 0.18070703935613994), (1208, 0.18040172203708607), (2275, 0.18033119669954015), (3137, 0.18027220801690533), (2253, 0.18019941012844184), (2511, 0.1800544234551089), (498, 0.1800335170588667), (1286, 0.1800266933593281), (780, 0.1800259475966414), (4173, 0.18002241577778835), (1808, 0.17983593380848464), (2263, 0.17972647673330136), (1314, 0.17965259763298191), (1401, 0.17959989016461336), (766, 0.17951492093546836), (723, 0.17942046667147477), (2589, 0.17919654993221848), (1914, 0.17911835704690146), (3890, 0.178973295616663), (2962, 0.17896381823234245), (978, 0.17894094501211394), (3322, 0.17887783697836912), (2406, 0.17880407755640818), (985, 0.178736562848809), (3500, 0.17869390742014496), (2043, 0.17864731161022882), (3332, 0.17855942119248155), (1644, 0.17845714695990922), (1981, 0.17840539437574868), (3819, 0.17837635294747187), (2401, 0.1783696382233979), (1967, 0.1782954764815804), (1223, 0.17829014851370042), (2995, 0.17810127544803647), (3629, 0.17805407538642218), (2141, 0.1777847433552714), (4585, 0.17777885625875145), (1657, 0.17755282163034045), (1688, 0.1774618564919495), (3562, 0.17743848521789995), (1666, 0.17733378120143492), (2486, 0.17719007924882677), (1301, 0.1771747914471422), (1359, 0.1769571855389862), (1947, 0.17691841871242903), (2071, 0.17672402161114573), (153, 0.17671709988938467), (549, 0.17669752301691155), (2859, 0.1765932009206589), (1971, 0.17647795778408432), (1639, 0.17642510275053203), (1276, 0.17633179231635274), (3648, 0.17612340445954477), (3948, 0.17591203290859542), (3825, 0.17586584529032878), (2080, 0.17581173623328683), (1338, 0.17575512703593305), (1159, 0.17563281494215013), (1252, 0.17558632497209492), (1862, 0.17554047074810725), (1797, 0.17549076456834872), (2443, 0.17542919244638078), (1647, 0.17532291151385473), (2152, 0.17527139262780914), (644, 0.17523913407846403), (4617, 0.17516434298931974), (501, 0.1750886219393523), (1744, 0.17501281858509798), (3513, 0.17495417784958195), (2097, 0.17493421003525841), (925, 0.17493054692808063), (2125, 0.1748943194948494), (3757, 0.17457419775016905), (3836, 0.1745564021902361), (1972, 0.17449480151413105), (2500, 0.17430715378455036), (3504, 0.17417030758742302), (1630, 0.1739498944655044), (4613, 0.17394210591092912), (3189, 0.17374734824475685), (1237, 0.17372008313061965), (2306, 0.17366323425622915), (1161, 0.1731578169304925), (1470, 0.17314029914568577), (1826, 0.1729661739229099), (4014, 0.17249093743791252), (704, 0.17248117541029218), (1918, 0.17244783430924623), (1628, 0.1723903718305149), (1144, 0.1721952322309685), (1278, 0.17216720774574543), (3135, 0.17209394793348726), (3616, 0.17208871603161421), (2489, 0.17200675941641952), (1299, 0.17191306219481614), (1935, 0.17186026689846234), (1204, 0.17184326173755132), (4359, 0.1718115471351906), (2425, 0.17152552253216857), (1247, 0.17143538648341505), (1805, 0.17131444719371602), (2113, 0.17122210641930236), (4356, 0.17111102308784237), (3173, 0.17106523466334173), (741, 0.17071277284220995), (3347, 0.17052301382934243), (4333, 0.17051316344834003), (1746, 0.1701678622254367), (1719, 0.16988426169927903), (3614, 0.16986851796106223), (1635, 0.16972944820394759), (2442, 0.16960302878953668), (4127, 0.1694452888204752), (3365, 0.16928425075147424), (1178, 0.16903603941948786), (1960, 0.1689828439216076), (1871, 0.16886944578665875), (1171, 0.16880770426852906), (4642, 0.16874884057365952), (3553, 0.16872572102646957), (2044, 0.16868624575523225), (1759, 0.16817308822761923), (2569, 0.16811244909914724), (1991, 0.16801164290192838), (4037, 0.16798751023706193), (3774, 0.167756861387153), (4151, 0.1677347005961938), (1865, 0.16756319293190203), (3940, 0.16753127590467484), (3800, 0.1674777228760929), (115, 0.1674186681059327), (4254, 0.16727252553935873), (4348, 0.1668366065679359), (1677, 0.1668123458066259), (2461, 0.1668079475276449), (1743, 0.16667529583378493), (668, 0.16660235377547492), (2768, 0.16649713042988856), (2662, 0.16649655350311798), (4475, 0.16648630707254855), (2030, 0.1661212256660894), (210, 0.16597185667468106), (326, 0.165916223240576), (3287, 0.16576359508183489), (1395, 0.16572288330383647), (1907, 0.165300139402673), (3099, 0.16488323060686202), (3887, 0.16448984897642432), (4311, 0.164374462980556), (1318, 0.16436680683336627), (1184, 0.16420914378086732), (4243, 0.1641511800810393), (1898, 0.1641308626359699), (1941, 0.1639950966675111), (2795, 0.16393296614808814), (1150, 0.16385401255534568), (2628, 0.1638408358623374), (4632, 0.16383821272784832), (1382, 0.16371678314234178), (1919, 0.16363227785585996), (1670, 0.16357533208108538), (1062, 0.16350920698244129), (1692, 0.1631236664943431), (3315, 0.1630359517917905), (2047, 0.16279488251240964), (1676, 0.16262485793769582), (3076, 0.16259191045203258), (1702, 0.16254785994824816), (4628, 0.1624444175618299), (2391, 0.16233378837211881), (4109, 0.16219082640896232), (2046, 0.1616881975322552), (2321, 0.16165636463855707), (2776, 0.16165347304233685), (2333, 0.16159255716013698), (1943, 0.161518919743318), (4550, 0.16144899999221754), (1822, 0.1614354443233391), (926, 0.16136440872875601), (2594, 0.16133269076994994), (2965, 0.161292013514186), (430, 0.1612876985397468), (4118, 0.16090935553426816), (2744, 0.1607307190785947), (1830, 0.16070169663276904), (1109, 0.16057729062502205), (4147, 0.1605596015475688), (2593, 0.160517270970524), (4194, 0.16040775193262313), (998, 0.1603381036188068), (3482, 0.16032879689306773), (3962, 0.16026008714258821), (708, 0.1602165763691845), (3824, 0.16021355755163205), (4249, 0.1601846691497339), (1867, 0.1600916648261565), (1673, 0.16002629262768164), (559, 0.1599311106961525), (2827, 0.1598845178137726), (4539, 0.15972179229208447), (1694, 0.1596917582557384), (4232, 0.15953918450334278), (4553, 0.1595324152828449), (3209, 0.1593952190292406), (4021, 0.15916297170933585), (2305, 0.1591459314444739), (2656, 0.15907686014115194), (3139, 0.15907535307415166), (3273, 0.15897339022995163), (3748, 0.1588829283222196), (133, 0.1588017889027035), (4260, 0.1587063475568863), (462, 0.15866760154113987), (1182, 0.15855335067291382), (1833, 0.15847763381447388), (4391, 0.1584096777003741), (1366, 0.1582554856031042), (2858, 0.15806333161657038), (2587, 0.15801720817129872), (3882, 0.15800405849121904), (4424, 0.15798870591009695), (1077, 0.15798707729391892), (3600, 0.15793937620149118), (1698, 0.1578519831014103), (3103, 0.15777763054031207), (2256, 0.15760721858477633), (1426, 0.1575920381345928), (2847, 0.15739123710904504), (1934, 0.15729861470362802), (406, 0.15722864907420717), (4418, 0.15715878633057626), (3234, 0.15703076315939535), (3721, 0.15696828703430113), (1183, 0.1568973773095989), (4253, 0.1568570442075922), (1379, 0.15664282942937857), (1992, 0.1565769635990613), (1222, 0.15644150653705427), (2025, 0.15620793036701988), (2140, 0.15615016744557422), (4746, 0.15597221547974977), (2634, 0.15592739434754874), (4172, 0.15550770614757564), (2448, 0.15545225180203193), (4361, 0.15525048085350157), (3667, 0.1548920296543824), (1879, 0.15478542290763692), (2163, 0.15448266650949244), (2308, 0.15444898412659913), (3471, 0.15436894619525826), (3057, 0.15436198673169002), (2860, 0.15429514892928026), (1022, 0.15413744896873904), (958, 0.15407639677436064), (2897, 0.1540675088609149), (1216, 0.154061769220141), (2435, 0.1540532750469709), (2774, 0.153676146280732), (4179, 0.15340003896751028), (2350, 0.1533260108676225), (2282, 0.15319969153069504), (1977, 0.15311750167428084), (4565, 0.15307826309916733), (3048, 0.15292872691482046), (1632, 0.15264478040540347), (4059, 0.1524826264000944), (1747, 0.15246032429537737), (2115, 0.15217094252014343), (3930, 0.15191691596166565), (1883, 0.15175095215170775), (4319, 0.1516260659506251), (4645, 0.1515550549383872), (1037, 0.15141061155253566), (1465, 0.1512796316603392), (437, 0.15122989228384925), (2265, 0.1510394356019175), (1953, 0.150963431801018), (4722, 0.15096172566144053), (3802, 0.15087839030986117), (2042, 0.15074020607485697), (4146, 0.15065586633497546), (1704, 0.1505402983180621), (4287, 0.15049158182998643), (1411, 0.15038364141260044), (2649, 0.1502407496674823), (3809, 0.15018828353880195), (3909, 0.15016065490942634), (962, 0.150079372696069), (2146, 0.14970019224399064), (4252, 0.1496876639567648), (542, 0.14960150084119964), (4292, 0.14948070316213508), (2928, 0.14945210099587908), (4652, 0.14942885118143123), (3517, 0.14939307630926482), (2339, 0.14934301633564362), (4369, 0.14917246762793843), (2218, 0.1489858799462255), (1019, 0.14890683427973941), (3302, 0.148849261097945), (2375, 0.148830084245021), (4341, 0.1487665879070401), (2018, 0.14854951187103121), (4748, 0.14843732966883977), (4734, 0.14843683426194793), (2681, 0.14832156438270264), (3027, 0.14806420089947406), (4461, 0.147861542103698), (690, 0.14781371001214563), (3111, 0.14772390298113625), (3876, 0.14767654683246417), (4304, 0.14755881385540232), (1100, 0.1474842169338622), (3449, 0.14701431256580438), (2618, 0.1468125309786568), (2509, 0.146371596798335), (3265, 0.14620956615913683), (4709, 0.14619539308599763), (3973, 0.1461687884721866), (4141, 0.1458594942872722), (2049, 0.14571891169826004), (1605, 0.14571564540055018), (4720, 0.1456391899658148), (2537, 0.14545886624579107), (4370, 0.14544401427098874), (4087, 0.14543454912623072), (3563, 0.14532900900126258), (1954, 0.14503636637173958), (3514, 0.1450164254093616), (947, 0.14501301565455177), (982, 0.1449751051659709), (1594, 0.14489326000868027), (2940, 0.14474082528316742), (2552, 0.14471570588475036), (1339, 0.14468105564903738), (1125, 0.14445824925806897), (4302, 0.14440777000243918), (4126, 0.1440725438883335), (3006, 0.14373331117297583), (4500, 0.14371921596353748), (1800, 0.14366605051125764), (1741, 0.1436188460586486), (767, 0.14348147226007546), (4693, 0.143404375132059), (1926, 0.1432260083594304), (4660, 0.1430827959380514), (921, 0.14274228192178876), (3184, 0.1427154153646998), (4729, 0.14247826311166803), (4686, 0.14245412600093094), (2034, 0.1424247157090378), (4713, 0.14239107258835002), (1813, 0.14229957870061774), (311, 0.14195252434853406), (941, 0.14189752248713203), (1622, 0.14186381259701694), (4540, 0.14169519906122652), (4086, 0.14137659915051243), (3136, 0.14131725213284735), (1596, 0.14129905934122772), (3573, 0.1412251145532559), (2769, 0.1412244239459343), (1046, 0.14115174424036742), (3488, 0.1409643805508028), (2470, 0.14093670974403638), (4225, 0.14092686600777984), (3653, 0.14070909403654888), (1668, 0.1405488071498858), (4587, 0.14041505583395508), (1689, 0.14027762747443617), (3931, 0.14005836916258144), (3245, 0.1398519258982525), (2877, 0.1398057729556918), (1749, 0.13964337711101565), (2883, 0.13943195187586602), (2396, 0.13925394829256119), (3418, 0.1392512597725293), (3242, 0.1390430178594122), (2923, 0.13890615309575483), (1715, 0.13876100384158663), (3476, 0.13870341249189577), (3062, 0.13865822188320207), (4532, 0.1385568645332876), (4171, 0.13838178566551368), (2010, 0.13829948010157006), (832, 0.13802046695016393), (3239, 0.1379474221329494), (1277, 0.1378139347571636), (3364, 0.13774740054073023), (1601, 0.13756271464275743), (2632, 0.1374339485400191), (3089, 0.137087671404135), (2463, 0.13698703029296938), (1477, 0.13693179788911478), (2645, 0.1369113525254482), (3194, 0.13680448527903769), (3594, 0.13678792365877357), (2411, 0.13669068946288454), (2580, 0.136643169485277), (3054, 0.1364914198881232), (1652, 0.13636947187929624), (2360, 0.13626252737190978), (2455, 0.13625629177832702), (2063, 0.13608711048055158), (2862, 0.13577543394873995), (1449, 0.13567314542639194), (1467, 0.13543318857216563), (4330, 0.13539200767033382), (2676, 0.13537846603180909), (2380, 0.13537675891519163), (3927, 0.1352440473023244), (4526, 0.13510509013641378), (1415, 0.13495378706330508), (453, 0.13486602962015767), (1661, 0.13474413823457573), (1580, 0.1346863157160837), (4484, 0.13466360988773854), (3465, 0.13441606706653972), (2654, 0.13434707098832538), (1018, 0.13427732347868093), (2745, 0.13417333898186043), (3883, 0.13410603391644813), (4425, 0.1340474655976641), (4593, 0.13323018270645037), (4637, 0.1328776828419842), (2946, 0.13280497688545495), (1690, 0.13250951622103085), (2843, 0.13242849913014046), (2385, 0.13238768652650557), (3664, 0.13203647342035146), (2592, 0.13200785346576782), (3610, 0.1318997422048068), (2619, 0.13185846691535408), (2288, 0.13172842367714066), (2933, 0.13172468302857285), (3758, 0.13168326113215803), (1748, 0.1316164182073151), (3716, 0.13155876951036882), (4206, 0.1312230663134532), (1086, 0.13100367845362645), (2818, 0.13099451259425485), (573, 0.1309889835885584), (3647, 0.13089298929125923), (2943, 0.13081970249618596), (2601, 0.13042363043536803), (4701, 0.13041368477475884), (2731, 0.13034760075359794), (3291, 0.13017812962384545), (3349, 0.13016264963615848), (3547, 0.13015586789096953), (3036, 0.13001193172012582), (3095, 0.13000745964789232), (3306, 0.12997833782698617), (2420, 0.1298345590974862), (3307, 0.12978932117152298), (3656, 0.12974336359819819), (2176, 0.1290194834257317), (4744, 0.12891259391864043), (3296, 0.12878029543785235), (3321, 0.12845434885273058), (3983, 0.12838843246760973), (1832, 0.1281995591224637), (2468, 0.1280832229479202), (3560, 0.12796701183583717), (3928, 0.1278256681359768), (4145, 0.12757137668888105), (3249, 0.1272260315819056), (3055, 0.12721359210488664), (2563, 0.12703726763936343), (4605, 0.12700837923925798), (3423, 0.12697700537607293), (4634, 0.12688149172774446), (2220, 0.12688052758257629), (933, 0.12685038961658546), (2376, 0.1268251953104129), (759, 0.1267645861235977), (4737, 0.1265208740444268), (4061, 0.12636884081175564), (1745, 0.12627392907329343), (3489, 0.12617795609195273), (3378, 0.12617779688038144), (4512, 0.12610470639396), (4752, 0.12609460086668703), (2724, 0.12600301141200476), (3745, 0.12587713435816894), (4584, 0.12580696900720556), (3728, 0.1258061169365391), (4395, 0.1254942098953839), (2296, 0.1253530637447977), (2684, 0.12527168992726959), (1423, 0.12526437881740307), (3999, 0.125217158783539), (2998, 0.12488800077480083), (1717, 0.12488200849038773), (2765, 0.12484753370438403), (2747, 0.12466319352177135), (4175, 0.12431240222822049), (2477, 0.12427569443523892), (4150, 0.12425451872893352), (4443, 0.12385883556972471), (3399, 0.12373276534183215), (4079, 0.12362421220883964), (4743, 0.12354896973111322), (2310, 0.12331863338237033), (4547, 0.12326460786869035), (4702, 0.12325248200598213), (2400, 0.12322968601385295), (4492, 0.12321743639946706), (1841, 0.12318226520278962), (3762, 0.12316913257489094), (3459, 0.12303951717248009), (2223, 0.12294616506415354), (4485, 0.1229015505632455), (1175, 0.12279000907670942), (4423, 0.12278074448098093), (4144, 0.12274827952105401), (3851, 0.12268147555229635), (3151, 0.12246313824012311), (2367, 0.1224615807346004), (2869, 0.12217301655225193), (629, 0.12211433333490257), (3765, 0.12204140264406303), (1610, 0.12200764205490544), (2188, 0.12195423262393697), (4738, 0.12175781480053881), (2546, 0.12173950720310718), (3878, 0.12167415530469669), (3556, 0.12154444264014519), (2737, 0.12148670725719649), (4603, 0.1212492770026409), (1132, 0.12111969014619141), (2572, 0.12098783666010811), (2650, 0.12093052016263463), (3295, 0.12090576768677135), (2664, 0.12088288515656916), (2449, 0.12083848598027486), (3382, 0.12079588058860191), (3187, 0.12077553514499716), (2767, 0.1205644796524072), (907, 0.1204801443690192), (2693, 0.12036615386697888), (3383, 0.12022875151237973), (1761, 0.12017407963803464), (4308, 0.12014618573878436), (4117, 0.11999902232901152), (2591, 0.11996256328976689), (3154, 0.11981937140010514), (3579, 0.1196750215875503), (3040, 0.11941038301854864), (2250, 0.11939333645537217), (3502, 0.11925875275814568), (3101, 0.11917833971205351), (4721, 0.11878999243997578), (2331, 0.11876003730454518), (1020, 0.11866060830127828), (3913, 0.11861304785306839), (4446, 0.11850713187616443), (4030, 0.11839416698865395), (2266, 0.11826858733702691), (4544, 0.11813834188404519), (2241, 0.1180537859570723), (2226, 0.11785416483119505), (4714, 0.11782321778234255), (2851, 0.11779745174684284), (1604, 0.11774127648035916), (2255, 0.11755806369773424), (3303, 0.11744320537640503), (2600, 0.1173740306598523), (487, 0.11735464216415219), (2469, 0.11712123947065095), (4390, 0.11701854042324113), (2204, 0.11697226509528053), (3035, 0.1168990177603416), (3371, 0.11673446178238334), (579, 0.11667141909963047), (4250, 0.11653894127847828), (3056, 0.11645383842733907), (2810, 0.11637636199412195), (2299, 0.1161536239115077), (3918, 0.11608751679001876), (2844, 0.1159802351919017), (4067, 0.115759895630618), (2506, 0.11566782605743542), (2475, 0.11548909200727282), (3391, 0.11542011370914121), (1703, 0.1154073272460844), (3197, 0.1152356264520609), (2864, 0.11511909015063326), (3515, 0.11507823160388152), (4437, 0.11500227093603622), (4372, 0.11490957497890127), (4190, 0.11483250677646235), (737, 0.11479995029011802), (2770, 0.11478692442526055), (3578, 0.1146184625012766), (4562, 0.11441667066127242), (2567, 0.11437653941484482), (4018, 0.11406081549615894), (4082, 0.11394914267738503), (2370, 0.11394365177966045), (4276, 0.11377858085458623), (4692, 0.11361526355976839), (630, 0.11357973797205205), (4683, 0.11355112467290644), (929, 0.11337450933448295), (3213, 0.11327681443039324), (3472, 0.11304987303218951), (3764, 0.11301061174575146), (2260, 0.11283141235838724), (4675, 0.11274680564721903), (2905, 0.11265217538380963), (3312, 0.11258880626810247), (3353, 0.11258878225259404), (2332, 0.11238420245546857), (4505, 0.11232437208680628), (4546, 0.11225984979360819), (2513, 0.11217990775187499), (2911, 0.11213718878144771), (3417, 0.11195245350975105), (3000, 0.11193897969149245), (2796, 0.11185223230822236), (2966, 0.11179791949699798), (3408, 0.11174991232354935), (2427, 0.11161676019278621), (2670, 0.11148296774110616), (2751, 0.11144073693918491), (2994, 0.11122934417476245), (3582, 0.11120257604847307), (2783, 0.11116758523630864), (2327, 0.1111433739261456), (3162, 0.11100684533150455), (4728, 0.1107034202489507), (2286, 0.11064531754608825), (3640, 0.1106124017920495), (2404, 0.11054130588654432), (3033, 0.11049147235706433), (2466, 0.11044269988081579), (2880, 0.1102588487192041), (3669, 0.11019178545809691), (4285, 0.11011524647939208), (2554, 0.11008584266921427), (2750, 0.11007279522122577), (2833, 0.11006044434595143), (3051, 0.11004494370875345), (2243, 0.11001792688699798), (2384, 0.10999619883094339), (1753, 0.1099711443520553), (2357, 0.10994962316569212), (4226, 0.10992537905191108), (2343, 0.10992302758095471), (2202, 0.10991115934909693), (3369, 0.1097409455964418), (2642, 0.10967328503880917), (3644, 0.10964772843230469), (3820, 0.10952369803091846), (3185, 0.10921246698137894), (4724, 0.109106931276337), (3084, 0.10899234714177689), (3829, 0.10892752559774245), (3412, 0.10883538408235521), (2234, 0.10872373976758223), (4042, 0.10862556833532865), (2341, 0.1085862435919557), (2388, 0.10840792734787078), (826, 0.1083043232086193), (3588, 0.1082702476439094), (2657, 0.10793450186490551), (3737, 0.10786597054312397), (4657, 0.10775971231349886), (2224, 0.10770334945773961), (4549, 0.10762299087122801), (2974, 0.10762220345176382), (2436, 0.10757454924435991), (2866, 0.10754967975627461), (4554, 0.10748850277550522), (4293, 0.10747861366385525), (3674, 0.10744630133161769), (4208, 0.10734861905041843), (3403, 0.10733628329748338), (4676, 0.10731400130792981), (3896, 0.10727261691492868), (2840, 0.10699951439826996), (4413, 0.1069912611738921), (2426, 0.10693208383751404), (4220, 0.1068495541842042), (4727, 0.1068178859834834), (3518, 0.1066989466720329), (2560, 0.10664129620655721), (4559, 0.10662142782269873), (3456, 0.10616690254052868), (2505, 0.10575536500122831), (4596, 0.10573210009753187), (2787, 0.10563455493667587), (2669, 0.1054563499867798), (3763, 0.10544442571424802), (2180, 0.1053883582697755), (3575, 0.10521253986399162), (2514, 0.1051887986371913), (3196, 0.10511941480315685), (2646, 0.10509819680713578), (2242, 0.10504011469740757), (2395, 0.10467080657229769), (3024, 0.10453740955268735), (4201, 0.10448737127921552), (2344, 0.10447466183862272), (3219, 0.10437215497224768), (3203, 0.10429115687956426), (2885, 0.10425102562332535), (574, 0.10398413214135385), (2191, 0.1039244543174653), (2740, 0.1039216285330107), (2581, 0.10390856847096333), (3571, 0.10384177726251889), (4706, 0.10381283312426938), (3070, 0.10381157816433793), (3253, 0.10377220049646292), (4717, 0.10377213924713757), (2838, 0.10347214297419952), (2551, 0.10339816832694873), (3016, 0.10339110113058168), (4120, 0.10335433892353953), (3844, 0.10334693185093416), (2951, 0.10332040261379236), (2479, 0.10325187662521756), (2281, 0.10312536588750618), (2441, 0.10312214884173841), (2210, 0.10286659376884258), (2884, 0.10278998698503417), (3900, 0.102716484695496), (2433, 0.10251408472010926), (2309, 0.1024807782098837), (3967, 0.1024787863426727), (4537, 0.10247276812762834), (2735, 0.10236784475489893), (2836, 0.10228560377204028), (4757, 0.10212956363629763), (2739, 0.102115279987675), (2607, 0.10169251942914151), (3117, 0.10166958023434348), (4631, 0.10111796816770242), (3138, 0.10111529515825916), (3004, 0.10101825501354991), (4416, 0.10096070200790803), (4102, 0.10076805065426102), (2935, 0.10054691352954268), (2849, 0.10036801335177271), (2171, 0.10035978311071084), (3683, 0.10032301836587296), (4325, 0.10021407231584573), (3434, 0.10006631451844197), (2397, 0.10004937365310604), (2778, 0.0997930802559085), (2290, 0.09978621728753553), (3050, 0.09964423440597335), (2738, 0.09959377199711586), (2721, 0.09950615668381156), (2722, 0.09935852671777454), (2674, 0.0991856466909106), (3952, 0.09898905710521151), (2291, 0.09879050826218905), (2997, 0.09877280885648684), (3848, 0.09864941563334205), (2987, 0.09854159500910023), (3731, 0.09847801493599698), (2837, 0.09844031660692196), (2444, 0.09832449429651693), (4736, 0.09828677682576137), (3264, 0.09822988657502728), (2348, 0.0982186629742983), (3289, 0.09816875793537617), (4326, 0.09812553640362716), (2488, 0.09808114033381156), (2209, 0.09767613675154746), (3528, 0.09766153238021301), (4508, 0.09757444387235417), (3092, 0.09756885694955503), (4412, 0.09736961944072814), (524, 0.09718674878945592), (2319, 0.09710635104256857), (2707, 0.09703178387289002), (4651, 0.09700549720052656), (3638, 0.09699685917462207), (2889, 0.0965397844610996), (4703, 0.09631650606714444), (3285, 0.09612058909082637), (3214, 0.09575983385212249), (4129, 0.09560895289173676), (2315, 0.09557942364306958), (3994, 0.09554773675102761), (2490, 0.0954427571981642), (3702, 0.09532377591143135), (3526, 0.0953071634866565), (1026, 0.0953070418053231), (3624, 0.09530607580304142), (4689, 0.09518720631564084), (2902, 0.09517978252706716), (3650, 0.09494553063313899), (4726, 0.09481896174836599), (2342, 0.09481121014614043), (3297, 0.09480897403786706), (3113, 0.09463672940724074), (2983, 0.09459508747554048), (3148, 0.09443411432780713), (2474, 0.09442362847260537), (3172, 0.0944150135164719), (3049, 0.09430389205602463), (4495, 0.09417151719833765), (2394, 0.0941453451134186), (3003, 0.094080512346595), (3267, 0.09405288091930003), (2201, 0.09403300428462391), (4499, 0.09401463891487369), (4610, 0.09401208988278117), (2355, 0.09400914283720177), (2916, 0.09389480935822224), (2247, 0.09386754296573549), (2244, 0.09386153324655522), (2989, 0.09377913207710104), (3282, 0.09373512484510894), (3237, 0.09367542678956686), (3479, 0.0935674721655616), (2855, 0.0933579354649642), (2458, 0.09328218509822638), (4177, 0.09322358519041628), (2647, 0.09305547781179803), (3686, 0.09299628387902484), (3032, 0.09299207940628652), (2465, 0.09282744972676106), (4715, 0.0924734011296525), (3199, 0.0923573342654028), (4710, 0.09206681425992637), (2752, 0.09187271115846404), (4382, 0.09182641279102603), (1877, 0.09179049894825225), (2215, 0.091718746836816), (2212, 0.09163834675267422), (4756, 0.09158696210763267), (4691, 0.09151886380539886), (3074, 0.09149772348479562), (4149, 0.09145321172415018), (2925, 0.09128435173738937), (2831, 0.09111806881092104), (4111, 0.09108116209993743), (2993, 0.0908839734695564), (2363, 0.09082655729243556), (2311, 0.09075366070015228), (2695, 0.09055910062048281), (2195, 0.09031757966832073), (2876, 0.09029052063118771), (2954, 0.09028226866368705), (4521, 0.0902261672046283), (4239, 0.09017705776762193), (2208, 0.09016939345252907), (2636, 0.09016476810924108), (3112, 0.09016057033617321), (2314, 0.08995855583313662), (3770, 0.08978546608330322), (3277, 0.08962747719507314), (3506, 0.08946122153751998), (3589, 0.08927558297679622), (2585, 0.08918395229077129), (2450, 0.08910648683456407), (4313, 0.0890841394063732), (2340, 0.08907799978269425), (2604, 0.08905421530835955), (3615, 0.08887101262779697), (2805, 0.08872308754338681), (4060, 0.08846892635048537), (4742, 0.08845941335680503), (4567, 0.0884400814358009), (4286, 0.08838810473356154), (2659, 0.08838263922822398), (3123, 0.0882896681132721), (3086, 0.08812988871178855), (3067, 0.0880813968988622), (2556, 0.08805810413989243), (3760, 0.08784593372463687), (2990, 0.08770606263399214), (3336, 0.08770161513541183), (3324, 0.08759282852199385), (3354, 0.08734161254340728), (4469, 0.08717602559726537), (4635, 0.08697272804991597), (2627, 0.08662011937070478), (4163, 0.08641720184046899), (2814, 0.08627986557403979), (3680, 0.08626810023689971), (4284, 0.08626154706996757), (2949, 0.08612435946730247), (3400, 0.08608631616509654), (2890, 0.08601809616072122), (4750, 0.08590361762380486), (2816, 0.08584292666468721), (3243, 0.08579884850882977), (2775, 0.08565509213293235), (3755, 0.08562752126471292), (2561, 0.08550798445847044), (2968, 0.0854297242760021), (3110, 0.08522543470176491), (2762, 0.0851808031898732), (2383, 0.08509011569285724), (3128, 0.08505719245477436), (2891, 0.0849267717770941), (3766, 0.08488553166754652), (4519, 0.08463657732580572), (2324, 0.08447887891146763), (2914, 0.08440258749908303), (2464, 0.08434338987518311), (3115, 0.0843170978302439), (4573, 0.0842952781441746), (3932, 0.0842325336447919), (2879, 0.08422005446283579), (1598, 0.08404992680071836), (2698, 0.08390521883694077), (2378, 0.08373592914724236), (3630, 0.08368716390713318), (2821, 0.08349855861151385), (3283, 0.08336529802794743), (2709, 0.08335342753502499), (4671, 0.08331947628231313), (4133, 0.08324189545054188), (3951, 0.08310126985582632), (2304, 0.08306702656258808), (2733, 0.08296588352040908), (3988, 0.08295359470300248), (3419, 0.08287632306491785), (3165, 0.08272342902981274), (3687, 0.08269939696046517), (2875, 0.08259090602821068), (4580, 0.08226699534751894), (4487, 0.08208974167403031), (3090, 0.08205428170044986), (2782, 0.08198950996576602), (2655, 0.08183365212811623), (3822, 0.08177793719891609), (2457, 0.08170661090536224), (3109, 0.08134538319965275), (3796, 0.08134263471598237), (3044, 0.08120113502709808), (2530, 0.08107822566119047), (2832, 0.08092092938502202), (2347, 0.08086452218543018), (2227, 0.080712954332258), (3821, 0.08043078426927514), (2748, 0.08029615623591935), (2887, 0.08003632867493288), (2924, 0.07989303951885357), (4708, 0.07971410256985112), (4419, 0.07967109433772847), (2945, 0.07928269022129342), (3309, 0.07896301647492115), (3558, 0.07896243564201588), (2312, 0.0789201373738227), (2179, 0.07874415213451913), (3678, 0.07857585268305023), (2236, 0.0783874242731995), (2712, 0.07838151883358915), (2644, 0.07833294172498462), (1029, 0.07829018569941369), (3533, 0.07815341286351246), (2320, 0.07811749286677695), (3222, 0.0780211024424959), (3217, 0.0779336934476868), (2992, 0.07792336014833515), (4455, 0.07777874379048441), (2679, 0.07773852970904971), (3536, 0.07771948152930558), (2328, 0.07769308917839732), (4196, 0.07762190858584307), (2842, 0.07745397197435669), (3414, 0.07722946372412619), (2590, 0.07717736477663473), (2626, 0.07715691913158228), (4458, 0.07702049703709944), (2777, 0.07700616812650403), (4698, 0.07675249150022512), (2666, 0.07674221860995478), (3205, 0.07667400199560644), (2651, 0.07653296735418691), (2431, 0.07630507104524978), (4032, 0.07618946771345463), (3936, 0.07618571185849189), (3341, 0.07617604787768474), (2697, 0.07612164394626657), (2297, 0.07598730680014608), (4182, 0.07593223939739399), (3856, 0.07588997168139937), (3622, 0.07580786094003775), (4166, 0.07572630187915472), (2484, 0.07552207655895422), (4198, 0.07546754461045409), (2870, 0.07546296806745452), (2874, 0.07541927442784513), (3535, 0.07528642594098628), (2248, 0.075056814845585), (4751, 0.07501823509111709), (3345, 0.07501613208456322), (4405, 0.07500157784235731), (3080, 0.07475236963213225), (3121, 0.074646200021791), (2734, 0.07464475136995176), (3009, 0.07419281518162646), (2358, 0.07365419451953908), (4110, 0.07364559550102642), (2440, 0.07347590420877056), (2407, 0.07342986534217699), (2207, 0.07332245843689118), (4050, 0.07312865179518373), (2932, 0.07302804126058791), (3827, 0.07285240103197786), (4705, 0.07275599051274513), (2708, 0.07273852173180553), (4592, 0.07263651163979537), (2364, 0.07262179848868161), (3263, 0.07260849609721302), (4545, 0.07247219656582897), (3251, 0.0724686709240651), (3046, 0.07242148223515764), (2175, 0.07237544770819711), (2699, 0.07235218490267127), (2199, 0.07234880937576899), (3704, 0.07230298778427147), (2403, 0.07213869682294445), (2467, 0.07206190832998659), (4048, 0.07197267110918176), (3995, 0.07188050154140813), (4571, 0.07167377988177559), (3082, 0.07164422177283526), (3108, 0.07162878650344327), (3176, 0.07155745832519213), (3140, 0.07121789097236271), (3838, 0.07109649710324396), (4131, 0.07078513900157977), (4741, 0.07071136160502817), (2550, 0.0706822018606523), (3524, 0.07061505040835825), (2967, 0.07052922015363929), (3063, 0.07032891295511536), (3627, 0.07024535803754123), (3017, 0.07004541396487474), (4180, 0.06993268486258433), (2345, 0.06986149266542828), (4229, 0.06980915636514566), (4262, 0.06977334441786948), (3585, 0.0697112072313806), (4188, 0.06962201784882668), (3025, 0.06959678739933683), (3348, 0.0695848291947379), (2393, 0.06957555869409214), (2129, 0.06943948711845373), (2936, 0.06939743620369318), (4749, 0.06896173258488676), (3458, 0.06894553374601717), (4297, 0.06890318932623757), (3512, 0.06869396583155607), (2913, 0.06866705843194013), (2577, 0.06854305234114194), (3014, 0.06838813610717201), (2454, 0.06813318470459609), (3620, 0.0680760842329028), (4522, 0.06801685812690532), (3152, 0.06788857560221523), (4230, 0.06784998723029846), (3248, 0.0678127548947903), (4092, 0.06779398774925424), (3118, 0.06767187845374337), (2786, 0.06757463568706751), (2379, 0.06732357320382701), (2705, 0.0672771195547557), (2531, 0.06709751504280544), (2901, 0.06691787196040763), (3521, 0.06678147654996454), (3088, 0.06675550756216177), (3240, 0.06674472554759327), (4072, 0.06652851416234817), (3037, 0.06623683489947063), (3749, 0.06616415869434118), (2596, 0.0661624584332895), (3892, 0.06589461073735646), (4622, 0.0655304260608274), (2257, 0.06537193214900838), (4619, 0.06536446112802956), (3397, 0.06533463038071755), (3107, 0.0653205272156874), (3424, 0.06531000509000918), (4712, 0.0652826946058197), (2640, 0.06527494709575113), (2446, 0.0649881405715758), (3257, 0.06495091107235154), (2635, 0.06488026357839446), (2186, 0.06484790590688846), (4251, 0.064499498710735), (2741, 0.06438048910547753), (2930, 0.06432596846821967), (3258, 0.06414256405488633), (3439, 0.0638980886870262), (3545, 0.06360062871554151), (3529, 0.06351171744773959), (2829, 0.06345987190036961), (3675, 0.06324260947883754), (2835, 0.06322982682792548), (2289, 0.06309727270538332), (3752, 0.06296147721007339), (4222, 0.06291197552082445), (2269, 0.06256593958064895), (4064, 0.062489037018111766), (3422, 0.062316975384979253), (3933, 0.06217935440108136), (3537, 0.062132607790844625), (2579, 0.06207534263814583), (4028, 0.06173256574159724), (3884, 0.06153574284537915), (4480, 0.06149621170103687), (3645, 0.06145132574513575), (2678, 0.06127176650946913), (3372, 0.06122264081982368), (3897, 0.06119096044150425), (2633, 0.06091539378810581), (2302, 0.06090948248480982), (3561, 0.0608625278447213), (3389, 0.06074586220613679), (3041, 0.06071163623115643), (3019, 0.06060530507702106), (2900, 0.06048364037244745), (2298, 0.060294268299278635), (3020, 0.060185118897880106), (2948, 0.05999018944073522), (4578, 0.059897919750089186), (3538, 0.05970734758016776), (4570, 0.05965887211185489), (3750, 0.059525031834161364), (3142, 0.05948090512143272), (3244, 0.059408502339930495), (4170, 0.0593834920834101), (3601, 0.05930539598455122), (3761, 0.05894658569832355), (3157, 0.05878165270097863), (3087, 0.058729736667333506), (2717, 0.05860178575748597), (3891, 0.057964082397974445), (3198, 0.05777042531583472), (4134, 0.05776163669121202), (3396, 0.05743583372550264), (3455, 0.05706377083066891), (4759, 0.05691469064941356), (2999, 0.056827254694539725), (2471, 0.056412094921113785), (3293, 0.05616812110000223), (4065, 0.05612150979012505), (3636, 0.055951492691619496), (3668, 0.05581385167119417), (3510, 0.05549983096209819), (2726, 0.055293858879577995), (3475, 0.05522968632108267), (4062, 0.05522100360375599), (3428, 0.055109027827971876), (4646, 0.05490327305732267), (2702, 0.05480430746995184), (3501, 0.05468931666890161), (3714, 0.05438991954930479), (2346, 0.054148898514380914), (2658, 0.054137620781783566), (4316, 0.05412298155722612), (3679, 0.054094288396154405), (2941, 0.05353014492254185), (3177, 0.05351033782914866), (3034, 0.053278237771242694), (3116, 0.05311398982332565), (3029, 0.05306517117935146), (3544, 0.05299034726831238), (2934, 0.052644370688924025), (2133, 0.052529742833765804), (2307, 0.05243007098393938), (3715, 0.052180394564859706), (4644, 0.05215194003790696), (3075, 0.05149904573184931), (4618, 0.05145067008311301), (3269, 0.05138899406253422), (2773, 0.05136184464433003), (4237, 0.051191910331214986), (3441, 0.050766941514720554), (3350, 0.05048627407456692), (4317, 0.05036489220340909), (2937, 0.05032985602833976), (4199, 0.05002306965923292), (4607, 0.04994013047068469), (4561, 0.049770488243268324), (4755, 0.049662434045001), (3007, 0.04893832511382895), (3530, 0.048924684373507506), (3206, 0.04870236058585642), (3929, 0.048579275102030785), (3175, 0.04850061303279303), (3255, 0.048269126048088314), (3899, 0.04820070617299416), (2700, 0.04797771526538506), (3235, 0.04792999402107879), (2392, 0.047888878171717206), (3672, 0.04714636469859811), (2806, 0.04674062069338449), (3577, 0.04658930100721755), (4271, 0.04642708200886395), (2772, 0.04544161849072104), (3717, 0.04540098865912873), (3159, 0.044732380277316505), (3261, 0.043811344867023407), (3262, 0.043612653619101084), (2857, 0.04323735916488267), (4681, 0.04318624484045632), (3663, 0.042915003514259024), (4753, 0.04267164084096176), (2512, 0.04227737389726009), (3804, 0.041849193258010946), (2323, 0.04114901379542311), (4352, 0.040966460730469695), (3945, 0.0408565257178974), (3325, 0.040768806140906604), (4019, 0.04032090438242598), (3990, 0.04023753785766687), (4107, 0.039030758446805994), (3323, 0.03888896009991867), (3125, 0.03806011981833041), (3523, 0.0375068236086545), (3266, 0.03722878027822335), (4739, 0.0372190183059174), (4541, 0.03687351135977754), (3703, 0.035962324243074315), (4654, 0.034647907936078554), (2673, 0.034524448869392946), (3830, 0.03425807352021214), (4758, 0.03408496045918329), (3059, 0.03368780528381283), (3552, 0.03326097080294858), (3712, 0.03192011995697262), (4407, 0.030948991402519443), (3420, 0.02961335351308265), (4719, 0.027419285235882846), (3981, 0.025247328903032596), (3676, 0.014179946781793408), (4711, 0.011072474543924295), (4026, 0.007992728811275173)]\n"
          ]
        }
      ]
    },
    {
      "cell_type": "code",
      "source": [
        "print('Top 50 movies suggested for you: \\n')\n",
        "i=1\n",
        "for movie in sorted_similar_movies:\n",
        "  index = movie[0]\n",
        "  # Check if any movie with the ID exists\n",
        "  if any(movies_features.Movie_ID == index):\n",
        "    title_from_index = movies_features[movies_features.Movie_ID == index]['Movie_Title'].values[0]\n",
        "    if (i<51):\n",
        "      print(i, '.', title_from_index)\n",
        "      i+=1"
      ],
      "metadata": {
        "colab": {
          "base_uri": "https://localhost:8080/"
        },
        "id": "6t83ZO2K5i7A",
        "outputId": "eb4bdb96-a2ce-4f3e-c421-137aa454f1be"
      },
      "execution_count": 74,
      "outputs": [
        {
          "output_type": "stream",
          "name": "stdout",
          "text": [
            "Top 50 movies suggested for you: \n",
            "\n",
            "1 . Avatar\n",
            "2 . Atlas Shrugged Part II\n",
            "3 . Pitch Black\n",
            "4 . R.I.P.D.\n",
            "5 . Submarine\n",
            "6 . American History X\n",
            "7 . The Client\n",
            "8 . Hancock\n",
            "9 . My Name Is Bruce\n",
            "10 . Once Upon a Time in America\n",
            "11 . The Man with the Golden Gun\n",
            "12 . The Interpreter\n",
            "13 . Click\n",
            "14 . The Amazing Spider-Man 2\n",
            "15 . Pirates of the Caribbean: The Curse of the Black Pearl\n",
            "16 . After\n",
            "17 . Changing Lanes\n",
            "18 . Mary Poppins\n",
            "19 . Wag the Dog\n",
            "20 . The Lords of Salem\n",
            "21 . An American Haunting\n",
            "22 . The Mask\n",
            "23 . The Fan\n",
            "24 . Men in Black\n",
            "25 . Harry Potter and the Chamber of Secrets\n",
            "26 . Spanglish\n",
            "27 . Snake Eyes\n",
            "28 . The History Boys\n",
            "29 . Superman\n",
            "30 . Austin Powers: The Spy Who Shagged Me\n",
            "31 . The To Do List\n",
            "32 . Dave Chappelle's Block Party\n",
            "33 . Oldboy\n",
            "34 . Star Trek III: The Search for Spock\n",
            "35 . Confessions of a Dangerous Mind\n",
            "36 . Dancer in the Dark\n",
            "37 . Harry Potter and the Philosopher's Stone\n",
            "38 . You, Me and Dupree\n",
            "39 . Blade\n",
            "40 . Butch Cassidy and the Sundance Kid\n",
            "41 . The Siege\n",
            "42 . Kiss Kiss Bang Bang\n",
            "43 . Titan A.E.\n",
            "44 . Batman\n",
            "45 . The Shipping News\n",
            "46 . The Sisterhood of Night\n",
            "47 . London Has Fallen\n",
            "48 . Trance\n",
            "49 . The Lake House\n",
            "50 . The Bourne Identity\n"
          ]
        }
      ]
    },
    {
      "cell_type": "markdown",
      "source": [
        "TOP 5 MOVIE RECOMMENDATION"
      ],
      "metadata": {
        "id": "is_N8ThO5skH"
      }
    },
    {
      "cell_type": "code",
      "source": [
        "movie_name = input('Enter your favourite movie name: ')\n",
        "list_of_all_titles = movies_features['Movie_Title'].tolist()\n",
        "find_close_match = difflib.get_close_matches(movie_name, list_of_all_titles)\n",
        "close_match = find_close_match[0]\n",
        "index_of_movie = movies_features[movies_features.Movie_Title == close_match]['Movie_ID'].values[0]\n",
        "recommendation_score = list(enumerate(Similarity_Score[index_of_movie]))\n",
        "sorted_similar_movies = sorted(recommendation_score, key = lambda x:x[1], reverse = True)\n",
        "print('Top 5 movies suggested for you: \\n')\n",
        "i=1\n",
        "for movie in sorted_similar_movies:\n",
        "  index = movie[0]\n",
        "  # Check if any movie with the ID exists\n",
        "  if any(movies_features.Movie_ID == index):\n",
        "    title_from_index = movies_features[movies_features.Movie_ID == index]['Movie_Title'].values[0]\n",
        "    if (i<6):\n",
        "      print(i, '.', title_from_index)\n",
        "      i+=1"
      ],
      "metadata": {
        "colab": {
          "base_uri": "https://localhost:8080/"
        },
        "id": "gXcOLsup5w2M",
        "outputId": "2c388cb4-7de7-49a9-de6f-f134998c3947"
      },
      "execution_count": 77,
      "outputs": [
        {
          "output_type": "stream",
          "name": "stdout",
          "text": [
            "Enter your favourite movie name: Avengers\n",
            "Top 5 movies suggested for you: \n",
            "\n",
            "1 . The Avengers\n",
            "2 . Chasing Amy\n",
            "3 . The Princess Bride\n",
            "4 . Bedtime Stories\n",
            "5 . The Fisher King\n"
          ]
        }
      ]
    }
  ]
}